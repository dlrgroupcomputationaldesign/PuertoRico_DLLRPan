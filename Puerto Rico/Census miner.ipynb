{
 "cells": [
  {
   "cell_type": "code",
   "execution_count": 3,
   "id": "ed1727a8",
   "metadata": {},
   "outputs": [],
   "source": [
    "import pandas as pd\n",
    "import censusdata\n",
    "pd.set_option('display.expand_frame_repr', False)\n",
    "pd.set_option('display.precision', 2)"
   ]
  },
  {
   "cell_type": "code",
   "execution_count": 14,
   "id": "98b29aca",
   "metadata": {},
   "outputs": [
    {
     "name": "stdout",
     "output_type": "stream",
     "text": [
      "Variable     | Table                          | Label                                                    | Type \n",
      "-------------------------------------------------------------------------------------------------------------------\n",
      "B23025_001E  | EMPLOYMENT STATUS FOR THE POPU | !! Estimate Total                                        | int  \n",
      "B23025_002E  | EMPLOYMENT STATUS FOR THE POPU | !! !! Estimate Total In labor force                      | int  \n",
      "B23025_003E  | EMPLOYMENT STATUS FOR THE POPU | !! !! !! Estimate Total In labor force Civilian labor fo | int  \n",
      "B23025_004E  | EMPLOYMENT STATUS FOR THE POPU | !! !! !! !! Estimate Total In labor force Civilian labor | int  \n",
      "B23025_005E  | EMPLOYMENT STATUS FOR THE POPU | !! !! !! !! Estimate Total In labor force Civilian labor | int  \n",
      "B23025_006E  | EMPLOYMENT STATUS FOR THE POPU | !! !! !! Estimate Total In labor force Armed Forces      | int  \n",
      "B23025_007E  | EMPLOYMENT STATUS FOR THE POPU | !! !! Estimate Total Not in labor force                  | int  \n",
      "-------------------------------------------------------------------------------------------------------------------\n"
     ]
    }
   ],
   "source": [
    "censusdata.printtable(censusdata.censustable('acs5', 2015, 'B23025'))"
   ]
  },
  {
   "cell_type": "code",
   "execution_count": 16,
   "id": "a9b21699",
   "metadata": {},
   "outputs": [
    {
     "name": "stdout",
     "output_type": "stream",
     "text": [
      "Variable     | Table                          | Label                                                    | Type \n",
      "-------------------------------------------------------------------------------------------------------------------\n",
      "B23025_001E  | EMPLOYMENT STATUS FOR THE POPU | !! Estimate Total                                        | int  \n",
      "B23025_002E  | EMPLOYMENT STATUS FOR THE POPU | !! !! Estimate Total In labor force                      | int  \n",
      "B23025_003E  | EMPLOYMENT STATUS FOR THE POPU | !! !! !! Estimate Total In labor force Civilian labor fo | int  \n",
      "B23025_004E  | EMPLOYMENT STATUS FOR THE POPU | !! !! !! !! Estimate Total In labor force Civilian labor | int  \n",
      "B23025_005E  | EMPLOYMENT STATUS FOR THE POPU | !! !! !! !! Estimate Total In labor force Civilian labor | int  \n",
      "B23025_006E  | EMPLOYMENT STATUS FOR THE POPU | !! !! !! Estimate Total In labor force Armed Forces      | int  \n",
      "B23025_007E  | EMPLOYMENT STATUS FOR THE POPU | !! !! Estimate Total Not in labor force                  | int  \n",
      "-------------------------------------------------------------------------------------------------------------------\n"
     ]
    }
   ],
   "source": [
    "censusdata.printtable(censusdata.censustable('acs5', 2015, 'B23025'))"
   ]
  },
  {
   "cell_type": "code",
   "execution_count": 12,
   "id": "ef323270",
   "metadata": {},
   "outputs": [
    {
     "data": {
      "text/plain": [
       "[('B12006_006E',\n",
       "  'MARITAL STATUS BY SEX BY LABOR FORCE PARTICIPATION',\n",
       "  'Estimate!!Total!!Never married!!Male!!In labor force!!Unemployed'),\n",
       " ('B12006_011E',\n",
       "  'MARITAL STATUS BY SEX BY LABOR FORCE PARTICIPATION',\n",
       "  'Estimate!!Total!!Never married!!Female!!In labor force!!Unemployed'),\n",
       " ('B12006_017E',\n",
       "  'MARITAL STATUS BY SEX BY LABOR FORCE PARTICIPATION',\n",
       "  'Estimate!!Total!!Now married (except separated)!!Male!!In labor force!!Unemployed'),\n",
       " ('B12006_022E',\n",
       "  'MARITAL STATUS BY SEX BY LABOR FORCE PARTICIPATION',\n",
       "  'Estimate!!Total!!Now married (except separated)!!Female!!In labor force!!Unemployed'),\n",
       " ('B12006_028E',\n",
       "  'MARITAL STATUS BY SEX BY LABOR FORCE PARTICIPATION',\n",
       "  'Estimate!!Total!!Separated!!Male!!In labor force!!Unemployed'),\n",
       " ('B12006_033E',\n",
       "  'MARITAL STATUS BY SEX BY LABOR FORCE PARTICIPATION',\n",
       "  'Estimate!!Total!!Separated!!Female!!In labor force!!Unemployed'),\n",
       " ('B12006_039E',\n",
       "  'MARITAL STATUS BY SEX BY LABOR FORCE PARTICIPATION',\n",
       "  'Estimate!!Total!!Widowed!!Male!!In labor force!!Unemployed'),\n",
       " ('B12006_044E',\n",
       "  'MARITAL STATUS BY SEX BY LABOR FORCE PARTICIPATION',\n",
       "  'Estimate!!Total!!Widowed!!Female!!In labor force!!Unemployed'),\n",
       " ('B12006_050E',\n",
       "  'MARITAL STATUS BY SEX BY LABOR FORCE PARTICIPATION',\n",
       "  'Estimate!!Total!!Divorced!!Male!!In labor force!!Unemployed'),\n",
       " ('B12006_055E',\n",
       "  'MARITAL STATUS BY SEX BY LABOR FORCE PARTICIPATION',\n",
       "  'Estimate!!Total!!Divorced!!Female!!In labor force!!Unemployed'),\n",
       " ('B14005_005E',\n",
       "  'SEX BY SCHOOL ENROLLMENT BY EDUCATIONAL ATTAINMENT BY EMPLOYMENT STATUS FOR THE POPULATION 16 TO 19 YEARS',\n",
       "  'Estimate!!Total!!Male!!Enrolled in school!!Unemployed'),\n",
       " ('B14005_010E',\n",
       "  'SEX BY SCHOOL ENROLLMENT BY EDUCATIONAL ATTAINMENT BY EMPLOYMENT STATUS FOR THE POPULATION 16 TO 19 YEARS',\n",
       "  'Estimate!!Total!!Male!!Not enrolled in school!!High school graduate (includes equivalency)!!Unemployed'),\n",
       " ('B14005_014E',\n",
       "  'SEX BY SCHOOL ENROLLMENT BY EDUCATIONAL ATTAINMENT BY EMPLOYMENT STATUS FOR THE POPULATION 16 TO 19 YEARS',\n",
       "  'Estimate!!Total!!Male!!Not enrolled in school!!Not high school graduate!!Unemployed'),\n",
       " ('B14005_019E',\n",
       "  'SEX BY SCHOOL ENROLLMENT BY EDUCATIONAL ATTAINMENT BY EMPLOYMENT STATUS FOR THE POPULATION 16 TO 19 YEARS',\n",
       "  'Estimate!!Total!!Female!!Enrolled in school!!Unemployed'),\n",
       " ('B14005_024E',\n",
       "  'SEX BY SCHOOL ENROLLMENT BY EDUCATIONAL ATTAINMENT BY EMPLOYMENT STATUS FOR THE POPULATION 16 TO 19 YEARS',\n",
       "  'Estimate!!Total!!Female!!Not enrolled in school!!High school graduate (includes equivalency)!!Unemployed'),\n",
       " ('B14005_028E',\n",
       "  'SEX BY SCHOOL ENROLLMENT BY EDUCATIONAL ATTAINMENT BY EMPLOYMENT STATUS FOR THE POPULATION 16 TO 19 YEARS',\n",
       "  'Estimate!!Total!!Female!!Not enrolled in school!!Not high school graduate!!Unemployed'),\n",
       " ('B17005_006E',\n",
       "  'POVERTY STATUS IN THE PAST 12 MONTHS OF INDIVIDUALS BY SEX BY EMPLOYMENT STATUS',\n",
       "  'Estimate!!Total!!Income in the past 12 months below poverty level!!Male!!In labor force!!Unemployed'),\n",
       " ('B17005_011E',\n",
       "  'POVERTY STATUS IN THE PAST 12 MONTHS OF INDIVIDUALS BY SEX BY EMPLOYMENT STATUS',\n",
       "  'Estimate!!Total!!Income in the past 12 months below poverty level!!Female!!In labor force!!Unemployed'),\n",
       " ('B17005_017E',\n",
       "  'POVERTY STATUS IN THE PAST 12 MONTHS OF INDIVIDUALS BY SEX BY EMPLOYMENT STATUS',\n",
       "  'Estimate!!Total!!Income in the past 12 months at or above poverty level!!Male!!In labor force!!Unemployed'),\n",
       " ('B17005_022E',\n",
       "  'POVERTY STATUS IN THE PAST 12 MONTHS OF INDIVIDUALS BY SEX BY EMPLOYMENT STATUS',\n",
       "  'Estimate!!Total!!Income in the past 12 months at or above poverty level!!Female!!In labor force!!Unemployed')]"
      ]
     },
     "execution_count": 12,
     "metadata": {},
     "output_type": "execute_result"
    }
   ],
   "source": [
    "censusdata.search('acs5', 2015, 'label', 'unemploy')[:20]\n"
   ]
  },
  {
   "cell_type": "code",
   "execution_count": 18,
   "id": "b3df0650",
   "metadata": {},
   "outputs": [
    {
     "data": {
      "text/plain": [
       "{'Puerto Rico': censusgeo((('state', '72'),))}"
      ]
     },
     "execution_count": 18,
     "metadata": {},
     "output_type": "execute_result"
    }
   ],
   "source": [
    "censusdata.geographies(censusdata.censusgeo([('state', '72')]), 'acs5', 2015)"
   ]
  },
  {
   "cell_type": "code",
   "execution_count": 22,
   "id": "3549ce36",
   "metadata": {},
   "outputs": [
    {
     "data": {
      "text/plain": [
       "945"
      ]
     },
     "execution_count": 22,
     "metadata": {},
     "output_type": "execute_result"
    }
   ],
   "source": [
    "len(censusdata.geographies(censusdata.censusgeo([('state', '72'), ('county', '*'),('tract','*')]), 'acs5', 2015))"
   ]
  },
  {
   "cell_type": "code",
   "execution_count": 27,
   "id": "8e7836c0",
   "metadata": {},
   "outputs": [
    {
     "data": {
      "text/html": [
       "<div>\n",
       "<style scoped>\n",
       "    .dataframe tbody tr th:only-of-type {\n",
       "        vertical-align: middle;\n",
       "    }\n",
       "\n",
       "    .dataframe tbody tr th {\n",
       "        vertical-align: top;\n",
       "    }\n",
       "\n",
       "    .dataframe thead th {\n",
       "        text-align: right;\n",
       "    }\n",
       "</style>\n",
       "<table border=\"1\" class=\"dataframe\">\n",
       "  <thead>\n",
       "    <tr style=\"text-align: right;\">\n",
       "      <th></th>\n",
       "      <th>percent_unemployed</th>\n",
       "      <th>percent_nohs</th>\n",
       "    </tr>\n",
       "  </thead>\n",
       "  <tbody>\n",
       "    <tr>\n",
       "      <th>count</th>\n",
       "      <td>886.00</td>\n",
       "      <td>886.00</td>\n",
       "    </tr>\n",
       "    <tr>\n",
       "      <th>mean</th>\n",
       "      <td>19.65</td>\n",
       "      <td>27.50</td>\n",
       "    </tr>\n",
       "    <tr>\n",
       "      <th>std</th>\n",
       "      <td>10.03</td>\n",
       "      <td>11.03</td>\n",
       "    </tr>\n",
       "    <tr>\n",
       "      <th>min</th>\n",
       "      <td>0.00</td>\n",
       "      <td>0.00</td>\n",
       "    </tr>\n",
       "    <tr>\n",
       "      <th>25%</th>\n",
       "      <td>13.09</td>\n",
       "      <td>19.61</td>\n",
       "    </tr>\n",
       "    <tr>\n",
       "      <th>50%</th>\n",
       "      <td>17.85</td>\n",
       "      <td>27.66</td>\n",
       "    </tr>\n",
       "    <tr>\n",
       "      <th>75%</th>\n",
       "      <td>24.97</td>\n",
       "      <td>34.90</td>\n",
       "    </tr>\n",
       "    <tr>\n",
       "      <th>max</th>\n",
       "      <td>74.14</td>\n",
       "      <td>61.60</td>\n",
       "    </tr>\n",
       "  </tbody>\n",
       "</table>\n",
       "</div>"
      ],
      "text/plain": [
       "       percent_unemployed  percent_nohs\n",
       "count              886.00        886.00\n",
       "mean                19.65         27.50\n",
       "std                 10.03         11.03\n",
       "min                  0.00          0.00\n",
       "25%                 13.09         19.61\n",
       "50%                 17.85         27.66\n",
       "75%                 24.97         34.90\n",
       "max                 74.14         61.60"
      ]
     },
     "execution_count": 27,
     "metadata": {},
     "output_type": "execute_result"
    }
   ],
   "source": [
    "cookbg = censusdata.download('acs5', 2015,\n",
    "                             censusdata.censusgeo([('state', '72'),  ('tract', '*')]),\n",
    "                             ['B23025_003E', 'B23025_005E', 'B15003_001E', 'B15003_002E', 'B15003_003E',\n",
    "                              'B15003_004E', 'B15003_005E', 'B15003_006E', 'B15003_007E', 'B15003_008E',\n",
    "                              'B15003_009E', 'B15003_010E', 'B15003_011E', 'B15003_012E', 'B15003_013E',\n",
    "                              'B15003_014E', 'B15003_015E', 'B15003_016E'])\n",
    "cookbg['percent_unemployed'] = cookbg.B23025_005E / cookbg.B23025_003E * 100\n",
    "cookbg['percent_nohs'] = (cookbg.B15003_002E + cookbg.B15003_003E + cookbg.B15003_004E\n",
    "                          + cookbg.B15003_005E + cookbg.B15003_006E + cookbg.B15003_007E + cookbg.B15003_008E\n",
    "                          + cookbg.B15003_009E + cookbg.B15003_010E + cookbg.B15003_011E + cookbg.B15003_012E\n",
    "                          + cookbg.B15003_013E + cookbg.B15003_014E +\n",
    "                          cookbg.B15003_015E + cookbg.B15003_016E) / cookbg.B15003_001E * 100\n",
    "cookbg = cookbg[['percent_unemployed', 'percent_nohs']]\n",
    "cookbg.describe()"
   ]
  }
 ],
 "metadata": {
  "kernelspec": {
   "display_name": "Python 3 (ipykernel)",
   "language": "python",
   "name": "python3"
  },
  "language_info": {
   "codemirror_mode": {
    "name": "ipython",
    "version": 3
   },
   "file_extension": ".py",
   "mimetype": "text/x-python",
   "name": "python",
   "nbconvert_exporter": "python",
   "pygments_lexer": "ipython3",
   "version": "3.7.10"
  }
 },
 "nbformat": 4,
 "nbformat_minor": 5
}
