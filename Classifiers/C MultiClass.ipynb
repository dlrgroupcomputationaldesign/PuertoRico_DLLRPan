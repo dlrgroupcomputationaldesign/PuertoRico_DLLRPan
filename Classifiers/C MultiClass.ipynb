{
 "cells": [
  {
   "cell_type": "code",
   "execution_count": null,
   "metadata": {},
   "outputs": [],
   "source": [
    "//We are stuck in preprocessing land for now, need to make a resuable pipline object which trains a model and processes data\n",
    "// This is the inspo tutorial https://docs.microsoft.com/en-us/dotnet/machine-learning/tutorials/github-issue-classification"
   ]
  },
  {
   "cell_type": "code",
   "execution_count": 29,
   "metadata": {},
   "outputs": [],
   "source": [
    "//It seems like I need to make this download every time\n",
    "// ML.NET Nuget packages installation\n",
    "#r \"nuget:Microsoft.ML,1.3.1\""
   ]
  },
  {
   "cell_type": "code",
   "execution_count": 137,
   "metadata": {},
   "outputs": [],
   "source": [
    "using System;\n",
    "using System.IO;\n",
    "using System.Linq;\n",
    "using Microsoft.ML;"
   ]
  },
  {
   "cell_type": "code",
   "execution_count": 138,
   "metadata": {},
   "outputs": [],
   "source": [
    "using Microsoft.ML;\n",
    "using Microsoft.ML.Data;"
   ]
  },
  {
   "cell_type": "code",
   "execution_count": 139,
   "metadata": {},
   "outputs": [
    {
     "name": "stderr",
     "output_type": "stream",
     "text": [
      "\r\n",
      "(7,15): warning CS0649: Field 'RoomFunction.WEBenchmarkingDept' is never assigned to, and will always have its default value null\r\n",
      "\r\n",
      "(14,15): warning CS0649: Field 'RoomPrediction.Label' is never assigned to, and will always have its default value null\r\n",
      "\r\n",
      "(4,15): warning CS0649: Field 'RoomFunction.Name' is never assigned to, and will always have its default value null\r\n",
      "\r\n"
     ]
    }
   ],
   "source": [
    "public class RoomFunction\n",
    "{\n",
    "[LoadColumn(0)]\n",
    "public string Name;\n",
    "\n",
    "[LoadColumn(1)]\n",
    "public string WEBenchmarkingDept;\n",
    "\n",
    "}\n",
    "\n",
    "public class RoomPrediction\n",
    "{\n",
    "[ColumnName(\"Label\")]\n",
    "public string Label;\n",
    "}"
   ]
  },
  {
   "cell_type": "code",
   "execution_count": 140,
   "metadata": {},
   "outputs": [],
   "source": [
    "mlContext = new MLContext(seed: 0);"
   ]
  },
  {
   "cell_type": "code",
   "execution_count": 141,
   "metadata": {},
   "outputs": [],
   "source": [
    "string FilePath = \"C:/Users/dmckenzie/Desktop/RoomsForC.csv\";\n",
    "IDataView RoomDataView = mlContext.Data.LoadFromTextFile<RoomFunction>(FilePath, hasHeader: true, separatorChar: ',');"
   ]
  },
  {
   "cell_type": "code",
   "execution_count": 142,
   "metadata": {},
   "outputs": [],
   "source": [
    "DataOperationsCatalog.TrainTestData dataSplit = mlContext.Data.TrainTestSplit(RoomDataView, testFraction: 0.25);\n",
    "IDataView trainData = dataSplit.TrainSet;\n",
    "IDataView testData = dataSplit.TestSet;"
   ]
  },
  {
   "cell_type": "code",
   "execution_count": 144,
   "metadata": {},
   "outputs": [],
   "source": [
    "string[] names = trainData.GetColumn<string>(\"Name\").ToArray();"
   ]
  },
  {
   "cell_type": "code",
   "execution_count": 145,
   "metadata": {},
   "outputs": [],
   "source": [
    "//how the raw data looks"
   ]
  },
  {
   "cell_type": "code",
   "execution_count": 146,
   "metadata": {},
   "outputs": [
    {
     "data": {
      "text/html": [
       "<table><thead><tr><th><i>index</i></th><th>value</th></tr></thead><tbody><tr><td>0</td><td><div class=\"dni-plaintext\">WORKROOM</div></td></tr><tr><td>1</td><td><div class=\"dni-plaintext\">CAFE / GATHERING</div></td></tr><tr><td>2</td><td><div class=\"dni-plaintext\">MOTHER&#39;S</div></td></tr><tr><td>3</td><td><div class=\"dni-plaintext\">MOTHER&#39;S</div></td></tr><tr><td>4</td><td><div class=\"dni-plaintext\">LIBRARY</div></td></tr><tr><td>5</td><td><div class=\"dni-plaintext\">QUIET/NAP</div></td></tr><tr><td>6</td><td><div class=\"dni-plaintext\">MASSAGE</div></td></tr><tr><td>7</td><td><div class=\"dni-plaintext\">WAITNG ROOM</div></td></tr><tr><td>8</td><td><div class=\"dni-plaintext\">ZEN SPACE</div></td></tr><tr><td>9</td><td><div class=\"dni-plaintext\">MASSAGE</div></td></tr><tr><td>10</td><td><div class=\"dni-plaintext\">LIBRARY</div></td></tr><tr><td>11</td><td><div class=\"dni-plaintext\">MOTHER&#39;S</div></td></tr><tr><td>12</td><td><div class=\"dni-plaintext\">MOTHER&#39;S</div></td></tr><tr><td>13</td><td><div class=\"dni-plaintext\">AV PODCAST</div></td></tr><tr><td>14</td><td><div class=\"dni-plaintext\">COMMONS</div></td></tr><tr><td>15</td><td><div class=\"dni-plaintext\">KIDS</div></td></tr><tr><td>16</td><td><div class=\"dni-plaintext\">GOLF   LOUNGE</div></td></tr><tr><td>17</td><td><div class=\"dni-plaintext\">SINGLE OCC. S/T</div></td></tr><tr><td>18</td><td><div class=\"dni-plaintext\">SINGLE OCC. S/T</div></td></tr><tr><td>19</td><td><div class=\"dni-plaintext\">SINGLE OCC. S/T</div></td></tr><tr><td colspan=\"2\">(1059 more)</td></tr></tbody></table>"
      ]
     },
     "execution_count": 146,
     "metadata": {},
     "output_type": "execute_result"
    }
   ],
   "source": [
    "names"
   ]
  },
  {
   "cell_type": "code",
   "execution_count": 147,
   "metadata": {},
   "outputs": [],
   "source": [
    "var textEstimator  = mlContext.Transforms.Text.NormalizeText(\"Name\",\n",
    "                keepPunctuations: false,\n",
    "                keepNumbers: false);\n",
    "                \n",
    "ITransformer textTransformer = textEstimator.Fit(trainData);\n",
    "IDataView transformedDataTrain = textTransformer.Transform(trainData);\n",
    "IDataView transformedDataTest = textTransformer.Transform(testData);"
   ]
  },
  {
   "cell_type": "code",
   "execution_count": 148,
   "metadata": {},
   "outputs": [],
   "source": [
    "var textEstimator2  = mlContext.Transforms.Text.NormalizeText(\"WEBenchmarkingDept\",\n",
    "                keepPunctuations: false);\n",
    "\n",
    "ITransformer textTransformer2 = textEstimator2.Fit(transformedDataTrain);\n",
    "IDataView transformedDataTrain2 = textTransformer2.Transform(transformedDataTrain);\n",
    "IDataView transformedDataTest2 = textTransformer.Transform(transformedDataTest);"
   ]
  },
  {
   "cell_type": "code",
   "execution_count": 149,
   "metadata": {},
   "outputs": [
    {
     "name": "stderr",
     "output_type": "stream",
     "text": [
      "\r\n",
      "(3,94): error CS0117: 'RoomFunction' does not contain a definition for 'Features'\r\n",
      "\r\n"
     ]
    },
    {
     "ename": "Cell not executed",
     "evalue": "compilation error",
     "output_type": "error",
     "traceback": []
    }
   ],
   "source": [
    "//This is where errors are happening\n",
    "\n",
    "var textEstimator3  = mlContext.Transforms.Text.FeaturizeText(outputColumnName: RoomFunction.Features, \n",
    "    inputColumnName: nameof(RoomFunction.Name));\n",
    "\n",
    "ITransformer textTransformer3 = textEstimator3.Fit(transformedDataTrain2);\n",
    "IDataView transformedDataTrain3 = textTransformer2.Transform(transformedDataTrain2);\n",
    "IDataView transformedDataTest3 = textTransformer.Transform(transformedDataTest2);"
   ]
  },
  {
   "cell_type": "code",
   "execution_count": 150,
   "metadata": {},
   "outputs": [
    {
     "name": "stderr",
     "output_type": "stream",
     "text": [
      "\r\n",
      "(2,16): error CS0103: The name 'ProcessData' does not exist in the current context\r\n",
      "\r\n"
     ]
    },
    {
     "ename": "Cell not executed",
     "evalue": "compilation error",
     "output_type": "error",
     "traceback": []
    }
   ],
   "source": [
    "//This is a problem too\n",
    "var pipeline = ProcessData();"
   ]
  },
  {
   "cell_type": "code",
   "execution_count": 151,
   "metadata": {},
   "outputs": [],
   "source": [
    "string[] names = transformedDataTrain2.GetColumn<string>(\"Name\").ToArray();"
   ]
  },
  {
   "cell_type": "code",
   "execution_count": 152,
   "metadata": {},
   "outputs": [],
   "source": [
    "// I am able to read in data process it a little, this shows important progress, but we still have a ways to go"
   ]
  },
  {
   "cell_type": "code",
   "execution_count": 153,
   "metadata": {},
   "outputs": [
    {
     "data": {
      "text/html": [
       "<table><thead><tr><th><i>index</i></th><th>value</th></tr></thead><tbody><tr><td>0</td><td><div class=\"dni-plaintext\">workroom</div></td></tr><tr><td>1</td><td><div class=\"dni-plaintext\">cafe  gathering</div></td></tr><tr><td>2</td><td><div class=\"dni-plaintext\">mothers</div></td></tr><tr><td>3</td><td><div class=\"dni-plaintext\">mothers</div></td></tr><tr><td>4</td><td><div class=\"dni-plaintext\">library</div></td></tr><tr><td>5</td><td><div class=\"dni-plaintext\">quietnap</div></td></tr><tr><td>6</td><td><div class=\"dni-plaintext\">massage</div></td></tr><tr><td>7</td><td><div class=\"dni-plaintext\">waitng room</div></td></tr><tr><td>8</td><td><div class=\"dni-plaintext\">zen space</div></td></tr><tr><td>9</td><td><div class=\"dni-plaintext\">massage</div></td></tr><tr><td>10</td><td><div class=\"dni-plaintext\">library</div></td></tr><tr><td>11</td><td><div class=\"dni-plaintext\">mothers</div></td></tr><tr><td>12</td><td><div class=\"dni-plaintext\">mothers</div></td></tr><tr><td>13</td><td><div class=\"dni-plaintext\">av podcast</div></td></tr><tr><td>14</td><td><div class=\"dni-plaintext\">commons</div></td></tr><tr><td>15</td><td><div class=\"dni-plaintext\">kids</div></td></tr><tr><td>16</td><td><div class=\"dni-plaintext\">golf   lounge</div></td></tr><tr><td>17</td><td><div class=\"dni-plaintext\">single occ st</div></td></tr><tr><td>18</td><td><div class=\"dni-plaintext\">single occ st</div></td></tr><tr><td>19</td><td><div class=\"dni-plaintext\">single occ st</div></td></tr><tr><td colspan=\"2\">(1059 more)</td></tr></tbody></table>"
      ]
     },
     "execution_count": 153,
     "metadata": {},
     "output_type": "execute_result"
    }
   ],
   "source": [
    "names"
   ]
  }
 ],
 "metadata": {
  "kernelspec": {
   "display_name": ".NET (C#)",
   "language": "C#",
   "name": ".net-csharp"
  },
  "language_info": {
   "file_extension": ".cs",
   "mimetype": "text/x-csharp",
   "name": "C#",
   "pygments_lexer": "csharp",
   "version": "8.0"
  }
 },
 "nbformat": 4,
 "nbformat_minor": 4
}
