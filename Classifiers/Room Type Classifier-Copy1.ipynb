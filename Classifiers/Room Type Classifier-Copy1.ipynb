{
 "cells": [
  {
   "cell_type": "code",
   "execution_count": 127,
   "id": "prescribed-guest",
   "metadata": {},
   "outputs": [],
   "source": [
    "import pandas as pd"
   ]
  },
  {
   "cell_type": "code",
   "execution_count": 128,
   "id": "amended-jenny",
   "metadata": {},
   "outputs": [],
   "source": [
    "path='C:\\\\Users\\dmckenzie\\OneDrive - DLR Group\\Desktop\\Doctored Room And Labels 2.csv'"
   ]
  },
  {
   "cell_type": "code",
   "execution_count": 129,
   "id": "several-affair",
   "metadata": {},
   "outputs": [],
   "source": [
    "DATIS=pd.read_csv(path)"
   ]
  },
  {
   "cell_type": "code",
   "execution_count": 130,
   "id": "nearby-horror",
   "metadata": {},
   "outputs": [
    {
     "data": {
      "text/html": [
       "<div>\n",
       "<style scoped>\n",
       "    .dataframe tbody tr th:only-of-type {\n",
       "        vertical-align: middle;\n",
       "    }\n",
       "\n",
       "    .dataframe tbody tr th {\n",
       "        vertical-align: top;\n",
       "    }\n",
       "\n",
       "    .dataframe thead th {\n",
       "        text-align: right;\n",
       "    }\n",
       "</style>\n",
       "<table border=\"1\" class=\"dataframe\">\n",
       "  <thead>\n",
       "    <tr style=\"text-align: right;\">\n",
       "      <th></th>\n",
       "      <th>UniqueId</th>\n",
       "      <th>Name</th>\n",
       "      <th>OccupancyType</th>\n",
       "      <th>Area</th>\n",
       "      <th>Perimeter</th>\n",
       "      <th>WEBenchmarkingDept</th>\n",
       "    </tr>\n",
       "  </thead>\n",
       "  <tbody>\n",
       "    <tr>\n",
       "      <th>0</th>\n",
       "      <td>'-1028317551:3164766</td>\n",
       "      <td>WORKROOM</td>\n",
       "      <td>NaN</td>\n",
       "      <td>552.076416</td>\n",
       "      <td>96.020833</td>\n",
       "      <td>Amenity</td>\n",
       "    </tr>\n",
       "    <tr>\n",
       "      <th>1</th>\n",
       "      <td>'-1274529740:3684468</td>\n",
       "      <td>CAFE / GATHERING</td>\n",
       "      <td>B</td>\n",
       "      <td>972.589695</td>\n",
       "      <td>147.986971</td>\n",
       "      <td>Amenity</td>\n",
       "    </tr>\n",
       "    <tr>\n",
       "      <th>2</th>\n",
       "      <td>1274885439:4630147</td>\n",
       "      <td>MOTHER'S</td>\n",
       "      <td>B</td>\n",
       "      <td>182.863241</td>\n",
       "      <td>73.362111</td>\n",
       "      <td>Amenity</td>\n",
       "    </tr>\n",
       "    <tr>\n",
       "      <th>3</th>\n",
       "      <td>1274885439:4722876</td>\n",
       "      <td>MOTHER'S</td>\n",
       "      <td>B</td>\n",
       "      <td>376.254259</td>\n",
       "      <td>133.750000</td>\n",
       "      <td>Amenity</td>\n",
       "    </tr>\n",
       "    <tr>\n",
       "      <th>4</th>\n",
       "      <td>1274885439:5410216</td>\n",
       "      <td>LIBRARY</td>\n",
       "      <td>A3</td>\n",
       "      <td>450.132802</td>\n",
       "      <td>91.591851</td>\n",
       "      <td>Amenity</td>\n",
       "    </tr>\n",
       "    <tr>\n",
       "      <th>...</th>\n",
       "      <td>...</td>\n",
       "      <td>...</td>\n",
       "      <td>...</td>\n",
       "      <td>...</td>\n",
       "      <td>...</td>\n",
       "      <td>...</td>\n",
       "    </tr>\n",
       "    <tr>\n",
       "      <th>1508</th>\n",
       "      <td>78</td>\n",
       "      <td>Mail Room</td>\n",
       "      <td>NaN</td>\n",
       "      <td>NaN</td>\n",
       "      <td>NaN</td>\n",
       "      <td>SUPPORT</td>\n",
       "    </tr>\n",
       "    <tr>\n",
       "      <th>1509</th>\n",
       "      <td>79</td>\n",
       "      <td>Print Room</td>\n",
       "      <td>NaN</td>\n",
       "      <td>NaN</td>\n",
       "      <td>NaN</td>\n",
       "      <td>SUPPORT</td>\n",
       "    </tr>\n",
       "    <tr>\n",
       "      <th>1510</th>\n",
       "      <td>80</td>\n",
       "      <td>Support Space</td>\n",
       "      <td>NaN</td>\n",
       "      <td>NaN</td>\n",
       "      <td>NaN</td>\n",
       "      <td>SUPPORT</td>\n",
       "    </tr>\n",
       "    <tr>\n",
       "      <th>1511</th>\n",
       "      <td>81</td>\n",
       "      <td>AV Closet</td>\n",
       "      <td>NaN</td>\n",
       "      <td>NaN</td>\n",
       "      <td>NaN</td>\n",
       "      <td>SUPPORT</td>\n",
       "    </tr>\n",
       "    <tr>\n",
       "      <th>1512</th>\n",
       "      <td>82</td>\n",
       "      <td>Supply Room</td>\n",
       "      <td>NaN</td>\n",
       "      <td>NaN</td>\n",
       "      <td>NaN</td>\n",
       "      <td>SUPPORT</td>\n",
       "    </tr>\n",
       "  </tbody>\n",
       "</table>\n",
       "<p>1513 rows × 6 columns</p>\n",
       "</div>"
      ],
      "text/plain": [
       "                  UniqueId              Name OccupancyType        Area  \\\n",
       "0     '-1028317551:3164766          WORKROOM           NaN  552.076416   \n",
       "1     '-1274529740:3684468  CAFE / GATHERING             B  972.589695   \n",
       "2       1274885439:4630147          MOTHER'S             B  182.863241   \n",
       "3       1274885439:4722876          MOTHER'S             B  376.254259   \n",
       "4       1274885439:5410216           LIBRARY            A3  450.132802   \n",
       "...                    ...               ...           ...         ...   \n",
       "1508                    78         Mail Room           NaN         NaN   \n",
       "1509                    79        Print Room           NaN         NaN   \n",
       "1510                    80     Support Space           NaN         NaN   \n",
       "1511                    81         AV Closet           NaN         NaN   \n",
       "1512                    82       Supply Room           NaN         NaN   \n",
       "\n",
       "       Perimeter WEBenchmarkingDept  \n",
       "0      96.020833            Amenity  \n",
       "1     147.986971            Amenity  \n",
       "2      73.362111            Amenity  \n",
       "3     133.750000            Amenity  \n",
       "4      91.591851            Amenity  \n",
       "...          ...                ...  \n",
       "1508         NaN            SUPPORT  \n",
       "1509         NaN            SUPPORT  \n",
       "1510         NaN            SUPPORT  \n",
       "1511         NaN            SUPPORT  \n",
       "1512         NaN            SUPPORT  \n",
       "\n",
       "[1513 rows x 6 columns]"
      ]
     },
     "execution_count": 130,
     "metadata": {},
     "output_type": "execute_result"
    }
   ],
   "source": [
    "DATIS"
   ]
  },
  {
   "cell_type": "code",
   "execution_count": 131,
   "id": "automotive-allowance",
   "metadata": {},
   "outputs": [
    {
     "data": {
      "text/plain": [
       "<AxesSubplot:>"
      ]
     },
     "execution_count": 131,
     "metadata": {},
     "output_type": "execute_result"
    },
    {
     "data": {
      "image/png": "[encoded data removed]",
      "text/plain": [
       "<Figure size 432x288 with 1 Axes>"
      ]
     },
     "metadata": {
      "needs_background": "light"
     },
     "output_type": "display_data"
    }
   ],
   "source": [
    "DATIS['Name'].value_counts().plot(kind='barh')"
   ]
  },
  {
   "cell_type": "code",
   "execution_count": 132,
   "id": "filled-replication",
   "metadata": {},
   "outputs": [],
   "source": [
    "import re\n",
    "def preprocessor(text): \n",
    "    text = re.sub(r'[^\\w\\s]','', text)\n",
    "    text = text.lower()\n",
    "    return text"
   ]
  },
  {
   "cell_type": "code",
   "execution_count": 133,
   "id": "offshore-swimming",
   "metadata": {},
   "outputs": [
    {
     "data": {
      "text/plain": [
       "0              workroom\n",
       "1       cafe  gathering\n",
       "2               mothers\n",
       "3               mothers\n",
       "4               library\n",
       "             ...       \n",
       "1508          mail room\n",
       "1509         print room\n",
       "1510      support space\n",
       "1511          av closet\n",
       "1512        supply room\n",
       "Name: Name, Length: 1513, dtype: object"
      ]
     },
     "execution_count": 133,
     "metadata": {},
     "output_type": "execute_result"
    }
   ],
   "source": [
    "DATIS['Name'].apply(preprocessor)"
   ]
  },
  {
   "cell_type": "code",
   "execution_count": 134,
   "id": "fundamental-blair",
   "metadata": {},
   "outputs": [],
   "source": [
    "DATIS['CleanName']=DATIS['Name'].str.replace('/',' ').replace({' +':' '},regex=True).apply(preprocessor)"
   ]
  },
  {
   "cell_type": "code",
   "execution_count": 135,
   "id": "geographic-niger",
   "metadata": {},
   "outputs": [
    {
     "data": {
      "text/plain": [
       "0             workroom\n",
       "1       cafe gathering\n",
       "2              mothers\n",
       "3              mothers\n",
       "4              library\n",
       "             ...      \n",
       "1508         mail room\n",
       "1509        print room\n",
       "1510     support space\n",
       "1511         av closet\n",
       "1512       supply room\n",
       "Name: CleanName, Length: 1513, dtype: object"
      ]
     },
     "execution_count": 135,
     "metadata": {},
     "output_type": "execute_result"
    }
   ],
   "source": [
    "DATIS['CleanName']"
   ]
  },
  {
   "cell_type": "code",
   "execution_count": 136,
   "id": "fatal-saturday",
   "metadata": {},
   "outputs": [
    {
     "data": {
      "text/plain": [
       "6"
      ]
     },
     "execution_count": 136,
     "metadata": {},
     "output_type": "execute_result"
    }
   ],
   "source": [
    "len(DATIS['Name'].value_counts())-len(DATIS['CleanName'].value_counts())"
   ]
  },
  {
   "cell_type": "code",
   "execution_count": 137,
   "id": "simple-national",
   "metadata": {},
   "outputs": [],
   "source": [
    "DATIS['NameLen']=DATIS['Name'].str.len()\n",
    "DATIS['Name']=DATIS['Name'].str.lower()\n",
    "DATIS['TokenCount']=((DATIS['Name'].str.len()-DATIS['Name'].str.replace(' ','').str.len())+1)\n",
    "DATIS['SpaceRatio']=(DATIS['Area']/DATIS['Perimeter'])"
   ]
  },
  {
   "cell_type": "code",
   "execution_count": 138,
   "id": "anticipated-house",
   "metadata": {},
   "outputs": [
    {
     "data": {
      "text/plain": [
       "<AxesSubplot:>"
      ]
     },
     "execution_count": 138,
     "metadata": {},
     "output_type": "execute_result"
    },
    {
     "data": {
      "image/png": "[encoded data removed]",
      "text/plain": [
       "<Figure size 432x288 with 1 Axes>"
      ]
     },
     "metadata": {
      "needs_background": "light"
     },
     "output_type": "display_data"
    }
   ],
   "source": [
    "DATIS['NameLen'].hist()"
   ]
  },
  {
   "cell_type": "code",
   "execution_count": 139,
   "id": "nervous-magic",
   "metadata": {},
   "outputs": [
    {
     "data": {
      "text/plain": [
       "<AxesSubplot:>"
      ]
     },
     "execution_count": 139,
     "metadata": {},
     "output_type": "execute_result"
    },
    {
     "data": {
      "image/png": "[encoded data removed]",
      "text/plain": [
       "<Figure size 432x288 with 1 Axes>"
      ]
     },
     "metadata": {
      "needs_background": "light"
     },
     "output_type": "display_data"
    }
   ],
   "source": [
    "DATIS['SpaceRatio'].hist()"
   ]
  },
  {
   "cell_type": "code",
   "execution_count": 140,
   "id": "presidential-shopper",
   "metadata": {},
   "outputs": [],
   "source": [
    "from sklearn.feature_extraction.text import TfidfVectorizer\n",
    "from sklearn.model_selection import train_test_split\n",
    "import pickle"
   ]
  },
  {
   "cell_type": "code",
   "execution_count": 141,
   "id": "overhead-kitchen",
   "metadata": {},
   "outputs": [],
   "source": [
    "import pandas as pd\n",
    "import numpy as np\n",
    "from numpy import random\n",
    "from sklearn.metrics import accuracy_score, confusion_matrix\n",
    "import matplotlib.pyplot as plt\n"
   ]
  },
  {
   "cell_type": "code",
   "execution_count": 142,
   "id": "acceptable-blogger",
   "metadata": {},
   "outputs": [],
   "source": [
    "DATIS.WEBenchmarkingDept=DATIS.WEBenchmarkingDept.str.lower()"
   ]
  },
  {
   "cell_type": "code",
   "execution_count": 143,
   "id": "velvet-horizontal",
   "metadata": {},
   "outputs": [],
   "source": [
    "import numpy as np"
   ]
  },
  {
   "cell_type": "code",
   "execution_count": 144,
   "id": "accredited-samoa",
   "metadata": {},
   "outputs": [],
   "source": [
    "DATIS['WEBenchmarkingDept']=np.where(DATIS['WEBenchmarkingDept']=='services1','services 1', DATIS['WEBenchmarkingDept'])"
   ]
  },
  {
   "cell_type": "code",
   "execution_count": 145,
   "id": "circular-moderator",
   "metadata": {
    "scrolled": false
   },
   "outputs": [
    {
     "data": {
      "text/plain": [
       "WEBenchmarkingDept\n",
       "amenity                      53\n",
       "circulation                  45\n",
       "collaboration: closed        58\n",
       "collaboration: open          30\n",
       "desking: open workstation    13\n",
       "desking: private office      41\n",
       "lab                          14\n",
       "services 1                   40\n",
       "services 2                    4\n",
       "support                      69\n",
       "Name: WEBenchmarkingDept, dtype: int64"
      ]
     },
     "execution_count": 145,
     "metadata": {},
     "output_type": "execute_result"
    }
   ],
   "source": [
    "DATIS.drop_duplicates(['WEBenchmarkingDept','CleanName']).groupby(['WEBenchmarkingDept'])['WEBenchmarkingDept'].count()"
   ]
  },
  {
   "cell_type": "code",
   "execution_count": 146,
   "id": "indie-championship",
   "metadata": {},
   "outputs": [],
   "source": [
    "DATIS['WEBenchmarkingDept']=DATIS['WEBenchmarkingDept'].str.capitalize()"
   ]
  },
  {
   "cell_type": "code",
   "execution_count": 147,
   "id": "indie-lecture",
   "metadata": {},
   "outputs": [],
   "source": [
    "DATIS['WEBenchmarkingDept']=np.where(DATIS['WEBenchmarkingDept']=='Collaboration: closed','Collaboration: Closed', DATIS['WEBenchmarkingDept'])"
   ]
  },
  {
   "cell_type": "code",
   "execution_count": 148,
   "id": "surprising-restoration",
   "metadata": {},
   "outputs": [],
   "source": [
    "DATIS['WEBenchmarkingDept']=np.where(DATIS['WEBenchmarkingDept']=='Collaboration: open','Collaboration: Open', DATIS['WEBenchmarkingDept'])"
   ]
  },
  {
   "cell_type": "code",
   "execution_count": null,
   "id": "august-maria",
   "metadata": {},
   "outputs": [],
   "source": []
  },
  {
   "cell_type": "code",
   "execution_count": 159,
   "id": "selective-chase",
   "metadata": {},
   "outputs": [],
   "source": [
    "y = DATIS.WEBenchmarkingDept"
   ]
  },
  {
   "cell_type": "code",
   "execution_count": 160,
   "id": "advisory-sapphire",
   "metadata": {},
   "outputs": [],
   "source": [
    "X = DATIS['CleanName']"
   ]
  },
  {
   "cell_type": "code",
   "execution_count": 161,
   "id": "grateful-injury",
   "metadata": {},
   "outputs": [],
   "source": [
    "X_train, X_test, y_train, y_test = train_test_split(X, y, test_size=0.25, random_state = 42)"
   ]
  },
  {
   "cell_type": "code",
   "execution_count": 162,
   "id": "amber-philip",
   "metadata": {},
   "outputs": [],
   "source": [
    "from sklearn.model_selection import GridSearchCV\n",
    "from sklearn.pipeline import Pipeline"
   ]
  },
  {
   "cell_type": "code",
   "execution_count": 163,
   "id": "helpful-express",
   "metadata": {},
   "outputs": [
    {
     "name": "stdout",
     "output_type": "stream",
     "text": [
      "accuracy 0.8047493403693932\n",
      "                           precision    recall  f1-score   support\n",
      "\n",
      "                  Amenity       0.69      0.69      0.69        13\n",
      "              Circulation       0.55      0.64      0.59        42\n",
      "    Collaboration: Closed       0.91      0.92      0.91       111\n",
      "      Collaboration: Open       0.83      0.56      0.67        18\n",
      "Desking: open workstation       0.96      0.96      0.96        23\n",
      "  Desking: private office       0.88      0.80      0.84        85\n",
      "                      Lab       1.00      1.00      1.00         2\n",
      "               Services 1       0.89      0.69      0.77        35\n",
      "               Services 2       0.50      0.50      0.50         2\n",
      "                  Support       0.65      0.83      0.73        48\n",
      "\n",
      "                 accuracy                           0.80       379\n",
      "                macro avg       0.79      0.76      0.77       379\n",
      "             weighted avg       0.82      0.80      0.81       379\n",
      "\n"
     ]
    }
   ],
   "source": [
    "\n",
    "#finding\n",
    "\n",
    "from sklearn.linear_model import SGDClassifier\n",
    "from sklearn.pipeline import Pipeline\n",
    "from sklearn.feature_extraction.text import TfidfVectorizer\n",
    "\n",
    "\n",
    "parameters = {\n",
    "    #'tfidf__ngram_range': ((1, 1), (1, 2),(1, 3),(1,4)), \n",
    "    'tfidf__max_df': (0.25,.4 ,0.5,.6,0.75, 1.0),\n",
    "    'tfidf__use_idf': (True, False),\n",
    "    'tfidf__sublinear_tf': (True, False),\n",
    "    'tfidf__smooth_idf' : (True, False),\n",
    "    'tfidf__min_df' : (1, 2,3),\n",
    "    'tfidf__norm': ('l1', 'l2'),\n",
    "    #'clf__alpha': (0.00001, 0.000001,0.0001,0.001,0.01)\n",
    "    #'clf__loss': ('log', 'perceptron'),\n",
    "    #'clf__loss': ('hinge', 'log', 'modified_huber', 'squared_hinge', 'perceptron'),\n",
    "    #'clf__penalty': ('l2', 'elasticnet','l1')\n",
    "}\n",
    "\n",
    "\n",
    "pipeline = Pipeline([\n",
    "               ('tfidf', TfidfVectorizer()),\n",
    "               ('clf', SGDClassifier(loss='log',penalty='l1')),\n",
    "              ])\n",
    "\n",
    "grid_search = GridSearchCV(pipeline, parameters, n_jobs=-1)\n",
    "grid_search.fit(X_train, y_train)\n",
    "\n",
    "from sklearn.metrics import classification_report\n",
    "y_pred = grid_search.predict(X_test)\n",
    "\n",
    "print('accuracy %s' % accuracy_score(y_pred, y_test))\n",
    "print(classification_report(y_test, y_pred))"
   ]
  },
  {
   "cell_type": "code",
   "execution_count": 164,
   "id": "spiritual-trust",
   "metadata": {},
   "outputs": [
    {
     "data": {
      "text/plain": [
       "{'tfidf__max_df': 0.25,\n",
       " 'tfidf__min_df': 1,\n",
       " 'tfidf__norm': 'l2',\n",
       " 'tfidf__smooth_idf': False,\n",
       " 'tfidf__sublinear_tf': False,\n",
       " 'tfidf__use_idf': True}"
      ]
     },
     "execution_count": 164,
     "metadata": {},
     "output_type": "execute_result"
    }
   ],
   "source": [
    "grid_search.best_params_"
   ]
  },
  {
   "cell_type": "code",
   "execution_count": 165,
   "id": "dying-conflict",
   "metadata": {},
   "outputs": [
    {
     "name": "stdout",
     "output_type": "stream",
     "text": [
      "accuracy 0.8153034300791556\n",
      "                           precision    recall  f1-score   support\n",
      "\n",
      "                  Amenity       0.61      0.85      0.71        13\n",
      "              Circulation       0.56      0.67      0.61        42\n",
      "    Collaboration: Closed       0.87      0.92      0.89       111\n",
      "      Collaboration: Open       0.89      0.44      0.59        18\n",
      "Desking: open workstation       0.96      0.96      0.96        23\n",
      "  Desking: private office       0.96      0.80      0.87        85\n",
      "                      Lab       1.00      1.00      1.00         2\n",
      "               Services 1       0.72      0.83      0.77        35\n",
      "               Services 2       0.50      0.50      0.50         2\n",
      "                  Support       0.81      0.79      0.80        48\n",
      "\n",
      "                 accuracy                           0.82       379\n",
      "                macro avg       0.79      0.78      0.77       379\n",
      "             weighted avg       0.83      0.82      0.82       379\n",
      "\n"
     ]
    }
   ],
   "source": [
    "from sklearn.linear_model import SGDClassifier\n",
    "from sklearn.feature_extraction.text import TfidfVectorizer\n",
    "\n",
    "\n",
    "tfidfvec=TfidfVectorizer(ngram_range=(1,3),max_df=.25,min_df=1,norm='l2',smooth_idf=True,sublinear_tf=False,use_idf=True)\n",
    "mod=SGDClassifier(penalty='l1',loss='log',alpha=0.00001)\n",
    "\n",
    "#vectorizer.fit(X_train)\n",
    "#X_train2=vectorizer.transform(X_train)\n",
    "#X_test2=vectorizer.transform(X_test)\n",
    "\n",
    "\n",
    "\n",
    "\n",
    "text_clf = Pipeline([ \n",
    "    ('tfidf', tfidfvec),\n",
    "    ('clf', mod),\n",
    "])\n",
    "\n",
    "\n",
    "text_clf.fit(X_train, y_train)\n",
    "\n",
    "#mod.fit(X_train2, y_train)\n",
    "\n",
    "from sklearn.metrics import classification_report\n",
    "#y_pred = mod.predict(X_test2)\n",
    "y_pred2 = text_clf.predict(X_test)\n",
    "print('accuracy %s' % accuracy_score(y_pred2, y_test))\n",
    "print(classification_report(y_test, y_pred2))\n",
    "\n",
    "\n",
    "#print('accuracy %s' % accuracy_score(y_pred, y_test))\n",
    "#print(classification_report(y_test, y_pred))"
   ]
  },
  {
   "cell_type": "code",
   "execution_count": 166,
   "id": "municipal-yield",
   "metadata": {},
   "outputs": [],
   "source": [
    "from skl2onnx import convert_sklearn\n",
    "from skl2onnx.common.data_types import StringTensorType\n",
    "from onnxmltools import save_model\n",
    "from onnxruntime import InferenceSession"
   ]
  },
  {
   "cell_type": "code",
   "execution_count": 167,
   "id": "periodic-blackjack",
   "metadata": {},
   "outputs": [
    {
     "name": "stderr",
     "output_type": "stream",
     "text": [
      "C:\\Users\\dmckenzie\\Anaconda3\\envs\\Three Seven\\lib\\site-packages\\skl2onnx\\operator_converters\\text_vectoriser.py:185: UserWarning: Converter for TfidfVectorizer will use scikit-learn regular expression by default in version 1.6.\n",
      "  UserWarning)\n",
      "C:\\Users\\dmckenzie\\Anaconda3\\envs\\Three Seven\\lib\\site-packages\\skl2onnx\\common\\_container.py:595: UserWarning: Unable to find operator 'Tokenizer' in domain 'com.microsoft' in ONNX, op_version is forced to 1.\n",
      "  op_type, domain))\n"
     ]
    }
   ],
   "source": [
    "onnx_model = convert_sklearn(text_clf,\n",
    "name='DocClassifierCV-Tfidf-LSVC',\n",
    "initial_types=[('input', StringTensorType([1, 1]))]\n",
    ")\n",
    "\n",
    "save_model(onnx_model, 'cv.onnx')\n",
    "sess = InferenceSession(\"cv.onnx\")\n",
    "label_name = sess.get_outputs()[0].name\n",
    "input_name = sess.get_inputs()[0].name\n",
    "\n",
    "res = sess.run(None, input_feed={'input': np.array([['1']])})"
   ]
  },
  {
   "cell_type": "code",
   "execution_count": 168,
   "id": "oriented-jacksonville",
   "metadata": {},
   "outputs": [
    {
     "data": {
      "text/plain": [
       "[array(['Services 1'], dtype=object),\n",
       " [{'Amenity': 0.135780468583107,\n",
       "   'Circulation': 0.07175599038600922,\n",
       "   'Collaboration: Closed': 0.08311403542757034,\n",
       "   'Collaboration: Open': 0.05778888240456581,\n",
       "   'Desking: open workstation': 0.03619064390659332,\n",
       "   'Desking: private office': 0.04738190397620201,\n",
       "   'Lab': 0.05930555984377861,\n",
       "   'Services 1': 0.32544636726379395,\n",
       "   'Services 2': 0.056434303522109985,\n",
       "   'Support': 0.12680183351039886}]]"
      ]
     },
     "execution_count": 168,
     "metadata": {},
     "output_type": "execute_result"
    }
   ],
   "source": [
    "res"
   ]
  },
  {
   "cell_type": "code",
   "execution_count": 169,
   "id": "weekly-collar",
   "metadata": {},
   "outputs": [],
   "source": [
    "with open(\"TextClassifier1.onnx\", \"wb\") as f:\n",
    "    f.write(onnx_model.SerializeToString())"
   ]
  },
  {
   "cell_type": "code",
   "execution_count": 170,
   "id": "likely-definition",
   "metadata": {},
   "outputs": [
    {
     "data": {
      "text/plain": [
       "[array(['Services 1'], dtype=object),\n",
       " [{'Amenity': 0.135780468583107,\n",
       "   'Circulation': 0.07175599038600922,\n",
       "   'Collaboration: Closed': 0.08311403542757034,\n",
       "   'Collaboration: Open': 0.05778888240456581,\n",
       "   'Desking: open workstation': 0.03619064390659332,\n",
       "   'Desking: private office': 0.04738190397620201,\n",
       "   'Lab': 0.05930555984377861,\n",
       "   'Services 1': 0.32544636726379395,\n",
       "   'Services 2': 0.056434303522109985,\n",
       "   'Support': 0.12680183351039886}]]"
      ]
     },
     "execution_count": 170,
     "metadata": {},
     "output_type": "execute_result"
    }
   ],
   "source": [
    "res"
   ]
  },
  {
   "cell_type": "code",
   "execution_count": 336,
   "id": "deadly-mills",
   "metadata": {},
   "outputs": [],
   "source": [
    "import pickle"
   ]
  },
  {
   "cell_type": "code",
   "execution_count": 337,
   "id": "respected-deficit",
   "metadata": {},
   "outputs": [],
   "source": [
    "pickle.dump(vectorizer, open('C:\\\\Users\\dmckenzie\\documents\\\\roomvectorizer.pickle', \"wb\"))"
   ]
  },
  {
   "cell_type": "code",
   "execution_count": 338,
   "id": "competitive-mechanism",
   "metadata": {},
   "outputs": [],
   "source": [
    "pickle.dump(mod, open('C:\\\\Users\\dmckenzie\\documents\\\\roommodel.pickle', \"wb\"))"
   ]
  },
  {
   "cell_type": "code",
   "execution_count": 171,
   "id": "caring-nightmare",
   "metadata": {},
   "outputs": [],
   "source": [
    "matchdf=pd.DataFrame({'A':list(y_pred[X_test.isin(list(X_train))==False]),\n",
    "              'B':list(y_test[X_test.isin(list(X_train))==False])})"
   ]
  },
  {
   "cell_type": "code",
   "execution_count": 172,
   "id": "alike-terminology",
   "metadata": {},
   "outputs": [],
   "source": [
    "matchdf['C']=(matchdf['A']==matchdf['B'])*1"
   ]
  },
  {
   "cell_type": "code",
   "execution_count": 173,
   "id": "executed-journalist",
   "metadata": {},
   "outputs": [],
   "source": [
    "matchdf['D']=1"
   ]
  },
  {
   "cell_type": "code",
   "execution_count": 174,
   "id": "compliant-weight",
   "metadata": {},
   "outputs": [],
   "source": [
    "labels=list(matchdf.groupby(['A'])['D'].sum().index)"
   ]
  },
  {
   "cell_type": "code",
   "execution_count": 175,
   "id": "requested-cache",
   "metadata": {},
   "outputs": [],
   "source": [
    "scores=list(matchdf.groupby(['A'])['C'].sum().values/matchdf.groupby(['A'])['D'].sum().values)"
   ]
  },
  {
   "cell_type": "code",
   "execution_count": 176,
   "id": "private-overhead",
   "metadata": {},
   "outputs": [
    {
     "name": "stdout",
     "output_type": "stream",
     "text": [
      "Accuracy: 0.5102040816326531\n"
     ]
    }
   ],
   "source": [
    "print('Accuracy:',matchdf['C'].sum()/matchdf['D'].sum())"
   ]
  },
  {
   "cell_type": "code",
   "execution_count": 177,
   "id": "reported-republican",
   "metadata": {},
   "outputs": [
    {
     "data": {
      "text/html": [
       "<div>\n",
       "<style scoped>\n",
       "    .dataframe tbody tr th:only-of-type {\n",
       "        vertical-align: middle;\n",
       "    }\n",
       "\n",
       "    .dataframe tbody tr th {\n",
       "        vertical-align: top;\n",
       "    }\n",
       "\n",
       "    .dataframe thead th {\n",
       "        text-align: right;\n",
       "    }\n",
       "</style>\n",
       "<table border=\"1\" class=\"dataframe\">\n",
       "  <thead>\n",
       "    <tr style=\"text-align: right;\">\n",
       "      <th></th>\n",
       "      <th>Category</th>\n",
       "      <th>Guesses</th>\n",
       "      <th>True Positive Rate</th>\n",
       "    </tr>\n",
       "  </thead>\n",
       "  <tbody>\n",
       "    <tr>\n",
       "      <th>0</th>\n",
       "      <td>Amenity</td>\n",
       "      <td>5</td>\n",
       "      <td>0.400000</td>\n",
       "    </tr>\n",
       "    <tr>\n",
       "      <th>1</th>\n",
       "      <td>Collaboration: Closed</td>\n",
       "      <td>10</td>\n",
       "      <td>0.900000</td>\n",
       "    </tr>\n",
       "    <tr>\n",
       "      <th>2</th>\n",
       "      <td>Desking: private office</td>\n",
       "      <td>9</td>\n",
       "      <td>0.222222</td>\n",
       "    </tr>\n",
       "    <tr>\n",
       "      <th>3</th>\n",
       "      <td>Lab</td>\n",
       "      <td>2</td>\n",
       "      <td>1.000000</td>\n",
       "    </tr>\n",
       "    <tr>\n",
       "      <th>4</th>\n",
       "      <td>Services 1</td>\n",
       "      <td>4</td>\n",
       "      <td>1.000000</td>\n",
       "    </tr>\n",
       "    <tr>\n",
       "      <th>5</th>\n",
       "      <td>Services 2</td>\n",
       "      <td>1</td>\n",
       "      <td>0.000000</td>\n",
       "    </tr>\n",
       "    <tr>\n",
       "      <th>6</th>\n",
       "      <td>Support</td>\n",
       "      <td>18</td>\n",
       "      <td>0.333333</td>\n",
       "    </tr>\n",
       "  </tbody>\n",
       "</table>\n",
       "</div>"
      ],
      "text/plain": [
       "                  Category  Guesses  True Positive Rate\n",
       "0                  Amenity        5            0.400000\n",
       "1    Collaboration: Closed       10            0.900000\n",
       "2  Desking: private office        9            0.222222\n",
       "3                      Lab        2            1.000000\n",
       "4               Services 1        4            1.000000\n",
       "5               Services 2        1            0.000000\n",
       "6                  Support       18            0.333333"
      ]
     },
     "execution_count": 177,
     "metadata": {},
     "output_type": "execute_result"
    }
   ],
   "source": [
    "pd.DataFrame({'Category':labels,'Guesses':list(matchdf.groupby(['A'])['D'].sum().values),'True Positive Rate':scores})"
   ]
  },
  {
   "cell_type": "code",
   "execution_count": 40,
   "id": "sudden-humor",
   "metadata": {},
   "outputs": [
    {
     "ename": "NameError",
     "evalue": "name 'X_train2' is not defined",
     "output_type": "error",
     "traceback": [
      "\u001b[1;31m---------------------------------------------------------------------------\u001b[0m",
      "\u001b[1;31mNameError\u001b[0m                                 Traceback (most recent call last)",
      "\u001b[1;32m<ipython-input-40-2c51cb378871>\u001b[0m in \u001b[0;36m<module>\u001b[1;34m\u001b[0m\n\u001b[1;32m----> 1\u001b[1;33m \u001b[0mX_train2\u001b[0m\u001b[1;33m\u001b[0m\u001b[1;33m\u001b[0m\u001b[0m\n\u001b[0m",
      "\u001b[1;31mNameError\u001b[0m: name 'X_train2' is not defined"
     ]
    }
   ],
   "source": [
    "X_train2"
   ]
  },
  {
   "cell_type": "code",
   "execution_count": 64,
   "id": "otherwise-masters",
   "metadata": {},
   "outputs": [
    {
     "data": {
      "text/plain": [
       "<AxesSubplot:title={'center':'Classifier Validation Score As Training Data Grows'}, xlabel='Training Data Size', ylabel='Validation Score'>"
      ]
     },
     "execution_count": 64,
     "metadata": {},
     "output_type": "execute_result"
    },
    {
     "data": {
      "image/png": "[encoded data removed]",
      "text/plain": [
       "<Figure size 432x288 with 1 Axes>"
      ]
     },
     "metadata": {
      "needs_background": "light"
     },
     "output_type": "display_data"
    }
   ],
   "source": [
    "import numpy as np\n",
    "from sklearn.model_selection import learning_curve\n",
    "from sklearn.datasets import load_iris\n",
    "from sklearn.linear_model import Ridge\n",
    "\n",
    "#np.random.seed(0)\n",
    "#X, y = load_iris(return_X_y=True)\n",
    "#indices = np.arange(y.shape[0])\n",
    "#np.random.shuffle(indices)\n",
    "#X, y = X[indices], y[indices]\n",
    "\n",
    "train_sizes, train_scores, valid_scores = learning_curve(text_clf,\n",
    "                                                         X_train, y_train, train_sizes=[10,20,30,40,50,60,70,80,90,100,\n",
    "                                                                                         110,120,130,140,150,160,170,180,190,200,\n",
    "                                                                                         210,220,230,240,250,260,270,280,290,300,\n",
    "                                                                                         310,320,330,340,350,360,370,380,390,400,\n",
    "                                                                                        410,420,430],cv=5)\n",
    "pd.DataFrame({'Median':list(pd.DataFrame(valid_scores.transpose()).median()),\n",
    "             '75th Precentile ':list(pd.DataFrame(valid_scores.transpose()).quantile(0.75)),\n",
    "             '25th Precentile':list(pd.DataFrame(valid_scores.transpose()).quantile(0.25))},\n",
    "             index=train_sizes).plot(color = ['orange', 'c','c'],\n",
    "                                    xlabel='Training Data Size',ylabel='Validation Score',\n",
    "                                     grid=True,title='Classifier Validation Score As Training Data Grows')"
   ]
  },
  {
   "cell_type": "code",
   "execution_count": 61,
   "id": "lovely-wagner",
   "metadata": {},
   "outputs": [
    {
     "data": {
      "text/plain": [
       "<AxesSubplot:>"
      ]
     },
     "execution_count": 61,
     "metadata": {},
     "output_type": "execute_result"
    },
    {
     "data": {
      "image/png": "[encoded data removed]",
      "text/plain": [
       "<Figure size 432x288 with 1 Axes>"
      ]
     },
     "metadata": {
      "needs_background": "light"
     },
     "output_type": "display_data"
    }
   ],
   "source": [
    "pd.DataFrame(valid_scores.transpose()).mean().plot()"
   ]
  },
  {
   "cell_type": "code",
   "execution_count": 43,
   "id": "experienced-slide",
   "metadata": {},
   "outputs": [
    {
     "ename": "NameError",
     "evalue": "name 'valid_scores' is not defined",
     "output_type": "error",
     "traceback": [
      "\u001b[1;31m---------------------------------------------------------------------------\u001b[0m",
      "\u001b[1;31mNameError\u001b[0m                                 Traceback (most recent call last)",
      "\u001b[1;32m<ipython-input-43-884c756c78b5>\u001b[0m in \u001b[0;36m<module>\u001b[1;34m\u001b[0m\n\u001b[1;32m----> 1\u001b[1;33m \u001b[0mpd\u001b[0m\u001b[1;33m.\u001b[0m\u001b[0mDataFrame\u001b[0m\u001b[1;33m(\u001b[0m\u001b[0mpd\u001b[0m\u001b[1;33m.\u001b[0m\u001b[0mDataFrame\u001b[0m\u001b[1;33m(\u001b[0m\u001b[0mvalid_scores\u001b[0m\u001b[1;33m.\u001b[0m\u001b[0mtranspose\u001b[0m\u001b[1;33m(\u001b[0m\u001b[1;33m)\u001b[0m\u001b[1;33m)\u001b[0m\u001b[1;33m)\u001b[0m\u001b[1;33m.\u001b[0m\u001b[0mplot\u001b[0m\u001b[1;33m(\u001b[0m\u001b[1;33m)\u001b[0m\u001b[1;33m\u001b[0m\u001b[1;33m\u001b[0m\u001b[0m\n\u001b[0m",
      "\u001b[1;31mNameError\u001b[0m: name 'valid_scores' is not defined"
     ]
    }
   ],
   "source": [
    "pd.DataFrame(pd.DataFrame(valid_scores.transpose())).plot()"
   ]
  }
 ],
 "metadata": {
  "kernelspec": {
   "display_name": "Python 3",
   "language": "python",
   "name": "python3"
  },
  "language_info": {
   "codemirror_mode": {
    "name": "ipython",
    "version": 3
   },
   "file_extension": ".py",
   "mimetype": "text/x-python",
   "name": "python",
   "nbconvert_exporter": "python",
   "pygments_lexer": "ipython3",
   "version": "3.7.9"
  }
 },
 "nbformat": 4,
 "nbformat_minor": 5
}
