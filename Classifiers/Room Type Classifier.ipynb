{
 "cells": [
  {
   "cell_type": "code",
   "execution_count": 14,
   "id": "prescribed-guest",
   "metadata": {},
   "outputs": [],
   "source": [
    "import pandas as pd"
   ]
  },
  {
   "cell_type": "code",
   "execution_count": 15,
   "id": "amended-jenny",
   "metadata": {},
   "outputs": [],
   "source": [
    "path='C:\\\\Users\\dmckenzie\\Desktop\\Doctored Room And Labels.csv'"
   ]
  },
  {
   "cell_type": "code",
   "execution_count": 16,
   "id": "several-affair",
   "metadata": {},
   "outputs": [],
   "source": [
    "DATIS=pd.read_csv(path)"
   ]
  },
  {
   "cell_type": "code",
   "execution_count": 17,
   "id": "nearby-horror",
   "metadata": {},
   "outputs": [
    {
     "data": {
      "text/html": [
       "<div>\n",
       "<style scoped>\n",
       "    .dataframe tbody tr th:only-of-type {\n",
       "        vertical-align: middle;\n",
       "    }\n",
       "\n",
       "    .dataframe tbody tr th {\n",
       "        vertical-align: top;\n",
       "    }\n",
       "\n",
       "    .dataframe thead th {\n",
       "        text-align: right;\n",
       "    }\n",
       "</style>\n",
       "<table border=\"1\" class=\"dataframe\">\n",
       "  <thead>\n",
       "    <tr style=\"text-align: right;\">\n",
       "      <th></th>\n",
       "      <th>UniqueId</th>\n",
       "      <th>Name</th>\n",
       "      <th>OccupancyType</th>\n",
       "      <th>Area</th>\n",
       "      <th>Perimeter</th>\n",
       "      <th>WEBenchmarkingDept</th>\n",
       "    </tr>\n",
       "  </thead>\n",
       "  <tbody>\n",
       "    <tr>\n",
       "      <th>0</th>\n",
       "      <td>'-1028317551:3164766</td>\n",
       "      <td>WORKROOM</td>\n",
       "      <td>NaN</td>\n",
       "      <td>552.076416</td>\n",
       "      <td>96.020833</td>\n",
       "      <td>Amenity</td>\n",
       "    </tr>\n",
       "    <tr>\n",
       "      <th>1</th>\n",
       "      <td>'-1274529740:3684468</td>\n",
       "      <td>CAFE / GATHERING</td>\n",
       "      <td>B</td>\n",
       "      <td>972.589695</td>\n",
       "      <td>147.986971</td>\n",
       "      <td>Amenity</td>\n",
       "    </tr>\n",
       "    <tr>\n",
       "      <th>2</th>\n",
       "      <td>1274885439:4630147</td>\n",
       "      <td>MOTHER'S</td>\n",
       "      <td>B</td>\n",
       "      <td>182.863241</td>\n",
       "      <td>73.362111</td>\n",
       "      <td>Amenity</td>\n",
       "    </tr>\n",
       "    <tr>\n",
       "      <th>3</th>\n",
       "      <td>1274885439:4722876</td>\n",
       "      <td>MOTHER'S</td>\n",
       "      <td>B</td>\n",
       "      <td>376.254259</td>\n",
       "      <td>133.750000</td>\n",
       "      <td>Amenity</td>\n",
       "    </tr>\n",
       "    <tr>\n",
       "      <th>4</th>\n",
       "      <td>1274885439:5410216</td>\n",
       "      <td>LIBRARY</td>\n",
       "      <td>A3</td>\n",
       "      <td>450.132802</td>\n",
       "      <td>91.591851</td>\n",
       "      <td>Amenity</td>\n",
       "    </tr>\n",
       "    <tr>\n",
       "      <th>...</th>\n",
       "      <td>...</td>\n",
       "      <td>...</td>\n",
       "      <td>...</td>\n",
       "      <td>...</td>\n",
       "      <td>...</td>\n",
       "      <td>...</td>\n",
       "    </tr>\n",
       "    <tr>\n",
       "      <th>1426</th>\n",
       "      <td>985698166:3893227</td>\n",
       "      <td>COPY/PRINT</td>\n",
       "      <td>NaN</td>\n",
       "      <td>41.992188</td>\n",
       "      <td>29.312500</td>\n",
       "      <td>Support</td>\n",
       "    </tr>\n",
       "    <tr>\n",
       "      <th>1427</th>\n",
       "      <td>985698166:3965930</td>\n",
       "      <td>HUB</td>\n",
       "      <td>NaN</td>\n",
       "      <td>799.240614</td>\n",
       "      <td>170.944250</td>\n",
       "      <td>AMENITY</td>\n",
       "    </tr>\n",
       "    <tr>\n",
       "      <th>1428</th>\n",
       "      <td>985698166:3967098</td>\n",
       "      <td>CIRCULATION</td>\n",
       "      <td>NaN</td>\n",
       "      <td>5160.998853</td>\n",
       "      <td>1338.965741</td>\n",
       "      <td>CIRCULATION</td>\n",
       "    </tr>\n",
       "    <tr>\n",
       "      <th>1429</th>\n",
       "      <td>985698166:4020879</td>\n",
       "      <td>HUB</td>\n",
       "      <td>NaN</td>\n",
       "      <td>798.466200</td>\n",
       "      <td>174.756750</td>\n",
       "      <td>AMENITY</td>\n",
       "    </tr>\n",
       "    <tr>\n",
       "      <th>1430</th>\n",
       "      <td>985698166:4020881</td>\n",
       "      <td>HUB</td>\n",
       "      <td>NaN</td>\n",
       "      <td>709.508843</td>\n",
       "      <td>142.837833</td>\n",
       "      <td>AMENITY</td>\n",
       "    </tr>\n",
       "  </tbody>\n",
       "</table>\n",
       "<p>1431 rows × 6 columns</p>\n",
       "</div>"
      ],
      "text/plain": [
       "                  UniqueId              Name OccupancyType         Area  \\\n",
       "0     '-1028317551:3164766          WORKROOM           NaN   552.076416   \n",
       "1     '-1274529740:3684468  CAFE / GATHERING             B   972.589695   \n",
       "2       1274885439:4630147          MOTHER'S             B   182.863241   \n",
       "3       1274885439:4722876          MOTHER'S             B   376.254259   \n",
       "4       1274885439:5410216           LIBRARY            A3   450.132802   \n",
       "...                    ...               ...           ...          ...   \n",
       "1426     985698166:3893227        COPY/PRINT           NaN    41.992188   \n",
       "1427     985698166:3965930               HUB           NaN   799.240614   \n",
       "1428     985698166:3967098       CIRCULATION           NaN  5160.998853   \n",
       "1429     985698166:4020879               HUB           NaN   798.466200   \n",
       "1430     985698166:4020881               HUB           NaN   709.508843   \n",
       "\n",
       "        Perimeter WEBenchmarkingDept  \n",
       "0       96.020833            Amenity  \n",
       "1      147.986971            Amenity  \n",
       "2       73.362111            Amenity  \n",
       "3      133.750000            Amenity  \n",
       "4       91.591851            Amenity  \n",
       "...           ...                ...  \n",
       "1426    29.312500            Support  \n",
       "1427   170.944250            AMENITY  \n",
       "1428  1338.965741        CIRCULATION  \n",
       "1429   174.756750            AMENITY  \n",
       "1430   142.837833            AMENITY  \n",
       "\n",
       "[1431 rows x 6 columns]"
      ]
     },
     "execution_count": 17,
     "metadata": {},
     "output_type": "execute_result"
    }
   ],
   "source": [
    "DATIS"
   ]
  },
  {
   "cell_type": "code",
   "execution_count": 13,
   "id": "automotive-allowance",
   "metadata": {},
   "outputs": [
    {
     "data": {
      "text/plain": [
       "<AxesSubplot:>"
      ]
     },
     "execution_count": 13,
     "metadata": {},
     "output_type": "execute_result"
    },
    {
     "data": {
      "image/png": "[encoded data removed]",
      "text/plain": [
       "<Figure size 432x288 with 1 Axes>"
      ]
     },
     "metadata": {
      "needs_background": "light"
     },
     "output_type": "display_data"
    }
   ],
   "source": [
    "DATIS['Name'].value_counts().plot(kind='barh')"
   ]
  },
  {
   "cell_type": "code",
   "execution_count": 6,
   "id": "filled-replication",
   "metadata": {},
   "outputs": [],
   "source": [
    "import re\n",
    "def preprocessor(text): \n",
    "    text = re.sub(r'[^\\w\\s]','', text)\n",
    "    text = text.lower()\n",
    "    return text"
   ]
  },
  {
   "cell_type": "code",
   "execution_count": 7,
   "id": "offshore-swimming",
   "metadata": {},
   "outputs": [
    {
     "data": {
      "text/plain": [
       "0              workroom\n",
       "1       cafe  gathering\n",
       "2               mothers\n",
       "3               mothers\n",
       "4               library\n",
       "             ...       \n",
       "1426          copyprint\n",
       "1427                hub\n",
       "1428        circulation\n",
       "1429                hub\n",
       "1430                hub\n",
       "Name: Name, Length: 1431, dtype: object"
      ]
     },
     "execution_count": 7,
     "metadata": {},
     "output_type": "execute_result"
    }
   ],
   "source": [
    "DATIS['Name'].apply(preprocessor)"
   ]
  },
  {
   "cell_type": "code",
   "execution_count": 8,
   "id": "fundamental-blair",
   "metadata": {},
   "outputs": [],
   "source": [
    "DATIS['CleanName']=DATIS['Name'].str.replace('/',' ').replace({' +':' '},regex=True).apply(preprocessor)"
   ]
  },
  {
   "cell_type": "code",
   "execution_count": 9,
   "id": "geographic-niger",
   "metadata": {},
   "outputs": [
    {
     "data": {
      "text/plain": [
       "0             workroom\n",
       "1       cafe gathering\n",
       "2              mothers\n",
       "3              mothers\n",
       "4              library\n",
       "             ...      \n",
       "1426        copy print\n",
       "1427               hub\n",
       "1428       circulation\n",
       "1429               hub\n",
       "1430               hub\n",
       "Name: CleanName, Length: 1431, dtype: object"
      ]
     },
     "execution_count": 9,
     "metadata": {},
     "output_type": "execute_result"
    }
   ],
   "source": [
    "DATIS['CleanName']"
   ]
  },
  {
   "cell_type": "code",
   "execution_count": 10,
   "id": "fatal-saturday",
   "metadata": {},
   "outputs": [
    {
     "data": {
      "text/plain": [
       "6"
      ]
     },
     "execution_count": 10,
     "metadata": {},
     "output_type": "execute_result"
    }
   ],
   "source": [
    "len(DATIS['Name'].value_counts())-len(DATIS['CleanName'].value_counts())"
   ]
  },
  {
   "cell_type": "code",
   "execution_count": 11,
   "id": "simple-national",
   "metadata": {},
   "outputs": [],
   "source": [
    "DATIS['NameLen']=DATIS['Name'].str.len()\n",
    "DATIS['Name']=DATIS['Name'].str.lower()\n",
    "DATIS['TokenCount']=((DATIS['Name'].str.len()-DATIS['Name'].str.replace(' ','').str.len())+1)\n",
    "DATIS['SpaceRatio']=(DATIS['Area']/DATIS['Perimeter'])"
   ]
  },
  {
   "cell_type": "code",
   "execution_count": 12,
   "id": "anticipated-house",
   "metadata": {},
   "outputs": [
    {
     "data": {
      "text/plain": [
       "<AxesSubplot:>"
      ]
     },
     "execution_count": 12,
     "metadata": {},
     "output_type": "execute_result"
    },
    {
     "data": {
      "image/png": "[encoded data removed]",
      "text/plain": [
       "<Figure size 432x288 with 1 Axes>"
      ]
     },
     "metadata": {
      "needs_background": "light"
     },
     "output_type": "display_data"
    }
   ],
   "source": [
    "DATIS['NameLen'].hist()"
   ]
  },
  {
   "cell_type": "code",
   "execution_count": 13,
   "id": "nervous-magic",
   "metadata": {},
   "outputs": [
    {
     "data": {
      "text/plain": [
       "<AxesSubplot:>"
      ]
     },
     "execution_count": 13,
     "metadata": {},
     "output_type": "execute_result"
    },
    {
     "data": {
      "image/png": "[encoded data removed]",
      "text/plain": [
       "<Figure size 432x288 with 1 Axes>"
      ]
     },
     "metadata": {
      "needs_background": "light"
     },
     "output_type": "display_data"
    }
   ],
   "source": [
    "DATIS['SpaceRatio'].hist()"
   ]
  },
  {
   "cell_type": "code",
   "execution_count": 14,
   "id": "presidential-shopper",
   "metadata": {},
   "outputs": [],
   "source": [
    "from sklearn.feature_extraction.text import TfidfVectorizer\n",
    "from sklearn.model_selection import train_test_split\n",
    "import pickle"
   ]
  },
  {
   "cell_type": "code",
   "execution_count": 15,
   "id": "overhead-kitchen",
   "metadata": {},
   "outputs": [],
   "source": [
    "import pandas as pd\n",
    "import numpy as np\n",
    "from numpy import random\n",
    "from sklearn.metrics import accuracy_score, confusion_matrix\n",
    "import matplotlib.pyplot as plt\n"
   ]
  },
  {
   "cell_type": "code",
   "execution_count": 16,
   "id": "acceptable-blogger",
   "metadata": {},
   "outputs": [],
   "source": [
    "DATIS.WEBenchmarkingDept=DATIS.WEBenchmarkingDept.str.lower()"
   ]
  },
  {
   "cell_type": "code",
   "execution_count": 17,
   "id": "circular-moderator",
   "metadata": {},
   "outputs": [
    {
     "data": {
      "text/plain": [
       "WEBenchmarkingDept\n",
       "amenity                      27\n",
       "circulation                  43\n",
       "collaboration: closed        49\n",
       "collaboration: open          26\n",
       "desking: open workstation    10\n",
       "desking: private office      38\n",
       "lab                           4\n",
       "services 2                    1\n",
       "services1                    34\n",
       "support                      53\n",
       "Name: WEBenchmarkingDept, dtype: int64"
      ]
     },
     "execution_count": 17,
     "metadata": {},
     "output_type": "execute_result"
    }
   ],
   "source": [
    "DATIS.drop_duplicates(['WEBenchmarkingDept','CleanName']).groupby(['WEBenchmarkingDept'])['WEBenchmarkingDept'].count()"
   ]
  },
  {
   "cell_type": "code",
   "execution_count": 18,
   "id": "selective-chase",
   "metadata": {},
   "outputs": [],
   "source": [
    "y = DATIS.WEBenchmarkingDept.str.lower()"
   ]
  },
  {
   "cell_type": "code",
   "execution_count": 19,
   "id": "advisory-sapphire",
   "metadata": {},
   "outputs": [],
   "source": [
    "X = DATIS['CleanName']"
   ]
  },
  {
   "cell_type": "code",
   "execution_count": 20,
   "id": "grateful-injury",
   "metadata": {},
   "outputs": [],
   "source": [
    "X_train, X_test, y_train, y_test = train_test_split(X, y, test_size=0.25, random_state = 42)"
   ]
  },
  {
   "cell_type": "code",
   "execution_count": 21,
   "id": "amber-philip",
   "metadata": {},
   "outputs": [],
   "source": [
    "from sklearn.model_selection import GridSearchCV\n",
    "from sklearn.pipeline import Pipeline"
   ]
  },
  {
   "cell_type": "code",
   "execution_count": 351,
   "id": "helpful-express",
   "metadata": {},
   "outputs": [
    {
     "name": "stderr",
     "output_type": "stream",
     "text": [
      "C:\\Users\\dmckenzie\\Anaconda3\\envs\\Three Seven\\lib\\site-packages\\sklearn\\model_selection\\_split.py:672: UserWarning: The least populated class in y has only 2 members, which is less than n_splits=5.\n"
     ]
    },
    {
     "name": "stdout",
     "output_type": "stream",
     "text": [
      "accuracy 0.8116279069767441\n",
      "                           precision    recall  f1-score   support\n",
      "\n",
      "                  amenity       1.00      1.00      1.00         6\n",
      "              circulation       0.54      0.60      0.57        50\n",
      "    collaboration: closed       0.91      0.90      0.91       131\n",
      "      collaboration: open       0.82      0.58      0.68        24\n",
      "desking: open workstation       0.91      1.00      0.95        20\n",
      "  desking: private office       0.93      0.81      0.87       108\n",
      "                      lab       0.00      0.00      0.00         2\n",
      "               services 2       0.50      1.00      0.67         1\n",
      "                services1       0.87      0.61      0.71        33\n",
      "                  support       0.65      0.95      0.77        55\n",
      "\n",
      "                 accuracy                           0.81       430\n",
      "                macro avg       0.71      0.75      0.71       430\n",
      "             weighted avg       0.83      0.81      0.81       430\n",
      "\n"
     ]
    },
    {
     "name": "stderr",
     "output_type": "stream",
     "text": [
      "C:\\Users\\dmckenzie\\Anaconda3\\envs\\Three Seven\\lib\\site-packages\\sklearn\\metrics\\_classification.py:1221: UndefinedMetricWarning: Precision and F-score are ill-defined and being set to 0.0 in labels with no predicted samples. Use `zero_division` parameter to control this behavior.\n"
     ]
    }
   ],
   "source": [
    "\n",
    "#finding\n",
    "\n",
    "from sklearn.linear_model import SGDClassifier\n",
    "from sklearn.pipeline import Pipeline\n",
    "from sklearn.feature_extraction.text import TfidfVectorizer\n",
    "\n",
    "\n",
    "parameters = {\n",
    "    #'tfidf__ngram_range': ((1, 1), (1, 2),(1, 3),(1,4)), \n",
    "    'tfidf__max_df': (0.25,.4 ,0.5,.6,0.75, 1.0),\n",
    "    'tfidf__use_idf': (True, False),\n",
    "    'tfidf__sublinear_tf': (True, False),\n",
    "    'tfidf__smooth_idf' : (True, False),\n",
    "    'tfidf__min_df' : (1, 2,3),\n",
    "    'tfidf__norm': ('l1', 'l2'),\n",
    "    #'clf__alpha': (0.00001, 0.000001,0.0001,0.001,0.01)\n",
    "    #'clf__loss': ('log', 'perceptron'),\n",
    "    #'clf__loss': ('hinge', 'log', 'modified_huber', 'squared_hinge', 'perceptron'),\n",
    "    #'clf__penalty': ('l2', 'elasticnet','l1')\n",
    "}\n",
    "\n",
    "\n",
    "pipeline = Pipeline([\n",
    "               ('tfidf', TfidfVectorizer()),\n",
    "               ('clf', SGDClassifier(loss='log',penalty='l1')),\n",
    "              ])\n",
    "\n",
    "grid_search = GridSearchCV(pipeline, parameters, n_jobs=-1)\n",
    "grid_search.fit(X_train, y_train)\n",
    "\n",
    "from sklearn.metrics import classification_report\n",
    "y_pred = grid_search.predict(X_test)\n",
    "\n",
    "print('accuracy %s' % accuracy_score(y_pred, y_test))\n",
    "print(classification_report(y_test, y_pred))"
   ]
  },
  {
   "cell_type": "code",
   "execution_count": 21,
   "id": "spiritual-trust",
   "metadata": {},
   "outputs": [
    {
     "ename": "NameError",
     "evalue": "name 'grid_search' is not defined",
     "output_type": "error",
     "traceback": [
      "\u001b[1;31m---------------------------------------------------------------------------\u001b[0m",
      "\u001b[1;31mNameError\u001b[0m                                 Traceback (most recent call last)",
      "\u001b[1;32m<ipython-input-21-b1068600e498>\u001b[0m in \u001b[0;36m<module>\u001b[1;34m\u001b[0m\n\u001b[1;32m----> 1\u001b[1;33m \u001b[0mgrid_search\u001b[0m\u001b[1;33m.\u001b[0m\u001b[0mbest_params_\u001b[0m\u001b[1;33m\u001b[0m\u001b[1;33m\u001b[0m\u001b[0m\n\u001b[0m",
      "\u001b[1;31mNameError\u001b[0m: name 'grid_search' is not defined"
     ]
    }
   ],
   "source": [
    "grid_search.best_params_"
   ]
  },
  {
   "cell_type": "code",
   "execution_count": 27,
   "id": "dying-conflict",
   "metadata": {},
   "outputs": [
    {
     "name": "stdout",
     "output_type": "stream",
     "text": [
      "accuracy 0.8296089385474861\n",
      "                           precision    recall  f1-score   support\n",
      "\n",
      "                  amenity       1.00      1.00      1.00         5\n",
      "              circulation       0.56      0.53      0.55        43\n",
      "    collaboration: closed       0.93      0.90      0.91       100\n",
      "      collaboration: open       0.68      0.79      0.73        19\n",
      "desking: open workstation       0.89      0.89      0.89        19\n",
      "  desking: private office       0.91      0.88      0.90        92\n",
      "                      lab       0.00      0.00      0.00         2\n",
      "               services 2       0.50      1.00      0.67         1\n",
      "                services1       0.76      0.87      0.81        30\n",
      "                  support       0.80      0.83      0.81        47\n",
      "\n",
      "                 accuracy                           0.83       358\n",
      "                macro avg       0.70      0.77      0.73       358\n",
      "             weighted avg       0.83      0.83      0.83       358\n",
      "\n"
     ]
    },
    {
     "name": "stderr",
     "output_type": "stream",
     "text": [
      "C:\\Users\\dmckenzie\\Anaconda3\\lib\\site-packages\\sklearn\\metrics\\_classification.py:1221: UndefinedMetricWarning: Precision and F-score are ill-defined and being set to 0.0 in labels with no predicted samples. Use `zero_division` parameter to control this behavior.\n",
      "  _warn_prf(average, modifier, msg_start, len(result))\n"
     ]
    }
   ],
   "source": [
    "from sklearn.linear_model import SGDClassifier\n",
    "from sklearn.feature_extraction.text import TfidfVectorizer\n",
    "\n",
    "\n",
    "tfidfvec=TfidfVectorizer(ngram_range=(1,3),max_df=.25,min_df=1,norm='l2',smooth_idf=True,sublinear_tf=False,use_idf=True)\n",
    "mod=SGDClassifier(penalty='l1',loss='log',alpha=0.00001)\n",
    "\n",
    "#vectorizer.fit(X_train)\n",
    "#X_train2=vectorizer.transform(X_train)\n",
    "#X_test2=vectorizer.transform(X_test)\n",
    "\n",
    "\n",
    "\n",
    "\n",
    "text_clf = Pipeline([ \n",
    "    ('tfidf', tfidfvec),\n",
    "    ('clf', mod),\n",
    "])\n",
    "\n",
    "\n",
    "text_clf.fit(X_train, y_train)\n",
    "\n",
    "#mod.fit(X_train2, y_train)\n",
    "\n",
    "from sklearn.metrics import classification_report\n",
    "#y_pred = mod.predict(X_test2)\n",
    "y_pred2 = text_clf.predict(X_test)\n",
    "print('accuracy %s' % accuracy_score(y_pred2, y_test))\n",
    "print(classification_report(y_test, y_pred2))\n",
    "\n",
    "\n",
    "#print('accuracy %s' % accuracy_score(y_pred, y_test))\n",
    "#print(classification_report(y_test, y_pred))"
   ]
  },
  {
   "cell_type": "code",
   "execution_count": 1,
   "id": "municipal-yield",
   "metadata": {},
   "outputs": [
    {
     "ename": "ModuleNotFoundError",
     "evalue": "No module named 'skl2onnx'",
     "output_type": "error",
     "traceback": [
      "\u001b[1;31m---------------------------------------------------------------------------\u001b[0m",
      "\u001b[1;31mModuleNotFoundError\u001b[0m                       Traceback (most recent call last)",
      "\u001b[1;32m<ipython-input-1-ff534c3fbae2>\u001b[0m in \u001b[0;36m<module>\u001b[1;34m\u001b[0m\n\u001b[1;32m----> 1\u001b[1;33m \u001b[1;32mfrom\u001b[0m \u001b[0mskl2onnx\u001b[0m \u001b[1;32mimport\u001b[0m \u001b[0mconvert_sklearn\u001b[0m\u001b[1;33m\u001b[0m\u001b[1;33m\u001b[0m\u001b[0m\n\u001b[0m\u001b[0;32m      2\u001b[0m \u001b[1;32mfrom\u001b[0m \u001b[0mskl2onnx\u001b[0m\u001b[1;33m.\u001b[0m\u001b[0mcommon\u001b[0m\u001b[1;33m.\u001b[0m\u001b[0mdata_types\u001b[0m \u001b[1;32mimport\u001b[0m \u001b[0mStringTensorType\u001b[0m\u001b[1;33m\u001b[0m\u001b[1;33m\u001b[0m\u001b[0m\n\u001b[0;32m      3\u001b[0m \u001b[1;32mfrom\u001b[0m \u001b[0monnxmltools\u001b[0m \u001b[1;32mimport\u001b[0m \u001b[0msave_model\u001b[0m\u001b[1;33m\u001b[0m\u001b[1;33m\u001b[0m\u001b[0m\n\u001b[0;32m      4\u001b[0m \u001b[1;32mfrom\u001b[0m \u001b[0monnxruntime\u001b[0m \u001b[1;32mimport\u001b[0m \u001b[0mInferenceSession\u001b[0m\u001b[1;33m\u001b[0m\u001b[1;33m\u001b[0m\u001b[0m\n",
      "\u001b[1;31mModuleNotFoundError\u001b[0m: No module named 'skl2onnx'"
     ]
    }
   ],
   "source": [
    "from skl2onnx import convert_sklearn\n",
    "from skl2onnx.common.data_types import StringTensorType\n",
    "from onnxmltools import save_model\n",
    "from onnxruntime import InferenceSession"
   ]
  },
  {
   "cell_type": "code",
   "execution_count": 46,
   "id": "periodic-blackjack",
   "metadata": {},
   "outputs": [],
   "source": [
    "onnx_model = convert_sklearn(text_clf,\n",
    "name='DocClassifierCV-Tfidf-LSVC',\n",
    "initial_types=[('input', StringTensorType([1, 1]))]\n",
    ")\n",
    "\n",
    "save_model(onnx_model, 'cv.onnx')\n",
    "sess = InferenceSession(\"cv.onnx\")\n",
    "label_name = sess.get_outputs()[0].name\n",
    "input_name = sess.get_inputs()[0].name\n",
    "\n",
    "res = sess.run(None, input_feed={'input': np.array([['hello world']])})"
   ]
  },
  {
   "cell_type": "code",
   "execution_count": 47,
   "id": "oriented-jacksonville",
   "metadata": {},
   "outputs": [
    {
     "data": {
      "text/plain": [
       "[array(['services1'], dtype=object),\n",
       " [{'amenity': 0.07348394393920898,\n",
       "   'circulation': 0.044751111418008804,\n",
       "   'collaboration: closed': 0.07773763686418533,\n",
       "   'collaboration: open': 0.04349435120820999,\n",
       "   'desking: open workstation': 0.031024377793073654,\n",
       "   'desking: private office': 0.049801651388406754,\n",
       "   'lab': 0.04049787297844887,\n",
       "   'services 2': 0.039142508059740067,\n",
       "   'services1': 0.4987942576408386,\n",
       "   'support': 0.10127229988574982}]]"
      ]
     },
     "execution_count": 47,
     "metadata": {},
     "output_type": "execute_result"
    }
   ],
   "source": [
    "res"
   ]
  },
  {
   "cell_type": "code",
   "execution_count": 43,
   "id": "weekly-collar",
   "metadata": {},
   "outputs": [],
   "source": [
    "with open(\"TextClassifier1.onnx\", \"wb\") as f:\n",
    "    f.write(onnx_model.SerializeToString())"
   ]
  },
  {
   "cell_type": "code",
   "execution_count": 42,
   "id": "likely-definition",
   "metadata": {},
   "outputs": [
    {
     "data": {
      "text/plain": [
       "[array(['services1'], dtype=object),\n",
       " [{'amenity': 0.07348394393920898,\n",
       "   'circulation': 0.044751111418008804,\n",
       "   'collaboration: closed': 0.07773763686418533,\n",
       "   'collaboration: open': 0.04349435120820999,\n",
       "   'desking: open workstation': 0.031024377793073654,\n",
       "   'desking: private office': 0.049801651388406754,\n",
       "   'lab': 0.04049787297844887,\n",
       "   'services 2': 0.039142508059740067,\n",
       "   'services1': 0.4987942576408386,\n",
       "   'support': 0.10127229988574982}]]"
      ]
     },
     "execution_count": 42,
     "metadata": {},
     "output_type": "execute_result"
    }
   ],
   "source": [
    "res"
   ]
  },
  {
   "cell_type": "code",
   "execution_count": 336,
   "id": "deadly-mills",
   "metadata": {},
   "outputs": [],
   "source": [
    "import pickle"
   ]
  },
  {
   "cell_type": "code",
   "execution_count": 337,
   "id": "respected-deficit",
   "metadata": {},
   "outputs": [],
   "source": [
    "pickle.dump(vectorizer, open('C:\\\\Users\\dmckenzie\\documents\\\\roomvectorizer.pickle', \"wb\"))"
   ]
  },
  {
   "cell_type": "code",
   "execution_count": 338,
   "id": "competitive-mechanism",
   "metadata": {},
   "outputs": [],
   "source": [
    "pickle.dump(mod, open('C:\\\\Users\\dmckenzie\\documents\\\\roommodel.pickle', \"wb\"))"
   ]
  },
  {
   "cell_type": "code",
   "execution_count": 357,
   "id": "caring-nightmare",
   "metadata": {},
   "outputs": [],
   "source": [
    "matchdf=pd.DataFrame({'A':list(y_pred[X_test.isin(list(X_train))==False]),\n",
    "              'B':list(y_test[X_test.isin(list(X_train))==False])})"
   ]
  },
  {
   "cell_type": "code",
   "execution_count": 358,
   "id": "alike-terminology",
   "metadata": {},
   "outputs": [],
   "source": [
    "matchdf['C']=(matchdf['A']==matchdf['B'])*1"
   ]
  },
  {
   "cell_type": "code",
   "execution_count": 359,
   "id": "executed-journalist",
   "metadata": {},
   "outputs": [],
   "source": [
    "matchdf['D']=1"
   ]
  },
  {
   "cell_type": "code",
   "execution_count": 360,
   "id": "compliant-weight",
   "metadata": {},
   "outputs": [],
   "source": [
    "labels=list(matchdf.groupby(['A'])['D'].sum().index)"
   ]
  },
  {
   "cell_type": "code",
   "execution_count": 361,
   "id": "requested-cache",
   "metadata": {},
   "outputs": [],
   "source": [
    "scores=list(matchdf.groupby(['A'])['C'].sum().values/matchdf.groupby(['A'])['D'].sum().values)"
   ]
  },
  {
   "cell_type": "code",
   "execution_count": 362,
   "id": "private-overhead",
   "metadata": {},
   "outputs": [
    {
     "name": "stdout",
     "output_type": "stream",
     "text": [
      "Accuracy: 0.5172413793103449\n"
     ]
    }
   ],
   "source": [
    "print('Accuracy:',matchdf['C'].sum()/matchdf['D'].sum())"
   ]
  },
  {
   "cell_type": "code",
   "execution_count": 363,
   "id": "reported-republican",
   "metadata": {},
   "outputs": [
    {
     "data": {
      "text/html": [
       "<div>\n",
       "<style scoped>\n",
       "    .dataframe tbody tr th:only-of-type {\n",
       "        vertical-align: middle;\n",
       "    }\n",
       "\n",
       "    .dataframe tbody tr th {\n",
       "        vertical-align: top;\n",
       "    }\n",
       "\n",
       "    .dataframe thead th {\n",
       "        text-align: right;\n",
       "    }\n",
       "</style>\n",
       "<table border=\"1\" class=\"dataframe\">\n",
       "  <thead>\n",
       "    <tr style=\"text-align: right;\">\n",
       "      <th></th>\n",
       "      <th>Category</th>\n",
       "      <th>Guesses</th>\n",
       "      <th>True Positive Rate</th>\n",
       "    </tr>\n",
       "  </thead>\n",
       "  <tbody>\n",
       "    <tr>\n",
       "      <th>0</th>\n",
       "      <td>collaboration: closed</td>\n",
       "      <td>5</td>\n",
       "      <td>1.000000</td>\n",
       "    </tr>\n",
       "    <tr>\n",
       "      <th>1</th>\n",
       "      <td>collaboration: open</td>\n",
       "      <td>1</td>\n",
       "      <td>1.000000</td>\n",
       "    </tr>\n",
       "    <tr>\n",
       "      <th>2</th>\n",
       "      <td>desking: open workstation</td>\n",
       "      <td>1</td>\n",
       "      <td>0.000000</td>\n",
       "    </tr>\n",
       "    <tr>\n",
       "      <th>3</th>\n",
       "      <td>desking: private office</td>\n",
       "      <td>2</td>\n",
       "      <td>0.500000</td>\n",
       "    </tr>\n",
       "    <tr>\n",
       "      <th>4</th>\n",
       "      <td>services 2</td>\n",
       "      <td>1</td>\n",
       "      <td>0.000000</td>\n",
       "    </tr>\n",
       "    <tr>\n",
       "      <th>5</th>\n",
       "      <td>services1</td>\n",
       "      <td>12</td>\n",
       "      <td>0.500000</td>\n",
       "    </tr>\n",
       "    <tr>\n",
       "      <th>6</th>\n",
       "      <td>support</td>\n",
       "      <td>7</td>\n",
       "      <td>0.285714</td>\n",
       "    </tr>\n",
       "  </tbody>\n",
       "</table>\n",
       "</div>"
      ],
      "text/plain": [
       "                    Category  Guesses  True Positive Rate\n",
       "0      collaboration: closed        5            1.000000\n",
       "1        collaboration: open        1            1.000000\n",
       "2  desking: open workstation        1            0.000000\n",
       "3    desking: private office        2            0.500000\n",
       "4                 services 2        1            0.000000\n",
       "5                  services1       12            0.500000\n",
       "6                    support        7            0.285714"
      ]
     },
     "execution_count": 363,
     "metadata": {},
     "output_type": "execute_result"
    }
   ],
   "source": [
    "pd.DataFrame({'Category':labels,'Guesses':list(matchdf.groupby(['A'])['D'].sum().values),'True Positive Rate':scores})"
   ]
  },
  {
   "cell_type": "code",
   "execution_count": 364,
   "id": "sudden-humor",
   "metadata": {},
   "outputs": [
    {
     "data": {
      "text/plain": [
       "<1073x430 sparse matrix of type '<class 'numpy.float64'>'\n",
       "\twith 2094 stored elements in Compressed Sparse Row format>"
      ]
     },
     "execution_count": 364,
     "metadata": {},
     "output_type": "execute_result"
    }
   ],
   "source": [
    "X_train2"
   ]
  },
  {
   "cell_type": "code",
   "execution_count": 370,
   "id": "otherwise-masters",
   "metadata": {},
   "outputs": [
    {
     "name": "stderr",
     "output_type": "stream",
     "text": [
      "C:\\Users\\dmckenzie\\Anaconda3\\envs\\Three Seven\\lib\\site-packages\\sklearn\\model_selection\\_split.py:672: UserWarning: The least populated class in y has only 2 members, which is less than n_splits=5.\n",
      "C:\\Users\\dmckenzie\\Anaconda3\\envs\\Three Seven\\lib\\site-packages\\sklearn\\model_selection\\_validation.py:552: FitFailedWarning: Estimator fit failed. The score on this train-test partition for these parameters will be set to nan. Details: \n",
      "Traceback (most recent call last):\n",
      "  File \"C:\\Users\\dmckenzie\\Anaconda3\\envs\\Three Seven\\lib\\site-packages\\sklearn\\model_selection\\_validation.py\", line 531, in _fit_and_score\n",
      "    estimator.fit(X_train, y_train, **fit_params)\n",
      "  File \"C:\\Users\\dmckenzie\\Anaconda3\\envs\\Three Seven\\lib\\site-packages\\sklearn\\linear_model\\_stochastic_gradient.py\", line 728, in fit\n",
      "    sample_weight=sample_weight)\n",
      "  File \"C:\\Users\\dmckenzie\\Anaconda3\\envs\\Three Seven\\lib\\site-packages\\sklearn\\linear_model\\_stochastic_gradient.py\", line 566, in _fit\n",
      "    classes, sample_weight, coef_init, intercept_init)\n",
      "  File \"C:\\Users\\dmckenzie\\Anaconda3\\envs\\Three Seven\\lib\\site-packages\\sklearn\\linear_model\\_stochastic_gradient.py\", line 529, in _partial_fit\n",
      "    \" got %d class\" % n_classes)\n",
      "ValueError: The number of classes has to be greater than one; got 1 class\n",
      "\n"
     ]
    },
    {
     "data": {
      "text/plain": [
       "<AxesSubplot:title={'center':'Classifier Validation Score As Training Data Grows'}, xlabel='Training Data Size', ylabel='Validation Score'>"
      ]
     },
     "execution_count": 370,
     "metadata": {},
     "output_type": "execute_result"
    },
    {
     "data": {
      "image/png": "[encoded data removed]",
      "text/plain": [
       "<Figure size 432x288 with 1 Axes>"
      ]
     },
     "metadata": {
      "needs_background": "light"
     },
     "output_type": "display_data"
    }
   ],
   "source": [
    "import numpy as np\n",
    "from sklearn.model_selection import learning_curve\n",
    "from sklearn.datasets import load_iris\n",
    "from sklearn.linear_model import Ridge\n",
    "\n",
    "#np.random.seed(0)\n",
    "#X, y = load_iris(return_X_y=True)\n",
    "#indices = np.arange(y.shape[0])\n",
    "#np.random.shuffle(indices)\n",
    "#X, y = X[indices], y[indices]\n",
    "\n",
    "train_sizes, train_scores, valid_scores = learning_curve(SGDClassifier(penalty='l1',loss='log',alpha=0.00001),\n",
    "                                                         X_train2, y_train, train_sizes=[10,20,30,40,50,60,70,80,90,100,\n",
    "                                                                                         110,120,130,140,150,160,170,180,190,200,\n",
    "                                                                                         210,220,230,240,250,260,270,280,290,300,\n",
    "                                                                                         310,320,330,340,350,360,370,380,390,400,\n",
    "                                                                                        410,420,430],cv=5)\n",
    "pd.DataFrame({'Mean':list(pd.DataFrame(valid_scores.transpose()).median()),\n",
    "             '75th Precentile ':list(pd.DataFrame(valid_scores.transpose()).quantile(0.75)),\n",
    "             '25th Precentile':list(pd.DataFrame(valid_scores.transpose()).quantile(0.25))},\n",
    "             index=train_sizes).plot(color = ['orange', 'c','c'],\n",
    "                                    xlabel='Training Data Size',ylabel='Validation Score',\n",
    "                                     grid=True,title='Classifier Validation Score As Training Data Grows')"
   ]
  },
  {
   "cell_type": "code",
   "execution_count": 180,
   "id": "lovely-wagner",
   "metadata": {},
   "outputs": [
    {
     "data": {
      "text/plain": [
       "<AxesSubplot:>"
      ]
     },
     "execution_count": 180,
     "metadata": {},
     "output_type": "execute_result"
    },
    {
     "data": {
      "image/png": "[encoded data removed]",
      "text/plain": [
       "<Figure size 432x288 with 1 Axes>"
      ]
     },
     "metadata": {
      "needs_background": "light"
     },
     "output_type": "display_data"
    }
   ],
   "source": [
    "pd.DataFrame(valid_scores.transpose()).mean().plot()"
   ]
  },
  {
   "cell_type": "code",
   "execution_count": 159,
   "id": "experienced-slide",
   "metadata": {},
   "outputs": [
    {
     "data": {
      "text/plain": [
       "<AxesSubplot:>"
      ]
     },
     "execution_count": 159,
     "metadata": {},
     "output_type": "execute_result"
    },
    {
     "data": {
      "image/png": "[encoded data removed]",
      "text/plain": [
       "<Figure size 432x288 with 1 Axes>"
      ]
     },
     "metadata": {
      "needs_background": "light"
     },
     "output_type": "display_data"
    }
   ],
   "source": [
    "pd.DataFrame(pd.DataFrame(valid_scores.transpose())).plot()"
   ]
  }
 ],
 "metadata": {
  "kernelspec": {
   "display_name": "Python 3 (ipykernel)",
   "language": "python",
   "name": "python3"
  },
  "language_info": {
   "codemirror_mode": {
    "name": "ipython",
    "version": 3
   },
   "file_extension": ".py",
   "mimetype": "text/x-python",
   "name": "python",
   "nbconvert_exporter": "python",
   "pygments_lexer": "ipython3",
   "version": "3.7.10"
  }
 },
 "nbformat": 4,
 "nbformat_minor": 5
}
