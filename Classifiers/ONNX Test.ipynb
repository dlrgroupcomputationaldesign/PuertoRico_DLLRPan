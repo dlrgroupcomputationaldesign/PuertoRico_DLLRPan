{
 "cells": [
  {
   "cell_type": "code",
   "execution_count": 5,
   "metadata": {},
   "outputs": [],
   "source": [
    "from sklearn.datasets import load_iris\n",
    "from sklearn.model_selection import train_test_split\n",
    "from sklearn.ensemble import RandomForestClassifier\n",
    "iris = load_iris()\n",
    "X, y = iris.data, iris.target\n",
    "X_train, X_test, y_train, y_test = train_test_split(X, y)\n",
    "clr = RandomForestClassifier()\n",
    "clr.fit(X_train, y_train)\n",
    "\n",
    "# Convert into ONNX format\n",
    "from skl2onnx import convert_sklearn\n",
    "from skl2onnx.common.data_types import FloatTensorType\n",
    "initial_type = [('float_input', FloatTensorType([None, 4]))]\n",
    "onx = convert_sklearn(clr, initial_types=initial_type)\n",
    "with open(\"rf_iris.onnx\", \"wb\") as f:\n",
    "    f.write(onx.SerializeToString())\n",
    "\n",
    "# Compute the prediction with ONNX Runtime\n",
    "import onnxruntime as rt\n",
    "import numpy\n",
    "sess = rt.InferenceSession(\"rf_iris.onnx\")\n",
    "input_name = sess.get_inputs()[0].name\n",
    "label_name = sess.get_outputs()[0].name\n",
    "pred_onx = sess.run([label_name], {input_name: X_test.astype(numpy.float32)})[0]"
   ]
  },
  {
   "cell_type": "code",
   "execution_count": 6,
   "metadata": {},
   "outputs": [
    {
     "name": "stdout",
     "output_type": "stream",
     "text": [
      "[0 1 1 0 2 1 0 1 2 0 0 0 0 2 1 0 0 2 2 0 0 1 0 0 0 1 2 2 1 2 0 0 2 1 1 2 2\n",
      " 0]\n"
     ]
    }
   ],
   "source": [
    "print(pred_onx)"
   ]
  },
  {
   "cell_type": "code",
   "execution_count": 4,
   "metadata": {},
   "outputs": [
    {
     "name": "stdout",
     "output_type": "stream",
     "text": [
      "Collecting onnxruntime\n",
      "  Downloading onnxruntime-1.6.0-cp38-cp38-win_amd64.whl (4.2 MB)\n",
      "Requirement already satisfied: protobuf in c:\\users\\dmckenzie\\anaconda3\\lib\\site-packages (from onnxruntime) (3.15.2)\n",
      "Requirement already satisfied: numpy>=1.16.6 in c:\\users\\dmckenzie\\anaconda3\\lib\\site-packages (from onnxruntime) (1.19.2)\n",
      "Requirement already satisfied: six>=1.9 in c:\\users\\dmckenzie\\anaconda3\\lib\\site-packages (from protobuf->onnxruntime) (1.15.0)\n",
      "Installing collected packages: onnxruntime\n",
      "Successfully installed onnxruntime-1.6.0\n"
     ]
    }
   ],
   "source": [
    "!pip install onnxruntime"
   ]
  },
  {
   "cell_type": "code",
   "execution_count": 2,
   "metadata": {},
   "outputs": [
    {
     "name": "stdout",
     "output_type": "stream",
     "text": [
      "Collecting skl2onnx\n",
      "  Downloading skl2onnx-1.7.0-py2.py3-none-any.whl (191 kB)\n",
      "Requirement already satisfied: numpy>=1.15 in c:\\users\\dmckenzie\\anaconda3\\lib\\site-packages (from skl2onnx) (1.19.2)\n",
      "Collecting onnx>=1.2.1\n",
      "  Downloading onnx-1.8.1-cp38-cp38-win_amd64.whl (6.9 MB)\n",
      "Collecting onnxconverter-common>=1.5.1\n",
      "  Downloading onnxconverter_common-1.7.0-py2.py3-none-any.whl (64 kB)\n",
      "Collecting protobuf\n",
      "  Downloading protobuf-3.15.2-py2.py3-none-any.whl (173 kB)\n",
      "Requirement already satisfied: scipy>=1.0 in c:\\users\\dmckenzie\\anaconda3\\lib\\site-packages (from skl2onnx) (1.5.2)\n",
      "Requirement already satisfied: six in c:\\users\\dmckenzie\\anaconda3\\lib\\site-packages (from skl2onnx) (1.15.0)\n",
      "Requirement already satisfied: scikit-learn>=0.19 in c:\\users\\dmckenzie\\anaconda3\\lib\\site-packages (from skl2onnx) (0.23.2)\n",
      "Requirement already satisfied: typing-extensions>=3.6.2.1 in c:\\users\\dmckenzie\\anaconda3\\lib\\site-packages (from onnx>=1.2.1->skl2onnx) (3.7.4.3)\n",
      "Requirement already satisfied: joblib>=0.11 in c:\\users\\dmckenzie\\anaconda3\\lib\\site-packages (from scikit-learn>=0.19->skl2onnx) (0.17.0)\n",
      "Requirement already satisfied: threadpoolctl>=2.0.0 in c:\\users\\dmckenzie\\anaconda3\\lib\\site-packages (from scikit-learn>=0.19->skl2onnx) (2.1.0)\n",
      "Installing collected packages: protobuf, onnx, onnxconverter-common, skl2onnx\n",
      "Successfully installed onnx-1.8.1 onnxconverter-common-1.7.0 protobuf-3.15.2 skl2onnx-1.7.0\n"
     ]
    }
   ],
   "source": [
    "!pip install skl2onnx"
   ]
  }
 ],
 "metadata": {
  "kernelspec": {
   "display_name": "Python 3",
   "language": "python",
   "name": "python3"
  },
  "language_info": {
   "codemirror_mode": {
    "name": "ipython",
    "version": 3
   },
   "file_extension": ".py",
   "mimetype": "text/x-python",
   "name": "python",
   "nbconvert_exporter": "python",
   "pygments_lexer": "ipython3",
   "version": "3.8.5"
  }
 },
 "nbformat": 4,
 "nbformat_minor": 4
}
