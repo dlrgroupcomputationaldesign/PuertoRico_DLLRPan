{
 "cells": [
  {
   "cell_type": "code",
   "execution_count": 64,
   "id": "brief-vegetarian",
   "metadata": {},
   "outputs": [],
   "source": [
    "import numpy as np\n",
    "from skl2onnx import convert_sklearn\n",
    "from skl2onnx.common.data_types import StringTensorType\n",
    "from onnxmltools import save_model\n",
    "from onnxruntime import InferenceSession\n",
    "sess = InferenceSession(\"RoomClass.onnx\")\n",
    "label_name = sess.get_outputs()[0].name\n",
    "input_name = sess.get_inputs()[0].name\n",
    "\n",
    "res = sess.run(None, input_feed={'input': np.array([['art']])})"
   ]
  },
  {
   "cell_type": "code",
   "execution_count": 67,
   "id": "connected-funeral",
   "metadata": {},
   "outputs": [
    {
     "data": {
      "text/plain": [
       "'art exist'"
      ]
     },
     "execution_count": 67,
     "metadata": {},
     "output_type": "execute_result"
    }
   ],
   "source": [
    "res[0][0]"
   ]
  }
 ],
 "metadata": {
  "kernelspec": {
   "display_name": "Python 3",
   "language": "python",
   "name": "python3"
  },
  "language_info": {
   "codemirror_mode": {
    "name": "ipython",
    "version": 3
   },
   "file_extension": ".py",
   "mimetype": "text/x-python",
   "name": "python",
   "nbconvert_exporter": "python",
   "pygments_lexer": "ipython3",
   "version": "3.7.9"
  }
 },
 "nbformat": 4,
 "nbformat_minor": 5
}
