{
 "cells": [
  {
   "cell_type": "code",
   "execution_count": 1,
   "id": "unlimited-secretariat",
   "metadata": {},
   "outputs": [],
   "source": [
    "from nltk.corpus import wordnet as wn\n",
    "from nltk.stem.wordnet import WordNetLemmatizer\n",
    "from nltk import pos_tag\n",
    "from collections import defaultdict\n",
    "import pyodbc \n",
    "import pandas as pd\n",
    "import numpy as np\n",
    "import umap\n",
    "from sklearn import cluster"
   ]
  },
  {
   "cell_type": "code",
   "execution_count": 2,
   "id": "champion-commercial",
   "metadata": {},
   "outputs": [],
   "source": [
    "conn = pyodbc.connect('Driver={SQL Server};'\n",
    "                      'Server=DLRBIMSQL;'\n",
    "                      'Database=ClarityIndex;'\n",
    "                      'Trusted_Connection=yes;')\n",
    "cursor = conn.cursor()"
   ]
  },
  {
   "cell_type": "code",
   "execution_count": 60,
   "id": "quality-bedroom",
   "metadata": {},
   "outputs": [],
   "source": [
    "query = \"\"\" SELECT  RoomId,RoomName\n",
    "FROM [ClarityIndex].[dbo].[PQ_RoomContents] PQRC\n",
    "group by RoomId,RoomName  \"\"\""
   ]
  },
  {
   "cell_type": "code",
   "execution_count": 61,
   "id": "individual-birthday",
   "metadata": {},
   "outputs": [],
   "source": [
    "RNS = pd.read_sql_query(query,conn)"
   ]
  },
  {
   "cell_type": "code",
   "execution_count": 63,
   "id": "romance-jonathan",
   "metadata": {},
   "outputs": [],
   "source": [
    "import nltk\n",
    "def tokenlenfilter(tokenlist,minlen=2):\n",
    "    tokens = [x for x in tokenlist if len(x)>minlen]\n",
    "    return (tokens)\n",
    "\n",
    "def get_ngrams(series: pd.Series,n:int):\n",
    "    ngrams = series.copy().str.split(' ').explode()\n",
    "    ngrams1 = series.copy().str.split(' ').explode()\n",
    "    for i in range(1,n):\n",
    "        foo=ngrams1.groupby(level=0).shift(-i)\n",
    "        ngrams=ngrams.str.cat(foo,sep=' ')\n",
    "    ngrams = ngrams.dropna()\n",
    "    return pd.DataFrame(ngrams)"
   ]
  },
  {
   "cell_type": "code",
   "execution_count": 64,
   "id": "vocal-accident",
   "metadata": {},
   "outputs": [
    {
     "name": "stderr",
     "output_type": "stream",
     "text": [
      "C:\\Users\\dmckenzie\\Anaconda3\\envs\\Three Seven\\lib\\site-packages\\ipykernel_launcher.py:1: FutureWarning:\n",
      "\n",
      "The default value of regex will change from True to False in a future version.\n",
      "\n"
     ]
    }
   ],
   "source": [
    "RNS['Name2']=RNS['RoomName'].str.lower().str.replace('\\d+','').str.replace('\\+','').replace('[^\\w\\s]',' ').\\\n",
    "    str.lstrip().str.rstrip('-').str.rstrip()\n",
    "RNS['Name2']=RNS['Name2'].str.replace('\\.','').str.replace('\\\\',' ').str.replace('-',' ').str.replace('/',' ').str.replace(\"''\",'')\n",
    "uncommontokens=list(get_ngrams(RNS['Name2'],1)['Name2'].value_counts()[get_ngrams(RNS['Name2'],1)['Name2'].value_counts()<3].index.values)"
   ]
  },
  {
   "cell_type": "code",
   "execution_count": 67,
   "id": "available-cricket",
   "metadata": {},
   "outputs": [],
   "source": [
    "def tokennamefilter(tokenlist,minlen=2):\n",
    "    tokens = [x for x in tokenlist if x not in uncommontokens+['rm','room','men','women','mens','inmate','female','male',\n",
    "                                                               'ada','accessible',\n",
    "                                                               'womens','girl','boy','boys','girls',\n",
    "                                                              'east','west','north','south','space','area','zone',\n",
    "                                                              'small','medium','large','xlarge']]\n",
    "    return (tokens)\n"
   ]
  },
  {
   "cell_type": "code",
   "execution_count": 71,
   "id": "artistic-destiny",
   "metadata": {},
   "outputs": [],
   "source": [
    "RNS['NameFilter']=RNS['Name2'].apply(nltk.word_tokenize).\\\n",
    "    apply(tokenlenfilter).\\\n",
    "    apply(tokennamefilter)\n",
    "for i  in RNS['NameFilter']:\n",
    "    if len(i)<3:\n",
    "        i.sort()\n",
    "RNS['NameFilter']=RNS['NameFilter'].apply(' '.join).str.lstrip()        "
   ]
  },
  {
   "cell_type": "code",
   "execution_count": 95,
   "id": "sunrise-event",
   "metadata": {},
   "outputs": [],
   "source": [
    "from gensim.models import Word2Vec"
   ]
  },
  {
   "cell_type": "code",
   "execution_count": 96,
   "id": "silver-present",
   "metadata": {},
   "outputs": [],
   "source": [
    "listforw2v=list(RNS[RNS['NameFilter']!=''].\\\n",
    "                    drop_duplicates(subset=['NameFilter'])['NameFilter'].\\\n",
    "                    apply(nltk.word_tokenize))"
   ]
  },
  {
   "cell_type": "code",
   "execution_count": 98,
   "id": "regular-loading",
   "metadata": {},
   "outputs": [
    {
     "name": "stderr",
     "output_type": "stream",
     "text": [
      "WARNING:gensim.models.base_any2vec:under 10 jobs per worker: consider setting a smaller `batch_words' for smoother alpha decay\n"
     ]
    }
   ],
   "source": [
    "model = Word2Vec(listforw2v, min_count=1)"
   ]
  },
  {
   "cell_type": "code",
   "execution_count": 99,
   "id": "falling-technology",
   "metadata": {},
   "outputs": [],
   "source": [
    "import itertools\n",
    "\n",
    "def word2vecscore(topwords,mod):\n",
    "    words2score=list(itertools.combinations(topwords,2))\n",
    "    scores=[]\n",
    "    for i in words2score:\n",
    "        score=mod.wv.similarity(i[0],i[1])\n",
    "        scores.append(score)\n",
    "    \n",
    "    coherence=np.median(scores)\n",
    "    return coherence   \n"
   ]
  },
  {
   "cell_type": "code",
   "execution_count": 101,
   "id": "headed-proposal",
   "metadata": {},
   "outputs": [
    {
     "data": {
      "text/plain": [
       "0.18516116"
      ]
     },
     "execution_count": 101,
     "metadata": {},
     "output_type": "execute_result"
    }
   ],
   "source": [
    "model.wv.similarity('cell','cells')"
   ]
  }
 ],
 "metadata": {
  "kernelspec": {
   "display_name": "Python 3",
   "language": "python",
   "name": "python3"
  },
  "language_info": {
   "codemirror_mode": {
    "name": "ipython",
    "version": 3
   },
   "file_extension": ".py",
   "mimetype": "text/x-python",
   "name": "python",
   "nbconvert_exporter": "python",
   "pygments_lexer": "ipython3",
   "version": "3.7.9"
  }
 },
 "nbformat": 4,
 "nbformat_minor": 5
}
