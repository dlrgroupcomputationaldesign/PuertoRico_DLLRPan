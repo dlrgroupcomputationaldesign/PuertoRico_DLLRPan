{
 "cells": [
  {
   "cell_type": "code",
   "execution_count": 2,
   "id": "realistic-procedure",
   "metadata": {},
   "outputs": [
    {
     "name": "stdout",
     "output_type": "stream",
     "text": [
      "guru99 => guru99\n",
      "is => be\n",
      "a => a\n",
      "totally => totally\n",
      "new => new\n",
      "kind => kind\n",
      "of => of\n",
      "learning => learn\n",
      "experience => experience\n",
      ". => .\n"
     ]
    }
   ],
   "source": [
    "from nltk.corpus import wordnet as wn\n",
    "from nltk.stem.wordnet import WordNetLemmatizer\n",
    "from nltk import word_tokenize, pos_tag\n",
    "from collections import defaultdict\n",
    "\n",
    "tag_map = defaultdict(lambda : wn.NOUN)\n",
    "tag_map['J'] = wn.ADJ\n",
    "tag_map['V'] = wn.VERB\n",
    "tag_map['R'] = wn.ADV\n",
    "\n",
    "text = \"guru99 is a totally new kind of learning experience.\"\n",
    "tokens = word_tokenize(text)\n",
    "lemma_function = WordNetLemmatizer()\n",
    "\n",
    "for token, tag in pos_tag(tokens):\n",
    "        lemma = lemma_function.lemmatize(token, tag_map[tag[0]])\n",
    "        print(token, \"=>\", lemma)"
   ]
  },
  {
   "cell_type": "code",
   "execution_count": 18,
   "id": "assisted-backup",
   "metadata": {},
   "outputs": [],
   "source": [
    "text = \"guru99 is a totally new kind of learning experience.\""
   ]
  },
  {
   "cell_type": "code",
   "execution_count": null,
   "id": "dated-hardware",
   "metadata": {},
   "outputs": [],
   "source": []
  },
  {
   "cell_type": "code",
   "execution_count": 34,
   "id": "accomplished-situation",
   "metadata": {},
   "outputs": [],
   "source": [
    "def lemmer(text):\n",
    "    from nltk.corpus import wordnet as wn\n",
    "    from nltk.stem.wordnet import WordNetLemmatizer\n",
    "    from nltk import pos_tag\n",
    "    from collections import defaultdict\n",
    "    lemma_function = WordNetLemmatizer()\n",
    "\n",
    "    tag_map = defaultdict(lambda : wn.NOUN)\n",
    "    tag_map['J'] = wn.ADJ\n",
    "    tag_map['V'] = wn.VERB\n",
    "    tag_map['R'] = wn.ADV\n",
    "\n",
    "    return [lemma_function.lemmatize(token, tag_map[tag[0]]) for token, tag in pos_tag(text)]"
   ]
  },
  {
   "cell_type": "code",
   "execution_count": 35,
   "id": "given-bradford",
   "metadata": {},
   "outputs": [
    {
     "data": {
      "text/plain": [
       "0    [guru99, be, a, totally, new, kind, of, learn,...\n",
       "1                                   [way, go, in, hey]\n",
       "dtype: object"
      ]
     },
     "execution_count": 35,
     "metadata": {},
     "output_type": "execute_result"
    }
   ],
   "source": [
    "pd.Series(['guru99 is a totally new kind of learning experience.','way go in hey']).apply(word_tokenize).apply(lemmer)"
   ]
  },
  {
   "cell_type": "code",
   "execution_count": 30,
   "id": "interpreted-hughes",
   "metadata": {},
   "outputs": [
    {
     "data": {
      "text/plain": [
       "0    [guru99, be, a, totally, new, kind, of, learn,...\n",
       "1                                   [way, go, in, hey]\n",
       "dtype: object"
      ]
     },
     "execution_count": 30,
     "metadata": {},
     "output_type": "execute_result"
    }
   ],
   "source": [
    "pd.Series(['guru99 is a totally new kind of learning experience.','way go in hey']).apply(lemmer)"
   ]
  },
  {
   "cell_type": "code",
   "execution_count": 24,
   "id": "thousand-climate",
   "metadata": {},
   "outputs": [
    {
     "data": {
      "text/plain": [
       "['guru99',\n",
       " 'be',\n",
       " 'a',\n",
       " 'totally',\n",
       " 'new',\n",
       " 'kind',\n",
       " 'of',\n",
       " 'learn',\n",
       " 'experience',\n",
       " '.']"
      ]
     },
     "execution_count": 24,
     "metadata": {},
     "output_type": "execute_result"
    }
   ],
   "source": [
    "text = \"guru99 is a totally new kind of learning experience.\"\n",
    "\n",
    "lemmer(text)"
   ]
  },
  {
   "cell_type": "code",
   "execution_count": null,
   "id": "vanilla-steal",
   "metadata": {},
   "outputs": [],
   "source": [
    "[lemma_function.lemmatize(token, tag_map[tag[0]]) for token, tag in pos_tag(tokens)]"
   ]
  },
  {
   "cell_type": "code",
   "execution_count": 41,
   "id": "impaired-pennsylvania",
   "metadata": {},
   "outputs": [
    {
     "data": {
      "text/plain": [
       "['guru99', 'kind', 'experience']"
      ]
     },
     "execution_count": 41,
     "metadata": {},
     "output_type": "execute_result"
    }
   ],
   "source": [
    "[i for i,j in pos_tag(tokens) if j=='NN']"
   ]
  },
  {
   "cell_type": "code",
   "execution_count": 46,
   "id": "intellectual-scholar",
   "metadata": {},
   "outputs": [
    {
     "data": {
      "text/plain": [
       "['n', 'v', 'n', 'r', 'a', 'n', 'n', 'v', 'n', 'n']"
      ]
     },
     "execution_count": 46,
     "metadata": {},
     "output_type": "execute_result"
    }
   ],
   "source": [
    "[tag_map[j[0]] for i,j in pos_tag(tokens)]"
   ]
  },
  {
   "cell_type": "code",
   "execution_count": 45,
   "id": "moral-olympus",
   "metadata": {},
   "outputs": [
    {
     "data": {
      "text/plain": [
       "defaultdict(<function __main__.<lambda>()>,\n",
       "            {'J': 'a',\n",
       "             'V': 'v',\n",
       "             'R': 'r',\n",
       "             'N': 'n',\n",
       "             'D': 'n',\n",
       "             'I': 'n',\n",
       "             '.': 'n'})"
      ]
     },
     "execution_count": 45,
     "metadata": {},
     "output_type": "execute_result"
    }
   ],
   "source": [
    "tag_map[]"
   ]
  },
  {
   "cell_type": "code",
   "execution_count": 50,
   "id": "eleven-aside",
   "metadata": {},
   "outputs": [],
   "source": [
    "def posfilter(tokens):\n",
    "    from nltk.corpus import wordnet as wn\n",
    "    from nltk import pos_tag\n",
    "    from collections import defaultdict\n",
    "   \n",
    "    tag_map = defaultdict(lambda : wn.NOUN)\n",
    "    tag_map['J'] = wn.ADJ\n",
    "    tag_map['V'] = wn.VERB\n",
    "    tag_map['R'] = wn.ADV\n",
    "    \n",
    "    return [i for i,j in pos_tag(tokens) if tag_map[j[0]]=='n']"
   ]
  },
  {
   "cell_type": "code",
   "execution_count": 51,
   "id": "pointed-university",
   "metadata": {},
   "outputs": [
    {
     "data": {
      "text/plain": [
       "0    [guru99, a, kind, of, experience, .]\n",
       "1                          [way, in, hey]\n",
       "dtype: object"
      ]
     },
     "execution_count": 51,
     "metadata": {},
     "output_type": "execute_result"
    }
   ],
   "source": [
    "pd.Series(['guru99 is a totally new kind of learning experience.',\n",
    "           'way go in hey']).apply(word_tokenize).apply(posfilter)"
   ]
  },
  {
   "cell_type": "code",
   "execution_count": 48,
   "id": "secret-holocaust",
   "metadata": {},
   "outputs": [
    {
     "data": {
      "text/plain": [
       "['guru99', 'a', 'kind', 'of', 'experience', '.']"
      ]
     },
     "execution_count": 48,
     "metadata": {},
     "output_type": "execute_result"
    }
   ],
   "source": [
    "[i for i,j in pos_tag(tokens) if tag_map[j[0]]=='n']"
   ]
  },
  {
   "cell_type": "code",
   "execution_count": 15,
   "id": "adolescent-partner",
   "metadata": {},
   "outputs": [
    {
     "data": {
      "text/plain": [
       "['guru99',\n",
       " 'be',\n",
       " 'a',\n",
       " 'totally',\n",
       " 'new',\n",
       " 'kind',\n",
       " 'of',\n",
       " 'learn',\n",
       " 'experience',\n",
       " '.']"
      ]
     },
     "execution_count": 15,
     "metadata": {},
     "output_type": "execute_result"
    }
   ],
   "source": [
    "[lemma_function.lemmatize(token, tag_map[tag[0]]) for token, tag in pos_tag(tokens)]"
   ]
  },
  {
   "cell_type": "code",
   "execution_count": 10,
   "id": "handmade-volunteer",
   "metadata": {},
   "outputs": [
    {
     "name": "stdout",
     "output_type": "stream",
     "text": [
      "guru99\n",
      "be\n",
      "a\n",
      "totally\n",
      "new\n",
      "kind\n",
      "of\n",
      "learn\n",
      "experience\n",
      ".\n"
     ]
    }
   ],
   "source": [
    "for token, tag in pos_tag(tokens):\n",
    "        lemma = lemma_function.lemmatize(token, tag_map[tag[0]])\n",
    "        print(lemma)"
   ]
  },
  {
   "cell_type": "code",
   "execution_count": 12,
   "id": "center-companion",
   "metadata": {},
   "outputs": [
    {
     "name": "stdout",
     "output_type": "stream",
     "text": [
      "guru99\n",
      "is\n",
      "a\n",
      "totally\n",
      "new\n",
      "kind\n",
      "of\n",
      "learning\n",
      "experience\n",
      ".\n"
     ]
    }
   ],
   "source": [
    "for token in tokens:\n",
    "        lemma = lemma_function.lemmatize(token)\n",
    "        print(lemma)"
   ]
  },
  {
   "cell_type": "code",
   "execution_count": null,
   "id": "twenty-evanescence",
   "metadata": {},
   "outputs": [],
   "source": [
    "def betterlemma(tokens):\n",
    "    for token in tokens:\n",
    "            lemma = lemma_function.lemmatize(token)\n",
    "            (lemma)"
   ]
  },
  {
   "cell_type": "code",
   "execution_count": 5,
   "id": "virgin-upper",
   "metadata": {},
   "outputs": [
    {
     "data": {
      "text/plain": [
       "[('guru99', 'NN'),\n",
       " ('is', 'VBZ'),\n",
       " ('a', 'DT'),\n",
       " ('totally', 'RB'),\n",
       " ('new', 'JJ'),\n",
       " ('kind', 'NN'),\n",
       " ('of', 'IN'),\n",
       " ('learning', 'VBG'),\n",
       " ('experience', 'NN'),\n",
       " ('.', '.')]"
      ]
     },
     "execution_count": 5,
     "metadata": {},
     "output_type": "execute_result"
    }
   ],
   "source": [
    "pos_tag(tokens)"
   ]
  }
 ],
 "metadata": {
  "kernelspec": {
   "display_name": "Python 3",
   "language": "python",
   "name": "python3"
  },
  "language_info": {
   "codemirror_mode": {
    "name": "ipython",
    "version": 3
   },
   "file_extension": ".py",
   "mimetype": "text/x-python",
   "name": "python",
   "nbconvert_exporter": "python",
   "pygments_lexer": "ipython3",
   "version": "3.7.9"
  }
 },
 "nbformat": 4,
 "nbformat_minor": 5
}
