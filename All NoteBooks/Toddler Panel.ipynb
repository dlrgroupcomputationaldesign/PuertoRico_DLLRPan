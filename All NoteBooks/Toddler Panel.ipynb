{
 "cells": [
  {
   "cell_type": "code",
   "execution_count": 10,
   "id": "ab766bc3",
   "metadata": {},
   "outputs": [],
   "source": [
    "import panel as pn\n",
    "import hvplot.pandas\n",
    "\n",
    "from sklearn.cluster import KMeans\n",
    "from bokeh.sampledata import iris\n",
    "pn.extension(sizing_mode=\"stretch_width\")\n",
    "import param"
   ]
  },
  {
   "cell_type": "code",
   "execution_count": 4,
   "id": "69c4e362",
   "metadata": {},
   "outputs": [
    {
     "data": {
      "text/html": [
       "<div>\n",
       "<style scoped>\n",
       "    .dataframe tbody tr th:only-of-type {\n",
       "        vertical-align: middle;\n",
       "    }\n",
       "\n",
       "    .dataframe tbody tr th {\n",
       "        vertical-align: top;\n",
       "    }\n",
       "\n",
       "    .dataframe thead th {\n",
       "        text-align: right;\n",
       "    }\n",
       "</style>\n",
       "<table border=\"1\" class=\"dataframe\">\n",
       "  <thead>\n",
       "    <tr style=\"text-align: right;\">\n",
       "      <th></th>\n",
       "      <th>sepal_length</th>\n",
       "      <th>sepal_width</th>\n",
       "      <th>petal_length</th>\n",
       "      <th>petal_width</th>\n",
       "      <th>species</th>\n",
       "    </tr>\n",
       "  </thead>\n",
       "  <tbody>\n",
       "    <tr>\n",
       "      <th>0</th>\n",
       "      <td>5.1</td>\n",
       "      <td>3.5</td>\n",
       "      <td>1.4</td>\n",
       "      <td>0.2</td>\n",
       "      <td>setosa</td>\n",
       "    </tr>\n",
       "    <tr>\n",
       "      <th>1</th>\n",
       "      <td>4.9</td>\n",
       "      <td>3.0</td>\n",
       "      <td>1.4</td>\n",
       "      <td>0.2</td>\n",
       "      <td>setosa</td>\n",
       "    </tr>\n",
       "    <tr>\n",
       "      <th>2</th>\n",
       "      <td>4.7</td>\n",
       "      <td>3.2</td>\n",
       "      <td>1.3</td>\n",
       "      <td>0.2</td>\n",
       "      <td>setosa</td>\n",
       "    </tr>\n",
       "    <tr>\n",
       "      <th>3</th>\n",
       "      <td>4.6</td>\n",
       "      <td>3.1</td>\n",
       "      <td>1.5</td>\n",
       "      <td>0.2</td>\n",
       "      <td>setosa</td>\n",
       "    </tr>\n",
       "    <tr>\n",
       "      <th>4</th>\n",
       "      <td>5.0</td>\n",
       "      <td>3.6</td>\n",
       "      <td>1.4</td>\n",
       "      <td>0.2</td>\n",
       "      <td>setosa</td>\n",
       "    </tr>\n",
       "  </tbody>\n",
       "</table>\n",
       "</div>"
      ],
      "text/plain": [
       "   sepal_length  sepal_width  petal_length  petal_width species\n",
       "0           5.1          3.5           1.4          0.2  setosa\n",
       "1           4.9          3.0           1.4          0.2  setosa\n",
       "2           4.7          3.2           1.3          0.2  setosa\n",
       "3           4.6          3.1           1.5          0.2  setosa\n",
       "4           5.0          3.6           1.4          0.2  setosa"
      ]
     },
     "execution_count": 4,
     "metadata": {},
     "output_type": "execute_result"
    }
   ],
   "source": [
    "iris.flowers.head()"
   ]
  },
  {
   "cell_type": "code",
   "execution_count": 11,
   "id": "70a860f0",
   "metadata": {},
   "outputs": [],
   "source": [
    "FlowerFilter = param.ObjectSelector(default='setosa',\n",
    "                                  objects=list(iris.flowers.species.unique()))"
   ]
  },
  {
   "cell_type": "code",
   "execution_count": 14,
   "id": "239834fb",
   "metadata": {},
   "outputs": [
    {
     "data": {
      "text/plain": [
       "<param.ObjectSelector at 0x1ed1fc76348>"
      ]
     },
     "execution_count": 14,
     "metadata": {},
     "output_type": "execute_result"
    }
   ],
   "source": [
    "FlowerFilter"
   ]
  },
  {
   "cell_type": "code",
   "execution_count": 13,
   "id": "0265c899",
   "metadata": {},
   "outputs": [
    {
     "data": {
      "text/html": [
       "<div>\n",
       "<style scoped>\n",
       "    .dataframe tbody tr th:only-of-type {\n",
       "        vertical-align: middle;\n",
       "    }\n",
       "\n",
       "    .dataframe tbody tr th {\n",
       "        vertical-align: top;\n",
       "    }\n",
       "\n",
       "    .dataframe thead th {\n",
       "        text-align: right;\n",
       "    }\n",
       "</style>\n",
       "<table border=\"1\" class=\"dataframe\">\n",
       "  <thead>\n",
       "    <tr style=\"text-align: right;\">\n",
       "      <th></th>\n",
       "      <th>sepal_length</th>\n",
       "      <th>sepal_width</th>\n",
       "      <th>petal_length</th>\n",
       "      <th>petal_width</th>\n",
       "      <th>species</th>\n",
       "    </tr>\n",
       "  </thead>\n",
       "  <tbody>\n",
       "  </tbody>\n",
       "</table>\n",
       "</div>"
      ],
      "text/plain": [
       "Empty DataFrame\n",
       "Columns: [sepal_length, sepal_width, petal_length, petal_width, species]\n",
       "Index: []"
      ]
     },
     "execution_count": 13,
     "metadata": {},
     "output_type": "execute_result"
    }
   ],
   "source": [
    "iris.flowers[iris.flowers.species==self.FlowerFilter]"
   ]
  },
  {
   "cell_type": "code",
   "execution_count": 7,
   "id": "2213c21a",
   "metadata": {},
   "outputs": [
    {
     "data": {
      "text/plain": [
       "['setosa', 'versicolor', 'virginica']"
      ]
     },
     "execution_count": 7,
     "metadata": {},
     "output_type": "execute_result"
    }
   ],
   "source": [
    "list(iris.flowers.species.unique())"
   ]
  },
  {
   "cell_type": "code",
   "execution_count": 15,
   "id": "dc0c8b86",
   "metadata": {},
   "outputs": [],
   "source": [
    "class RatingsDashboard(param.Parameterized):\n",
    "    \n",
    "    FlowerFilter = param.ObjectSelector(default='setosa',\n",
    "                                  objects=list(iris.flowers.species.unique()))\n",
    "    \n",
    "    def get_data(self):\n",
    "        class_df=iris.flowers[iris.flowers.species==self.FlowerFilter].copy()\n",
    "        return class_df    \n",
    "    \n",
    "    def table_view(self):\n",
    "        data=self.get_data()\n",
    "        return data.head()"
   ]
  },
  {
   "cell_type": "code",
   "execution_count": 23,
   "id": "f78b4470",
   "metadata": {},
   "outputs": [],
   "source": [
    "rd=RatingsDashboard(name='')"
   ]
  },
  {
   "cell_type": "code",
   "execution_count": 25,
   "id": "d2a5a040",
   "metadata": {},
   "outputs": [],
   "source": [
    "dashboard_title='Map'\n",
    "dashboard_desc='look at it'\n",
    "\n",
    "dashboard=pn.Column(dashboard_title,dashboard_desc,rd.param,rd.table_view)"
   ]
  },
  {
   "cell_type": "code",
   "execution_count": 26,
   "id": "302dd226",
   "metadata": {},
   "outputs": [
    {
     "data": {},
     "metadata": {},
     "output_type": "display_data"
    },
    {
     "data": {
      "application/vnd.holoviews_exec.v0+json": "",
      "text/html": [
       "<div id='1026'>\n",
       "\n",
       "\n",
       "\n",
       "\n",
       "\n",
       "  <div class=\"bk-root\" id=\"a18073f9-9181-40e9-8b76-9ade2b5bca6e\" data-root-id=\"1026\"></div>\n",
       "</div>\n",
       "<script type=\"application/javascript\">(function(root) {\n",
       "  function embed_document(root) {\n",
       "    var docs_json = {\"9b44c973-2574-4f46-973b-abe541a4c257\":{\"defs\":[{\"extends\":null,\"module\":null,\"name\":\"ReactiveHTML1\",\"overrides\":[],\"properties\":[]},{\"extends\":null,\"module\":null,\"name\":\"FlexBox1\",\"overrides\":[],\"properties\":[{\"default\":\"flex-start\",\"kind\":null,\"name\":\"align_content\"},{\"default\":\"flex-start\",\"kind\":null,\"name\":\"align_items\"},{\"default\":\"row\",\"kind\":null,\"name\":\"flex_direction\"},{\"default\":\"wrap\",\"kind\":null,\"name\":\"flex_wrap\"},{\"default\":\"flex-start\",\"kind\":null,\"name\":\"justify_content\"}]},{\"extends\":null,\"module\":null,\"name\":\"TemplateActions1\",\"overrides\":[],\"properties\":[{\"default\":0,\"kind\":null,\"name\":\"open_modal\"},{\"default\":0,\"kind\":null,\"name\":\"close_modal\"}]},{\"extends\":null,\"module\":null,\"name\":\"MaterialTemplateActions1\",\"overrides\":[],\"properties\":[{\"default\":0,\"kind\":null,\"name\":\"open_modal\"},{\"default\":0,\"kind\":null,\"name\":\"close_modal\"}]}],\"roots\":{\"references\":[{\"attributes\":{\"children\":[{\"id\":\"1030\"},{\"id\":\"1031\"}],\"margin\":[5,5,5,5],\"name\":\"\",\"sizing_mode\":\"stretch_width\",\"width\":300},\"id\":\"1029\",\"type\":\"Column\"},{\"attributes\":{\"children\":[{\"id\":\"1033\"}],\"margin\":[0,0,0,0],\"name\":\"Row01632\",\"sizing_mode\":\"stretch_width\"},\"id\":\"1032\",\"type\":\"Row\"},{\"attributes\":{\"margin\":[5,10,5,10],\"name\":\"\",\"sizing_mode\":\"stretch_width\",\"text\":\"<b></b>\"},\"id\":\"1030\",\"type\":\"Div\"},{\"attributes\":{\"client_comm_id\":\"e1b61595a38b4ab19f5131465a629972\",\"comm_id\":\"63792c6f120d4a1b8bee973d32b71fd0\",\"plot_id\":\"1026\"},\"id\":\"1034\",\"type\":\"panel.models.comm_manager.CommManager\"},{\"attributes\":{\"margin\":[5,10,5,10],\"options\":[[\"setosa\",\"setosa\"],[\"versicolor\",\"versicolor\"],[\"virginica\",\"virginica\"]],\"sizing_mode\":\"stretch_width\",\"title\":\"FlowerFilter\",\"value\":\"setosa\"},\"id\":\"1031\",\"type\":\"Select\"},{\"attributes\":{\"margin\":[5,5,5,5],\"name\":\"ParamMethod01628\",\"sizing_mode\":\"stretch_width\",\"text\":\"&lt;table border=&quot;0&quot; class=&quot;dataframe panel-df&quot;&gt;\\n  &lt;thead&gt;\\n    &lt;tr style=&quot;text-align: right;&quot;&gt;\\n      &lt;th&gt;&lt;/th&gt;\\n      &lt;th&gt;sepal_length&lt;/th&gt;\\n      &lt;th&gt;sepal_width&lt;/th&gt;\\n      &lt;th&gt;petal_length&lt;/th&gt;\\n      &lt;th&gt;petal_width&lt;/th&gt;\\n      &lt;th&gt;species&lt;/th&gt;\\n    &lt;/tr&gt;\\n  &lt;/thead&gt;\\n  &lt;tbody&gt;\\n    &lt;tr&gt;\\n      &lt;th&gt;0&lt;/th&gt;\\n      &lt;td&gt;5.1&lt;/td&gt;\\n      &lt;td&gt;3.5&lt;/td&gt;\\n      &lt;td&gt;1.4&lt;/td&gt;\\n      &lt;td&gt;0.2&lt;/td&gt;\\n      &lt;td&gt;setosa&lt;/td&gt;\\n    &lt;/tr&gt;\\n    &lt;tr&gt;\\n      &lt;th&gt;1&lt;/th&gt;\\n      &lt;td&gt;4.9&lt;/td&gt;\\n      &lt;td&gt;3.0&lt;/td&gt;\\n      &lt;td&gt;1.4&lt;/td&gt;\\n      &lt;td&gt;0.2&lt;/td&gt;\\n      &lt;td&gt;setosa&lt;/td&gt;\\n    &lt;/tr&gt;\\n    &lt;tr&gt;\\n      &lt;th&gt;2&lt;/th&gt;\\n      &lt;td&gt;4.7&lt;/td&gt;\\n      &lt;td&gt;3.2&lt;/td&gt;\\n      &lt;td&gt;1.3&lt;/td&gt;\\n      &lt;td&gt;0.2&lt;/td&gt;\\n      &lt;td&gt;setosa&lt;/td&gt;\\n    &lt;/tr&gt;\\n    &lt;tr&gt;\\n      &lt;th&gt;3&lt;/th&gt;\\n      &lt;td&gt;4.6&lt;/td&gt;\\n      &lt;td&gt;3.1&lt;/td&gt;\\n      &lt;td&gt;1.5&lt;/td&gt;\\n      &lt;td&gt;0.2&lt;/td&gt;\\n      &lt;td&gt;setosa&lt;/td&gt;\\n    &lt;/tr&gt;\\n    &lt;tr&gt;\\n      &lt;th&gt;4&lt;/th&gt;\\n      &lt;td&gt;5.0&lt;/td&gt;\\n      &lt;td&gt;3.6&lt;/td&gt;\\n      &lt;td&gt;1.4&lt;/td&gt;\\n      &lt;td&gt;0.2&lt;/td&gt;\\n      &lt;td&gt;setosa&lt;/td&gt;\\n    &lt;/tr&gt;\\n  &lt;/tbody&gt;\\n&lt;/table&gt;\"},\"id\":\"1033\",\"type\":\"panel.models.markup.HTML\"},{\"attributes\":{\"css_classes\":[\"markdown\"],\"margin\":[5,5,5,5],\"name\":\"Markdown01618\",\"sizing_mode\":\"stretch_width\",\"text\":\"&lt;p&gt;Map&lt;/p&gt;\"},\"id\":\"1027\",\"type\":\"panel.models.markup.HTML\"},{\"attributes\":{\"css_classes\":[\"markdown\"],\"margin\":[5,5,5,5],\"name\":\"Markdown01620\",\"sizing_mode\":\"stretch_width\",\"text\":\"&lt;p&gt;look at it&lt;/p&gt;\"},\"id\":\"1028\",\"type\":\"panel.models.markup.HTML\"},{\"attributes\":{\"children\":[{\"id\":\"1027\"},{\"id\":\"1028\"},{\"id\":\"1029\"},{\"id\":\"1032\"}],\"margin\":[0,0,0,0],\"name\":\"Column01635\",\"sizing_mode\":\"stretch_width\"},\"id\":\"1026\",\"type\":\"Column\"}],\"root_ids\":[\"1026\",\"1034\"]},\"title\":\"Bokeh Application\",\"version\":\"2.4.2\"}};\n",
       "    var render_items = [{\"docid\":\"9b44c973-2574-4f46-973b-abe541a4c257\",\"root_ids\":[\"1026\"],\"roots\":{\"1026\":\"a18073f9-9181-40e9-8b76-9ade2b5bca6e\"}}];\n",
       "    root.Bokeh.embed.embed_items_notebook(docs_json, render_items);\n",
       "  }\n",
       "  if (root.Bokeh !== undefined && root.Bokeh.Panel !== undefined) {\n",
       "    embed_document(root);\n",
       "  } else {\n",
       "    var attempts = 0;\n",
       "    var timer = setInterval(function(root) {\n",
       "      if (root.Bokeh !== undefined && root.Bokeh.Panel !== undefined) {\n",
       "        clearInterval(timer);\n",
       "        embed_document(root);\n",
       "      } else if (document.readyState == \"complete\") {\n",
       "        attempts++;\n",
       "        if (attempts > 200) {\n",
       "          clearInterval(timer);\n",
       "          console.log(\"Bokeh: ERROR: Unable to run BokehJS code because BokehJS library is missing\");\n",
       "        }\n",
       "      }\n",
       "    }, 25, root)\n",
       "  }\n",
       "})(window);</script>"
      ],
      "text/plain": [
       "Column(sizing_mode='stretch_width')\n",
       "    [0] Markdown(str, sizing_mode='stretch_width')\n",
       "    [1] Markdown(str, sizing_mode='stretch_width')\n",
       "    [2] Column(margin=5, sizing_mode='stretch_width', width=300)\n",
       "        [0] StaticText(sizing_mode='stretch_width', value='<b></b>')\n",
       "        [1] Select(name='FlowerFilter', options=OrderedDict([('setosa', ...]), sizing_mode='stretch_width', value='setosa')\n",
       "    [3] ParamMethod(method, sizing_mode='stretch_width')"
      ]
     },
     "execution_count": 26,
     "metadata": {
      "application/vnd.holoviews_exec.v0+json": {
       "id": "1026"
      }
     },
     "output_type": "execute_result"
    }
   ],
   "source": [
    "dashboard"
   ]
  }
 ],
 "metadata": {
  "kernelspec": {
   "display_name": "Python 3 (ipykernel)",
   "language": "python",
   "name": "python3"
  },
  "language_info": {
   "codemirror_mode": {
    "name": "ipython",
    "version": 3
   },
   "file_extension": ".py",
   "mimetype": "text/x-python",
   "name": "python",
   "nbconvert_exporter": "python",
   "pygments_lexer": "ipython3",
   "version": "3.7.10"
  }
 },
 "nbformat": 4,
 "nbformat_minor": 5
}
