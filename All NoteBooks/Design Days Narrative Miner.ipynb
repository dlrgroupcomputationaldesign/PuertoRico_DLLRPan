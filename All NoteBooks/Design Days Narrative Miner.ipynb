{
 "cells": [
  {
   "cell_type": "code",
   "execution_count": 1,
   "metadata": {},
   "outputs": [],
   "source": [
    "#Load collections of open source packages\n",
    "from nltk.corpus import wordnet as wn\n",
    "from nltk.stem.wordnet import WordNetLemmatizer\n",
    "from nltk import pos_tag\n",
    "from collections import defaultdict\n",
    "import pyodbc \n",
    "import pandas as pd\n",
    "import numpy as np\n"
   ]
  },
  {
   "cell_type": "code",
   "execution_count": 2,
   "metadata": {},
   "outputs": [],
   "source": [
    "narratives=pd.read_csv('C:/Users/dmckenzie/OneDrive - DLR Group/Desktop/Project_narrative-export-visiondb.csv')"
   ]
  },
  {
   "cell_type": "code",
   "execution_count": 3,
   "metadata": {},
   "outputs": [
    {
     "data": {
      "text/html": [
       "<div>\n",
       "<style scoped>\n",
       "    .dataframe tbody tr th:only-of-type {\n",
       "        vertical-align: middle;\n",
       "    }\n",
       "\n",
       "    .dataframe tbody tr th {\n",
       "        vertical-align: top;\n",
       "    }\n",
       "\n",
       "    .dataframe thead th {\n",
       "        text-align: right;\n",
       "    }\n",
       "</style>\n",
       "<table border=\"1\" class=\"dataframe\">\n",
       "  <thead>\n",
       "    <tr style=\"text-align: right;\">\n",
       "      <th></th>\n",
       "      <th>WBS1</th>\n",
       "      <th>Narrative</th>\n",
       "    </tr>\n",
       "  </thead>\n",
       "  <tbody>\n",
       "    <tr>\n",
       "      <th>0</th>\n",
       "      <td>05-16101-00</td>\n",
       "      <td>Ryan Cameron and Michael Vander Ploeg pursued ...</td>\n",
       "    </tr>\n",
       "    <tr>\n",
       "      <th>1</th>\n",
       "      <td>05-16101-00</td>\n",
       "      <td>Ryan Cameron and Michael Vander Ploeg pursued ...</td>\n",
       "    </tr>\n",
       "    <tr>\n",
       "      <th>2</th>\n",
       "      <td>05-21101-00</td>\n",
       "      <td>Design Achievement Emerging material technolog...</td>\n",
       "    </tr>\n",
       "    <tr>\n",
       "      <th>3</th>\n",
       "      <td>10-00001-02</td>\n",
       "      <td>Design Achievement - KANEKO, an Omaha based cu...</td>\n",
       "    </tr>\n",
       "    <tr>\n",
       "      <th>4</th>\n",
       "      <td>10-00001-03</td>\n",
       "      <td>ADAM WELLS PERSONAL PROJECT   Design Achieveme...</td>\n",
       "    </tr>\n",
       "    <tr>\n",
       "      <th>...</th>\n",
       "      <td>...</td>\n",
       "      <td>...</td>\n",
       "    </tr>\n",
       "    <tr>\n",
       "      <th>2819</th>\n",
       "      <td>86-19101-01</td>\n",
       "      <td>Renderings and HNTE for Add Service-002</td>\n",
       "    </tr>\n",
       "    <tr>\n",
       "      <th>2820</th>\n",
       "      <td>86-19101-02</td>\n",
       "      <td>Test Fit and HNTE for Add Service-003</td>\n",
       "    </tr>\n",
       "    <tr>\n",
       "      <th>2821</th>\n",
       "      <td>86-19101-03</td>\n",
       "      <td>Renderings and ICON expenses HNTE for Add Serv...</td>\n",
       "    </tr>\n",
       "    <tr>\n",
       "      <th>2822</th>\n",
       "      <td>86-19101-04</td>\n",
       "      <td>Renderings and ICON expenses HNTE for Add Serv...</td>\n",
       "    </tr>\n",
       "    <tr>\n",
       "      <th>2823</th>\n",
       "      <td>86-20101-00</td>\n",
       "      <td>Hines T3 Test Fit</td>\n",
       "    </tr>\n",
       "  </tbody>\n",
       "</table>\n",
       "<p>2824 rows × 2 columns</p>\n",
       "</div>"
      ],
      "text/plain": [
       "             WBS1                                          Narrative\n",
       "0     05-16101-00  Ryan Cameron and Michael Vander Ploeg pursued ...\n",
       "1     05-16101-00  Ryan Cameron and Michael Vander Ploeg pursued ...\n",
       "2     05-21101-00  Design Achievement Emerging material technolog...\n",
       "3     10-00001-02  Design Achievement - KANEKO, an Omaha based cu...\n",
       "4     10-00001-03  ADAM WELLS PERSONAL PROJECT   Design Achieveme...\n",
       "...           ...                                                ...\n",
       "2819  86-19101-01            Renderings and HNTE for Add Service-002\n",
       "2820  86-19101-02              Test Fit and HNTE for Add Service-003\n",
       "2821  86-19101-03  Renderings and ICON expenses HNTE for Add Serv...\n",
       "2822  86-19101-04  Renderings and ICON expenses HNTE for Add Serv...\n",
       "2823  86-20101-00                                  Hines T3 Test Fit\n",
       "\n",
       "[2824 rows x 2 columns]"
      ]
     },
     "execution_count": 3,
     "metadata": {},
     "output_type": "execute_result"
    }
   ],
   "source": [
    "narratives"
   ]
  },
  {
   "cell_type": "code",
   "execution_count": 4,
   "metadata": {},
   "outputs": [
    {
     "data": {
      "text/plain": [
       "2824"
      ]
     },
     "execution_count": 4,
     "metadata": {},
     "output_type": "execute_result"
    }
   ],
   "source": [
    "len(narratives)"
   ]
  },
  {
   "cell_type": "code",
   "execution_count": 5,
   "metadata": {},
   "outputs": [],
   "source": [
    "narratives=narratives.reset_index(drop=True)"
   ]
  },
  {
   "cell_type": "code",
   "execution_count": 6,
   "metadata": {},
   "outputs": [],
   "source": [
    "narratives=narratives.drop_duplicates(['WBS1'])\n",
    "narratives=narratives.reset_index(drop=True)"
   ]
  },
  {
   "cell_type": "code",
   "execution_count": 7,
   "metadata": {},
   "outputs": [
    {
     "data": {
      "text/plain": [
       "2669"
      ]
     },
     "execution_count": 7,
     "metadata": {},
     "output_type": "execute_result"
    }
   ],
   "source": [
    "len(narratives)"
   ]
  },
  {
   "cell_type": "code",
   "execution_count": 31,
   "metadata": {},
   "outputs": [
    {
     "data": {
      "text/plain": [
       "1490"
      ]
     },
     "execution_count": 31,
     "metadata": {},
     "output_type": "execute_result"
    }
   ],
   "source": [
    "narratives['Narrative'].str.lower().str.contains('design achievement').sum()"
   ]
  },
  {
   "cell_type": "code",
   "execution_count": 18,
   "metadata": {},
   "outputs": [],
   "source": [
    "outlist=narratives[(((narratives['Narrative'].str.lower().str.contains('housing'))|\n",
    "                (narratives['Narrative'].str.lower().str.contains('apartment')) |\n",
    "            (narratives['Narrative'].str.lower().str.contains('condo'))) & \n",
    "          ((narratives['Narrative'].str.lower().str.contains('courtyard')) |\n",
    "              (narratives['Narrative'].str.lower().str.contains('plaza'))) &\n",
    "                (narratives['Narrative'].str.lower().str.contains('design achieve')) &\n",
    "           (narratives['Narrative'].str.lower().str.contains('community')) &\n",
    "            (narratives['Narrative'].str.lower().str.contains('scope sum')) &\n",
    "           (narratives['Narrative'].str.lower().str.contains('dlr group provided')))]"
   ]
  },
  {
   "cell_type": "code",
   "execution_count": 20,
   "metadata": {},
   "outputs": [
    {
     "data": {
      "text/plain": [
       "17"
      ]
     },
     "execution_count": 20,
     "metadata": {},
     "output_type": "execute_result"
    }
   ],
   "source": [
    "len(outlist)"
   ]
  },
  {
   "cell_type": "code",
   "execution_count": 17,
   "metadata": {},
   "outputs": [],
   "source": [
    "outlist.to_csv('C:/Users/dmckenzie/OneDrive - DLR Group/Desktop/NarrativeExamples.csv')"
   ]
  },
  {
   "cell_type": "code",
   "execution_count": 37,
   "metadata": {},
   "outputs": [
    {
     "data": {
      "text/plain": [
       "['Design Achievements Following the vision of St. Paul’s urban renewal efforts, the design team used a variety of materials, textures and colors to place this project within the context of other historic structures in this revitalized neighborhood of downtown St. Paul. Seniors at Lyons Court Apartments are offered conveniences of living downtown, with the Farmer’s Market, Mears Park, the YMCA and downtown skyway access all within walking distance. Scope Summary This apartment community is for seniors ages 63 and older. One-bedroom and two-bedroom apartments range in size from 526 SF to 1,138 SF. Lyons Court Apartments is centrally located between the adjacent historic First Baptist Church and neighboring warehouse loft condominiums. The landscaped outdoor plaza/courtyard is intended for the common, but diverse uses of the senior renters, condominium owners and church members.']"
      ]
     },
     "execution_count": 37,
     "metadata": {},
     "output_type": "execute_result"
    }
   ],
   "source": [
    "list(narratives[(narratives['Narrative'].str.lower().str.contains('condo')) & \n",
    "          (narratives['Narrative'].str.lower().str.contains('farm'))]['Narrative'])"
   ]
  },
  {
   "cell_type": "code",
   "execution_count": 39,
   "metadata": {},
   "outputs": [
    {
     "data": {
      "text/plain": [
       "37"
      ]
     },
     "execution_count": 39,
     "metadata": {},
     "output_type": "execute_result"
    }
   ],
   "source": [
    "narratives['Narrative'].str.lower().str.contains('mural').sum()"
   ]
  },
  {
   "cell_type": "code",
   "execution_count": 40,
   "metadata": {},
   "outputs": [
    {
     "data": {
      "text/plain": [
       "141"
      ]
     },
     "execution_count": 40,
     "metadata": {},
     "output_type": "execute_result"
    }
   ],
   "source": [
    "narratives['Narrative'].str.lower().str.contains('hvac').sum()"
   ]
  },
  {
   "cell_type": "code",
   "execution_count": 41,
   "metadata": {},
   "outputs": [
    {
     "data": {
      "text/plain": [
       "1"
      ]
     },
     "execution_count": 41,
     "metadata": {},
     "output_type": "execute_result"
    }
   ],
   "source": [
    "narratives['Narrative'].str.lower().str.contains('farming').sum()"
   ]
  },
  {
   "cell_type": "code",
   "execution_count": 42,
   "metadata": {},
   "outputs": [
    {
     "data": {
      "text/plain": [
       "6"
      ]
     },
     "execution_count": 42,
     "metadata": {},
     "output_type": "execute_result"
    }
   ],
   "source": [
    "narratives['Narrative'].str.lower().str.contains('biking').sum()"
   ]
  },
  {
   "cell_type": "code",
   "execution_count": 43,
   "metadata": {},
   "outputs": [
    {
     "data": {
      "text/plain": [
       "2660"
      ]
     },
     "execution_count": 43,
     "metadata": {},
     "output_type": "execute_result"
    }
   ],
   "source": [
    "narratives['Narrative'].str.lower().str.contains('').sum()"
   ]
  },
  {
   "cell_type": "code",
   "execution_count": 44,
   "metadata": {},
   "outputs": [
    {
     "data": {
      "text/plain": [
       "19"
      ]
     },
     "execution_count": 44,
     "metadata": {},
     "output_type": "execute_result"
    }
   ],
   "source": [
    "narratives['Narrative'].str.lower().str.contains('sharing').sum()"
   ]
  },
  {
   "cell_type": "code",
   "execution_count": 45,
   "metadata": {},
   "outputs": [
    {
     "data": {
      "text/plain": [
       "34"
      ]
     },
     "execution_count": 45,
     "metadata": {},
     "output_type": "execute_result"
    }
   ],
   "source": [
    "narratives['Narrative'].str.lower().str.contains('bike').sum()"
   ]
  },
  {
   "cell_type": "code",
   "execution_count": 46,
   "metadata": {},
   "outputs": [
    {
     "data": {
      "text/plain": [
       "6"
      ]
     },
     "execution_count": 46,
     "metadata": {},
     "output_type": "execute_result"
    }
   ],
   "source": [
    "narratives['Narrative'].str.lower().str.contains('farmers').sum()"
   ]
  },
  {
   "cell_type": "code",
   "execution_count": 47,
   "metadata": {},
   "outputs": [
    {
     "data": {
      "text/plain": [
       "36"
      ]
     },
     "execution_count": 47,
     "metadata": {},
     "output_type": "execute_result"
    }
   ],
   "source": [
    "narratives['Narrative'].str.lower().str.contains(' car ').sum()"
   ]
  },
  {
   "cell_type": "code",
   "execution_count": 48,
   "metadata": {},
   "outputs": [
    {
     "data": {
      "text/plain": [
       "13"
      ]
     },
     "execution_count": 48,
     "metadata": {},
     "output_type": "execute_result"
    }
   ],
   "source": [
    "narratives['Narrative'].str.lower().str.contains('affordable hous').sum()"
   ]
  },
  {
   "cell_type": "code",
   "execution_count": 49,
   "metadata": {},
   "outputs": [
    {
     "data": {
      "text/plain": [
       "0       A secondary series of human-scaled vertical ma...\n",
       "1       DLR Group is providing research leadership, an...\n",
       "2       The crowning element of the structure is a bel...\n",
       "3       The visual communication team provided brand v...\n",
       "4       The visual communication team provided promoti...\n",
       "                              ...                        \n",
       "2664              Renderings and HNTE for Add Service-002\n",
       "2665                Test Fit and HNTE for Add Service-003\n",
       "2666    Renderings and ICON expenses HNTE for Add Serv...\n",
       "2667    Renderings and ICON expenses HNTE for Add Serv...\n",
       "2668                                    Hines T3 Test Fit\n",
       "Name: Narrative, Length: 2669, dtype: object"
      ]
     },
     "execution_count": 49,
     "metadata": {},
     "output_type": "execute_result"
    }
   ],
   "source": [
    "narratives['Narrative'].astype(str).apply(nltk.sent_tokenize).str[-1]"
   ]
  },
  {
   "cell_type": "code",
   "execution_count": 124,
   "metadata": {},
   "outputs": [],
   "source": [
    "from  rake_nltk import Rake  \n",
    "r = Rake()\n",
    "def rake_implement(x,r):\n",
    "    r.extract_keywords_from_text(x)\n",
    "    return r.get_ranked_phrases()\n"
   ]
  },
  {
   "cell_type": "code",
   "execution_count": 300,
   "metadata": {},
   "outputs": [
    {
     "name": "stderr",
     "output_type": "stream",
     "text": [
      "C:\\Users\\dmckenzie\\Anaconda3\\envs\\Three Seven\\lib\\site-packages\\ipykernel_launcher.py:1: FutureWarning: The default value of regex will change from True to False in a future version.\n",
      "  \"\"\"Entry point for launching an IPython kernel.\n"
     ]
    }
   ],
   "source": [
    "narratives['Narrative2']=narratives['Narrative'].str.replace('[^\\w\\s]','')"
   ]
  },
  {
   "cell_type": "code",
   "execution_count": 301,
   "metadata": {},
   "outputs": [],
   "source": [
    "narratives['Raked']=narratives['Narrative2'].astype(str).apply(lambda x: rake_implement(x,r))"
   ]
  },
  {
   "cell_type": "code",
   "execution_count": 302,
   "metadata": {},
   "outputs": [],
   "source": [
    "NarExp=narratives['Narrative2'].astype(str).apply(lambda x: rake_implement(x,r)).explode().reset_index()"
   ]
  },
  {
   "cell_type": "code",
   "execution_count": 303,
   "metadata": {},
   "outputs": [],
   "source": [
    "rooms=list(RoomNameFrame[(RoomNameFrame['Name3']!='') & \n",
    "                         (RoomNameFrame['Name3']!='dlr') &\n",
    "                         (RoomNameFrame['Name3']!='test') &\n",
    "                         (RoomNameFrame['Name3']!='group')]['Name3'])"
   ]
  },
  {
   "cell_type": "code",
   "execution_count": 304,
   "metadata": {},
   "outputs": [
    {
     "data": {
      "text/plain": [
       "203"
      ]
     },
     "execution_count": 304,
     "metadata": {},
     "output_type": "execute_result"
    }
   ],
   "source": [
    "len(rooms)"
   ]
  },
  {
   "cell_type": "code",
   "execution_count": 305,
   "metadata": {},
   "outputs": [],
   "source": [
    "items=list(itemframe[(itemframe['Name3']!='') & (itemframe['Name3']!='dlr') & (itemframe['Name3']!='group')]['Name3'])\n",
    "def tokennamefilter(tokenlist,minlen=2):\n",
    "    tokens = [x for x in tokenlist if x in items+rooms]\n",
    "    return (tokens)"
   ]
  },
  {
   "cell_type": "code",
   "execution_count": 306,
   "metadata": {},
   "outputs": [
    {
     "data": {
      "text/html": [
       "<div>\n",
       "<style scoped>\n",
       "    .dataframe tbody tr th:only-of-type {\n",
       "        vertical-align: middle;\n",
       "    }\n",
       "\n",
       "    .dataframe tbody tr th {\n",
       "        vertical-align: top;\n",
       "    }\n",
       "\n",
       "    .dataframe thead th {\n",
       "        text-align: right;\n",
       "    }\n",
       "</style>\n",
       "<table border=\"1\" class=\"dataframe\">\n",
       "  <thead>\n",
       "    <tr style=\"text-align: right;\">\n",
       "      <th></th>\n",
       "      <th>index</th>\n",
       "      <th>Narrative2</th>\n",
       "    </tr>\n",
       "  </thead>\n",
       "  <tbody>\n",
       "    <tr>\n",
       "      <th>0</th>\n",
       "      <td>0</td>\n",
       "      <td>living laboratory tom gallagher project princi...</td>\n",
       "    </tr>\n",
       "    <tr>\n",
       "      <th>1</th>\n",
       "      <td>0</td>\n",
       "      <td>michael vander ploeg pursued data streams inve...</td>\n",
       "    </tr>\n",
       "    <tr>\n",
       "      <th>2</th>\n",
       "      <td>0</td>\n",
       "      <td>mary miss city</td>\n",
       "    </tr>\n",
       "    <tr>\n",
       "      <th>3</th>\n",
       "      <td>0</td>\n",
       "      <td>iconic architectural lighting installation</td>\n",
       "    </tr>\n",
       "    <tr>\n",
       "      <th>4</th>\n",
       "      <td>0</td>\n",
       "      <td>design services watermarks phase1</td>\n",
       "    </tr>\n",
       "    <tr>\n",
       "      <th>...</th>\n",
       "      <td>...</td>\n",
       "      <td>...</td>\n",
       "    </tr>\n",
       "    <tr>\n",
       "      <th>138071</th>\n",
       "      <td>2666</td>\n",
       "      <td>renderings</td>\n",
       "    </tr>\n",
       "    <tr>\n",
       "      <th>138072</th>\n",
       "      <td>2667</td>\n",
       "      <td>icon expenses hnte</td>\n",
       "    </tr>\n",
       "    <tr>\n",
       "      <th>138073</th>\n",
       "      <td>2667</td>\n",
       "      <td>add service 13</td>\n",
       "    </tr>\n",
       "    <tr>\n",
       "      <th>138074</th>\n",
       "      <td>2667</td>\n",
       "      <td>renderings</td>\n",
       "    </tr>\n",
       "    <tr>\n",
       "      <th>138075</th>\n",
       "      <td>2668</td>\n",
       "      <td>hines t3 test fit</td>\n",
       "    </tr>\n",
       "  </tbody>\n",
       "</table>\n",
       "<p>138076 rows × 2 columns</p>\n",
       "</div>"
      ],
      "text/plain": [
       "        index                                         Narrative2\n",
       "0           0  living laboratory tom gallagher project princi...\n",
       "1           0  michael vander ploeg pursued data streams inve...\n",
       "2           0                                     mary miss city\n",
       "3           0         iconic architectural lighting installation\n",
       "4           0                  design services watermarks phase1\n",
       "...       ...                                                ...\n",
       "138071   2666                                         renderings\n",
       "138072   2667                                 icon expenses hnte\n",
       "138073   2667                                     add service 13\n",
       "138074   2667                                         renderings\n",
       "138075   2668                                  hines t3 test fit\n",
       "\n",
       "[138076 rows x 2 columns]"
      ]
     },
     "execution_count": 306,
     "metadata": {},
     "output_type": "execute_result"
    }
   ],
   "source": [
    "NarExp"
   ]
  },
  {
   "cell_type": "code",
   "execution_count": 307,
   "metadata": {},
   "outputs": [],
   "source": [
    "NarExp['DesignScore']=NarExp['Narrative2'].astype(str).apply(nltk.word_tokenize).apply(tokennamefilter).apply(len)"
   ]
  },
  {
   "cell_type": "code",
   "execution_count": 308,
   "metadata": {},
   "outputs": [],
   "source": [
    "NarExp['ChunkLen']=NarExp['Narrative2'].astype(str).apply(nltk.word_tokenize).apply(len)"
   ]
  },
  {
   "cell_type": "code",
   "execution_count": 309,
   "metadata": {},
   "outputs": [],
   "source": [
    "NarExp['DesignRatio']=round(NarExp['DesignScore']/NarExp['ChunkLen'],2)"
   ]
  },
  {
   "cell_type": "code",
   "execution_count": 310,
   "metadata": {},
   "outputs": [
    {
     "data": {
      "text/plain": [
       "['fast RB',\n",
       " 'soft JJ',\n",
       " 'hard JJ',\n",
       " 'hot JJ',\n",
       " 'tall JJ',\n",
       " 'short RB',\n",
       " 'small JJ',\n",
       " 'best JJS',\n",
       " 'worst JJ',\n",
       " 'hateful JJ',\n",
       " 'pretty RB',\n",
       " 'ugly RB',\n",
       " 'loathesome JJ']"
      ]
     },
     "execution_count": 310,
     "metadata": {},
     "output_type": "execute_result"
    }
   ],
   "source": [
    "[element1+\" \"+element2 for element1, element2 in nltk.pos_tag(['fast','soft',\n",
    "                                                  'hard','slow',\n",
    "                                                  'hot','cold',\n",
    "                                                  'fun','red','tall',\n",
    "                                                  'short','small','best',\n",
    "                                                  'worst','mean','hateful',\n",
    "                                                 'pretty','ugly','loathesome',\n",
    "                                                 'beatiful','marble']) if element2=='JJ' or \n",
    " element2=='JJS' or element2=='JJR' or element2=='RB' or element2=='RBR' or element2=='RBS']\n",
    "\n",
    "#[ele2 for ele1, ele2 in bigtuple if ele1 == \"tuple1elem1\"]"
   ]
  },
  {
   "cell_type": "code",
   "execution_count": 312,
   "metadata": {},
   "outputs": [],
   "source": [
    "NarExp['InfoWords']=NarExp['Narrative2'].astype(str).\\\n",
    "    apply(nltk.word_tokenize).apply(lambda x: [element1 for element1, element2 in nltk.pos_tag(x) if element2=='JJ' or \n",
    "                                               element2=='JJS' or element2=='JJR' or element2=='RB' or element2=='RBR' or \n",
    "                                               element2=='RBS' or\n",
    "                                               element2=='VB' or\n",
    "                                               element2=='VBD' or\n",
    "                                               element2=='VBG' or\n",
    "                                               element2=='VBN' or\n",
    "                                               element2=='VBP' or\n",
    "                                               element2=='VBZ' or\n",
    "                                               element1 in rooms+items])"
   ]
  },
  {
   "cell_type": "code",
   "execution_count": 263,
   "metadata": {},
   "outputs": [
    {
     "data": {
      "text/plain": [
       "True"
      ]
     },
     "execution_count": 263,
     "metadata": {},
     "output_type": "execute_result"
    }
   ],
   "source": [
    "'fire' in items"
   ]
  },
  {
   "cell_type": "code",
   "execution_count": 314,
   "metadata": {},
   "outputs": [
    {
     "data": {
      "text/plain": [
       "second floor             47\n",
       "office space             39\n",
       "focal point              38\n",
       "first floor              34\n",
       "natural light            33\n",
       "south side               21\n",
       "fitness center           21\n",
       "mechanical electrical    21\n",
       "north side               20\n",
       "main entry               20\n",
       "reception area           19\n",
       "existing space           19\n",
       "multipurpose room        19\n",
       "national register        19\n",
       "new space                15\n",
       "east side                15\n",
       "direct access            15\n",
       "support space            14\n",
       "meeting space            14\n",
       "work included            14\n",
       "top floor                13\n",
       "conference center        13\n",
       "new office               13\n",
       "open office              13\n",
       "retail space             12\n",
       "conference room          12\n",
       "west side                12\n",
       "surrounding area         12\n",
       "collaboration space      11\n",
       "work includes            11\n",
       "primary focus            11\n",
       "front door               11\n",
       "new entry                11\n",
       "third floor              10\n",
       "flexible space            9\n",
       "Name: Narrative2, dtype: int64"
      ]
     },
     "execution_count": 314,
     "metadata": {},
     "output_type": "execute_result"
    }
   ],
   "source": [
    "NarExp[((NarExp['InfoWords'].apply(len)/NarExp['ChunkLen'])>=.7) & \n",
    "       (NarExp['ChunkLen']>=2) & \n",
    "       (NarExp['DesignScore']>=1)]['Narrative2'].value_counts().head(35)"
   ]
  },
  {
   "cell_type": "code",
   "execution_count": 363,
   "metadata": {},
   "outputs": [],
   "source": [
    "goodphrases=list(NarExp[((NarExp['InfoWords'].apply(len)/NarExp['ChunkLen'])>=.7) & \n",
    "       (NarExp['ChunkLen']>=2) & \n",
    "        (NarExp['ChunkLen']<6) &\n",
    "        (NarExp['Narrative2'].str.contains('sf')==False) &\n",
    "        (NarExp['Narrative2'].str.contains('square feet')==False) &\n",
    "        (NarExp['Narrative2'].str.contains('square foot')==False) &\n",
    "        (NarExp['Narrative2'].str.contains('feet squared')==False) &                \n",
    "       (NarExp['DesignScore']>=1)]['Narrative2'].drop_duplicates())"
   ]
  },
  {
   "cell_type": "code",
   "execution_count": 364,
   "metadata": {},
   "outputs": [
    {
     "data": {
      "text/plain": [
       "6162"
      ]
     },
     "execution_count": 364,
     "metadata": {},
     "output_type": "execute_result"
    }
   ],
   "source": [
    "len(goodphrases)"
   ]
  },
  {
   "cell_type": "code",
   "execution_count": 365,
   "metadata": {},
   "outputs": [],
   "source": [
    "narratives['KeyPhrases']=narratives['Raked'].apply(lambda x:[i for i in x if i in goodphrases])"
   ]
  },
  {
   "cell_type": "code",
   "execution_count": 366,
   "metadata": {},
   "outputs": [
    {
     "data": {
      "text/plain": [
       "0.7287373548145373"
      ]
     },
     "execution_count": 366,
     "metadata": {},
     "output_type": "execute_result"
    }
   ],
   "source": [
    "sum(narratives['KeyPhrases'].apply(len)>0)/len(narratives)"
   ]
  },
  {
   "cell_type": "code",
   "execution_count": 367,
   "metadata": {},
   "outputs": [],
   "source": [
    "pd.Series(goodphrases).to_csv('Desktop\\KeyPhrases.csv')"
   ]
  },
  {
   "cell_type": "code",
   "execution_count": 368,
   "metadata": {},
   "outputs": [],
   "source": [
    "narratives['KeyPhrases2']=narratives['KeyPhrases'].apply(', '.join)"
   ]
  },
  {
   "cell_type": "code",
   "execution_count": 369,
   "metadata": {},
   "outputs": [],
   "source": [
    "narratives['ServiceTagsAndKeyPhrases2']=(narratives['ComboService']+narratives['KeyPhrases']).apply(', '.join)"
   ]
  },
  {
   "cell_type": "code",
   "execution_count": 370,
   "metadata": {},
   "outputs": [],
   "source": [
    "narratives['ServiceTags']=narratives['ComboService'].apply(', '.join)"
   ]
  },
  {
   "cell_type": "code",
   "execution_count": 371,
   "metadata": {},
   "outputs": [],
   "source": [
    "narrativesFinal=narratives[narratives['ServiceTagsAndKeyPhrases2']!=''][['WBS1','KeyPhrases2','ServiceTags','ServiceTagsAndKeyPhrases2']]"
   ]
  },
  {
   "cell_type": "code",
   "execution_count": 401,
   "metadata": {},
   "outputs": [
    {
     "data": {
      "text/plain": [
       "0        83\n",
       "1       109\n",
       "2       193\n",
       "3        31\n",
       "4        94\n",
       "       ... \n",
       "2664      2\n",
       "2665      2\n",
       "2666      2\n",
       "2667      2\n",
       "2668      2\n",
       "Name: KeyPhrases, Length: 2669, dtype: int64"
      ]
     },
     "execution_count": 401,
     "metadata": {},
     "output_type": "execute_result"
    }
   ],
   "source": [
    "narratives['KeyPhrases'].astype(str).apply(len)"
   ]
  },
  {
   "cell_type": "code",
   "execution_count": 402,
   "metadata": {},
   "outputs": [
    {
     "data": {
      "text/html": [
       "<div>\n",
       "<style scoped>\n",
       "    .dataframe tbody tr th:only-of-type {\n",
       "        vertical-align: middle;\n",
       "    }\n",
       "\n",
       "    .dataframe tbody tr th {\n",
       "        vertical-align: top;\n",
       "    }\n",
       "\n",
       "    .dataframe thead th {\n",
       "        text-align: right;\n",
       "    }\n",
       "</style>\n",
       "<table border=\"1\" class=\"dataframe\">\n",
       "  <thead>\n",
       "    <tr style=\"text-align: right;\">\n",
       "      <th></th>\n",
       "      <th>WBS1</th>\n",
       "      <th>Narrative</th>\n",
       "      <th>CharCount</th>\n",
       "      <th>MaxChar</th>\n",
       "      <th>LastSentence</th>\n",
       "      <th>UniService</th>\n",
       "      <th>DblService</th>\n",
       "      <th>ComboService</th>\n",
       "      <th>Raked</th>\n",
       "      <th>Narrative2</th>\n",
       "      <th>KeyPhrases</th>\n",
       "      <th>KeyPhrases2</th>\n",
       "      <th>ServiceTagsAndKeyPhrases2</th>\n",
       "      <th>ServiceTags</th>\n",
       "    </tr>\n",
       "  </thead>\n",
       "  <tbody>\n",
       "    <tr>\n",
       "      <th>0</th>\n",
       "      <td>05-16101-00</td>\n",
       "      <td>Ryan Cameron and Michael Vander Ploeg pursued ...</td>\n",
       "      <td>1412</td>\n",
       "      <td>1412</td>\n",
       "      <td>A secondary series of human-scaled vertical ma...</td>\n",
       "      <td>[]</td>\n",
       "      <td>[]</td>\n",
       "      <td>[]</td>\n",
       "      <td>[living laboratory tom gallagher project princ...</td>\n",
       "      <td>Ryan Cameron and Michael Vander Ploeg pursued ...</td>\n",
       "      <td>[iconic architectural lighting installation, s...</td>\n",
       "      <td>iconic architectural lighting installation, se...</td>\n",
       "      <td>iconic architectural lighting installation, se...</td>\n",
       "      <td></td>\n",
       "    </tr>\n",
       "    <tr>\n",
       "      <th>1</th>\n",
       "      <td>05-21101-00</td>\n",
       "      <td>Design Achievement Emerging material technolog...</td>\n",
       "      <td>1622</td>\n",
       "      <td>1622</td>\n",
       "      <td>DLR Group is providing research leadership, an...</td>\n",
       "      <td>[]</td>\n",
       "      <td>[conceptual design]</td>\n",
       "      <td>[conceptual design]</td>\n",
       "      <td>[detailed cost analysis design considerations ...</td>\n",
       "      <td>Design Achievement Emerging material technolog...</td>\n",
       "      <td>[us forestry service bringing almost, internat...</td>\n",
       "      <td>us forestry service bringing almost, internati...</td>\n",
       "      <td>conceptual design, us forestry service bringin...</td>\n",
       "      <td>conceptual design</td>\n",
       "    </tr>\n",
       "    <tr>\n",
       "      <th>2</th>\n",
       "      <td>10-00001-02</td>\n",
       "      <td>Design Achievement - KANEKO, an Omaha based cu...</td>\n",
       "      <td>1855</td>\n",
       "      <td>1855</td>\n",
       "      <td>The crowning element of the structure is a bel...</td>\n",
       "      <td>[]</td>\n",
       "      <td>[]</td>\n",
       "      <td>[]</td>\n",
       "      <td>[orangepainted 2x4s pine wood slats 1x4, omaha...</td>\n",
       "      <td>Design Achievement  KANEKO an Omaha based cult...</td>\n",
       "      <td>[implemented using 12 mdf covered, given blank...</td>\n",
       "      <td>implemented using 12 mdf covered, given blank ...</td>\n",
       "      <td>implemented using 12 mdf covered, given blank ...</td>\n",
       "      <td></td>\n",
       "    </tr>\n",
       "    <tr>\n",
       "      <th>3</th>\n",
       "      <td>10-00001-03</td>\n",
       "      <td>ADAM WELLS PERSONAL PROJECT   Design Achieveme...</td>\n",
       "      <td>1391</td>\n",
       "      <td>1391</td>\n",
       "      <td>The visual communication team provided brand v...</td>\n",
       "      <td>[]</td>\n",
       "      <td>[visual communication]</td>\n",
       "      <td>[visual communication]</td>\n",
       "      <td>[adam wells personal project design achievemen...</td>\n",
       "      <td>ADAM WELLS PERSONAL PROJECT   Design Achieveme...</td>\n",
       "      <td>[southern edge, main focus]</td>\n",
       "      <td>southern edge, main focus</td>\n",
       "      <td>visual communication, southern edge, main focus</td>\n",
       "      <td>visual communication</td>\n",
       "    </tr>\n",
       "    <tr>\n",
       "      <th>4</th>\n",
       "      <td>10-00001-04</td>\n",
       "      <td>Design Achievement - When the National Hospita...</td>\n",
       "      <td>1045</td>\n",
       "      <td>1045</td>\n",
       "      <td>The visual communication team provided promoti...</td>\n",
       "      <td>[]</td>\n",
       "      <td>[visual communication]</td>\n",
       "      <td>[visual communication]</td>\n",
       "      <td>[dlr groups national design leaders personal e...</td>\n",
       "      <td>Design Achievement  When the National Hospital...</td>\n",
       "      <td>[soft cover saddlestiched book, national hospi...</td>\n",
       "      <td>soft cover saddlestiched book, national hospit...</td>\n",
       "      <td>visual communication, soft cover saddlestiched...</td>\n",
       "      <td>visual communication</td>\n",
       "    </tr>\n",
       "    <tr>\n",
       "      <th>...</th>\n",
       "      <td>...</td>\n",
       "      <td>...</td>\n",
       "      <td>...</td>\n",
       "      <td>...</td>\n",
       "      <td>...</td>\n",
       "      <td>...</td>\n",
       "      <td>...</td>\n",
       "      <td>...</td>\n",
       "      <td>...</td>\n",
       "      <td>...</td>\n",
       "      <td>...</td>\n",
       "      <td>...</td>\n",
       "      <td>...</td>\n",
       "      <td>...</td>\n",
       "    </tr>\n",
       "    <tr>\n",
       "      <th>2659</th>\n",
       "      <td>84-19104-00</td>\n",
       "      <td>Design Achievement – Purple Dot Development as...</td>\n",
       "      <td>1711</td>\n",
       "      <td>1711</td>\n",
       "      <td>DLR Group served as the design architect and p...</td>\n",
       "      <td>[]</td>\n",
       "      <td>[]</td>\n",
       "      <td>[]</td>\n",
       "      <td>[design achievement purple dot development ask...</td>\n",
       "      <td>Design Achievement  Purple Dot Development ask...</td>\n",
       "      <td>[also creates enough power, useable office spa...</td>\n",
       "      <td>also creates enough power, useable office spac...</td>\n",
       "      <td>also creates enough power, useable office spac...</td>\n",
       "      <td></td>\n",
       "    </tr>\n",
       "    <tr>\n",
       "      <th>2660</th>\n",
       "      <td>84-19107-00</td>\n",
       "      <td>Design Achievement - This quarter of a million...</td>\n",
       "      <td>1983</td>\n",
       "      <td>1983</td>\n",
       "      <td>DLR Group is providing planning and architectu...</td>\n",
       "      <td>[architecture]</td>\n",
       "      <td>[]</td>\n",
       "      <td>[architecture]</td>\n",
       "      <td>[play sayani investments selected dlr group, i...</td>\n",
       "      <td>Design Achievement  This quarter of a million ...</td>\n",
       "      <td>[retail hospitality, work live, swimming pool,...</td>\n",
       "      <td>retail hospitality, work live, swimming pool, ...</td>\n",
       "      <td>architecture, retail hospitality, work live, s...</td>\n",
       "      <td>architecture</td>\n",
       "    </tr>\n",
       "    <tr>\n",
       "      <th>2661</th>\n",
       "      <td>84-19108-00</td>\n",
       "      <td>Design Achievement – Tracom Services’s vision ...</td>\n",
       "      <td>1354</td>\n",
       "      <td>1354</td>\n",
       "      <td>DLR Group served as the design architect and p...</td>\n",
       "      <td>[]</td>\n",
       "      <td>[]</td>\n",
       "      <td>[]</td>\n",
       "      <td>[payment solutions company dlr groups design c...</td>\n",
       "      <td>Design Achievement  Tracom Servicess vision wa...</td>\n",
       "      <td>[swimming pool, oversailing canopy, central sp...</td>\n",
       "      <td>swimming pool, oversailing canopy, central space</td>\n",
       "      <td>swimming pool, oversailing canopy, central space</td>\n",
       "      <td></td>\n",
       "    </tr>\n",
       "    <tr>\n",
       "      <th>2662</th>\n",
       "      <td>84-20101-00</td>\n",
       "      <td>Design Achievement – The Association of Member...</td>\n",
       "      <td>1272</td>\n",
       "      <td>1272</td>\n",
       "      <td>DLR Group served as the design architect and p...</td>\n",
       "      <td>[]</td>\n",
       "      <td>[]</td>\n",
       "      <td>[]</td>\n",
       "      <td>[even prospective tenants scope summary, incom...</td>\n",
       "      <td>Design Achievement  The Association of Member ...</td>\n",
       "      <td>[hotel leading away, hotel appear intertwined,...</td>\n",
       "      <td>hotel leading away, hotel appear intertwined, ...</td>\n",
       "      <td>hotel leading away, hotel appear intertwined, ...</td>\n",
       "      <td></td>\n",
       "    </tr>\n",
       "    <tr>\n",
       "      <th>2663</th>\n",
       "      <td>86-19101-00</td>\n",
       "      <td>Design Achievement: Hines continues to partner...</td>\n",
       "      <td>2190</td>\n",
       "      <td>2190</td>\n",
       "      <td>DLR Group provided master planning and archite...</td>\n",
       "      <td>[architecture]</td>\n",
       "      <td>[master planning]</td>\n",
       "      <td>[architecture, master planning]</td>\n",
       "      <td>[exposed masstimer environment sterling road f...</td>\n",
       "      <td>Design Achievement Hines continues to partner ...</td>\n",
       "      <td>[external bracing generous private balconies, ...</td>\n",
       "      <td>external bracing generous private balconies, b...</td>\n",
       "      <td>architecture, master planning, external bracin...</td>\n",
       "      <td>architecture, master planning</td>\n",
       "    </tr>\n",
       "  </tbody>\n",
       "</table>\n",
       "<p>1945 rows × 14 columns</p>\n",
       "</div>"
      ],
      "text/plain": [
       "             WBS1                                          Narrative  \\\n",
       "0     05-16101-00  Ryan Cameron and Michael Vander Ploeg pursued ...   \n",
       "1     05-21101-00  Design Achievement Emerging material technolog...   \n",
       "2     10-00001-02  Design Achievement - KANEKO, an Omaha based cu...   \n",
       "3     10-00001-03  ADAM WELLS PERSONAL PROJECT   Design Achieveme...   \n",
       "4     10-00001-04  Design Achievement - When the National Hospita...   \n",
       "...           ...                                                ...   \n",
       "2659  84-19104-00  Design Achievement – Purple Dot Development as...   \n",
       "2660  84-19107-00  Design Achievement - This quarter of a million...   \n",
       "2661  84-19108-00  Design Achievement – Tracom Services’s vision ...   \n",
       "2662  84-20101-00  Design Achievement – The Association of Member...   \n",
       "2663  86-19101-00  Design Achievement: Hines continues to partner...   \n",
       "\n",
       "      CharCount  MaxChar                                       LastSentence  \\\n",
       "0          1412     1412  A secondary series of human-scaled vertical ma...   \n",
       "1          1622     1622  DLR Group is providing research leadership, an...   \n",
       "2          1855     1855  The crowning element of the structure is a bel...   \n",
       "3          1391     1391  The visual communication team provided brand v...   \n",
       "4          1045     1045  The visual communication team provided promoti...   \n",
       "...         ...      ...                                                ...   \n",
       "2659       1711     1711  DLR Group served as the design architect and p...   \n",
       "2660       1983     1983  DLR Group is providing planning and architectu...   \n",
       "2661       1354     1354  DLR Group served as the design architect and p...   \n",
       "2662       1272     1272  DLR Group served as the design architect and p...   \n",
       "2663       2190     2190  DLR Group provided master planning and archite...   \n",
       "\n",
       "          UniService              DblService                     ComboService  \\\n",
       "0                 []                      []                               []   \n",
       "1                 []     [conceptual design]              [conceptual design]   \n",
       "2                 []                      []                               []   \n",
       "3                 []  [visual communication]           [visual communication]   \n",
       "4                 []  [visual communication]           [visual communication]   \n",
       "...              ...                     ...                              ...   \n",
       "2659              []                      []                               []   \n",
       "2660  [architecture]                      []                   [architecture]   \n",
       "2661              []                      []                               []   \n",
       "2662              []                      []                               []   \n",
       "2663  [architecture]       [master planning]  [architecture, master planning]   \n",
       "\n",
       "                                                  Raked  \\\n",
       "0     [living laboratory tom gallagher project princ...   \n",
       "1     [detailed cost analysis design considerations ...   \n",
       "2     [orangepainted 2x4s pine wood slats 1x4, omaha...   \n",
       "3     [adam wells personal project design achievemen...   \n",
       "4     [dlr groups national design leaders personal e...   \n",
       "...                                                 ...   \n",
       "2659  [design achievement purple dot development ask...   \n",
       "2660  [play sayani investments selected dlr group, i...   \n",
       "2661  [payment solutions company dlr groups design c...   \n",
       "2662  [even prospective tenants scope summary, incom...   \n",
       "2663  [exposed masstimer environment sterling road f...   \n",
       "\n",
       "                                             Narrative2  \\\n",
       "0     Ryan Cameron and Michael Vander Ploeg pursued ...   \n",
       "1     Design Achievement Emerging material technolog...   \n",
       "2     Design Achievement  KANEKO an Omaha based cult...   \n",
       "3     ADAM WELLS PERSONAL PROJECT   Design Achieveme...   \n",
       "4     Design Achievement  When the National Hospital...   \n",
       "...                                                 ...   \n",
       "2659  Design Achievement  Purple Dot Development ask...   \n",
       "2660  Design Achievement  This quarter of a million ...   \n",
       "2661  Design Achievement  Tracom Servicess vision wa...   \n",
       "2662  Design Achievement  The Association of Member ...   \n",
       "2663  Design Achievement Hines continues to partner ...   \n",
       "\n",
       "                                             KeyPhrases  \\\n",
       "0     [iconic architectural lighting installation, s...   \n",
       "1     [us forestry service bringing almost, internat...   \n",
       "2     [implemented using 12 mdf covered, given blank...   \n",
       "3                           [southern edge, main focus]   \n",
       "4     [soft cover saddlestiched book, national hospi...   \n",
       "...                                                 ...   \n",
       "2659  [also creates enough power, useable office spa...   \n",
       "2660  [retail hospitality, work live, swimming pool,...   \n",
       "2661  [swimming pool, oversailing canopy, central sp...   \n",
       "2662  [hotel leading away, hotel appear intertwined,...   \n",
       "2663  [external bracing generous private balconies, ...   \n",
       "\n",
       "                                            KeyPhrases2  \\\n",
       "0     iconic architectural lighting installation, se...   \n",
       "1     us forestry service bringing almost, internati...   \n",
       "2     implemented using 12 mdf covered, given blank ...   \n",
       "3                             southern edge, main focus   \n",
       "4     soft cover saddlestiched book, national hospit...   \n",
       "...                                                 ...   \n",
       "2659  also creates enough power, useable office spac...   \n",
       "2660  retail hospitality, work live, swimming pool, ...   \n",
       "2661   swimming pool, oversailing canopy, central space   \n",
       "2662  hotel leading away, hotel appear intertwined, ...   \n",
       "2663  external bracing generous private balconies, b...   \n",
       "\n",
       "                              ServiceTagsAndKeyPhrases2  \\\n",
       "0     iconic architectural lighting installation, se...   \n",
       "1     conceptual design, us forestry service bringin...   \n",
       "2     implemented using 12 mdf covered, given blank ...   \n",
       "3       visual communication, southern edge, main focus   \n",
       "4     visual communication, soft cover saddlestiched...   \n",
       "...                                                 ...   \n",
       "2659  also creates enough power, useable office spac...   \n",
       "2660  architecture, retail hospitality, work live, s...   \n",
       "2661   swimming pool, oversailing canopy, central space   \n",
       "2662  hotel leading away, hotel appear intertwined, ...   \n",
       "2663  architecture, master planning, external bracin...   \n",
       "\n",
       "                        ServiceTags  \n",
       "0                                    \n",
       "1                 conceptual design  \n",
       "2                                    \n",
       "3              visual communication  \n",
       "4              visual communication  \n",
       "...                             ...  \n",
       "2659                                 \n",
       "2660                   architecture  \n",
       "2661                                 \n",
       "2662                                 \n",
       "2663  architecture, master planning  \n",
       "\n",
       "[1945 rows x 14 columns]"
      ]
     },
     "execution_count": 402,
     "metadata": {},
     "output_type": "execute_result"
    }
   ],
   "source": [
    "narratives[narratives['KeyPhrases2']!='']"
   ]
  },
  {
   "cell_type": "code",
   "execution_count": 406,
   "metadata": {},
   "outputs": [],
   "source": [
    "keyphrases=narratives[narratives['KeyPhrases2']!=''].\\\n",
    "    set_index('WBS1')[['KeyPhrases']].\\\n",
    "    explode('KeyPhrases').\\\n",
    "    reset_index()"
   ]
  },
  {
   "cell_type": "code",
   "execution_count": 419,
   "metadata": {},
   "outputs": [],
   "source": [
    "keyphrases.to_csv('Desktop/KeyPhrasesExploded.csv')"
   ]
  },
  {
   "cell_type": "code",
   "execution_count": 405,
   "metadata": {},
   "outputs": [],
   "source": [
    "servicetags=narratives[narratives['ServiceTags']!=''].\\\n",
    "    set_index('WBS1')[['ComboService']].\\\n",
    "    explode('ComboService').\\\n",
    "    reset_index()"
   ]
  },
  {
   "cell_type": "code",
   "execution_count": 413,
   "metadata": {},
   "outputs": [],
   "source": [
    "servicetags['ComboService']=np.where(servicetags['ComboService']=='architectural design','architecture ',\n",
    "        np.where(servicetags['ComboService']=='acoustic','acoustics',\n",
    "                np.where(servicetags['ComboService']=='landscaped','landscape architecture',\n",
    "                        np.where(servicetags['ComboService']=='landscaping','landscape architecture',\n",
    "                                np.where(servicetags['ComboService']=='landscaped','landscape architecture',\n",
    "                                        np.where(servicetags['ComboService']=='landscape','landscape architecture',\n",
    "                                                np.where(servicetags['ComboService']=='light','lighting',\n",
    "                                                        np.where(servicetags['ComboService']=='lights','lighting',\n",
    "                                                                 servicetags['ComboService']))))))))"
   ]
  },
  {
   "cell_type": "code",
   "execution_count": 416,
   "metadata": {},
   "outputs": [],
   "source": [
    "servicetags=servicetags[servicetags['ComboService']!='fame']"
   ]
  },
  {
   "cell_type": "code",
   "execution_count": 417,
   "metadata": {},
   "outputs": [
    {
     "data": {
      "text/plain": [
       "architecture              790\n",
       "structural engineering    167\n",
       "lighting                  116\n",
       "master planning           104\n",
       "landscape architecture     98\n",
       "electrical engineering     94\n",
       "architecture               64\n",
       "mechanical engineering     49\n",
       "security                   37\n",
       "audiovisual                36\n",
       "acoustics                  34\n",
       "civil engineering          17\n",
       "conceptual design          16\n",
       "theater technical          16\n",
       "solar                      15\n",
       "environmental graphics      9\n",
       "facility assessment         6\n",
       "bridging documents          5\n",
       "it/telecom                  5\n",
       "visual communication        5\n",
       "environmental graphic       3\n",
       "facility assessments        2\n",
       "leed coordination           1\n",
       "visual communications       1\n",
       "Name: ComboService, dtype: int64"
      ]
     },
     "execution_count": 417,
     "metadata": {},
     "output_type": "execute_result"
    }
   ],
   "source": [
    "servicetags['ComboService'].value_counts()"
   ]
  },
  {
   "cell_type": "code",
   "execution_count": 420,
   "metadata": {},
   "outputs": [],
   "source": [
    "servicetags.to_csv('Desktop/ServiceTagsExploded.csv')"
   ]
  },
  {
   "cell_type": "code",
   "execution_count": 374,
   "metadata": {},
   "outputs": [],
   "source": [
    "narrativesFinal.to_csv('Desktop/NarrativeKeyWords.csv')"
   ]
  }
 ],
 "metadata": {
  "kernelspec": {
   "display_name": "Python 3 (ipykernel)",
   "language": "python",
   "name": "python3"
  },
  "language_info": {
   "codemirror_mode": {
    "name": "ipython",
    "version": 3
   },
   "file_extension": ".py",
   "mimetype": "text/x-python",
   "name": "python",
   "nbconvert_exporter": "python",
   "pygments_lexer": "ipython3",
   "version": "3.7.10"
  }
 },
 "nbformat": 4,
 "nbformat_minor": 4
}
