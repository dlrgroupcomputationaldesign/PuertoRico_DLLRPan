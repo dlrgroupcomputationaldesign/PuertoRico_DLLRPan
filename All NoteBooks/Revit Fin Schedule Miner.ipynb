{
 "cells": [
  {
   "cell_type": "code",
   "execution_count": 1,
   "id": "9f61ff49",
   "metadata": {},
   "outputs": [],
   "source": [
    "import pandas as pd"
   ]
  },
  {
   "cell_type": "code",
   "execution_count": 2,
   "id": "be3ba35a",
   "metadata": {},
   "outputs": [],
   "source": [
    "files=['73-21111-00_Stripe_Core+Shell_2020.xlsx',\n",
    "       '12-18101-02_WMS_ST_2018_detached.xlsx',\n",
    "       'STRIPE_SEA_2020.xlsx',\n",
    "       '37-20231-00_AR_D6 New K-8 Facility_2020.xlsx',\n",
    "       'STRIPE_SEA_MMoser_2020.xlsx',\n",
    "       '73-21111-00_Stripe_INT_2020.xlsx',\n",
    "       '73-21111-00_Stripe_INT-14_2020.xlsx',\n",
    "'12-18101-02_WMS_MEP_DOOR AND WINDOW_detached.xlsx',\n",
    "'12-18101-02_WMS_MEP_2018_detached.xlsx',\n",
    "'12-18101-02_WMS_AR_DOOR AND WINDOW_detached.xlsx',\n",
    "'12-18101-02_WMS_AR_detached.xlsx',\n",
    "'12-18101-02_LHS_ST_2018_detached.xlsx',\n",
    "'12-18101-02_LHS_MEP_2018_detached.xlsx',\n",
    "'12-18101-02_LHS_AR_2018_detached.xlsx']"
   ]
  },
  {
   "cell_type": "code",
   "execution_count": 3,
   "id": "c52026bd",
   "metadata": {},
   "outputs": [],
   "source": [
    "BigFrame=pd.DataFrame()\n",
    "hits=0\n",
    "for i in files:\n",
    "    path='C:/Users/dmckenzie/OneDrive - DLR Group/Desktop/ScheduleExports/'+i\n",
    "    xl = pd.ExcelFile(path)\n",
    "    cfcisum=sum(pd.Series(xl.sheet_names)=='FINISH SCHEDULE - CFCI')\n",
    "    fssum=sum(pd.Series(xl.sheet_names)=='FINISH SCHEDULE')\n",
    "    if cfcisum==1:\n",
    "        data=pd.read_excel(path,sheet_name='FINISH SCHEDULE - CFCI',header=1)\n",
    "        hits+=1\n",
    "    elif fssum==1:\n",
    "        data=pd.read_excel(path,sheet_name='FINISH SCHEDULE',header=1)\n",
    "        hits+=1\n",
    "    else: \n",
    "        continue\n",
    "    data.columns=data.columns.str.lower().str.capitalize()\n",
    "    BigFrame=BigFrame.append(data)"
   ]
  },
  {
   "cell_type": "code",
   "execution_count": 4,
   "id": "019fd43e",
   "metadata": {},
   "outputs": [
    {
     "data": {
      "text/plain": [
       "14"
      ]
     },
     "execution_count": 4,
     "metadata": {},
     "output_type": "execute_result"
    }
   ],
   "source": [
    "len(files)"
   ]
  },
  {
   "cell_type": "code",
   "execution_count": 5,
   "id": "d35d0de8",
   "metadata": {},
   "outputs": [
    {
     "name": "stdout",
     "output_type": "stream",
     "text": [
      "8\n"
     ]
    }
   ],
   "source": [
    "print(hits)"
   ]
  },
  {
   "cell_type": "code",
   "execution_count": 6,
   "id": "222670f3",
   "metadata": {},
   "outputs": [],
   "source": [
    "BigFrame['Manufacturer']=BigFrame['Manufacturer'].str.lower()"
   ]
  },
  {
   "cell_type": "code",
   "execution_count": 7,
   "id": "923fb4b6",
   "metadata": {},
   "outputs": [],
   "source": [
    "BigFrame['Product']=BigFrame['Product'].str.lower()"
   ]
  },
  {
   "cell_type": "code",
   "execution_count": 8,
   "id": "c1f3c658",
   "metadata": {},
   "outputs": [],
   "source": [
    "Counts=BigFrame.\\\n",
    "    assign(Count=1).\\\n",
    "    groupby(['Manufacturer','Product'])['Count'].\\\n",
    "    sum().\\\n",
    "    reset_index().\\\n",
    "    sort_values('Count',ascending=False).query('Count>1').reset_index(drop=True)"
   ]
  },
  {
   "cell_type": "code",
   "execution_count": 26,
   "id": "0ead7243",
   "metadata": {},
   "outputs": [],
   "source": [
    "Counts.to_csv('ScheduleMinerOut.csv')"
   ]
  }
 ],
 "metadata": {
  "kernelspec": {
   "display_name": "Python 3 (ipykernel)",
   "language": "python",
   "name": "python3"
  },
  "language_info": {
   "codemirror_mode": {
    "name": "ipython",
    "version": 3
   },
   "file_extension": ".py",
   "mimetype": "text/x-python",
   "name": "python",
   "nbconvert_exporter": "python",
   "pygments_lexer": "ipython3",
   "version": "3.7.10"
  }
 },
 "nbformat": 4,
 "nbformat_minor": 5
}
