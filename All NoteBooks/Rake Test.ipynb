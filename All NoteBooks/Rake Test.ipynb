{
 "cells": [
  {
   "cell_type": "code",
   "execution_count": 3,
   "id": "dramatic-transcript",
   "metadata": {},
   "outputs": [],
   "source": [
    "import pandas as pd\n",
    "from  rake_nltk import Rake  \n",
    "\n",
    "r = Rake()    \n",
    "\n",
    "df=pd.DataFrame(data = ['machine learning and fraud detection are a must learn',\n",
    "                  'monte carlo method is great and so is hmm,pca, svm and neural net',\n",
    "                  'clustering and cloud',\n",
    "                  'logistical regression and data management and fraud detection'] ,columns = ['Comments'])\n",
    "\n",
    "\n"
   ]
  },
  {
   "cell_type": "code",
   "execution_count": 4,
   "id": "driven-blackberry",
   "metadata": {},
   "outputs": [
    {
     "name": "stdout",
     "output_type": "stream",
     "text": [
      "0      [must learn, machine learning, fraud detection]\n",
      "1    [monte carlo method, neural net, svm, pca, hmm...\n",
      "2                                  [clustering, cloud]\n",
      "3    [logistical regression, fraud detection, data ...\n",
      "Name: new_col, dtype: object\n"
     ]
    }
   ],
   "source": [
    "from  rake_nltk import Rake  \n",
    "def rake_implement(x,r):\n",
    "    r.extract_keywords_from_text(x)\n",
    "    return r.get_ranked_phrases()\n",
    "\n",
    "df['new_col'] =df['Comments'].apply(lambda x: rake_implement(x,r))\n",
    "print(df['new_col'])"
   ]
  },
  {
   "cell_type": "code",
   "execution_count": 1,
   "id": "breeding-engagement",
   "metadata": {},
   "outputs": [
    {
     "name": "stdout",
     "output_type": "stream",
     "text": [
      "Collecting rake_nltk"
     ]
    },
    {
     "name": "stderr",
     "output_type": "stream",
     "text": [
      "WARNING: You are using pip version 21.0.1; however, version 21.1.3 is available.\n",
      "You should consider upgrading via the 'c:\\users\\dmckenzie\\anaconda3\\envs\\three seven\\python.exe -m pip install --upgrade pip' command.\n"
     ]
    },
    {
     "name": "stdout",
     "output_type": "stream",
     "text": [
      "\n",
      "  Downloading rake_nltk-1.0.4.tar.gz (7.6 kB)\n",
      "Requirement already satisfied: nltk in c:\\users\\dmckenzie\\anaconda3\\envs\\three seven\\lib\\site-packages (from rake_nltk) (3.5)\n",
      "Requirement already satisfied: joblib in c:\\users\\dmckenzie\\anaconda3\\envs\\three seven\\lib\\site-packages (from nltk->rake_nltk) (1.0.0)\n",
      "Requirement already satisfied: tqdm in c:\\users\\dmckenzie\\anaconda3\\envs\\three seven\\lib\\site-packages (from nltk->rake_nltk) (4.56.0)\n",
      "Requirement already satisfied: click in c:\\users\\dmckenzie\\anaconda3\\envs\\three seven\\lib\\site-packages (from nltk->rake_nltk) (7.1.2)\n",
      "Requirement already satisfied: regex in c:\\users\\dmckenzie\\anaconda3\\envs\\three seven\\lib\\site-packages (from nltk->rake_nltk) (2020.11.13)\n",
      "Building wheels for collected packages: rake-nltk\n",
      "  Building wheel for rake-nltk (setup.py): started\n",
      "  Building wheel for rake-nltk (setup.py): finished with status 'done'\n",
      "  Created wheel for rake-nltk: filename=rake_nltk-1.0.4-py2.py3-none-any.whl size=7819 sha256=4e37db5cc574973a48b3f839a4511803109d3ec2445fcc7897759c8e68c92786\n",
      "  Stored in directory: c:\\users\\dmckenzie\\appdata\\local\\pip\\cache\\wheels\\7c\\d9\\8a\\b8a9244fa89a07f288f9fe006aafc79d93fceb58496c29b606\n",
      "Successfully built rake-nltk\n",
      "Installing collected packages: rake-nltk\n",
      "Successfully installed rake-nltk-1.0.4\n"
     ]
    }
   ],
   "source": [
    "!pip install rake_nltk"
   ]
  }
 ],
 "metadata": {
  "kernelspec": {
   "display_name": "Python 3 (ipykernel)",
   "language": "python",
   "name": "python3"
  },
  "language_info": {
   "codemirror_mode": {
    "name": "ipython",
    "version": 3
   },
   "file_extension": ".py",
   "mimetype": "text/x-python",
   "name": "python",
   "nbconvert_exporter": "python",
   "pygments_lexer": "ipython3",
   "version": "3.7.10"
  }
 },
 "nbformat": 4,
 "nbformat_minor": 5
}
