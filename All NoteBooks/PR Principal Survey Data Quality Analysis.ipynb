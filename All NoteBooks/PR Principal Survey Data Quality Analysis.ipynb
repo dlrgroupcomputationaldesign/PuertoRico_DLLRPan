{
 "cells": [
  {
   "cell_type": "code",
   "execution_count": 1,
   "id": "8a968636",
   "metadata": {},
   "outputs": [],
   "source": [
    "path='C:/Users/dmckenzie/OneDrive - DLR Group/Desktop/COPY CBRE PRDE 020622.xlsx'"
   ]
  },
  {
   "cell_type": "code",
   "execution_count": 2,
   "id": "fa2c9357",
   "metadata": {},
   "outputs": [],
   "source": [
    "import pandas as pd"
   ]
  },
  {
   "cell_type": "code",
   "execution_count": 3,
   "id": "b64b842c",
   "metadata": {},
   "outputs": [],
   "source": [
    "PR=pd.read_excel(path)"
   ]
  },
  {
   "cell_type": "code",
   "execution_count": 4,
   "id": "f9edabba",
   "metadata": {},
   "outputs": [
    {
     "data": {
      "text/plain": [
       "Poor          121\n",
       "Good           96\n",
       "Fair           83\n",
       "Excellent      70\n",
       "Don't have     57\n",
       "Name: a. Number of parking spaces , dtype: int64"
      ]
     },
     "execution_count": 4,
     "metadata": {},
     "output_type": "execute_result"
    }
   ],
   "source": [
    "PR['a. Number of parking spaces '].value_counts()"
   ]
  },
  {
   "cell_type": "code",
   "execution_count": 5,
   "id": "1b10c8c3",
   "metadata": {},
   "outputs": [],
   "source": [
    "PR=pd.concat([PR.iloc[:,:9].reset_index(drop=True),\n",
    "        PR.iloc[:,9:].\\\n",
    "               replace('Poor',1).\\\n",
    "               replace(\"Good\",3).\\\n",
    "               replace('Fair',2).\\\n",
    "               replace('Excellent',4).\\\n",
    "               replace(\"Don't have\",0).reset_index(drop=True)],\n",
    "          axis=1)"
   ]
  },
  {
   "cell_type": "code",
   "execution_count": 6,
   "id": "3678a42b",
   "metadata": {},
   "outputs": [],
   "source": [
    "from plotnine import *"
   ]
  },
  {
   "cell_type": "code",
   "execution_count": 7,
   "id": "8fac7afe",
   "metadata": {},
   "outputs": [],
   "source": [
    "spread=( PR.iloc[:,9:].isna().\\\n",
    "     sum()/448).\\\n",
    "    reset_index().\\\n",
    "    rename(columns={'index':'Column',0:'Percent'}).\\\n",
    "    sort_values('Percent',ascending=False)"
   ]
  },
  {
   "cell_type": "code",
   "execution_count": 8,
   "id": "a73bfb67",
   "metadata": {},
   "outputs": [
    {
     "data": {
      "image/png": "[encoded data removed]",
      "text/plain": [
       "<Figure size 640x480 with 1 Axes>"
      ]
     },
     "metadata": {},
     "output_type": "display_data"
    },
    {
     "data": {
      "text/plain": [
       "<ggplot: (-9223371863932896268)>"
      ]
     },
     "execution_count": 8,
     "metadata": {},
     "output_type": "execute_result"
    }
   ],
   "source": [
    "(ggplot(spread,aes('Percent'))+\n",
    " geom_histogram(bins=30,color='black')+\n",
    " geom_vline(xintercept=spread['Percent'].median(),color='blue',size=2,linetype='dashed')+\n",
    " theme_bw()+ggtitle('Distribution Of % Values Blank By Column\\nMedian Value = 0.0625'))"
   ]
  },
  {
   "cell_type": "code",
   "execution_count": 9,
   "id": "7dd7ddf6",
   "metadata": {},
   "outputs": [
    {
     "data": {
      "text/plain": [
       "0.0625"
      ]
     },
     "execution_count": 9,
     "metadata": {},
     "output_type": "execute_result"
    }
   ],
   "source": [
    "spread['Percent'].median()"
   ]
  },
  {
   "cell_type": "code",
   "execution_count": 10,
   "id": "3d73c1d6",
   "metadata": {},
   "outputs": [
    {
     "data": {
      "text/html": [
       "<div>\n",
       "<style scoped>\n",
       "    .dataframe tbody tr th:only-of-type {\n",
       "        vertical-align: middle;\n",
       "    }\n",
       "\n",
       "    .dataframe tbody tr th {\n",
       "        vertical-align: top;\n",
       "    }\n",
       "\n",
       "    .dataframe thead th {\n",
       "        text-align: right;\n",
       "    }\n",
       "</style>\n",
       "<table border=\"1\" class=\"dataframe\">\n",
       "  <thead>\n",
       "    <tr style=\"text-align: right;\">\n",
       "      <th></th>\n",
       "      <th>Column</th>\n",
       "      <th>Percent</th>\n",
       "    </tr>\n",
       "  </thead>\n",
       "  <tbody>\n",
       "    <tr>\n",
       "      <th>71</th>\n",
       "      <td>h.  Independent Learning Lab</td>\n",
       "      <td>0.582589</td>\n",
       "    </tr>\n",
       "    <tr>\n",
       "      <th>72</th>\n",
       "      <td>i.  Autism Room</td>\n",
       "      <td>0.560268</td>\n",
       "    </tr>\n",
       "    <tr>\n",
       "      <th>70</th>\n",
       "      <td>g.  Sensory Room</td>\n",
       "      <td>0.484375</td>\n",
       "    </tr>\n",
       "    <tr>\n",
       "      <th>53</th>\n",
       "      <td>d.  Learning spaces for performing arts</td>\n",
       "      <td>0.252232</td>\n",
       "    </tr>\n",
       "    <tr>\n",
       "      <th>28</th>\n",
       "      <td>l.  Intercom/PA</td>\n",
       "      <td>0.218750</td>\n",
       "    </tr>\n",
       "    <tr>\n",
       "      <th>17</th>\n",
       "      <td>a.  Water heater</td>\n",
       "      <td>0.218750</td>\n",
       "    </tr>\n",
       "    <tr>\n",
       "      <th>57</th>\n",
       "      <td>h.  Storage for student belongings</td>\n",
       "      <td>0.207589</td>\n",
       "    </tr>\n",
       "    <tr>\n",
       "      <th>66</th>\n",
       "      <td>c. View windows providing visual connection be...</td>\n",
       "      <td>0.189732</td>\n",
       "    </tr>\n",
       "    <tr>\n",
       "      <th>15</th>\n",
       "      <td>p.  Ceilings</td>\n",
       "      <td>0.187500</td>\n",
       "    </tr>\n",
       "    <tr>\n",
       "      <th>59</th>\n",
       "      <td>j.  Storage for employees' personal items</td>\n",
       "      <td>0.178571</td>\n",
       "    </tr>\n",
       "    <tr>\n",
       "      <th>16</th>\n",
       "      <td>q.  Built-in cabinets</td>\n",
       "      <td>0.178571</td>\n",
       "    </tr>\n",
       "    <tr>\n",
       "      <th>36</th>\n",
       "      <td>g. Acoustics during teacher presentations</td>\n",
       "      <td>0.162946</td>\n",
       "    </tr>\n",
       "    <tr>\n",
       "      <th>52</th>\n",
       "      <td>c.  Learning space(s) for visual arts</td>\n",
       "      <td>0.158482</td>\n",
       "    </tr>\n",
       "    <tr>\n",
       "      <th>58</th>\n",
       "      <td>i.  Storage in learning spaces</td>\n",
       "      <td>0.147321</td>\n",
       "    </tr>\n",
       "    <tr>\n",
       "      <th>63</th>\n",
       "      <td>n.  Covered walkways between guildings</td>\n",
       "      <td>0.145089</td>\n",
       "    </tr>\n",
       "    <tr>\n",
       "      <th>35</th>\n",
       "      <td>f.  Acoustics in learning spaces to help contr...</td>\n",
       "      <td>0.140625</td>\n",
       "    </tr>\n",
       "    <tr>\n",
       "      <th>65</th>\n",
       "      <td>b.  View windows providing visual connection t...</td>\n",
       "      <td>0.133929</td>\n",
       "    </tr>\n",
       "    <tr>\n",
       "      <th>9</th>\n",
       "      <td>j.  Canopies</td>\n",
       "      <td>0.127232</td>\n",
       "    </tr>\n",
       "    <tr>\n",
       "      <th>68</th>\n",
       "      <td>e.  Convenient location of administrative area...</td>\n",
       "      <td>0.104911</td>\n",
       "    </tr>\n",
       "    <tr>\n",
       "      <th>26</th>\n",
       "      <td>j.  Condition of sinks, toilets, urinals, show...</td>\n",
       "      <td>0.093750</td>\n",
       "    </tr>\n",
       "    <tr>\n",
       "      <th>61</th>\n",
       "      <td>l.  Indoor space for community gatherings</td>\n",
       "      <td>0.089286</td>\n",
       "    </tr>\n",
       "    <tr>\n",
       "      <th>62</th>\n",
       "      <td>m.  Outdoor space for community gatherings</td>\n",
       "      <td>0.087054</td>\n",
       "    </tr>\n",
       "    <tr>\n",
       "      <th>48</th>\n",
       "      <td>s. Sheltered outdoor dining space</td>\n",
       "      <td>0.080357</td>\n",
       "    </tr>\n",
       "    <tr>\n",
       "      <th>67</th>\n",
       "      <td>d. Space with flexible configuration for schoo...</td>\n",
       "      <td>0.078125</td>\n",
       "    </tr>\n",
       "    <tr>\n",
       "      <th>69</th>\n",
       "      <td>f.  Resource Room</td>\n",
       "      <td>0.078125</td>\n",
       "    </tr>\n",
       "    <tr>\n",
       "      <th>10</th>\n",
       "      <td>k.  Exterior walls</td>\n",
       "      <td>0.078125</td>\n",
       "    </tr>\n",
       "    <tr>\n",
       "      <th>25</th>\n",
       "      <td>i.  Number of sinks, toilets, urinals, showers...</td>\n",
       "      <td>0.073661</td>\n",
       "    </tr>\n",
       "    <tr>\n",
       "      <th>38</th>\n",
       "      <td>i. Heat/humidity for the building other than l...</td>\n",
       "      <td>0.073661</td>\n",
       "    </tr>\n",
       "    <tr>\n",
       "      <th>1</th>\n",
       "      <td>b. Condition of parking area</td>\n",
       "      <td>0.071429</td>\n",
       "    </tr>\n",
       "    <tr>\n",
       "      <th>51</th>\n",
       "      <td>b.  Outdoor physical education/athletic space</td>\n",
       "      <td>0.071429</td>\n",
       "    </tr>\n",
       "    <tr>\n",
       "      <th>49</th>\n",
       "      <td>t.  Indoor dining space</td>\n",
       "      <td>0.069196</td>\n",
       "    </tr>\n",
       "    <tr>\n",
       "      <th>40</th>\n",
       "      <td>k.  Space for more than one class to work toge...</td>\n",
       "      <td>0.066964</td>\n",
       "    </tr>\n",
       "    <tr>\n",
       "      <th>7</th>\n",
       "      <td>h. Roof</td>\n",
       "      <td>0.066964</td>\n",
       "    </tr>\n",
       "    <tr>\n",
       "      <th>4</th>\n",
       "      <td>e. Exterior lighting</td>\n",
       "      <td>0.064732</td>\n",
       "    </tr>\n",
       "    <tr>\n",
       "      <th>47</th>\n",
       "      <td>r. Quality of writing surfaces in learning spa...</td>\n",
       "      <td>0.062500</td>\n",
       "    </tr>\n",
       "    <tr>\n",
       "      <th>60</th>\n",
       "      <td>k.  Storage for building supplies and equipment</td>\n",
       "      <td>0.062500</td>\n",
       "    </tr>\n",
       "    <tr>\n",
       "      <th>6</th>\n",
       "      <td>g. Playgrounds/ playfields</td>\n",
       "      <td>0.062500</td>\n",
       "    </tr>\n",
       "    <tr>\n",
       "      <th>43</th>\n",
       "      <td>n. Comfort of furniture for personnel</td>\n",
       "      <td>0.060268</td>\n",
       "    </tr>\n",
       "    <tr>\n",
       "      <th>45</th>\n",
       "      <td>p. Visibility to outdoors from learning spaces</td>\n",
       "      <td>0.060268</td>\n",
       "    </tr>\n",
       "    <tr>\n",
       "      <th>37</th>\n",
       "      <td>h.  Learning space heat/humidity</td>\n",
       "      <td>0.058036</td>\n",
       "    </tr>\n",
       "    <tr>\n",
       "      <th>29</th>\n",
       "      <td>m.  Internet/Wi-Fi</td>\n",
       "      <td>0.058036</td>\n",
       "    </tr>\n",
       "    <tr>\n",
       "      <th>56</th>\n",
       "      <td>g.  Access to computers by students</td>\n",
       "      <td>0.055804</td>\n",
       "    </tr>\n",
       "    <tr>\n",
       "      <th>21</th>\n",
       "      <td>e.  Function of power outlets</td>\n",
       "      <td>0.055804</td>\n",
       "    </tr>\n",
       "    <tr>\n",
       "      <th>19</th>\n",
       "      <td>c.  Amount of electrical service</td>\n",
       "      <td>0.055804</td>\n",
       "    </tr>\n",
       "    <tr>\n",
       "      <th>3</th>\n",
       "      <td>d. Sidewalks/walkways</td>\n",
       "      <td>0.053571</td>\n",
       "    </tr>\n",
       "    <tr>\n",
       "      <th>31</th>\n",
       "      <td>b.  Shape of learning spaces</td>\n",
       "      <td>0.053571</td>\n",
       "    </tr>\n",
       "    <tr>\n",
       "      <th>34</th>\n",
       "      <td>e. Tackable surfaces to display student work t...</td>\n",
       "      <td>0.053571</td>\n",
       "    </tr>\n",
       "    <tr>\n",
       "      <th>44</th>\n",
       "      <td>o. Condition of personnel furniture</td>\n",
       "      <td>0.051339</td>\n",
       "    </tr>\n",
       "    <tr>\n",
       "      <th>13</th>\n",
       "      <td>n.  Interior doors</td>\n",
       "      <td>0.049107</td>\n",
       "    </tr>\n",
       "    <tr>\n",
       "      <th>46</th>\n",
       "      <td>q. Quantity of writing surfaces in learning sp...</td>\n",
       "      <td>0.049107</td>\n",
       "    </tr>\n",
       "  </tbody>\n",
       "</table>\n",
       "</div>"
      ],
      "text/plain": [
       "                                               Column   Percent\n",
       "71                       h.  Independent Learning Lab  0.582589\n",
       "72                                    i.  Autism Room  0.560268\n",
       "70                                   g.  Sensory Room  0.484375\n",
       "53            d.  Learning spaces for performing arts  0.252232\n",
       "28                                    l.  Intercom/PA  0.218750\n",
       "17                                   a.  Water heater  0.218750\n",
       "57                 h.  Storage for student belongings  0.207589\n",
       "66  c. View windows providing visual connection be...  0.189732\n",
       "15                                       p.  Ceilings  0.187500\n",
       "59          j.  Storage for employees' personal items  0.178571\n",
       "16                              q.  Built-in cabinets  0.178571\n",
       "36         g. Acoustics during teacher presentations   0.162946\n",
       "52              c.  Learning space(s) for visual arts  0.158482\n",
       "58                     i.  Storage in learning spaces  0.147321\n",
       "63             n.  Covered walkways between guildings  0.145089\n",
       "35  f.  Acoustics in learning spaces to help contr...  0.140625\n",
       "65  b.  View windows providing visual connection t...  0.133929\n",
       "9                                        j.  Canopies  0.127232\n",
       "68  e.  Convenient location of administrative area...  0.104911\n",
       "26  j.  Condition of sinks, toilets, urinals, show...  0.093750\n",
       "61          l.  Indoor space for community gatherings  0.089286\n",
       "62         m.  Outdoor space for community gatherings  0.087054\n",
       "48                 s. Sheltered outdoor dining space   0.080357\n",
       "67  d. Space with flexible configuration for schoo...  0.078125\n",
       "69                                  f.  Resource Room  0.078125\n",
       "10                                 k.  Exterior walls  0.078125\n",
       "25  i.  Number of sinks, toilets, urinals, showers...  0.073661\n",
       "38  i. Heat/humidity for the building other than l...  0.073661\n",
       "1                       b. Condition of parking area   0.071429\n",
       "51      b.  Outdoor physical education/athletic space  0.071429\n",
       "49                            t.  Indoor dining space  0.069196\n",
       "40  k.  Space for more than one class to work toge...  0.066964\n",
       "7                                             h. Roof  0.066964\n",
       "4                               e. Exterior lighting   0.064732\n",
       "47  r. Quality of writing surfaces in learning spa...  0.062500\n",
       "60    k.  Storage for building supplies and equipment  0.062500\n",
       "6                         g. Playgrounds/ playfields   0.062500\n",
       "43             n. Comfort of furniture for personnel   0.060268\n",
       "45    p. Visibility to outdoors from learning spaces   0.060268\n",
       "37                  h.  Learning space heat/humidity   0.058036\n",
       "29                                 m.  Internet/Wi-Fi  0.058036\n",
       "56                g.  Access to computers by students  0.055804\n",
       "21                      e.  Function of power outlets  0.055804\n",
       "19                   c.  Amount of electrical service  0.055804\n",
       "3                              d. Sidewalks/walkways   0.053571\n",
       "31                       b.  Shape of learning spaces  0.053571\n",
       "34  e. Tackable surfaces to display student work t...  0.053571\n",
       "44               o. Condition of personnel furniture   0.051339\n",
       "13                                 n.  Interior doors  0.049107\n",
       "46  q. Quantity of writing surfaces in learning sp...  0.049107"
      ]
     },
     "execution_count": 10,
     "metadata": {},
     "output_type": "execute_result"
    }
   ],
   "source": [
    "spread.head(50)"
   ]
  },
  {
   "cell_type": "code",
   "execution_count": 11,
   "id": "d8745ff5",
   "metadata": {},
   "outputs": [
    {
     "data": {
      "text/plain": [
       "0.0    0.829694\n",
       "1.0    0.082969\n",
       "2.0    0.056769\n",
       "3.0    0.021834\n",
       "4.0    0.008734\n",
       "Name: g.  Sensory Room, dtype: float64"
      ]
     },
     "execution_count": 11,
     "metadata": {},
     "output_type": "execute_result"
    }
   ],
   "source": [
    "PR.iloc[:,79:].iloc[:,0].value_counts(normalize=True)"
   ]
  },
  {
   "cell_type": "code",
   "execution_count": 12,
   "id": "07878611",
   "metadata": {},
   "outputs": [
    {
     "data": {
      "text/plain": [
       "0.0    0.610811\n",
       "1.0    0.167568\n",
       "2.0    0.113514\n",
       "3.0    0.064865\n",
       "4.0    0.043243\n",
       "Name: h.  Independent Learning Lab, dtype: float64"
      ]
     },
     "execution_count": 12,
     "metadata": {},
     "output_type": "execute_result"
    }
   ],
   "source": [
    "PR.iloc[:,79:].iloc[:,1].value_counts(normalize=True)"
   ]
  },
  {
   "cell_type": "code",
   "execution_count": 13,
   "id": "2fb0ca84",
   "metadata": {},
   "outputs": [
    {
     "data": {
      "text/plain": [
       "0.0    0.374359\n",
       "1.0    0.266667\n",
       "2.0    0.153846\n",
       "3.0    0.138462\n",
       "4.0    0.066667\n",
       "Name: i.  Autism Room, dtype: float64"
      ]
     },
     "execution_count": 13,
     "metadata": {},
     "output_type": "execute_result"
    }
   ],
   "source": [
    "PR.iloc[:,79:].iloc[:,2].value_counts(normalize=True)"
   ]
  },
  {
   "cell_type": "code",
   "execution_count": 14,
   "id": "c845aa47",
   "metadata": {},
   "outputs": [],
   "source": [
    "for i in spread[spread['Percent']>0][3:]['Column']:\n",
    "    PR[i]=PR[i].fillna(PR[i].median())"
   ]
  },
  {
   "cell_type": "code",
   "execution_count": 15,
   "id": "01726fc5",
   "metadata": {},
   "outputs": [
    {
     "data": {
      "text/html": [
       "<div>\n",
       "<style scoped>\n",
       "    .dataframe tbody tr th:only-of-type {\n",
       "        vertical-align: middle;\n",
       "    }\n",
       "\n",
       "    .dataframe tbody tr th {\n",
       "        vertical-align: top;\n",
       "    }\n",
       "\n",
       "    .dataframe thead th {\n",
       "        text-align: right;\n",
       "    }\n",
       "</style>\n",
       "<table border=\"1\" class=\"dataframe\">\n",
       "  <thead>\n",
       "    <tr style=\"text-align: right;\">\n",
       "      <th></th>\n",
       "      <th>Column</th>\n",
       "      <th>Percent</th>\n",
       "    </tr>\n",
       "  </thead>\n",
       "  <tbody>\n",
       "    <tr>\n",
       "      <th>71</th>\n",
       "      <td>h.  Independent Learning Lab</td>\n",
       "      <td>0.582589</td>\n",
       "    </tr>\n",
       "    <tr>\n",
       "      <th>72</th>\n",
       "      <td>i.  Autism Room</td>\n",
       "      <td>0.560268</td>\n",
       "    </tr>\n",
       "    <tr>\n",
       "      <th>70</th>\n",
       "      <td>g.  Sensory Room</td>\n",
       "      <td>0.484375</td>\n",
       "    </tr>\n",
       "    <tr>\n",
       "      <th>46</th>\n",
       "      <td>q. Quantity of writing surfaces in learning sp...</td>\n",
       "      <td>0.000000</td>\n",
       "    </tr>\n",
       "    <tr>\n",
       "      <th>52</th>\n",
       "      <td>c.  Learning space(s) for visual arts</td>\n",
       "      <td>0.000000</td>\n",
       "    </tr>\n",
       "    <tr>\n",
       "      <th>...</th>\n",
       "      <td>...</td>\n",
       "      <td>...</td>\n",
       "    </tr>\n",
       "    <tr>\n",
       "      <th>24</th>\n",
       "      <td>h.  Condition of sinks, toilets, urinals, show...</td>\n",
       "      <td>0.000000</td>\n",
       "    </tr>\n",
       "    <tr>\n",
       "      <th>23</th>\n",
       "      <td>g. Number of sinks, toilets, urinals, showers ...</td>\n",
       "      <td>0.000000</td>\n",
       "    </tr>\n",
       "    <tr>\n",
       "      <th>22</th>\n",
       "      <td>f.  Quality of interior lighting</td>\n",
       "      <td>0.000000</td>\n",
       "    </tr>\n",
       "    <tr>\n",
       "      <th>21</th>\n",
       "      <td>e.  Function of power outlets</td>\n",
       "      <td>0.000000</td>\n",
       "    </tr>\n",
       "    <tr>\n",
       "      <th>36</th>\n",
       "      <td>g. Acoustics during teacher presentations</td>\n",
       "      <td>0.000000</td>\n",
       "    </tr>\n",
       "  </tbody>\n",
       "</table>\n",
       "<p>73 rows × 2 columns</p>\n",
       "</div>"
      ],
      "text/plain": [
       "                                               Column   Percent\n",
       "71                       h.  Independent Learning Lab  0.582589\n",
       "72                                    i.  Autism Room  0.560268\n",
       "70                                   g.  Sensory Room  0.484375\n",
       "46  q. Quantity of writing surfaces in learning sp...  0.000000\n",
       "52              c.  Learning space(s) for visual arts  0.000000\n",
       "..                                                ...       ...\n",
       "24  h.  Condition of sinks, toilets, urinals, show...  0.000000\n",
       "23  g. Number of sinks, toilets, urinals, showers ...  0.000000\n",
       "22                   f.  Quality of interior lighting  0.000000\n",
       "21                      e.  Function of power outlets  0.000000\n",
       "36         g. Acoustics during teacher presentations   0.000000\n",
       "\n",
       "[73 rows x 2 columns]"
      ]
     },
     "execution_count": 15,
     "metadata": {},
     "output_type": "execute_result"
    }
   ],
   "source": [
    "( PR.iloc[:,9:].isna().\\\n",
    "     sum()/448).\\\n",
    "    reset_index().\\\n",
    "    rename(columns={'index':'Column',0:'Percent'}).\\\n",
    "    sort_values('Percent',ascending=False)"
   ]
  },
  {
   "cell_type": "code",
   "execution_count": 63,
   "id": "9817eaac",
   "metadata": {},
   "outputs": [],
   "source": [
    "PR.to_csv('C:/Users/dmckenzie/OneDrive - DLR Group/Desktop/COPY CBRE PRDE 020622 CLEANED.csv')"
   ]
  }
 ],
 "metadata": {
  "kernelspec": {
   "display_name": "Python 3 (ipykernel)",
   "language": "python",
   "name": "python3"
  },
  "language_info": {
   "codemirror_mode": {
    "name": "ipython",
    "version": 3
   },
   "file_extension": ".py",
   "mimetype": "text/x-python",
   "name": "python",
   "nbconvert_exporter": "python",
   "pygments_lexer": "ipython3",
   "version": "3.7.10"
  }
 },
 "nbformat": 4,
 "nbformat_minor": 5
}
