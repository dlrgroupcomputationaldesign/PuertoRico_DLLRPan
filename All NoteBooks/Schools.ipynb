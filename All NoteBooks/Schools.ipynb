{
 "cells": [
  {
   "cell_type": "code",
   "execution_count": 1,
   "id": "solved-bible",
   "metadata": {},
   "outputs": [],
   "source": [
    "import pandas as pd"
   ]
  },
  {
   "cell_type": "code",
   "execution_count": 10,
   "id": "amber-agenda",
   "metadata": {},
   "outputs": [],
   "source": [
    "path='C:\\\\Users\\dmckenzie\\OneDrive - DLR Group\\Documents\\Public_Schools.xlsx'\n",
    "path2='C:\\\\Users\\dmckenzie\\OneDrive - DLR Group\\Documents\\DLRGroup_HighSchools.csv'\n",
    "path3='C:\\\\Users\\dmckenzie\\OneDrive - DLR Group\\Documents\\\\acgr-sch-sy2017-18.csv'"
   ]
  },
  {
   "cell_type": "code",
   "execution_count": 5,
   "id": "deadly-baking",
   "metadata": {},
   "outputs": [],
   "source": [
    "Schools=pd.read_excel(path)"
   ]
  },
  {
   "cell_type": "code",
   "execution_count": 9,
   "id": "impressive-procurement",
   "metadata": {},
   "outputs": [],
   "source": [
    "DLRschools=pd.read_csv(path2)"
   ]
  },
  {
   "cell_type": "code",
   "execution_count": 52,
   "id": "parallel-multiple",
   "metadata": {},
   "outputs": [],
   "source": [
    "schoolgradrates=pd.read_csv(path3)"
   ]
  },
  {
   "cell_type": "code",
   "execution_count": 53,
   "id": "fluid-migration",
   "metadata": {},
   "outputs": [],
   "source": [
    "schoolgradrates['ALL_RATE_17182']=schoolgradrates['ALL_RATE_1718'].str.replace('GE','').\\\n",
    "            str.replace('PS','').\\\n",
    "            str.replace('LE','').\\\n",
    "            str.replace('LT','')"
   ]
  },
  {
   "cell_type": "code",
   "execution_count": 54,
   "id": "golden-witch",
   "metadata": {},
   "outputs": [],
   "source": [
    "schoolgradrates=schoolgradrates[schoolgradrates['ALL_RATE_17182']!='']"
   ]
  },
  {
   "cell_type": "code",
   "execution_count": 55,
   "id": "lightweight-trader",
   "metadata": {},
   "outputs": [],
   "source": [
    "schoolgradrates['ALL_RATE_17182']=schoolgradrates['ALL_RATE_17182'].str.split('-').str[0]"
   ]
  },
  {
   "cell_type": "code",
   "execution_count": 155,
   "id": "united-programmer",
   "metadata": {},
   "outputs": [
    {
     "data": {
      "text/plain": [
       "<AxesSubplot:ylabel='Density'>"
      ]
     },
     "execution_count": 155,
     "metadata": {},
     "output_type": "execute_result"
    },
    {
     "data": {
      "image/png": "[encoded data removed]",
      "text/plain": [
       "<Figure size 432x288 with 1 Axes>"
      ]
     },
     "metadata": {
      "needs_background": "light"
     },
     "output_type": "display_data"
    }
   ],
   "source": [
    "schoolgradrates['ALL_RATE_17182'].astype(int).plot.kde()"
   ]
  },
  {
   "cell_type": "code",
   "execution_count": 151,
   "id": "worldwide-victoria",
   "metadata": {},
   "outputs": [
    {
     "data": {
      "text/plain": [
       "<AxesSubplot:>"
      ]
     },
     "execution_count": 151,
     "metadata": {},
     "output_type": "execute_result"
    },
    {
     "data": {
      "image/png": "[encoded data removed]",
      "text/plain": [
       "<Figure size 432x288 with 1 Axes>"
      ]
     },
     "metadata": {
      "needs_background": "light"
     },
     "output_type": "display_data"
    }
   ],
   "source": [
    "schoolgradrates['ALL_RATE_17182'].astype(int).plot(kind='box')"
   ]
  },
  {
   "cell_type": "code",
   "execution_count": 73,
   "id": "worse-belief",
   "metadata": {},
   "outputs": [
    {
     "name": "stdout",
     "output_type": "stream",
     "text": [
      "<class 'pandas.core.frame.DataFrame'>\n",
      "RangeIndex: 45 entries, 0 to 44\n",
      "Data columns (total 12 columns):\n",
      " #   Column                 Non-Null Count  Dtype  \n",
      "---  ------                 --------------  -----  \n",
      " 0   Sector                 45 non-null     object \n",
      " 1   ProjectKey             45 non-null     int64  \n",
      " 2   Project ID             45 non-null     object \n",
      " 3   Project Name           45 non-null     object \n",
      " 4   Business Partner Name  45 non-null     object \n",
      " 5   Project Address        33 non-null     object \n",
      " 6   Project Address 2      4 non-null      object \n",
      " 7   Project Address 3      0 non-null      float64\n",
      " 8   Project City           45 non-null     object \n",
      " 9   Project State          45 non-null     object \n",
      " 10  Project Zip            33 non-null     float64\n",
      " 11  SQ1 Project URL        45 non-null     object \n",
      "dtypes: float64(2), int64(1), object(9)\n",
      "memory usage: 4.3+ KB\n"
     ]
    }
   ],
   "source": [
    "DLRschools.info()"
   ]
  },
  {
   "cell_type": "code",
   "execution_count": 85,
   "id": "affecting-arrangement",
   "metadata": {},
   "outputs": [],
   "source": [
    "import numpy as np"
   ]
  },
  {
   "cell_type": "code",
   "execution_count": 87,
   "id": "dedicated-clerk",
   "metadata": {},
   "outputs": [],
   "source": [
    "DLRschools['Project Address']=np.where(DLRschools['Project Address 2'].isna()==False,DLRschools['Project Address 2'],DLRschools['Project Address'])"
   ]
  },
  {
   "cell_type": "code",
   "execution_count": 203,
   "id": "treated-solomon",
   "metadata": {},
   "outputs": [],
   "source": [
    "DLRschools['Adress2']=(DLRschools['Project Address']+' '+DLRschools['Project State']+' '+DLRschools['Project City']).str.lower().str.replace('.','').str.replace('-',' ')"
   ]
  },
  {
   "cell_type": "code",
   "execution_count": 204,
   "id": "athletic-oliver",
   "metadata": {},
   "outputs": [],
   "source": [
    "Schools['ADDRESS2']=(Schools['ADDRESS']+\" \"+Schools['STATE']+\" \"+Schools['CITY']).str.lower().str.replace('.','').str.replace('-',' ')"
   ]
  },
  {
   "cell_type": "code",
   "execution_count": 238,
   "id": "closing-stadium",
   "metadata": {},
   "outputs": [],
   "source": [
    "Schools2=Schools.set_index('NCESID').join(schoolgradrates[['NCESSCH','ALL_RATE_17182']].set_index('NCESSCH'),how='inner').reset_index()"
   ]
  },
  {
   "cell_type": "code",
   "execution_count": 206,
   "id": "tough-process",
   "metadata": {},
   "outputs": [],
   "source": [
    "from_list =DLRschools[DLRschools['Adress2'].isna()==False].drop_duplicates(subset=['Business Partner Name'])['Adress2'].to_list()\n",
    "two_list=Schools2[Schools2['ADDRESS2'].isna()==False].drop_duplicates(subset=['ADDRESS2'])['ADDRESS2'].to_list()"
   ]
  },
  {
   "cell_type": "code",
   "execution_count": 207,
   "id": "radical-blogger",
   "metadata": {},
   "outputs": [
    {
     "data": {
      "text/plain": [
       "21126"
      ]
     },
     "execution_count": 207,
     "metadata": {},
     "output_type": "execute_result"
    }
   ],
   "source": [
    "len(two_list)"
   ]
  },
  {
   "cell_type": "code",
   "execution_count": 212,
   "id": "explicit-marking",
   "metadata": {},
   "outputs": [
    {
     "data": {
      "text/plain": [
       "<polyfuzz.polyfuzz.PolyFuzz at 0x2249cbddb08>"
      ]
     },
     "execution_count": 212,
     "metadata": {},
     "output_type": "execute_result"
    }
   ],
   "source": [
    "from polyfuzz.models import TFIDF\n",
    "from polyfuzz import PolyFuzz\n",
    "\n",
    "tfidf = TFIDF(n_gram_range=(1, 3))\n",
    "model = PolyFuzz(tfidf)\n",
    "model.match(from_list, two_list)"
   ]
  },
  {
   "cell_type": "code",
   "execution_count": 213,
   "id": "assisted-orientation",
   "metadata": {},
   "outputs": [
    {
     "data": {
      "text/html": [
       "<div>\n",
       "<style scoped>\n",
       "    .dataframe tbody tr th:only-of-type {\n",
       "        vertical-align: middle;\n",
       "    }\n",
       "\n",
       "    .dataframe tbody tr th {\n",
       "        vertical-align: top;\n",
       "    }\n",
       "\n",
       "    .dataframe thead th {\n",
       "        text-align: right;\n",
       "    }\n",
       "</style>\n",
       "<table border=\"1\" class=\"dataframe\">\n",
       "  <thead>\n",
       "    <tr style=\"text-align: right;\">\n",
       "      <th></th>\n",
       "      <th>From</th>\n",
       "      <th>To</th>\n",
       "      <th>Similarity</th>\n",
       "    </tr>\n",
       "  </thead>\n",
       "  <tbody>\n",
       "    <tr>\n",
       "      <th>17</th>\n",
       "      <td>23499 se tahoma way wa maple valley</td>\n",
       "      <td>23499 se tahoma way wa maple valley</td>\n",
       "      <td>1.000000</td>\n",
       "    </tr>\n",
       "    <tr>\n",
       "      <th>3</th>\n",
       "      <td>16610 bennington road ne bennington</td>\n",
       "      <td>16610 bennington road ne bennington</td>\n",
       "      <td>1.000000</td>\n",
       "    </tr>\n",
       "    <tr>\n",
       "      <th>6</th>\n",
       "      <td>7111 aurora avenue ia urbandale</td>\n",
       "      <td>7111 aurora avenue ia urbandale</td>\n",
       "      <td>1.000000</td>\n",
       "    </tr>\n",
       "    <tr>\n",
       "      <th>7</th>\n",
       "      <td>204 n league rd ia colfax</td>\n",
       "      <td>204 n league rd ia colfax</td>\n",
       "      <td>1.000000</td>\n",
       "    </tr>\n",
       "    <tr>\n",
       "      <th>9</th>\n",
       "      <td>13260 switzer road ks overland park</td>\n",
       "      <td>13260 switzer road ks overland park</td>\n",
       "      <td>1.000000</td>\n",
       "    </tr>\n",
       "    <tr>\n",
       "      <th>21</th>\n",
       "      <td>20167 grim rd ne or aurora</td>\n",
       "      <td>20167 grim rd ne or aurora</td>\n",
       "      <td>1.000000</td>\n",
       "    </tr>\n",
       "    <tr>\n",
       "      <th>20</th>\n",
       "      <td>1130 sw queen ave or albany</td>\n",
       "      <td>1130 queen ave sw or albany</td>\n",
       "      <td>1.000000</td>\n",
       "    </tr>\n",
       "    <tr>\n",
       "      <th>25</th>\n",
       "      <td>11725 donner pass road ca truckee</td>\n",
       "      <td>11725 donner pass rd ca truckee</td>\n",
       "      <td>0.967004</td>\n",
       "    </tr>\n",
       "    <tr>\n",
       "      <th>29</th>\n",
       "      <td>2401 e baristo road ca palm springs</td>\n",
       "      <td>2401 e baristo rd ca palm springs</td>\n",
       "      <td>0.957625</td>\n",
       "    </tr>\n",
       "    <tr>\n",
       "      <th>28</th>\n",
       "      <td>15615 e nelson avenue ca la puente</td>\n",
       "      <td>15615 e nelson ave ca la puente</td>\n",
       "      <td>0.948358</td>\n",
       "    </tr>\n",
       "    <tr>\n",
       "      <th>12</th>\n",
       "      <td>609 union street mo jefferson city</td>\n",
       "      <td>609 union mo jefferson city</td>\n",
       "      <td>0.945415</td>\n",
       "    </tr>\n",
       "    <tr>\n",
       "      <th>27</th>\n",
       "      <td>241 moreno drive ca beverly hills</td>\n",
       "      <td>241 moreno dr ca beverly hills</td>\n",
       "      <td>0.945313</td>\n",
       "    </tr>\n",
       "    <tr>\n",
       "      <th>22</th>\n",
       "      <td>11375 sw center street or beaverton</td>\n",
       "      <td>11375 sw center st or beaverton</td>\n",
       "      <td>0.944971</td>\n",
       "    </tr>\n",
       "    <tr>\n",
       "      <th>10</th>\n",
       "      <td>2300 e 13th street ks hays</td>\n",
       "      <td>2300 e 13th ks hays</td>\n",
       "      <td>0.914132</td>\n",
       "    </tr>\n",
       "    <tr>\n",
       "      <th>15</th>\n",
       "      <td>7005 carefree cir n co colorado springs</td>\n",
       "      <td>7005 north carefree circle co colorado springs</td>\n",
       "      <td>0.911932</td>\n",
       "    </tr>\n",
       "    <tr>\n",
       "      <th>11</th>\n",
       "      <td>1978 e 4th street ks pittsburg</td>\n",
       "      <td>1978 east 4th ks pittsburg</td>\n",
       "      <td>0.911501</td>\n",
       "    </tr>\n",
       "    <tr>\n",
       "      <th>24</th>\n",
       "      <td>1245 north euclid avenue ca ontario</td>\n",
       "      <td>1245 n euclid ave ca ontario</td>\n",
       "      <td>0.896759</td>\n",
       "    </tr>\n",
       "    <tr>\n",
       "      <th>0</th>\n",
       "      <td>124 north 20th street ne omaha</td>\n",
       "      <td>124 n 20th st ne omaha</td>\n",
       "      <td>0.854193</td>\n",
       "    </tr>\n",
       "    <tr>\n",
       "      <th>4</th>\n",
       "      <td>705 north 9th street ne arlington</td>\n",
       "      <td>705 n 9th ne arlington</td>\n",
       "      <td>0.846654</td>\n",
       "    </tr>\n",
       "    <tr>\n",
       "      <th>8</th>\n",
       "      <td>1120 s ash street ks ottawa</td>\n",
       "      <td>1120 south ash ks ottawa</td>\n",
       "      <td>0.829638</td>\n",
       "    </tr>\n",
       "    <tr>\n",
       "      <th>19</th>\n",
       "      <td>1820 'b' street wa spanaway</td>\n",
       "      <td>18020 b street east wa spanaway</td>\n",
       "      <td>0.760815</td>\n",
       "    </tr>\n",
       "    <tr>\n",
       "      <th>13</th>\n",
       "      <td>6410 south dante avenue il chicago</td>\n",
       "      <td>8164 s south chicago il chicago</td>\n",
       "      <td>0.645065</td>\n",
       "    </tr>\n",
       "    <tr>\n",
       "      <th>14</th>\n",
       "      <td>6024 n perryville road az waddell</td>\n",
       "      <td>1696 perryville rd md perryville</td>\n",
       "      <td>0.590316</td>\n",
       "    </tr>\n",
       "    <tr>\n",
       "      <th>1</th>\n",
       "      <td>60th &amp; l streets ne omaha</td>\n",
       "      <td>124 n 20th st ne omaha</td>\n",
       "      <td>0.587407</td>\n",
       "    </tr>\n",
       "    <tr>\n",
       "      <th>2</th>\n",
       "      <td>180th &amp; west maple road ne elkhorn</td>\n",
       "      <td>400 county road h wi elkhorn</td>\n",
       "      <td>0.581378</td>\n",
       "    </tr>\n",
       "    <tr>\n",
       "      <th>23</th>\n",
       "      <td>14211 se johnson road or milwaukie</td>\n",
       "      <td>2301 se willard st or milwaukie</td>\n",
       "      <td>0.568460</td>\n",
       "    </tr>\n",
       "    <tr>\n",
       "      <th>16</th>\n",
       "      <td>1500 merrimac drive md langley park</td>\n",
       "      <td>4500 nw river park dr mo riverside</td>\n",
       "      <td>0.424320</td>\n",
       "    </tr>\n",
       "    <tr>\n",
       "      <th>5</th>\n",
       "      <td>355 mcbreen circle ne boys town</td>\n",
       "      <td>144 mcbride street ma boston</td>\n",
       "      <td>0.417109</td>\n",
       "    </tr>\n",
       "    <tr>\n",
       "      <th>26</th>\n",
       "      <td>(near intersection of hayden pkwy &amp; bob doyle ...</td>\n",
       "      <td>1 tiger way ca roseville</td>\n",
       "      <td>0.405765</td>\n",
       "    </tr>\n",
       "    <tr>\n",
       "      <th>18</th>\n",
       "      <td>5125 nw nan henriksen way wa camas</td>\n",
       "      <td>197 main camas rd or camas valley</td>\n",
       "      <td>0.326316</td>\n",
       "    </tr>\n",
       "  </tbody>\n",
       "</table>\n",
       "</div>"
      ],
      "text/plain": [
       "                                                 From  \\\n",
       "17                23499 se tahoma way wa maple valley   \n",
       "3                 16610 bennington road ne bennington   \n",
       "6                     7111 aurora avenue ia urbandale   \n",
       "7                           204 n league rd ia colfax   \n",
       "9                 13260 switzer road ks overland park   \n",
       "21                         20167 grim rd ne or aurora   \n",
       "20                        1130 sw queen ave or albany   \n",
       "25                  11725 donner pass road ca truckee   \n",
       "29                2401 e baristo road ca palm springs   \n",
       "28                 15615 e nelson avenue ca la puente   \n",
       "12                 609 union street mo jefferson city   \n",
       "27                  241 moreno drive ca beverly hills   \n",
       "22                11375 sw center street or beaverton   \n",
       "10                         2300 e 13th street ks hays   \n",
       "15            7005 carefree cir n co colorado springs   \n",
       "11                     1978 e 4th street ks pittsburg   \n",
       "24                1245 north euclid avenue ca ontario   \n",
       "0                      124 north 20th street ne omaha   \n",
       "4                   705 north 9th street ne arlington   \n",
       "8                         1120 s ash street ks ottawa   \n",
       "19                        1820 'b' street wa spanaway   \n",
       "13                 6410 south dante avenue il chicago   \n",
       "14                  6024 n perryville road az waddell   \n",
       "1                           60th & l streets ne omaha   \n",
       "2                  180th & west maple road ne elkhorn   \n",
       "23                 14211 se johnson road or milwaukie   \n",
       "16                1500 merrimac drive md langley park   \n",
       "5                     355 mcbreen circle ne boys town   \n",
       "26  (near intersection of hayden pkwy & bob doyle ...   \n",
       "18                 5125 nw nan henriksen way wa camas   \n",
       "\n",
       "                                                To  Similarity  \n",
       "17             23499 se tahoma way wa maple valley    1.000000  \n",
       "3              16610 bennington road ne bennington    1.000000  \n",
       "6                  7111 aurora avenue ia urbandale    1.000000  \n",
       "7                        204 n league rd ia colfax    1.000000  \n",
       "9              13260 switzer road ks overland park    1.000000  \n",
       "21                      20167 grim rd ne or aurora    1.000000  \n",
       "20                     1130 queen ave sw or albany    1.000000  \n",
       "25                 11725 donner pass rd ca truckee    0.967004  \n",
       "29               2401 e baristo rd ca palm springs    0.957625  \n",
       "28                 15615 e nelson ave ca la puente    0.948358  \n",
       "12                     609 union mo jefferson city    0.945415  \n",
       "27                  241 moreno dr ca beverly hills    0.945313  \n",
       "22                 11375 sw center st or beaverton    0.944971  \n",
       "10                             2300 e 13th ks hays    0.914132  \n",
       "15  7005 north carefree circle co colorado springs    0.911932  \n",
       "11                      1978 east 4th ks pittsburg    0.911501  \n",
       "24                    1245 n euclid ave ca ontario    0.896759  \n",
       "0                           124 n 20th st ne omaha    0.854193  \n",
       "4                           705 n 9th ne arlington    0.846654  \n",
       "8                         1120 south ash ks ottawa    0.829638  \n",
       "19                 18020 b street east wa spanaway    0.760815  \n",
       "13                 8164 s south chicago il chicago    0.645065  \n",
       "14                1696 perryville rd md perryville    0.590316  \n",
       "1                           124 n 20th st ne omaha    0.587407  \n",
       "2                     400 county road h wi elkhorn    0.581378  \n",
       "23                 2301 se willard st or milwaukie    0.568460  \n",
       "16              4500 nw river park dr mo riverside    0.424320  \n",
       "5                     144 mcbride street ma boston    0.417109  \n",
       "26                        1 tiger way ca roseville    0.405765  \n",
       "18               197 main camas rd or camas valley    0.326316  "
      ]
     },
     "execution_count": 213,
     "metadata": {},
     "output_type": "execute_result"
    }
   ],
   "source": [
    "model.get_matches().sort_values('Similarity',ascending=False)"
   ]
  },
  {
   "cell_type": "code",
   "execution_count": 214,
   "id": "presidential-transmission",
   "metadata": {},
   "outputs": [],
   "source": [
    "matchdf=model.get_matches().sort_values('Similarity',ascending=False)"
   ]
  },
  {
   "cell_type": "code",
   "execution_count": 218,
   "id": "annual-webcam",
   "metadata": {},
   "outputs": [],
   "source": [
    "dlrmatched=matchdf[matchdf['Similarity']>=.7].set_index('To').join(Schools2.set_index('ADDRESS2')[['ALL_RATE_17182','']])"
   ]
  },
  {
   "cell_type": "code",
   "execution_count": 219,
   "id": "reported-amber",
   "metadata": {},
   "outputs": [
    {
     "data": {
      "text/plain": [
       "22"
      ]
     },
     "execution_count": 219,
     "metadata": {},
     "output_type": "execute_result"
    }
   ],
   "source": [
    "len(dlrmatched)"
   ]
  },
  {
   "cell_type": "code",
   "execution_count": 240,
   "id": "impaired-objective",
   "metadata": {},
   "outputs": [],
   "source": [
    "DLRschools2=DLRschools[DLRschools['Adress2'].isna()==False].\\\n",
    "    drop_duplicates(subset=['Business Partner Name']).\\\n",
    "    set_index('Adress2').join(dlrmatched.\\\n",
    "                              set_index('From'),\n",
    "                              how='inner').\\\n",
    "    reset_index()"
   ]
  },
  {
   "cell_type": "code",
   "execution_count": 242,
   "id": "attractive-seller",
   "metadata": {},
   "outputs": [
    {
     "data": {
      "text/plain": [
       "85.0"
      ]
     },
     "execution_count": 242,
     "metadata": {},
     "output_type": "execute_result"
    }
   ],
   "source": [
    "schoolgradrates['ALL_RATE_17182'].astype(int).median()"
   ]
  },
  {
   "cell_type": "code",
   "execution_count": 243,
   "id": "sweet-vermont",
   "metadata": {},
   "outputs": [
    {
     "data": {
      "text/plain": [
       "90.0"
      ]
     },
     "execution_count": 243,
     "metadata": {},
     "output_type": "execute_result"
    }
   ],
   "source": [
    "DLRschools2['ALL_RATE_17182'].astype(int).median()"
   ]
  },
  {
   "cell_type": "code",
   "execution_count": 258,
   "id": "wired-blanket",
   "metadata": {},
   "outputs": [
    {
     "data": {
      "text/plain": [
       "(0.0, 100.0)"
      ]
     },
     "execution_count": 258,
     "metadata": {},
     "output_type": "execute_result"
    },
    {
     "data": {
      "image/png": "[encoded data removed]",
      "text/plain": [
       "<Figure size 432x288 with 1 Axes>"
      ]
     },
     "metadata": {
      "needs_background": "light"
     },
     "output_type": "display_data"
    }
   ],
   "source": [
    "schoolgradrates['ALL_RATE_17182'].astype(int).plot.kde()\n",
    "DLRschools2['ALL_RATE_17182'].astype(int).plot.kde().set_xlim(0,100)"
   ]
  },
  {
   "cell_type": "code",
   "execution_count": 263,
   "id": "informal-drunk",
   "metadata": {},
   "outputs": [],
   "source": [
    "DLRschools2.to_csv('C:\\\\Users\\dmckenzie\\OneDrive - DLR Group\\Documents\\DLR School Grad Rates.csv')"
   ]
  },
  {
   "cell_type": "code",
   "execution_count": 297,
   "id": "linear-landscape",
   "metadata": {},
   "outputs": [],
   "source": [
    "from plotnine import ggplot,aes,geom_density,theme_bw,ggtitle,geom_boxplot,coord_flip,xlab"
   ]
  },
  {
   "cell_type": "code",
   "execution_count": 268,
   "id": "favorite-absorption",
   "metadata": {},
   "outputs": [],
   "source": [
    "schoolgradrates['ALL_RATE_17182']=schoolgradrates['ALL_RATE_17182'].astype(int)"
   ]
  },
  {
   "cell_type": "code",
   "execution_count": 270,
   "id": "silver-donna",
   "metadata": {},
   "outputs": [],
   "source": [
    "DLRschools2['ALL_RATE_17182']=DLRschools2['ALL_RATE_17182'].astype(int)"
   ]
  },
  {
   "cell_type": "code",
   "execution_count": 285,
   "id": "modified-charger",
   "metadata": {},
   "outputs": [],
   "source": [
    "grads=pd.DataFrame({'Grad Rate':schoolgradrates['ALL_RATE_17182'],'Type':'All High Schools'}).\\\n",
    "    append(pd.DataFrame({'Grad Rate':DLRschools2['ALL_RATE_17182'],'Type':'High Schools With DLR Design'}))"
   ]
  },
  {
   "cell_type": "code",
   "execution_count": 298,
   "id": "hearing-discovery",
   "metadata": {},
   "outputs": [
    {
     "data": {
      "image/png": "[encoded data removed]",
      "text/plain": [
       "<Figure size 640x480 with 1 Axes>"
      ]
     },
     "metadata": {},
     "output_type": "display_data"
    },
    {
     "data": {
      "text/plain": [
       "<ggplot: (-9223371889587830944)>"
      ]
     },
     "execution_count": 298,
     "metadata": {},
     "output_type": "execute_result"
    }
   ],
   "source": [
    "(ggplot(grads, aes(x='factor(Type)',y='Grad Rate', color='factor(Type)'))+\n",
    "     geom_boxplot(size=1)+\n",
    "     theme_bw()+ggtitle('DLR Schools VS Non DLR Schools')+coord_flip()+xlab('Type'))"
   ]
  },
  {
   "cell_type": "code",
   "execution_count": 292,
   "id": "running-evening",
   "metadata": {},
   "outputs": [
    {
     "data": {
      "image/png": "[encoded data removed]",
      "text/plain": [
       "<Figure size 640x480 with 1 Axes>"
      ]
     },
     "metadata": {},
     "output_type": "display_data"
    },
    {
     "data": {
      "text/plain": [
       "<ggplot: (-9223371889585633352)>"
      ]
     },
     "execution_count": 292,
     "metadata": {},
     "output_type": "execute_result"
    }
   ],
   "source": [
    "(ggplot(grads, aes(x='Grad Rate', color='factor(Type)'))+\n",
    "     geom_density(size=1)+\n",
    "     theme_bw()+ggtitle('DLR Schools VS Non DLR Schools'))"
   ]
  },
  {
   "cell_type": "code",
   "execution_count": 264,
   "id": "typical-german",
   "metadata": {},
   "outputs": [],
   "source": [
    "schoolgradrates[['NCESSCH','ALL_RATE_17182']].to_csv('C:\\\\Users\\dmckenzie\\OneDrive - DLR Group\\Documents\\School Grad Rates.csv')"
   ]
  },
  {
   "cell_type": "code",
   "execution_count": 299,
   "id": "frequent-sister",
   "metadata": {},
   "outputs": [],
   "source": [
    "#"
   ]
  },
  {
   "cell_type": "code",
   "execution_count": 300,
   "id": "adjusted-butler",
   "metadata": {},
   "outputs": [],
   "source": [
    "#"
   ]
  },
  {
   "cell_type": "code",
   "execution_count": 301,
   "id": "defensive-loading",
   "metadata": {},
   "outputs": [],
   "source": [
    "#"
   ]
  },
  {
   "cell_type": "code",
   "execution_count": 302,
   "id": "fitting-livestock",
   "metadata": {},
   "outputs": [],
   "source": [
    "#"
   ]
  },
  {
   "cell_type": "code",
   "execution_count": 303,
   "id": "minus-summary",
   "metadata": {},
   "outputs": [],
   "source": [
    "#"
   ]
  },
  {
   "cell_type": "code",
   "execution_count": 304,
   "id": "aboriginal-stranger",
   "metadata": {},
   "outputs": [],
   "source": [
    "#circle -> cir\n",
    "#street -> st\n",
    "#north ->\n",
    "#avenue -> ave\n",
    "#streets ->st"
   ]
  }
 ],
 "metadata": {
  "kernelspec": {
   "display_name": "Python 3",
   "language": "python",
   "name": "python3"
  },
  "language_info": {
   "codemirror_mode": {
    "name": "ipython",
    "version": 3
   },
   "file_extension": ".py",
   "mimetype": "text/x-python",
   "name": "python",
   "nbconvert_exporter": "python",
   "pygments_lexer": "ipython3",
   "version": "3.7.9"
  }
 },
 "nbformat": 4,
 "nbformat_minor": 5
}
