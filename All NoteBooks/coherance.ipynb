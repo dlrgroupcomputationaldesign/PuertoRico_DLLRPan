{
 "cells": [
  {
   "cell_type": "code",
   "execution_count": null,
   "id": "disturbed-dominant",
   "metadata": {},
   "outputs": [],
   "source": [
    "minsizes=list(range(3,50))\n",
    "import hdbscan\n",
    "import umap\n",
    "reducer = umap.UMAP( n_components=3,random_state=0)\n",
    "embedding = reducer.fit_transform(embeddings)\n",
    "bedded2=pd.DataFrame({'X1':embedding[:,0],\n",
    "                      \"X2\":embedding[:,1],\n",
    "                      \"X3\":embedding[:,2]})\n",
    "\n",
    "\n",
    "coherencescores=[]\n",
    "noveltyscores=[]\n",
    "for i in minsizes:\n",
    "    clusterer = hdbscan.HDBSCAN(min_cluster_size=i)\n",
    "    cluster_labels = clusterer.fit_predict(bedded2[['X1','X2','X3']])\n",
    "    LabFrame=pd.DataFrame({'Cluster':cluster_labels.astype('str'),'Item':forjoin})\n",
    "    LabFrame=LabFrame[LabFrame['Cluster']!='-1']\n",
    "    topsr=get_ngrams(LabFrame.drop_duplicates(['Cluster','Item']).set_index('Cluster')['Item'],1).reset_index().\\\n",
    "    assign(Dummy=1).groupby(['Cluster','Item'])['Dummy'].sum().reset_index().\\\n",
    "    sort_values(['Cluster','Dummy'],ascending=False).groupby(['Cluster']).head(5).\\\n",
    "    reset_index(drop=True)\n",
    "    tested=topsr.groupby('Cluster')['Item'].apply(list).reset_index()\n",
    "    \n",
    "    coherence=[]\n",
    "    for zed in tested['Item']:\n",
    "        coherence.append(word2vecscore(zed,model))\n",
    "    \n",
    "    coherencescores.append(np.median(coherence))\n",
    "    \n",
    "    \n",
    "    alltopics=list(itertools.combinations(list(tested['Item']),2))\n",
    "    redundancy=[]\n",
    "    for j in alltopics:\n",
    "        redundancy.append(model.wv.n_similarity(j[0],j[1]))\n",
    "    \n",
    "    noveltyscores.append(1-np.median(redundancy))\n",
    "    \n",
    "\n",
    "pd.DataFrame({'MinSize':minsizes,\n",
    "              'Coherence':coherencescores,\n",
    "                'Novel':noveltyscores}).plot(x='MinSize')\n",
    "print(pd.DataFrame({'MinSize':minsizes,\n",
    "              'Coherence':coherencescores,\n",
    "                'Novel':noveltyscores}))    "
   ]
  }
 ],
 "metadata": {
  "kernelspec": {
   "display_name": "Python 3",
   "language": "python",
   "name": "python3"
  },
  "language_info": {
   "codemirror_mode": {
    "name": "ipython",
    "version": 3
   },
   "file_extension": ".py",
   "mimetype": "text/x-python",
   "name": "python",
   "nbconvert_exporter": "python",
   "pygments_lexer": "ipython3",
   "version": "3.7.9"
  }
 },
 "nbformat": 4,
 "nbformat_minor": 5
}
