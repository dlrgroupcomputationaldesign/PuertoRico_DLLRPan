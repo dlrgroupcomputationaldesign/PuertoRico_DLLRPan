{
 "cells": [
  {
   "cell_type": "code",
   "execution_count": 13,
   "id": "50e52556",
   "metadata": {},
   "outputs": [],
   "source": [
    "teacherslist=list(range(0,82))"
   ]
  },
  {
   "cell_type": "code",
   "execution_count": 376,
   "id": "0b75927a",
   "metadata": {},
   "outputs": [],
   "source": [
    "import numpy as np"
   ]
  },
  {
   "cell_type": "code",
   "execution_count": 372,
   "id": "05bf2864",
   "metadata": {},
   "outputs": [],
   "source": [
    "SimFrame=pd.DataFrame()\n",
    "teacherslist=list(range(0,82))\n",
    "for q in range(0,100):\n",
    "\n",
    "    confcounter={'0':0,'1':0,\"2\":0,\"7\":0}\n",
    "    lunchcounter={'3':0,'4':0,\"5\":0,\"6\":0}\n",
    "    stop=21\n",
    "    schedules=[]\n",
    "\n",
    "    for i in teacherslist:\n",
    "    \n",
    "        lunch=[]\n",
    "    \n",
    "        for j in list(lunchcounter.keys()):\n",
    "            if lunchcounter[str(j)]<stop:\n",
    "                lunch.append(int(j))\n",
    "    \n",
    "        schedule= [\"On\",\"On\",'On',\"On\",\"On\",'On',\"On\",'On']\n",
    "    \n",
    "        lt=np.random.choice(lunch,1)[0]\n",
    "    \n",
    "        schedule[lt]='Off'\n",
    "        lunchcounter[str(lt)]+=1\n",
    "    \n",
    "        conf=[]\n",
    "        \n",
    "        for x in list(confcounter.keys()):\n",
    "            if confcounter[str(x)]<stop:\n",
    "                conf.append(int(x))\n",
    "    \n",
    "        co=np.random.choice(conf,1)[0]\n",
    "    \n",
    "        schedule[co]='Off'\n",
    "        confcounter[str(co)]+=1\n",
    "    \n",
    "        schedules.append(schedule)\n",
    "        \n",
    "    for z in range(0,len(teacherslist)):\n",
    "        classrooms=list(range(1,68))\n",
    "        \n",
    "        for b in range(0,len(schedules[z])):\n",
    "            if (schedules[z][b]=='On') & (len(classrooms)>1):\n",
    "                pick=np.random.choice(classrooms,1)\n",
    "                schedules[z][b]=int(pick)\n",
    "                classrooms=(classrooms[0:int(pick)-1]+classrooms[int(pick):])\n",
    "        \n",
    "            elif schedules[z][b]=='Off':\n",
    "                continue  \n",
    "            else:\n",
    "                schedules[z][b]='Hallway'\n",
    "        \n",
    "    \n",
    "    SimFrame=SimFrame.append(pd.DataFrame(schedules).assign(Simulation=q+1))\n",
    "        "
   ]
  },
  {
   "cell_type": "code",
   "execution_count": 373,
   "id": "55c01c25",
   "metadata": {},
   "outputs": [
    {
     "data": {
      "text/plain": [
       "0             2041\n",
       "1             2049\n",
       "2             2048\n",
       "3             2040\n",
       "4             2051\n",
       "5             2051\n",
       "6             2058\n",
       "7             2062\n",
       "Simulation       0\n",
       "dtype: int64"
      ]
     },
     "execution_count": 373,
     "metadata": {},
     "output_type": "execute_result"
    }
   ],
   "source": [
    "(SimFrame=='Off').sum()"
   ]
  },
  {
   "cell_type": "code",
   "execution_count": 374,
   "id": "a7b88ee2",
   "metadata": {},
   "outputs": [
    {
     "data": {
      "text/plain": [
       "0             20.41\n",
       "1             20.49\n",
       "2             20.48\n",
       "3             20.40\n",
       "4             20.51\n",
       "5             20.51\n",
       "6             20.58\n",
       "7             20.62\n",
       "Simulation     0.00\n",
       "dtype: float64"
      ]
     },
     "execution_count": 374,
     "metadata": {},
     "output_type": "execute_result"
    }
   ],
   "source": [
    "(SimFrame=='Off').sum()/100"
   ]
  },
  {
   "cell_type": "code",
   "execution_count": 375,
   "id": "cd98b80e",
   "metadata": {},
   "outputs": [
    {
     "data": {
      "text/plain": [
       "0             0.0\n",
       "1             0.0\n",
       "2             0.0\n",
       "3             0.0\n",
       "4             0.0\n",
       "5             0.0\n",
       "6             0.0\n",
       "7             0.0\n",
       "Simulation    0.0\n",
       "dtype: float64"
      ]
     },
     "execution_count": 375,
     "metadata": {},
     "output_type": "execute_result"
    }
   ],
   "source": [
    "(SimFrame=='Hallway').sum()/5"
   ]
  },
  {
   "cell_type": "code",
   "execution_count": 331,
   "id": "e763e571",
   "metadata": {},
   "outputs": [
    {
     "data": {
      "text/plain": [
       "999"
      ]
     },
     "execution_count": 331,
     "metadata": {},
     "output_type": "execute_result"
    }
   ],
   "source": [
    "q"
   ]
  },
  {
   "cell_type": "code",
   "execution_count": 324,
   "id": "ca4e9e3c",
   "metadata": {},
   "outputs": [
    {
     "data": {
      "text/plain": [
       "82"
      ]
     },
     "execution_count": 324,
     "metadata": {},
     "output_type": "execute_result"
    }
   ],
   "source": [
    "len(schedules)"
   ]
  },
  {
   "cell_type": "code",
   "execution_count": 296,
   "id": "2c67f98c",
   "metadata": {},
   "outputs": [],
   "source": [
    "\n",
    "confcounter={'0':0,'1':0,\"2\":0,\"7\":0}\n",
    "lunchcounter={'3':0,'4':0,\"5\":0,\"6\":0}\n",
    "stop=21\n",
    "schedules=[]\n",
    "\n",
    "for i in teacherslist:\n",
    "    \n",
    "    lunch=[]\n",
    "    \n",
    "    for j in list(lunchcounter.keys()):\n",
    "        if lunchcounter[str(j)]<stop:\n",
    "            lunch.append(int(j))\n",
    "    \n",
    "    schedule= [\"On\",\"On\",'On',\"On\",\"On\",'On',\"On\",'On']\n",
    "    \n",
    "    lt=np.random.choice(lunch,1)[0]\n",
    "    \n",
    "    schedule[lt]='Off'\n",
    "    lunchcounter[str(lt)]+=1\n",
    "    \n",
    "    conf=[]\n",
    "    for x in list(confcounter.keys()):\n",
    "        if confcounter[str(x)]<stop:\n",
    "            conf.append(int(x))\n",
    "    \n",
    "    co=np.random.choice(conf,1)[0]\n",
    "    \n",
    "    schedule[co]='Off'\n",
    "    confcounter[str(co)]+=1\n",
    "    \n",
    "    schedules.append(schedule)\n",
    "\n",
    "for i in range(0,len(teacherslist)):\n",
    "    classrooms=list(range(1,68))\n",
    "    for j in range(0,len(schedules[i])):\n",
    "        if (schedules[i][j]=='On') & (len(classrooms)>1):\n",
    "            pick=np.random.choice(classrooms,1)\n",
    "            schedules[i][j]=int(pick)\n",
    "            classrooms=(classrooms[0:int(pick)-1]+classrooms[int(pick):])\n",
    "        \n",
    "        elif schedules[i][j]=='Off':\n",
    "            continue  \n",
    "        else:\n",
    "            schedules[i][j]='Hallway'    \n",
    "    \n",
    "pd.DataFrame(schedules).assign(Simulation=1)\n",
    "    \n",
    "    "
   ]
  },
  {
   "cell_type": "code",
   "execution_count": 297,
   "id": "f1bf479d",
   "metadata": {},
   "outputs": [
    {
     "data": {
      "text/plain": [
       "{'3': 21, '4': 21, '5': 19, '6': 21}"
      ]
     },
     "execution_count": 297,
     "metadata": {},
     "output_type": "execute_result"
    }
   ],
   "source": [
    "lunchcounter"
   ]
  },
  {
   "cell_type": "code",
   "execution_count": 298,
   "id": "6d76e3c5",
   "metadata": {},
   "outputs": [
    {
     "data": {
      "text/plain": [
       "{'0': 21, '1': 20, '2': 20, '7': 21}"
      ]
     },
     "execution_count": 298,
     "metadata": {},
     "output_type": "execute_result"
    }
   ],
   "source": [
    "confcounter"
   ]
  },
  {
   "cell_type": "code",
   "execution_count": 299,
   "id": "31c5566a",
   "metadata": {},
   "outputs": [],
   "source": [
    "classrooms=list(range(1,68))"
   ]
  },
  {
   "cell_type": "code",
   "execution_count": 300,
   "id": "5fb4460d",
   "metadata": {},
   "outputs": [
    {
     "data": {
      "text/plain": [
       "['Off', 'On', 'On', 'On', 'On', 'Off', 'On', 'On']"
      ]
     },
     "execution_count": 300,
     "metadata": {},
     "output_type": "execute_result"
    }
   ],
   "source": [
    "schedules[i]"
   ]
  },
  {
   "cell_type": "code",
   "execution_count": 305,
   "id": "2bc34c94",
   "metadata": {},
   "outputs": [],
   "source": [
    "for i in range(0,len(teacherslist)):\n",
    "    classrooms=list(range(1,68))\n",
    "    for j in range(0,len(schedules[i])):\n",
    "        if (schedules[i][j]=='On') & (len(classrooms)>1):\n",
    "            pick=np.random.choice(classrooms,1)\n",
    "            schedules[i][j]=int(pick)\n",
    "            classrooms=(classrooms[0:int(pick)-1]+classrooms[int(pick):])\n",
    "        \n",
    "        elif schedules[i][j]=='Off':\n",
    "            continue  \n",
    "        else:\n",
    "            schedules[i][j]='Hallway'"
   ]
  },
  {
   "cell_type": "code",
   "execution_count": 307,
   "id": "29d9f101",
   "metadata": {},
   "outputs": [],
   "source": [
    "import pandas as pd"
   ]
  },
  {
   "cell_type": "code",
   "execution_count": null,
   "id": "8fdf18c3",
   "metadata": {},
   "outputs": [],
   "source": [
    "sim"
   ]
  },
  {
   "cell_type": "code",
   "execution_count": 310,
   "id": "91dcc1e8",
   "metadata": {},
   "outputs": [
    {
     "data": {
      "text/html": [
       "<div>\n",
       "<style scoped>\n",
       "    .dataframe tbody tr th:only-of-type {\n",
       "        vertical-align: middle;\n",
       "    }\n",
       "\n",
       "    .dataframe tbody tr th {\n",
       "        vertical-align: top;\n",
       "    }\n",
       "\n",
       "    .dataframe thead th {\n",
       "        text-align: right;\n",
       "    }\n",
       "</style>\n",
       "<table border=\"1\" class=\"dataframe\">\n",
       "  <thead>\n",
       "    <tr style=\"text-align: right;\">\n",
       "      <th></th>\n",
       "      <th>0</th>\n",
       "      <th>1</th>\n",
       "      <th>2</th>\n",
       "      <th>3</th>\n",
       "      <th>4</th>\n",
       "      <th>5</th>\n",
       "      <th>6</th>\n",
       "      <th>7</th>\n",
       "      <th>Simulation</th>\n",
       "    </tr>\n",
       "  </thead>\n",
       "  <tbody>\n",
       "    <tr>\n",
       "      <th>0</th>\n",
       "      <td>41</td>\n",
       "      <td>22</td>\n",
       "      <td>12</td>\n",
       "      <td>54</td>\n",
       "      <td>32</td>\n",
       "      <td>66</td>\n",
       "      <td>Off</td>\n",
       "      <td>Off</td>\n",
       "      <td>1</td>\n",
       "    </tr>\n",
       "    <tr>\n",
       "      <th>1</th>\n",
       "      <td>Off</td>\n",
       "      <td>28</td>\n",
       "      <td>44</td>\n",
       "      <td>21</td>\n",
       "      <td>37</td>\n",
       "      <td>Off</td>\n",
       "      <td>57</td>\n",
       "      <td>59</td>\n",
       "      <td>1</td>\n",
       "    </tr>\n",
       "    <tr>\n",
       "      <th>2</th>\n",
       "      <td>Off</td>\n",
       "      <td>4</td>\n",
       "      <td>27</td>\n",
       "      <td>36</td>\n",
       "      <td>Off</td>\n",
       "      <td>3</td>\n",
       "      <td>42</td>\n",
       "      <td>33</td>\n",
       "      <td>1</td>\n",
       "    </tr>\n",
       "    <tr>\n",
       "      <th>3</th>\n",
       "      <td>50</td>\n",
       "      <td>Off</td>\n",
       "      <td>2</td>\n",
       "      <td>7</td>\n",
       "      <td>Off</td>\n",
       "      <td>62</td>\n",
       "      <td>38</td>\n",
       "      <td>33</td>\n",
       "      <td>1</td>\n",
       "    </tr>\n",
       "    <tr>\n",
       "      <th>4</th>\n",
       "      <td>52</td>\n",
       "      <td>Off</td>\n",
       "      <td>25</td>\n",
       "      <td>Off</td>\n",
       "      <td>61</td>\n",
       "      <td>53</td>\n",
       "      <td>35</td>\n",
       "      <td>6</td>\n",
       "      <td>1</td>\n",
       "    </tr>\n",
       "    <tr>\n",
       "      <th>...</th>\n",
       "      <td>...</td>\n",
       "      <td>...</td>\n",
       "      <td>...</td>\n",
       "      <td>...</td>\n",
       "      <td>...</td>\n",
       "      <td>...</td>\n",
       "      <td>...</td>\n",
       "      <td>...</td>\n",
       "      <td>...</td>\n",
       "    </tr>\n",
       "    <tr>\n",
       "      <th>77</th>\n",
       "      <td>47</td>\n",
       "      <td>66</td>\n",
       "      <td>Off</td>\n",
       "      <td>25</td>\n",
       "      <td>18</td>\n",
       "      <td>Off</td>\n",
       "      <td>21</td>\n",
       "      <td>7</td>\n",
       "      <td>1</td>\n",
       "    </tr>\n",
       "    <tr>\n",
       "      <th>78</th>\n",
       "      <td>15</td>\n",
       "      <td>67</td>\n",
       "      <td>Off</td>\n",
       "      <td>42</td>\n",
       "      <td>10</td>\n",
       "      <td>Off</td>\n",
       "      <td>56</td>\n",
       "      <td>20</td>\n",
       "      <td>1</td>\n",
       "    </tr>\n",
       "    <tr>\n",
       "      <th>79</th>\n",
       "      <td>Off</td>\n",
       "      <td>32</td>\n",
       "      <td>62</td>\n",
       "      <td>5</td>\n",
       "      <td>21</td>\n",
       "      <td>Off</td>\n",
       "      <td>23</td>\n",
       "      <td>41</td>\n",
       "      <td>1</td>\n",
       "    </tr>\n",
       "    <tr>\n",
       "      <th>80</th>\n",
       "      <td>12</td>\n",
       "      <td>Off</td>\n",
       "      <td>13</td>\n",
       "      <td>45</td>\n",
       "      <td>28</td>\n",
       "      <td>Off</td>\n",
       "      <td>40</td>\n",
       "      <td>42</td>\n",
       "      <td>1</td>\n",
       "    </tr>\n",
       "    <tr>\n",
       "      <th>81</th>\n",
       "      <td>Off</td>\n",
       "      <td>23</td>\n",
       "      <td>42</td>\n",
       "      <td>30</td>\n",
       "      <td>25</td>\n",
       "      <td>Off</td>\n",
       "      <td>51</td>\n",
       "      <td>10</td>\n",
       "      <td>1</td>\n",
       "    </tr>\n",
       "  </tbody>\n",
       "</table>\n",
       "<p>82 rows × 9 columns</p>\n",
       "</div>"
      ],
      "text/plain": [
       "      0    1    2    3    4    5    6    7  Simulation\n",
       "0    41   22   12   54   32   66  Off  Off           1\n",
       "1   Off   28   44   21   37  Off   57   59           1\n",
       "2   Off    4   27   36  Off    3   42   33           1\n",
       "3    50  Off    2    7  Off   62   38   33           1\n",
       "4    52  Off   25  Off   61   53   35    6           1\n",
       "..  ...  ...  ...  ...  ...  ...  ...  ...         ...\n",
       "77   47   66  Off   25   18  Off   21    7           1\n",
       "78   15   67  Off   42   10  Off   56   20           1\n",
       "79  Off   32   62    5   21  Off   23   41           1\n",
       "80   12  Off   13   45   28  Off   40   42           1\n",
       "81  Off   23   42   30   25  Off   51   10           1\n",
       "\n",
       "[82 rows x 9 columns]"
      ]
     },
     "execution_count": 310,
     "metadata": {},
     "output_type": "execute_result"
    }
   ],
   "source": [
    "pd.DataFrame(schedules).assign(Simulation=1)"
   ]
  },
  {
   "cell_type": "code",
   "execution_count": null,
   "id": "4537a4f8",
   "metadata": {},
   "outputs": [],
   "source": [
    "\n",
    "for(i in teacherslist){\n",
    "    \n",
    "    schedule <- list(\"On\",\"On\",'On',\"On\",\"On\",'On',\"On\",'On')\n",
    "    periods<-c(1,2,3,4,5,6,7,8)\n",
    "    lunch<-c(4,5,6,7)\n",
    "    lt<-sample(lunch,1)\n",
    "    schedule[[lt]]<-'Off'\n",
    "    periods<-periods[-lt]\n",
    "    conf<-sample(periods,1)\n",
    "    schedule[[conf]]<-'Off'\n",
    "    schedule<-as.vector(schedule)\n",
    "    \n",
    "    \n",
    "    if(i==1){\n",
    "      #grab schedules and make matrix  \n",
    "      \n",
    "      theframe<-t(unlist(schedule))\n",
    "    }else{\n",
    "      theframe<-rbind(theframe,unlist(schedule))\n",
    "    }\n",
    "    \n",
    "  }"
   ]
  }
 ],
 "metadata": {
  "kernelspec": {
   "display_name": "Python 3 (ipykernel)",
   "language": "python",
   "name": "python3"
  },
  "language_info": {
   "codemirror_mode": {
    "name": "ipython",
    "version": 3
   },
   "file_extension": ".py",
   "mimetype": "text/x-python",
   "name": "python",
   "nbconvert_exporter": "python",
   "pygments_lexer": "ipython3",
   "version": "3.7.10"
  }
 },
 "nbformat": 4,
 "nbformat_minor": 5
}
