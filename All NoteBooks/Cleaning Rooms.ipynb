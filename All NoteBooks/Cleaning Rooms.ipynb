{
 "cells": [
  {
   "cell_type": "code",
   "execution_count": 1,
   "metadata": {},
   "outputs": [],
   "source": [
    "import numpy as np\n",
    "import pandas as pd "
   ]
  },
  {
   "cell_type": "code",
   "execution_count": 3,
   "metadata": {},
   "outputs": [],
   "source": [
    "path='C:\\\\Users\\dmckenzie\\Downloads\\RoomNames.csv'"
   ]
  },
  {
   "cell_type": "code",
   "execution_count": 4,
   "metadata": {},
   "outputs": [],
   "source": [
    "RC=pd.read_csv(path)"
   ]
  },
  {
   "cell_type": "code",
   "execution_count": 5,
   "metadata": {},
   "outputs": [],
   "source": [
    "RC=RC.dropna().reset_index()"
   ]
  },
  {
   "cell_type": "code",
   "execution_count": 6,
   "metadata": {},
   "outputs": [
    {
     "data": {
      "text/plain": [
       "18203                                  YARD MANAGER OFFICE\n",
       "18204                                         YARD STORAGE\n",
       "18205                                             YEARBOOK\n",
       "18206                                           YELLOW POD\n",
       "18207                                    YES / EQUITY PLUS\n",
       "18208                                           YES OFFICE\n",
       "18209                                      YES/EQUITY PLUS\n",
       "18210                                      YES/OASIS CONV.\n",
       "18211                                                 YOGA\n",
       "18212                                   YOGA & CARDIO ROOM\n",
       "18213                                               YOGA 1\n",
       "18214                                               YOGA 2\n",
       "18215                                            YOGA AREA\n",
       "18216                                            Yoga Room\n",
       "18217                                         YOGA STORAGE\n",
       "18218                                          YOGA STUDIO\n",
       "18219                                    YOGA/BARRE STUDIO\n",
       "18220                                         YOUTH LOUNGE\n",
       "18221                                             YOUTH RR\n",
       "18222                                                  YSS\n",
       "18223                                                 ZARA\n",
       "18224                                                ZEINA\n",
       "18225    ZEN  ROOM        (MEETING ROOM SIZE FOR FUTURE...\n",
       "18226                                             ZEN ROOM\n",
       "18227                                            ZEN SPACE\n",
       "18228                                                ZIMAS\n",
       "18229                                                 ZONE\n",
       "18230                           ZOOM VENDING MACHINE NICHE\n",
       "18231                                       ZOUHER FASHION\n",
       "18232                                               ZZZZZZ\n",
       "Name: Name, dtype: object"
      ]
     },
     "execution_count": 6,
     "metadata": {},
     "output_type": "execute_result"
    }
   ],
   "source": [
    "RC['Name'].tail(30)"
   ]
  },
  {
   "cell_type": "code",
   "execution_count": 7,
   "metadata": {},
   "outputs": [
    {
     "name": "stderr",
     "output_type": "stream",
     "text": [
      "C:\\Users\\dmckenzie\\Anaconda3\\envs\\Three Seven\\lib\\site-packages\\ipykernel_launcher.py:1: FutureWarning: The default value of regex will change from True to False in a future version.\n",
      "  \"\"\"Entry point for launching an IPython kernel.\n"
     ]
    }
   ],
   "source": [
    "RC['Name2']=RC['Name'].str.lower().str.replace('\\d+','').str.replace(\"_\",\" \").str.lstrip()\n",
    "#.str.replace(r\"\\(.*\\)\",\"\")"
   ]
  },
  {
   "cell_type": "code",
   "execution_count": 8,
   "metadata": {},
   "outputs": [],
   "source": [
    "RC['Name2']=RC['Name2'].str.lower().str.replace('area','room')\\\n",
    "            .str.replace(\"space\",\"room\")\\\n",
    "            .str.replace(\"studio\",\"room\")\\\n",
    "            .str.replace(\"lounge\",\"room\")"
   ]
  },
  {
   "cell_type": "code",
   "execution_count": 9,
   "metadata": {},
   "outputs": [
    {
     "data": {
      "text/plain": [
       "('area', 'room', 'space', 'studio', 'lounge')"
      ]
     },
     "execution_count": 9,
     "metadata": {},
     "output_type": "execute_result"
    }
   ],
   "source": [
    "\"area\",'room','space','studio','lounge'"
   ]
  },
  {
   "cell_type": "code",
   "execution_count": 10,
   "metadata": {},
   "outputs": [
    {
     "data": {
      "text/html": [
       "<div>\n",
       "<style scoped>\n",
       "    .dataframe tbody tr th:only-of-type {\n",
       "        vertical-align: middle;\n",
       "    }\n",
       "\n",
       "    .dataframe tbody tr th {\n",
       "        vertical-align: top;\n",
       "    }\n",
       "\n",
       "    .dataframe thead th {\n",
       "        text-align: right;\n",
       "    }\n",
       "</style>\n",
       "<table border=\"1\" class=\"dataframe\">\n",
       "  <thead>\n",
       "    <tr style=\"text-align: right;\">\n",
       "      <th></th>\n",
       "      <th>level_0</th>\n",
       "      <th>index</th>\n",
       "      <th>Name</th>\n",
       "      <th>Name2</th>\n",
       "    </tr>\n",
       "  </thead>\n",
       "  <tbody>\n",
       "    <tr>\n",
       "      <th>15710</th>\n",
       "      <td>18209</td>\n",
       "      <td>18211</td>\n",
       "      <td>YES/EQUITY PLUS</td>\n",
       "      <td>yes/equity plus</td>\n",
       "    </tr>\n",
       "    <tr>\n",
       "      <th>15711</th>\n",
       "      <td>18210</td>\n",
       "      <td>18212</td>\n",
       "      <td>YES/OASIS CONV.</td>\n",
       "      <td>yes/oasis conv.</td>\n",
       "    </tr>\n",
       "    <tr>\n",
       "      <th>15712</th>\n",
       "      <td>18211</td>\n",
       "      <td>18213</td>\n",
       "      <td>YOGA</td>\n",
       "      <td>yoga</td>\n",
       "    </tr>\n",
       "    <tr>\n",
       "      <th>15713</th>\n",
       "      <td>18212</td>\n",
       "      <td>18214</td>\n",
       "      <td>YOGA &amp; CARDIO ROOM</td>\n",
       "      <td>yoga &amp; cardio room</td>\n",
       "    </tr>\n",
       "    <tr>\n",
       "      <th>15714</th>\n",
       "      <td>18213</td>\n",
       "      <td>18215</td>\n",
       "      <td>YOGA 1</td>\n",
       "      <td>yoga</td>\n",
       "    </tr>\n",
       "    <tr>\n",
       "      <th>15715</th>\n",
       "      <td>18215</td>\n",
       "      <td>18217</td>\n",
       "      <td>YOGA AREA</td>\n",
       "      <td>yoga room</td>\n",
       "    </tr>\n",
       "    <tr>\n",
       "      <th>15716</th>\n",
       "      <td>18217</td>\n",
       "      <td>18219</td>\n",
       "      <td>YOGA STORAGE</td>\n",
       "      <td>yoga storage</td>\n",
       "    </tr>\n",
       "    <tr>\n",
       "      <th>15717</th>\n",
       "      <td>18219</td>\n",
       "      <td>18221</td>\n",
       "      <td>YOGA/BARRE STUDIO</td>\n",
       "      <td>yoga/barre room</td>\n",
       "    </tr>\n",
       "    <tr>\n",
       "      <th>15718</th>\n",
       "      <td>18220</td>\n",
       "      <td>18222</td>\n",
       "      <td>YOUTH LOUNGE</td>\n",
       "      <td>youth room</td>\n",
       "    </tr>\n",
       "    <tr>\n",
       "      <th>15719</th>\n",
       "      <td>18221</td>\n",
       "      <td>18223</td>\n",
       "      <td>YOUTH RR</td>\n",
       "      <td>youth rr</td>\n",
       "    </tr>\n",
       "    <tr>\n",
       "      <th>15720</th>\n",
       "      <td>18222</td>\n",
       "      <td>18224</td>\n",
       "      <td>YSS</td>\n",
       "      <td>yss</td>\n",
       "    </tr>\n",
       "    <tr>\n",
       "      <th>15721</th>\n",
       "      <td>18223</td>\n",
       "      <td>18225</td>\n",
       "      <td>ZARA</td>\n",
       "      <td>zara</td>\n",
       "    </tr>\n",
       "    <tr>\n",
       "      <th>15722</th>\n",
       "      <td>18224</td>\n",
       "      <td>18226</td>\n",
       "      <td>ZEINA</td>\n",
       "      <td>zeina</td>\n",
       "    </tr>\n",
       "    <tr>\n",
       "      <th>15723</th>\n",
       "      <td>18225</td>\n",
       "      <td>18227</td>\n",
       "      <td>ZEN  ROOM        (MEETING ROOM SIZE FOR FUTURE...</td>\n",
       "      <td>zen  room        (meeting room size for future...</td>\n",
       "    </tr>\n",
       "    <tr>\n",
       "      <th>15724</th>\n",
       "      <td>18226</td>\n",
       "      <td>18228</td>\n",
       "      <td>ZEN ROOM</td>\n",
       "      <td>zen room</td>\n",
       "    </tr>\n",
       "    <tr>\n",
       "      <th>15725</th>\n",
       "      <td>18228</td>\n",
       "      <td>18230</td>\n",
       "      <td>ZIMAS</td>\n",
       "      <td>zimas</td>\n",
       "    </tr>\n",
       "    <tr>\n",
       "      <th>15726</th>\n",
       "      <td>18229</td>\n",
       "      <td>18231</td>\n",
       "      <td>ZONE</td>\n",
       "      <td>zone</td>\n",
       "    </tr>\n",
       "    <tr>\n",
       "      <th>15727</th>\n",
       "      <td>18230</td>\n",
       "      <td>18232</td>\n",
       "      <td>ZOOM VENDING MACHINE NICHE</td>\n",
       "      <td>zoom vending machine niche</td>\n",
       "    </tr>\n",
       "    <tr>\n",
       "      <th>15728</th>\n",
       "      <td>18231</td>\n",
       "      <td>18233</td>\n",
       "      <td>ZOUHER FASHION</td>\n",
       "      <td>zouher fashion</td>\n",
       "    </tr>\n",
       "    <tr>\n",
       "      <th>15729</th>\n",
       "      <td>18232</td>\n",
       "      <td>18234</td>\n",
       "      <td>ZZZZZZ</td>\n",
       "      <td>zzzzzz</td>\n",
       "    </tr>\n",
       "  </tbody>\n",
       "</table>\n",
       "</div>"
      ],
      "text/plain": [
       "       level_0  index                                               Name  \\\n",
       "15710    18209  18211                                    YES/EQUITY PLUS   \n",
       "15711    18210  18212                                    YES/OASIS CONV.   \n",
       "15712    18211  18213                                               YOGA   \n",
       "15713    18212  18214                                 YOGA & CARDIO ROOM   \n",
       "15714    18213  18215                                             YOGA 1   \n",
       "15715    18215  18217                                          YOGA AREA   \n",
       "15716    18217  18219                                       YOGA STORAGE   \n",
       "15717    18219  18221                                  YOGA/BARRE STUDIO   \n",
       "15718    18220  18222                                       YOUTH LOUNGE   \n",
       "15719    18221  18223                                           YOUTH RR   \n",
       "15720    18222  18224                                                YSS   \n",
       "15721    18223  18225                                               ZARA   \n",
       "15722    18224  18226                                              ZEINA   \n",
       "15723    18225  18227  ZEN  ROOM        (MEETING ROOM SIZE FOR FUTURE...   \n",
       "15724    18226  18228                                           ZEN ROOM   \n",
       "15725    18228  18230                                              ZIMAS   \n",
       "15726    18229  18231                                               ZONE   \n",
       "15727    18230  18232                         ZOOM VENDING MACHINE NICHE   \n",
       "15728    18231  18233                                     ZOUHER FASHION   \n",
       "15729    18232  18234                                             ZZZZZZ   \n",
       "\n",
       "                                                   Name2  \n",
       "15710                                    yes/equity plus  \n",
       "15711                                    yes/oasis conv.  \n",
       "15712                                               yoga  \n",
       "15713                                 yoga & cardio room  \n",
       "15714                                              yoga   \n",
       "15715                                          yoga room  \n",
       "15716                                       yoga storage  \n",
       "15717                                    yoga/barre room  \n",
       "15718                                         youth room  \n",
       "15719                                           youth rr  \n",
       "15720                                                yss  \n",
       "15721                                               zara  \n",
       "15722                                              zeina  \n",
       "15723  zen  room        (meeting room size for future...  \n",
       "15724                                           zen room  \n",
       "15725                                              zimas  \n",
       "15726                                               zone  \n",
       "15727                         zoom vending machine niche  \n",
       "15728                                     zouher fashion  \n",
       "15729                                             zzzzzz  "
      ]
     },
     "execution_count": 10,
     "metadata": {},
     "output_type": "execute_result"
    }
   ],
   "source": [
    "RC.drop_duplicates(subset=['Name2']).reset_index().tail(20)"
   ]
  },
  {
   "cell_type": "code",
   "execution_count": 11,
   "metadata": {},
   "outputs": [],
   "source": [
    "def get_ngrams(series: pd.Series,n:int):\n",
    "    ngrams = series.copy().str.split(' ').explode()\n",
    "    ngrams1 = series.copy().str.split(' ').explode()\n",
    "    for i in range(1,n):\n",
    "        foo=ngram1.groupby(level=0).shift(-i)\n",
    "        ngrams=ngrams.str.cat(foo,sep=' ')\n",
    "    ngrams = ngram.dropna()\n",
    "    return pd.DataFrame(ngrams)"
   ]
  },
  {
   "cell_type": "code",
   "execution_count": 12,
   "metadata": {},
   "outputs": [],
   "source": [
    "def get_multigrams(series,n):\n",
    "    grams=get_ngrams(series,1)\n",
    "    if n==1:\n",
    "        return grams\n",
    "    else:\n",
    "        for i in range(1,n+1):\n",
    "            if i==1:\n",
    "                continue\n",
    "            grams=grams.append(get_ngrams(series,i))\n",
    "    return grams"
   ]
  },
  {
   "cell_type": "code",
   "execution_count": 13,
   "metadata": {},
   "outputs": [],
   "source": [
    "import nltk"
   ]
  },
  {
   "cell_type": "code",
   "execution_count": 14,
   "metadata": {},
   "outputs": [],
   "source": [
    "#get_multigrams(RC['Name2'],3)"
   ]
  },
  {
   "cell_type": "code",
   "execution_count": 15,
   "metadata": {},
   "outputs": [],
   "source": [
    "from nltk import word_tokenize"
   ]
  },
  {
   "cell_type": "code",
   "execution_count": 16,
   "metadata": {},
   "outputs": [],
   "source": [
    "RC['Name2Tokens']=RC.dropna()['Name2'].replace(r'[<%]', '', regex=True).apply(word_tokenize)"
   ]
  },
  {
   "cell_type": "code",
   "execution_count": 17,
   "metadata": {},
   "outputs": [],
   "source": [
    "from gensim.models import Word2Vec"
   ]
  },
  {
   "cell_type": "code",
   "execution_count": 18,
   "metadata": {},
   "outputs": [],
   "source": [
    "from gensim.models import FastText"
   ]
  },
  {
   "cell_type": "code",
   "execution_count": 19,
   "metadata": {},
   "outputs": [],
   "source": [
    "model2 = FastText(RC['Name2Tokens'])"
   ]
  },
  {
   "cell_type": "code",
   "execution_count": 20,
   "metadata": {},
   "outputs": [],
   "source": [
    "model = Word2Vec(RC['Name2Tokens'])"
   ]
  },
  {
   "cell_type": "code",
   "execution_count": 21,
   "metadata": {},
   "outputs": [
    {
     "name": "stderr",
     "output_type": "stream",
     "text": [
      "C:\\Users\\dmckenzie\\Anaconda3\\envs\\Three Seven\\lib\\site-packages\\ipykernel_launcher.py:1: DeprecationWarning: Call to deprecated `most_similar` (Method will be removed in 4.0.0, use self.wv.most_similar() instead).\n",
      "  \"\"\"Entry point for launching an IPython kernel.\n"
     ]
    },
    {
     "data": {
      "text/plain": [
       "[('&', 0.9998759031295776),\n",
       " ('and', 0.9998345375061035),\n",
       " ('room', 0.9998044967651367),\n",
       " ('/', 0.9997982382774353),\n",
       " ('-', 0.9997965097427368),\n",
       " ('storage', 0.9997928142547607),\n",
       " ('+', 0.999786376953125),\n",
       " ('future', 0.9997860789299011),\n",
       " ('lab', 0.9997581839561462),\n",
       " ('lobby', 0.9997463226318359)]"
      ]
     },
     "execution_count": 21,
     "metadata": {},
     "output_type": "execute_result"
    }
   ],
   "source": [
    "model.most_similar(positive=['office'], topn=10)"
   ]
  },
  {
   "cell_type": "code",
   "execution_count": 15,
   "metadata": {},
   "outputs": [],
   "source": [
    "RC['Root']=RC['Name2Tokens'].str[0]"
   ]
  },
  {
   "cell_type": "code",
   "execution_count": 20,
   "metadata": {},
   "outputs": [],
   "source": [
    "RC['Two']=RC['Name2Tokens'].str[1]"
   ]
  },
  {
   "cell_type": "code",
   "execution_count": 70,
   "metadata": {},
   "outputs": [
    {
     "data": {
      "text/plain": [
       "458"
      ]
     },
     "execution_count": 70,
     "metadata": {},
     "output_type": "execute_result"
    }
   ],
   "source": [
    "RC['Name'].str.lower().str.contains('classroom').sum()"
   ]
  },
  {
   "cell_type": "code",
   "execution_count": 73,
   "metadata": {},
   "outputs": [
    {
     "data": {
      "text/plain": [
       "385"
      ]
     },
     "execution_count": 73,
     "metadata": {},
     "output_type": "execute_result"
    }
   ],
   "source": [
    "RC['Name'].str.lower().str.contains('|'.join(['restroom','toilet','bathroom'])).sum()"
   ]
  },
  {
   "cell_type": "code",
   "execution_count": 121,
   "metadata": {},
   "outputs": [
    {
     "ename": "ModuleNotFoundError",
     "evalue": "No module named 'gensim'",
     "output_type": "error",
     "traceback": [
      "\u001b[1;31m---------------------------------------------------------------------------\u001b[0m",
      "\u001b[1;31mModuleNotFoundError\u001b[0m                       Traceback (most recent call last)",
      "\u001b[1;32m<ipython-input-121-e70e92d32c6e>\u001b[0m in \u001b[0;36m<module>\u001b[1;34m\u001b[0m\n\u001b[1;32m----> 1\u001b[1;33m \u001b[1;32mimport\u001b[0m \u001b[0mgensim\u001b[0m\u001b[1;33m\u001b[0m\u001b[1;33m\u001b[0m\u001b[0m\n\u001b[0m",
      "\u001b[1;31mModuleNotFoundError\u001b[0m: No module named 'gensim'"
     ]
    }
   ],
   "source": [
    "import gensim"
   ]
  },
  {
   "cell_type": "code",
   "execution_count": 114,
   "metadata": {},
   "outputs": [
    {
     "data": {
      "text/plain": [
       "6365"
      ]
     },
     "execution_count": 114,
     "metadata": {},
     "output_type": "execute_result"
    }
   ],
   "source": [
    "RC['Name2'].str.lower().str.contains('|'.join(['restroom','toilet','bathroom','surgeon',\n",
    "                                              'storage','classroom','lobby','lab',\n",
    "                                              'grade','locker','suite','restroom','nurse',\n",
    "                                              'closet','conference','elev','office',\n",
    "                                              'stair','male','female','music','cell','fire',\n",
    "                                              'public','mech','student','cafe','elec','men',\n",
    "                                               'hotel','inmate','staff','medical'])).sum()"
   ]
  },
  {
   "cell_type": "code",
   "execution_count": 102,
   "metadata": {},
   "outputs": [
    {
     "data": {
      "text/plain": [
       "0                                '-\n",
       "1                     \"the library\"\n",
       "2                        () dr. rm.\n",
       "3                        () dr. rm.\n",
       "4             () open work stations\n",
       "                    ...            \n",
       "18228                         zimas\n",
       "18229                          zone\n",
       "18230    zoom vending machine niche\n",
       "18231                zouher fashion\n",
       "18232                        zzzzzz\n",
       "Name: Name2, Length: 18233, dtype: object"
      ]
     },
     "execution_count": 102,
     "metadata": {},
     "output_type": "execute_result"
    }
   ],
   "source": [
    "RC['Name2']"
   ]
  },
  {
   "cell_type": "code",
   "execution_count": null,
   "metadata": {},
   "outputs": [],
   "source": []
  },
  {
   "cell_type": "code",
   "execution_count": 75,
   "metadata": {},
   "outputs": [
    {
     "data": {
      "text/plain": [
       "136"
      ]
     },
     "execution_count": 75,
     "metadata": {},
     "output_type": "execute_result"
    }
   ],
   "source": [
    "RC['Name'].str.lower().str.contains('|'.join(['kitchen'])).sum()"
   ]
  },
  {
   "cell_type": "code",
   "execution_count": 76,
   "metadata": {},
   "outputs": [
    {
     "data": {
      "text/plain": [
       "188"
      ]
     },
     "execution_count": 76,
     "metadata": {},
     "output_type": "execute_result"
    }
   ],
   "source": [
    "RC['Name'].str.lower().str.contains('|'.join(['suite'])).sum()"
   ]
  },
  {
   "cell_type": "code",
   "execution_count": 109,
   "metadata": {},
   "outputs": [
    {
     "data": {
      "text/plain": [
       "(            269\n",
       "stair        177\n",
       "unit         169\n",
       "classroom    152\n",
       "room         147\n",
       "staff        146\n",
       "elev         146\n",
       "office       116\n",
       "king         115\n",
       ".            105\n",
       "b             99\n",
       "open          95\n",
       "small         81\n",
       "existing      79\n",
       "a             79\n",
       "outdoor       75\n",
       "d             70\n",
       "storage       68\n",
       "male          68\n",
       "main          67\n",
       "c             67\n",
       "female        67\n",
       "music         64\n",
       "cell          63\n",
       "fire          63\n",
       "women         62\n",
       "public        62\n",
       "mech          61\n",
       "student       58\n",
       "cafe          58\n",
       "elec          57\n",
       "men           56\n",
       "shared        55\n",
       "suite         55\n",
       "inmate        53\n",
       "large         52\n",
       "future        52\n",
       "medical       52\n",
       "hotel         51\n",
       "Name: Name2Tokens, dtype: int64"
      ]
     },
     "execution_count": 109,
     "metadata": {},
     "output_type": "execute_result"
    }
   ],
   "source": [
    "RC['Name2Tokens'].str[0].value_counts()[RC['Name2Tokens'].str[0].value_counts()>50]"
   ]
  },
  {
   "cell_type": "code",
   "execution_count": 105,
   "metadata": {},
   "outputs": [
    {
     "data": {
      "text/plain": [
       "room         1746\n",
       ".             903\n",
       "storage       720\n",
       "office        717\n",
       ")             516\n",
       "classroom     313\n",
       "rm            289\n",
       "lab           268\n",
       "#             224\n",
       "a             181\n",
       "b             178\n",
       "lobby         148\n",
       "suite         128\n",
       "toilet        122\n",
       "cell          121\n",
       "c             120\n",
       "restroom      120\n",
       "rr            107\n",
       "center        106\n",
       "closet        101\n",
       "vestibule      93\n",
       "d              85\n",
       "stor           83\n",
       "stair          79\n",
       "corridor       78\n",
       "workroom       75\n",
       "station        74\n",
       "support        68\n",
       "shop           65\n",
       "l              61\n",
       "kitchen        57\n",
       "s-             53\n",
       "locker         52\n",
       "Name: Name2Tokens, dtype: int64"
      ]
     },
     "execution_count": 105,
     "metadata": {},
     "output_type": "execute_result"
    }
   ],
   "source": [
    "RC['Name2Tokens'].str[-1].value_counts()[RC['Name2Tokens'].str[-1].value_counts()>50]"
   ]
  },
  {
   "cell_type": "code",
   "execution_count": 65,
   "metadata": {},
   "outputs": [
    {
     "data": {
      "text/plain": [
       "<AxesSubplot:>"
      ]
     },
     "execution_count": 65,
     "metadata": {},
     "output_type": "execute_result"
    },
    {
     "data": {
      "image/png": "[encoded data removed]",
      "text/plain": [
       "<Figure size 432x288 with 1 Axes>"
      ]
     },
     "metadata": {
      "needs_background": "light"
     },
     "output_type": "display_data"
    }
   ],
   "source": [
    "RC['Name2Tokens'].str[-1].value_counts()[RC['Name2Tokens'].str[-1].value_counts()>50].plot(kind='barh')"
   ]
  },
  {
   "cell_type": "code",
   "execution_count": 84,
   "metadata": {},
   "outputs": [
    {
     "data": {
      "text/plain": [
       "office          116\n",
       "open             39\n",
       "level            18\n",
       "officer          11\n",
       "it               10\n",
       "pe               10\n",
       "nurse            10\n",
       "(                 9\n",
       "dir               7\n",
       "dean              7\n",
       "hr                7\n",
       "shared            7\n",
       "correctional      6\n",
       "computer          5\n",
       "business          5\n",
       "eng               5\n",
       "correction        5\n",
       "health            5\n",
       "office/           5\n",
       "cust              5\n",
       "Name: Root, dtype: int64"
      ]
     },
     "execution_count": 84,
     "metadata": {},
     "output_type": "execute_result"
    }
   ],
   "source": [
    "RC[RC['Name'].str.lower().str.contains('|'.join(['office']))]['Root'].value_counts()[0:20]"
   ]
  },
  {
   "cell_type": "code",
   "execution_count": 74,
   "metadata": {},
   "outputs": [
    {
     "data": {
      "text/plain": [
       "room         1746\n",
       ".             903\n",
       "storage       720\n",
       "office        717\n",
       ")             516\n",
       "classroom     313\n",
       "rm            289\n",
       "lab           268\n",
       "#             224\n",
       "a             181\n",
       "b             178\n",
       "lobby         148\n",
       "suite         128\n",
       "toilet        122\n",
       "cell          121\n",
       "c             120\n",
       "restroom      120\n",
       "rr            107\n",
       "center        106\n",
       "closet        101\n",
       "vestibule      93\n",
       "d              85\n",
       "stor           83\n",
       "stair          79\n",
       "corridor       78\n",
       "workroom       75\n",
       "station        74\n",
       "support        68\n",
       "shop           65\n",
       "l              61\n",
       "kitchen        57\n",
       "s-             53\n",
       "locker         52\n",
       "Name: Name2Tokens, dtype: int64"
      ]
     },
     "execution_count": 74,
     "metadata": {},
     "output_type": "execute_result"
    }
   ],
   "source": [
    "RC['Name2Tokens'].str[-1].value_counts()[RC['Name2Tokens'].str[-1].value_counts()>50]"
   ]
  },
  {
   "cell_type": "code",
   "execution_count": 26,
   "metadata": {},
   "outputs": [
    {
     "data": {
      "text/plain": [
       "4561"
      ]
     },
     "execution_count": 26,
     "metadata": {},
     "output_type": "execute_result"
    }
   ],
   "source": [
    "len(RC['Root'].value_counts())"
   ]
  },
  {
   "cell_type": "code",
   "execution_count": 49,
   "metadata": {},
   "outputs": [
    {
     "data": {
      "text/html": [
       "<div>\n",
       "<style scoped>\n",
       "    .dataframe tbody tr th:only-of-type {\n",
       "        vertical-align: middle;\n",
       "    }\n",
       "\n",
       "    .dataframe tbody tr th {\n",
       "        vertical-align: top;\n",
       "    }\n",
       "\n",
       "    .dataframe thead th {\n",
       "        text-align: right;\n",
       "    }\n",
       "</style>\n",
       "<table border=\"1\" class=\"dataframe\">\n",
       "  <thead>\n",
       "    <tr style=\"text-align: right;\">\n",
       "      <th></th>\n",
       "      <th>index</th>\n",
       "      <th>Root</th>\n",
       "    </tr>\n",
       "  </thead>\n",
       "  <tbody>\n",
       "    <tr>\n",
       "      <th>0</th>\n",
       "      <td>(</td>\n",
       "      <td>269</td>\n",
       "    </tr>\n",
       "    <tr>\n",
       "      <th>1</th>\n",
       "      <td>stair</td>\n",
       "      <td>177</td>\n",
       "    </tr>\n",
       "    <tr>\n",
       "      <th>2</th>\n",
       "      <td>unit</td>\n",
       "      <td>169</td>\n",
       "    </tr>\n",
       "    <tr>\n",
       "      <th>3</th>\n",
       "      <td>classroom</td>\n",
       "      <td>152</td>\n",
       "    </tr>\n",
       "    <tr>\n",
       "      <th>4</th>\n",
       "      <td>room</td>\n",
       "      <td>147</td>\n",
       "    </tr>\n",
       "    <tr>\n",
       "      <th>...</th>\n",
       "      <td>...</td>\n",
       "      <td>...</td>\n",
       "    </tr>\n",
       "    <tr>\n",
       "      <th>4556</th>\n",
       "      <td>cartwash</td>\n",
       "      <td>1</td>\n",
       "    </tr>\n",
       "    <tr>\n",
       "      <th>4557</th>\n",
       "      <td>contemplation</td>\n",
       "      <td>1</td>\n",
       "    </tr>\n",
       "    <tr>\n",
       "      <th>4558</th>\n",
       "      <td>raised</td>\n",
       "      <td>1</td>\n",
       "    </tr>\n",
       "    <tr>\n",
       "      <th>4559</th>\n",
       "      <td>blimp</td>\n",
       "      <td>1</td>\n",
       "    </tr>\n",
       "    <tr>\n",
       "      <th>4560</th>\n",
       "      <td>mtss</td>\n",
       "      <td>1</td>\n",
       "    </tr>\n",
       "  </tbody>\n",
       "</table>\n",
       "<p>4561 rows × 2 columns</p>\n",
       "</div>"
      ],
      "text/plain": [
       "              index  Root\n",
       "0                 (   269\n",
       "1             stair   177\n",
       "2              unit   169\n",
       "3         classroom   152\n",
       "4              room   147\n",
       "...             ...   ...\n",
       "4556       cartwash     1\n",
       "4557  contemplation     1\n",
       "4558         raised     1\n",
       "4559          blimp     1\n",
       "4560           mtss     1\n",
       "\n",
       "[4561 rows x 2 columns]"
      ]
     },
     "execution_count": 49,
     "metadata": {},
     "output_type": "execute_result"
    }
   ],
   "source": [
    "RC['Root'].value_counts().reset_index()"
   ]
  },
  {
   "cell_type": "code",
   "execution_count": 50,
   "metadata": {},
   "outputs": [],
   "source": [
    "RootC=RC['Root'].value_counts().reset_index()"
   ]
  },
  {
   "cell_type": "code",
   "execution_count": null,
   "metadata": {},
   "outputs": [],
   "source": []
  },
  {
   "cell_type": "code",
   "execution_count": 56,
   "metadata": {},
   "outputs": [
    {
     "data": {
      "text/html": [
       "<div>\n",
       "<style scoped>\n",
       "    .dataframe tbody tr th:only-of-type {\n",
       "        vertical-align: middle;\n",
       "    }\n",
       "\n",
       "    .dataframe tbody tr th {\n",
       "        vertical-align: top;\n",
       "    }\n",
       "\n",
       "    .dataframe thead th {\n",
       "        text-align: right;\n",
       "    }\n",
       "</style>\n",
       "<table border=\"1\" class=\"dataframe\">\n",
       "  <thead>\n",
       "    <tr style=\"text-align: right;\">\n",
       "      <th></th>\n",
       "      <th>index</th>\n",
       "      <th>Root</th>\n",
       "    </tr>\n",
       "  </thead>\n",
       "  <tbody>\n",
       "    <tr>\n",
       "      <th>0</th>\n",
       "      <td>(</td>\n",
       "      <td>269</td>\n",
       "    </tr>\n",
       "    <tr>\n",
       "      <th>1</th>\n",
       "      <td>stair</td>\n",
       "      <td>177</td>\n",
       "    </tr>\n",
       "    <tr>\n",
       "      <th>2</th>\n",
       "      <td>unit</td>\n",
       "      <td>169</td>\n",
       "    </tr>\n",
       "    <tr>\n",
       "      <th>3</th>\n",
       "      <td>classroom</td>\n",
       "      <td>152</td>\n",
       "    </tr>\n",
       "    <tr>\n",
       "      <th>4</th>\n",
       "      <td>room</td>\n",
       "      <td>147</td>\n",
       "    </tr>\n",
       "    <tr>\n",
       "      <th>5</th>\n",
       "      <td>staff</td>\n",
       "      <td>146</td>\n",
       "    </tr>\n",
       "    <tr>\n",
       "      <th>6</th>\n",
       "      <td>elev</td>\n",
       "      <td>146</td>\n",
       "    </tr>\n",
       "    <tr>\n",
       "      <th>7</th>\n",
       "      <td>office</td>\n",
       "      <td>116</td>\n",
       "    </tr>\n",
       "    <tr>\n",
       "      <th>8</th>\n",
       "      <td>king</td>\n",
       "      <td>115</td>\n",
       "    </tr>\n",
       "    <tr>\n",
       "      <th>9</th>\n",
       "      <td>.</td>\n",
       "      <td>105</td>\n",
       "    </tr>\n",
       "    <tr>\n",
       "      <th>10</th>\n",
       "      <td>b</td>\n",
       "      <td>99</td>\n",
       "    </tr>\n",
       "    <tr>\n",
       "      <th>11</th>\n",
       "      <td>open</td>\n",
       "      <td>95</td>\n",
       "    </tr>\n",
       "    <tr>\n",
       "      <th>12</th>\n",
       "      <td>small</td>\n",
       "      <td>81</td>\n",
       "    </tr>\n",
       "    <tr>\n",
       "      <th>13</th>\n",
       "      <td>existing</td>\n",
       "      <td>79</td>\n",
       "    </tr>\n",
       "    <tr>\n",
       "      <th>14</th>\n",
       "      <td>a</td>\n",
       "      <td>79</td>\n",
       "    </tr>\n",
       "    <tr>\n",
       "      <th>15</th>\n",
       "      <td>outdoor</td>\n",
       "      <td>75</td>\n",
       "    </tr>\n",
       "    <tr>\n",
       "      <th>16</th>\n",
       "      <td>d</td>\n",
       "      <td>70</td>\n",
       "    </tr>\n",
       "    <tr>\n",
       "      <th>17</th>\n",
       "      <td>storage</td>\n",
       "      <td>68</td>\n",
       "    </tr>\n",
       "    <tr>\n",
       "      <th>18</th>\n",
       "      <td>male</td>\n",
       "      <td>68</td>\n",
       "    </tr>\n",
       "    <tr>\n",
       "      <th>19</th>\n",
       "      <td>main</td>\n",
       "      <td>67</td>\n",
       "    </tr>\n",
       "    <tr>\n",
       "      <th>20</th>\n",
       "      <td>c</td>\n",
       "      <td>67</td>\n",
       "    </tr>\n",
       "    <tr>\n",
       "      <th>21</th>\n",
       "      <td>female</td>\n",
       "      <td>67</td>\n",
       "    </tr>\n",
       "    <tr>\n",
       "      <th>22</th>\n",
       "      <td>music</td>\n",
       "      <td>64</td>\n",
       "    </tr>\n",
       "    <tr>\n",
       "      <th>23</th>\n",
       "      <td>cell</td>\n",
       "      <td>63</td>\n",
       "    </tr>\n",
       "    <tr>\n",
       "      <th>24</th>\n",
       "      <td>fire</td>\n",
       "      <td>63</td>\n",
       "    </tr>\n",
       "    <tr>\n",
       "      <th>25</th>\n",
       "      <td>women</td>\n",
       "      <td>62</td>\n",
       "    </tr>\n",
       "    <tr>\n",
       "      <th>26</th>\n",
       "      <td>public</td>\n",
       "      <td>62</td>\n",
       "    </tr>\n",
       "    <tr>\n",
       "      <th>27</th>\n",
       "      <td>mech</td>\n",
       "      <td>61</td>\n",
       "    </tr>\n",
       "    <tr>\n",
       "      <th>28</th>\n",
       "      <td>student</td>\n",
       "      <td>58</td>\n",
       "    </tr>\n",
       "    <tr>\n",
       "      <th>29</th>\n",
       "      <td>cafe</td>\n",
       "      <td>58</td>\n",
       "    </tr>\n",
       "    <tr>\n",
       "      <th>30</th>\n",
       "      <td>elec</td>\n",
       "      <td>57</td>\n",
       "    </tr>\n",
       "    <tr>\n",
       "      <th>31</th>\n",
       "      <td>men</td>\n",
       "      <td>56</td>\n",
       "    </tr>\n",
       "    <tr>\n",
       "      <th>32</th>\n",
       "      <td>shared</td>\n",
       "      <td>55</td>\n",
       "    </tr>\n",
       "    <tr>\n",
       "      <th>33</th>\n",
       "      <td>suite</td>\n",
       "      <td>55</td>\n",
       "    </tr>\n",
       "    <tr>\n",
       "      <th>34</th>\n",
       "      <td>inmate</td>\n",
       "      <td>53</td>\n",
       "    </tr>\n",
       "    <tr>\n",
       "      <th>35</th>\n",
       "      <td>large</td>\n",
       "      <td>52</td>\n",
       "    </tr>\n",
       "    <tr>\n",
       "      <th>36</th>\n",
       "      <td>future</td>\n",
       "      <td>52</td>\n",
       "    </tr>\n",
       "    <tr>\n",
       "      <th>37</th>\n",
       "      <td>medical</td>\n",
       "      <td>52</td>\n",
       "    </tr>\n",
       "    <tr>\n",
       "      <th>38</th>\n",
       "      <td>hotel</td>\n",
       "      <td>51</td>\n",
       "    </tr>\n",
       "  </tbody>\n",
       "</table>\n",
       "</div>"
      ],
      "text/plain": [
       "        index  Root\n",
       "0           (   269\n",
       "1       stair   177\n",
       "2        unit   169\n",
       "3   classroom   152\n",
       "4        room   147\n",
       "5       staff   146\n",
       "6        elev   146\n",
       "7      office   116\n",
       "8        king   115\n",
       "9           .   105\n",
       "10          b    99\n",
       "11       open    95\n",
       "12      small    81\n",
       "13   existing    79\n",
       "14          a    79\n",
       "15    outdoor    75\n",
       "16          d    70\n",
       "17    storage    68\n",
       "18       male    68\n",
       "19       main    67\n",
       "20          c    67\n",
       "21     female    67\n",
       "22      music    64\n",
       "23       cell    63\n",
       "24       fire    63\n",
       "25      women    62\n",
       "26     public    62\n",
       "27       mech    61\n",
       "28    student    58\n",
       "29       cafe    58\n",
       "30       elec    57\n",
       "31        men    56\n",
       "32     shared    55\n",
       "33      suite    55\n",
       "34     inmate    53\n",
       "35      large    52\n",
       "36     future    52\n",
       "37    medical    52\n",
       "38      hotel    51"
      ]
     },
     "execution_count": 56,
     "metadata": {},
     "output_type": "execute_result"
    }
   ],
   "source": [
    "RootC[RootC['Root']>50]"
   ]
  },
  {
   "cell_type": "code",
   "execution_count": 48,
   "metadata": {},
   "outputs": [
    {
     "data": {
      "text/plain": [
       "<AxesSubplot:>"
      ]
     },
     "execution_count": 48,
     "metadata": {},
     "output_type": "execute_result"
    },
    {
     "data": {
      "image/png": "[encoded data removed]",
      "text/plain": [
       "<Figure size 432x288 with 1 Axes>"
      ]
     },
     "metadata": {
      "needs_background": "light"
     },
     "output_type": "display_data"
    }
   ],
   "source": [
    "RC['Root'].value_counts().reset_index()['Root'].hist()"
   ]
  },
  {
   "cell_type": "code",
   "execution_count": 35,
   "metadata": {},
   "outputs": [
    {
     "data": {
      "text/plain": [
       "(            269\n",
       "stair        177\n",
       "unit         169\n",
       "classroom    152\n",
       "room         147\n",
       "staff        146\n",
       "elev         146\n",
       "office       116\n",
       "king         115\n",
       ".            105\n",
       "b             99\n",
       "open          95\n",
       "small         81\n",
       "existing      79\n",
       "a             79\n",
       "outdoor       75\n",
       "d             70\n",
       "storage       68\n",
       "male          68\n",
       "main          67\n",
       "c             67\n",
       "female        67\n",
       "music         64\n",
       "cell          63\n",
       "fire          63\n",
       "women         62\n",
       "public        62\n",
       "mech          61\n",
       "student       58\n",
       "cafe          58\n",
       "elec          57\n",
       "men           56\n",
       "shared        55\n",
       "suite         55\n",
       "inmate        53\n",
       "large         52\n",
       "future        52\n",
       "medical       52\n",
       "hotel         51\n",
       "it            50\n",
       "boys          50\n",
       "girls         49\n",
       "art           49\n",
       "th            49\n",
       "health        48\n",
       "kitchen       48\n",
       "science       47\n",
       "service       46\n",
       "media         46\n",
       "admin         46\n",
       "team          46\n",
       "work          46\n",
       "t-            45\n",
       "tech          45\n",
       "computer      44\n",
       "pool          44\n",
       "teacher       44\n",
       "elevator      44\n",
       "ada           44\n",
       "faculty       41\n",
       "Name: Root, dtype: int64"
      ]
     },
     "execution_count": 35,
     "metadata": {},
     "output_type": "execute_result"
    }
   ],
   "source": [
    "RC['Root'].value_counts()[0:60]"
   ]
  },
  {
   "cell_type": "code",
   "execution_count": null,
   "metadata": {},
   "outputs": [],
   "source": []
  },
  {
   "cell_type": "code",
   "execution_count": 21,
   "metadata": {},
   "outputs": [
    {
     "data": {
      "text/plain": [
       "room         951\n",
       ".            837\n",
       "/            487\n",
       "storage      445\n",
       "office       432\n",
       "            ... \n",
       "ass            1\n",
       "surgeon        1\n",
       "embalming      1\n",
       "exercise/      1\n",
       "cnt            1\n",
       "Name: Two, Length: 1993, dtype: int64"
      ]
     },
     "execution_count": 21,
     "metadata": {},
     "output_type": "execute_result"
    }
   ],
   "source": [
    "RC['Two'].value_counts()"
   ]
  }
 ],
 "metadata": {
  "kernelspec": {
   "display_name": "Python 3 (ipykernel)",
   "language": "python",
   "name": "python3"
  },
  "language_info": {
   "codemirror_mode": {
    "name": "ipython",
    "version": 3
   },
   "file_extension": ".py",
   "mimetype": "text/x-python",
   "name": "python",
   "nbconvert_exporter": "python",
   "pygments_lexer": "ipython3",
   "version": "3.7.10"
  }
 },
 "nbformat": 4,
 "nbformat_minor": 4
}
