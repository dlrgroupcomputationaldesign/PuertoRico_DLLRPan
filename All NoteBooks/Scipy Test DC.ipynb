{
 "cells": [
  {
   "cell_type": "code",
   "execution_count": 1,
   "id": "468241bf",
   "metadata": {},
   "outputs": [],
   "source": [
    "from scipy.stats import binom"
   ]
  },
  {
   "cell_type": "code",
   "execution_count": 290,
   "id": "dae304c3",
   "metadata": {},
   "outputs": [],
   "source": [
    "from scipy.stats import find_repeats"
   ]
  },
  {
   "cell_type": "code",
   "execution_count": 2,
   "id": "28a56dad",
   "metadata": {},
   "outputs": [],
   "source": [
    "import numpy as np"
   ]
  },
  {
   "cell_type": "code",
   "execution_count": 3,
   "id": "9fdeb8d2",
   "metadata": {},
   "outputs": [],
   "source": [
    "import pandas as pd"
   ]
  },
  {
   "cell_type": "code",
   "execution_count": 289,
   "id": "c1fbbf25",
   "metadata": {},
   "outputs": [],
   "source": [
    "sampleflips=binom.rvs(2,.5,size=100)"
   ]
  },
  {
   "cell_type": "code",
   "execution_count": 294,
   "id": "db536ede",
   "metadata": {},
   "outputs": [
    {
     "data": {
      "text/plain": [
       "RepeatedResults(values=array([0., 1., 2.]), counts=array([24, 51, 25], dtype=int64))"
      ]
     },
     "execution_count": 294,
     "metadata": {},
     "output_type": "execute_result"
    }
   ],
   "source": [
    "find_repeats(sampleflips)"
   ]
  },
  {
   "cell_type": "code",
   "execution_count": 303,
   "id": "b8cc7a6a",
   "metadata": {},
   "outputs": [
    {
     "data": {
      "text/plain": [
       "0.09"
      ]
     },
     "execution_count": 303,
     "metadata": {},
     "output_type": "execute_result"
    }
   ],
   "source": [
    ".3*.3"
   ]
  },
  {
   "cell_type": "code",
   "execution_count": 304,
   "id": "636dcbaf",
   "metadata": {},
   "outputs": [
    {
     "data": {
      "text/plain": [
       "0.21"
      ]
     },
     "execution_count": 304,
     "metadata": {},
     "output_type": "execute_result"
    }
   ],
   "source": [
    ".3*.7"
   ]
  },
  {
   "cell_type": "code",
   "execution_count": 305,
   "id": "3b48bced",
   "metadata": {},
   "outputs": [
    {
     "data": {
      "text/plain": [
       "0.147"
      ]
     },
     "execution_count": 305,
     "metadata": {},
     "output_type": "execute_result"
    }
   ],
   "source": [
    ".3*.7*.7"
   ]
  },
  {
   "cell_type": "code",
   "execution_count": 307,
   "id": "c18bee5b",
   "metadata": {},
   "outputs": [
    {
     "data": {
      "text/plain": [
       "0.48999999999999994"
      ]
     },
     "execution_count": 307,
     "metadata": {},
     "output_type": "execute_result"
    }
   ],
   "source": [
    ".7*.7"
   ]
  },
  {
   "cell_type": "code",
   "execution_count": 300,
   "id": "1ad39513",
   "metadata": {},
   "outputs": [],
   "source": [
    "a=1-.3"
   ]
  },
  {
   "cell_type": "code",
   "execution_count": 302,
   "id": "bc41b544",
   "metadata": {},
   "outputs": [
    {
     "data": {
      "text/plain": [
       "0.7599"
      ]
     },
     "execution_count": 302,
     "metadata": {},
     "output_type": "execute_result"
    }
   ],
   "source": [
    "1-(a*a*a*a)"
   ]
  }
 ],
 "metadata": {
  "kernelspec": {
   "display_name": "Python 3 (ipykernel)",
   "language": "python",
   "name": "python3"
  },
  "language_info": {
   "codemirror_mode": {
    "name": "ipython",
    "version": 3
   },
   "file_extension": ".py",
   "mimetype": "text/x-python",
   "name": "python",
   "nbconvert_exporter": "python",
   "pygments_lexer": "ipython3",
   "version": "3.7.10"
  }
 },
 "nbformat": 4,
 "nbformat_minor": 5
}
