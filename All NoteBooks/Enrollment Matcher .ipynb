{
 "cells": [
  {
   "cell_type": "code",
   "execution_count": 71,
   "id": "drawn-flexibility",
   "metadata": {},
   "outputs": [],
   "source": [
    "import pyodbc \n",
    "import pandas as pd\n",
    "conn = pyodbc.connect('Driver={SQL Server};'\n",
    "                      'Server=vantagepoint;'\n",
    "                      'Database=DLRDW;'\n",
    "                      'Trusted_Connection=yes;')\n",
    "\n",
    "cursor = conn.cursor()"
   ]
  },
  {
   "cell_type": "code",
   "execution_count": 72,
   "id": "laden-canvas",
   "metadata": {},
   "outputs": [],
   "source": [
    "query = \"\"\" SELECT  DP.*,a.ProjectSquareFeet FROM [DLRDW].[bi_dds].DimProject DP \n",
    "inner join (SELECT [ProjectKey],[ProjectSquareFeet]\n",
    "      FROM [DLRDW].[bi_dds].[FactBuild]\n",
    "\t  where [ProjectSquareFeet]>0\n",
    "\t  group by [ProjectKey],[ProjectSquareFeet]) a\n",
    "on DP.ProjectKey=A.ProjectKey\n",
    "where DP.SectorName='ED K-12' and DP.ProjectAddress IS NOT NULL\n",
    "  \"\"\""
   ]
  },
  {
   "cell_type": "code",
   "execution_count": 73,
   "id": "otherwise-restoration",
   "metadata": {},
   "outputs": [],
   "source": [
    "Projects = pd.read_sql_query(query,conn)"
   ]
  },
  {
   "cell_type": "code",
   "execution_count": 74,
   "id": "wrong-sodium",
   "metadata": {},
   "outputs": [
    {
     "data": {
      "text/plain": [
       "Urbandale Community School District        29\n",
       "Ankeny Community School District           26\n",
       "Paradise Valley Unified School District    23\n",
       "J.O. Combs S.D. #44                        22\n",
       "Carlisle Community School District (IA)    18\n",
       "                                           ..\n",
       "Dr. Miriam & Sheldon G. Adelson HS          1\n",
       "Great River Regional Library                1\n",
       "Independence Public Schools (MO)            1\n",
       "St. Gabriel Parish                          1\n",
       "CORE Construction (AZ)                      1\n",
       "Name: BusinessPartnerName, Length: 499, dtype: int64"
      ]
     },
     "execution_count": 74,
     "metadata": {},
     "output_type": "execute_result"
    }
   ],
   "source": [
    "Projects['BusinessPartnerName'].value_counts()"
   ]
  },
  {
   "cell_type": "code",
   "execution_count": 75,
   "id": "further-malawi",
   "metadata": {},
   "outputs": [
    {
     "data": {
      "text/plain": [
       "1454"
      ]
     },
     "execution_count": 75,
     "metadata": {},
     "output_type": "execute_result"
    }
   ],
   "source": [
    "#number of vendor records\n",
    "len(Projects)"
   ]
  },
  {
   "cell_type": "code",
   "execution_count": 76,
   "id": "completed-violation",
   "metadata": {},
   "outputs": [
    {
     "name": "stdout",
     "output_type": "stream",
     "text": [
      "AxesSubplot(0.125,0.125;0.775x0.755)\n",
      "58000.0\n"
     ]
    },
    {
     "data": {
      "image/png": "[encoded data removed]",
      "text/plain": [
       "<Figure size 432x288 with 1 Axes>"
      ]
     },
     "metadata": {
      "needs_background": "light"
     },
     "output_type": "display_data"
    }
   ],
   "source": [
    "print(Projects[Projects['ProjectSquareFeet']<900000]['ProjectSquareFeet'].plot(kind='box'))\n",
    "#print(Projects[Projects['ProjectSquareFeet']<900000]['ProjectSquareFeet'].hist())\n",
    "print(Projects[Projects['ProjectSquareFeet']<900000]['ProjectSquareFeet'].median())"
   ]
  },
  {
   "cell_type": "code",
   "execution_count": 77,
   "id": "honest-classics",
   "metadata": {},
   "outputs": [
    {
     "name": "stdout",
     "output_type": "stream",
     "text": [
      "AxesSubplot(0.125,0.125;0.775x0.755)\n"
     ]
    },
    {
     "data": {
      "image/png": "[encoded data removed]",
      "text/plain": [
       "<Figure size 432x288 with 1 Axes>"
      ]
     },
     "metadata": {
      "needs_background": "light"
     },
     "output_type": "display_data"
    }
   ],
   "source": [
    "print(Projects[Projects['ProjectSquareFeet']<400000]['ProjectSquareFeet'].hist())"
   ]
  },
  {
   "cell_type": "code",
   "execution_count": 78,
   "id": "trying-supplier",
   "metadata": {},
   "outputs": [],
   "source": [
    "schooldata=pd.read_csv('C:/Users\\dmckenzie\\OneDrive - DLR Group\\Desktop\\ELSI_csv_export_6375574670841542982899.csv')"
   ]
  },
  {
   "cell_type": "code",
   "execution_count": 79,
   "id": "divine-christian",
   "metadata": {},
   "outputs": [],
   "source": [
    "schooldata.iloc[:,2:4]=schooldata.iloc[:,2:4].replace('†','')"
   ]
  },
  {
   "cell_type": "code",
   "execution_count": 80,
   "id": "natural-harris",
   "metadata": {},
   "outputs": [],
   "source": [
    "schooldata['FullAddress']=schooldata.iloc[:,1].astype(str).str.replace('None','')+\" \"+\\\n",
    "    schooldata.iloc[:,2].astype(str).str.replace('None','')+\" \"+\\\n",
    "    schooldata.iloc[:,3].astype(str).str.replace('None','')+\" \"+\\\n",
    "    schooldata.iloc[:,4].astype(str).str.replace('None','')+\" \"+\\\n",
    "    schooldata.iloc[:,5].astype(str).str.replace('None','')+\" \"+\\\n",
    "    schooldata.iloc[:,6].astype(str).str.replace('None','')"
   ]
  },
  {
   "cell_type": "code",
   "execution_count": 81,
   "id": "boxed-trouble",
   "metadata": {},
   "outputs": [],
   "source": [
    "import nltk"
   ]
  },
  {
   "cell_type": "code",
   "execution_count": 82,
   "id": "offshore-ancient",
   "metadata": {},
   "outputs": [],
   "source": [
    "schooldata=schooldata[schooldata['FullAddress'].isna()==False]"
   ]
  },
  {
   "cell_type": "code",
   "execution_count": 83,
   "id": "hundred-compensation",
   "metadata": {},
   "outputs": [],
   "source": [
    "schooldata['FullAddress']=schooldata['FullAddress'].apply(nltk.word_tokenize).apply(' '.join)"
   ]
  },
  {
   "cell_type": "code",
   "execution_count": 84,
   "id": "fantastic-restoration",
   "metadata": {},
   "outputs": [],
   "source": [
    "schooldata['FullAddress']=schooldata['FullAddress'].str.lower().str.replace('.','').str.replace(',','').str.replace('-','').str.replace('#','')"
   ]
  },
  {
   "cell_type": "code",
   "execution_count": 85,
   "id": "intensive-plumbing",
   "metadata": {},
   "outputs": [],
   "source": [
    "Projects['FullAddress']=Projects.iloc[:,8].astype(str).str.replace('None','')+\" \"+\\\n",
    "    Projects.iloc[:,9].astype(str).str.replace('None','')+\" \"+\\\n",
    "    Projects.iloc[:,10].astype(str).str.replace('None','')+\" \"+\\\n",
    "    Projects.iloc[:,11].astype(str).str.replace('None','')+\" \"+\\\n",
    "    Projects.iloc[:,12].astype(str).str.replace('None','')+\" \"+\\\n",
    "    Projects.iloc[:,13].astype(str).str.replace('None','')"
   ]
  },
  {
   "cell_type": "code",
   "execution_count": 86,
   "id": "focal-decline",
   "metadata": {},
   "outputs": [],
   "source": [
    "Projects['FullAddress']=Projects['FullAddress'].apply(nltk.word_tokenize).apply(' '.join).str.lower().str.replace('.','').str.replace(',','').str.replace('-','').str.replace('#','')"
   ]
  },
  {
   "cell_type": "code",
   "execution_count": 87,
   "id": "cosmetic-african",
   "metadata": {},
   "outputs": [],
   "source": [
    "#schooldata['School Type [Public School] 2019-20']"
   ]
  },
  {
   "cell_type": "code",
   "execution_count": 88,
   "id": "static-norway",
   "metadata": {},
   "outputs": [
    {
     "data": {
      "text/plain": [
       "Index(['School Name', 'Location Address 1 [Public School] 2019-20',\n",
       "       'Location Address 2 [Public School] 2019-20',\n",
       "       'Location Address 3 [Public School] 2019-20',\n",
       "       'Location City [Public School] 2019-20',\n",
       "       'Location State Abbr [Public School] 2019-20',\n",
       "       'Location ZIP [Public School] 2019-20',\n",
       "       'Location ZIP4 [Public School] 2019-20',\n",
       "       'School Type [Public School] 2019-20',\n",
       "       'Charter School [Public School] 2019-20',\n",
       "       'Magnet School [Public School] 2019-20',\n",
       "       'Total Students All Grades (Includes AE) [Public School] 2019-20',\n",
       "       'Pupil/Teacher Ratio [Public School] 2019-20',\n",
       "       'Latitude [Public School] 2019-20', 'Longitude [Public School] 2019-20',\n",
       "       'School ID - NCES Assigned [Public School] Latest available year',\n",
       "       'FullAddress'],\n",
       "      dtype='object')"
      ]
     },
     "execution_count": 88,
     "metadata": {},
     "output_type": "execute_result"
    }
   ],
   "source": [
    "schooldata.columns"
   ]
  },
  {
   "cell_type": "code",
   "execution_count": 89,
   "id": "instructional-harrison",
   "metadata": {},
   "outputs": [],
   "source": [
    "aaa=schooldata['Total Students All Grades (Includes AE) [Public School] 2019-20'].value_counts().index[2]"
   ]
  },
  {
   "cell_type": "code",
   "execution_count": 90,
   "id": "comparable-longitude",
   "metadata": {},
   "outputs": [
    {
     "data": {
      "text/plain": [
       "'–'"
      ]
     },
     "execution_count": 90,
     "metadata": {},
     "output_type": "execute_result"
    }
   ],
   "source": [
    "aaa"
   ]
  },
  {
   "cell_type": "code",
   "execution_count": 91,
   "id": "worth-connection",
   "metadata": {},
   "outputs": [],
   "source": [
    "schooldata=schooldata[(schooldata['Total Students All Grades (Includes AE) [Public School] 2019-20']!='†') & \n",
    "                     (schooldata['Total Students All Grades (Includes AE) [Public School] 2019-20']!='‡') &\n",
    "                     (schooldata['Total Students All Grades (Includes AE) [Public School] 2019-20']!=aaa) ]"
   ]
  },
  {
   "cell_type": "code",
   "execution_count": 92,
   "id": "adjacent-massachusetts",
   "metadata": {},
   "outputs": [],
   "source": [
    "schooldata['Total Students All Grades (Includes AE) [Public School] 2019-20']=schooldata['Total Students All Grades (Includes AE) [Public School] 2019-20'].astype(int)"
   ]
  },
  {
   "cell_type": "code",
   "execution_count": 93,
   "id": "available-atmosphere",
   "metadata": {},
   "outputs": [
    {
     "data": {
      "text/plain": [
       "97822"
      ]
     },
     "execution_count": 93,
     "metadata": {},
     "output_type": "execute_result"
    }
   ],
   "source": [
    "len(schooldata)"
   ]
  },
  {
   "cell_type": "code",
   "execution_count": 94,
   "id": "subsequent-karen",
   "metadata": {},
   "outputs": [],
   "source": [
    "schooldata=schooldata[schooldata.groupby('FullAddress')['Total Students All Grades (Includes AE) [Public School] 2019-20'].transform('count')==1]"
   ]
  },
  {
   "cell_type": "code",
   "execution_count": 95,
   "id": "lyric-mainland",
   "metadata": {},
   "outputs": [],
   "source": [
    "#schooldata['Total']=schooldata.groupby('FullAddress')['Total Students All Grades (Includes AE) [Public School] 2019-20'].transform('sum')\n",
    "#df.groupby(['c','d']).transform(f)\n",
    "#groupby(['Total Students All Grades (Includes AE) [Public School] 2019-20'])"
   ]
  },
  {
   "cell_type": "code",
   "execution_count": 96,
   "id": "obvious-positive",
   "metadata": {},
   "outputs": [],
   "source": [
    "#schooldata=schooldata.drop_duplicates(subset=['FullAddress'])"
   ]
  },
  {
   "cell_type": "code",
   "execution_count": 97,
   "id": "corporate-printer",
   "metadata": {},
   "outputs": [],
   "source": [
    "from_list =Projects['FullAddress'].to_list()\n",
    "two_list=schooldata['FullAddress'].to_list()"
   ]
  },
  {
   "cell_type": "code",
   "execution_count": 98,
   "id": "minor-update",
   "metadata": {},
   "outputs": [
    {
     "data": {
      "text/plain": [
       "<polyfuzz.polyfuzz.PolyFuzz at 0x1cc688500c8>"
      ]
     },
     "execution_count": 98,
     "metadata": {},
     "output_type": "execute_result"
    }
   ],
   "source": [
    "from polyfuzz.models import TFIDF\n",
    "from polyfuzz import PolyFuzz\n",
    "\n",
    "tfidf = TFIDF(n_gram_range=(1, 3))\n",
    "model = PolyFuzz(tfidf)\n",
    "model.match(from_list, two_list)"
   ]
  },
  {
   "cell_type": "code",
   "execution_count": 99,
   "id": "specialized-things",
   "metadata": {},
   "outputs": [
    {
     "data": {
      "text/html": [
       "<div>\n",
       "<style scoped>\n",
       "    .dataframe tbody tr th:only-of-type {\n",
       "        vertical-align: middle;\n",
       "    }\n",
       "\n",
       "    .dataframe tbody tr th {\n",
       "        vertical-align: top;\n",
       "    }\n",
       "\n",
       "    .dataframe thead th {\n",
       "        text-align: right;\n",
       "    }\n",
       "</style>\n",
       "<table border=\"1\" class=\"dataframe\">\n",
       "  <thead>\n",
       "    <tr style=\"text-align: right;\">\n",
       "      <th></th>\n",
       "      <th>From</th>\n",
       "      <th>To</th>\n",
       "      <th>Similarity</th>\n",
       "    </tr>\n",
       "  </thead>\n",
       "  <tbody>\n",
       "    <tr>\n",
       "      <th>212</th>\n",
       "      <td>5642 rosehill shawnee mission ks 66216</td>\n",
       "      <td>5642 rosehill shawnee mission ks 66216</td>\n",
       "      <td>1.000000</td>\n",
       "    </tr>\n",
       "    <tr>\n",
       "      <th>497</th>\n",
       "      <td>9150 lexington drive colorado springs co 80920</td>\n",
       "      <td>9150 lexington drive colorado springs co 80920</td>\n",
       "      <td>1.000000</td>\n",
       "    </tr>\n",
       "    <tr>\n",
       "      <th>868</th>\n",
       "      <td>6888 black forest road colorado springs co 80923</td>\n",
       "      <td>6888 black forest road colorado springs co 80923</td>\n",
       "      <td>1.000000</td>\n",
       "    </tr>\n",
       "    <tr>\n",
       "      <th>528</th>\n",
       "      <td>18211 w las brisas dr goodyear az 85338</td>\n",
       "      <td>18211 w las brisas dr goodyear az 85338</td>\n",
       "      <td>1.000000</td>\n",
       "    </tr>\n",
       "    <tr>\n",
       "      <th>1329</th>\n",
       "      <td>130 alameda ave tacoma wa 98466</td>\n",
       "      <td>130 alameda ave tacoma wa 98466</td>\n",
       "      <td>1.000000</td>\n",
       "    </tr>\n",
       "    <tr>\n",
       "      <th>...</th>\n",
       "      <td>...</td>\n",
       "      <td>...</td>\n",
       "      <td>...</td>\n",
       "    </tr>\n",
       "    <tr>\n",
       "      <th>103</th>\n",
       "      <td>33980 310th street neola ia 515595183</td>\n",
       "      <td>310 10th street rupert id 83350</td>\n",
       "      <td>0.371288</td>\n",
       "    </tr>\n",
       "    <tr>\n",
       "      <th>1074</th>\n",
       "      <td>highway 89a and red rock loop road sedona az 0...</td>\n",
       "      <td>highway 61 and cinder road concho az 85924</td>\n",
       "      <td>0.361526</td>\n",
       "    </tr>\n",
       "    <tr>\n",
       "      <th>545</th>\n",
       "      <td>800 north 6th muscoda wi 55373</td>\n",
       "      <td>3550 east river rd oscoda mi 48750</td>\n",
       "      <td>0.361303</td>\n",
       "    </tr>\n",
       "    <tr>\n",
       "      <th>223</th>\n",
       "      <td>714 date st schleswig ia 51461</td>\n",
       "      <td>11461 west state hwy 31 mcalester ok 74501</td>\n",
       "      <td>0.323086</td>\n",
       "    </tr>\n",
       "    <tr>\n",
       "      <th>1098</th>\n",
       "      <td>no  235 linyao road pudong shan 200126</td>\n",
       "      <td>2400 shannon pl se washington dc 20020</td>\n",
       "      <td>0.259089</td>\n",
       "    </tr>\n",
       "  </tbody>\n",
       "</table>\n",
       "<p>1454 rows × 3 columns</p>\n",
       "</div>"
      ],
      "text/plain": [
       "                                                   From  \\\n",
       "212              5642 rosehill shawnee mission ks 66216   \n",
       "497      9150 lexington drive colorado springs co 80920   \n",
       "868    6888 black forest road colorado springs co 80923   \n",
       "528             18211 w las brisas dr goodyear az 85338   \n",
       "1329                    130 alameda ave tacoma wa 98466   \n",
       "...                                                 ...   \n",
       "103               33980 310th street neola ia 515595183   \n",
       "1074  highway 89a and red rock loop road sedona az 0...   \n",
       "545                      800 north 6th muscoda wi 55373   \n",
       "223                      714 date st schleswig ia 51461   \n",
       "1098             no  235 linyao road pudong shan 200126   \n",
       "\n",
       "                                                    To  Similarity  \n",
       "212             5642 rosehill shawnee mission ks 66216    1.000000  \n",
       "497     9150 lexington drive colorado springs co 80920    1.000000  \n",
       "868   6888 black forest road colorado springs co 80923    1.000000  \n",
       "528            18211 w las brisas dr goodyear az 85338    1.000000  \n",
       "1329                   130 alameda ave tacoma wa 98466    1.000000  \n",
       "...                                                ...         ...  \n",
       "103                    310 10th street rupert id 83350    0.371288  \n",
       "1074        highway 61 and cinder road concho az 85924    0.361526  \n",
       "545                 3550 east river rd oscoda mi 48750    0.361303  \n",
       "223         11461 west state hwy 31 mcalester ok 74501    0.323086  \n",
       "1098            2400 shannon pl se washington dc 20020    0.259089  \n",
       "\n",
       "[1454 rows x 3 columns]"
      ]
     },
     "execution_count": 99,
     "metadata": {},
     "output_type": "execute_result"
    }
   ],
   "source": [
    "model.get_matches().sort_values('Similarity',ascending=False)"
   ]
  },
  {
   "cell_type": "code",
   "execution_count": 100,
   "id": "linear-words",
   "metadata": {},
   "outputs": [],
   "source": [
    "matchdf=model.get_matches().sort_values('Similarity',ascending=False)"
   ]
  },
  {
   "cell_type": "code",
   "execution_count": 101,
   "id": "accredited-warning",
   "metadata": {},
   "outputs": [
    {
     "data": {
      "text/html": [
       "<div>\n",
       "<style scoped>\n",
       "    .dataframe tbody tr th:only-of-type {\n",
       "        vertical-align: middle;\n",
       "    }\n",
       "\n",
       "    .dataframe tbody tr th {\n",
       "        vertical-align: top;\n",
       "    }\n",
       "\n",
       "    .dataframe thead th {\n",
       "        text-align: right;\n",
       "    }\n",
       "</style>\n",
       "<table border=\"1\" class=\"dataframe\">\n",
       "  <thead>\n",
       "    <tr style=\"text-align: right;\">\n",
       "      <th></th>\n",
       "      <th>From</th>\n",
       "      <th>To</th>\n",
       "      <th>Similarity</th>\n",
       "    </tr>\n",
       "  </thead>\n",
       "  <tbody>\n",
       "    <tr>\n",
       "      <th>212</th>\n",
       "      <td>5642 rosehill shawnee mission ks 66216</td>\n",
       "      <td>5642 rosehill shawnee mission ks 66216</td>\n",
       "      <td>1.000000</td>\n",
       "    </tr>\n",
       "    <tr>\n",
       "      <th>497</th>\n",
       "      <td>9150 lexington drive colorado springs co 80920</td>\n",
       "      <td>9150 lexington drive colorado springs co 80920</td>\n",
       "      <td>1.000000</td>\n",
       "    </tr>\n",
       "    <tr>\n",
       "      <th>868</th>\n",
       "      <td>6888 black forest road colorado springs co 80923</td>\n",
       "      <td>6888 black forest road colorado springs co 80923</td>\n",
       "      <td>1.000000</td>\n",
       "    </tr>\n",
       "    <tr>\n",
       "      <th>528</th>\n",
       "      <td>18211 w las brisas dr goodyear az 85338</td>\n",
       "      <td>18211 w las brisas dr goodyear az 85338</td>\n",
       "      <td>1.000000</td>\n",
       "    </tr>\n",
       "    <tr>\n",
       "      <th>1329</th>\n",
       "      <td>130 alameda ave tacoma wa 98466</td>\n",
       "      <td>130 alameda ave tacoma wa 98466</td>\n",
       "      <td>1.000000</td>\n",
       "    </tr>\n",
       "    <tr>\n",
       "      <th>...</th>\n",
       "      <td>...</td>\n",
       "      <td>...</td>\n",
       "      <td>...</td>\n",
       "    </tr>\n",
       "    <tr>\n",
       "      <th>713</th>\n",
       "      <td>705 north mary street lancaster pa 17603</td>\n",
       "      <td>705 n mary st lancaster pa 17603</td>\n",
       "      <td>0.881676</td>\n",
       "    </tr>\n",
       "    <tr>\n",
       "      <th>1246</th>\n",
       "      <td>holmen wi 54636</td>\n",
       "      <td>502 n main st holmen wi 54636</td>\n",
       "      <td>0.880504</td>\n",
       "    </tr>\n",
       "    <tr>\n",
       "      <th>557</th>\n",
       "      <td>920 west 29th street loveland co 80538</td>\n",
       "      <td>920 west 29th avenue loveland co 80538</td>\n",
       "      <td>0.880235</td>\n",
       "    </tr>\n",
       "    <tr>\n",
       "      <th>451</th>\n",
       "      <td>1601 west main street mesa az 85201</td>\n",
       "      <td>1601 w main st mesa az 85201</td>\n",
       "      <td>0.880084</td>\n",
       "    </tr>\n",
       "    <tr>\n",
       "      <th>1255</th>\n",
       "      <td>37611 n pecan creek dr san tan valley az 85140</td>\n",
       "      <td>37611 n pecan crk san tan valley az 85140</td>\n",
       "      <td>0.880063</td>\n",
       "    </tr>\n",
       "  </tbody>\n",
       "</table>\n",
       "<p>571 rows × 3 columns</p>\n",
       "</div>"
      ],
      "text/plain": [
       "                                                  From  \\\n",
       "212             5642 rosehill shawnee mission ks 66216   \n",
       "497     9150 lexington drive colorado springs co 80920   \n",
       "868   6888 black forest road colorado springs co 80923   \n",
       "528            18211 w las brisas dr goodyear az 85338   \n",
       "1329                   130 alameda ave tacoma wa 98466   \n",
       "...                                                ...   \n",
       "713           705 north mary street lancaster pa 17603   \n",
       "1246                                   holmen wi 54636   \n",
       "557             920 west 29th street loveland co 80538   \n",
       "451                1601 west main street mesa az 85201   \n",
       "1255    37611 n pecan creek dr san tan valley az 85140   \n",
       "\n",
       "                                                    To  Similarity  \n",
       "212             5642 rosehill shawnee mission ks 66216    1.000000  \n",
       "497     9150 lexington drive colorado springs co 80920    1.000000  \n",
       "868   6888 black forest road colorado springs co 80923    1.000000  \n",
       "528            18211 w las brisas dr goodyear az 85338    1.000000  \n",
       "1329                   130 alameda ave tacoma wa 98466    1.000000  \n",
       "...                                                ...         ...  \n",
       "713                   705 n mary st lancaster pa 17603    0.881676  \n",
       "1246                     502 n main st holmen wi 54636    0.880504  \n",
       "557             920 west 29th avenue loveland co 80538    0.880235  \n",
       "451                       1601 w main st mesa az 85201    0.880084  \n",
       "1255         37611 n pecan crk san tan valley az 85140    0.880063  \n",
       "\n",
       "[571 rows x 3 columns]"
      ]
     },
     "execution_count": 101,
     "metadata": {},
     "output_type": "execute_result"
    }
   ],
   "source": [
    "matchdf[matchdf['Similarity']>=.88]"
   ]
  },
  {
   "cell_type": "code",
   "execution_count": 226,
   "id": "marked-competition",
   "metadata": {},
   "outputs": [],
   "source": [
    "matchdf2=Projects[Projects['FullAddress'].isna()==False].\\\n",
    "         set_index('FullAddress').join(matchdf[matchdf['Similarity']>=.88].drop_duplicates(subset='From').\\\n",
    "    set_index('From'),how='inner').\\\n",
    "    reset_index().\\\n",
    "    rename(columns = {'index':'Project Scrubbed Address'}).\\\n",
    "    set_index('To').\\\n",
    "    join(schooldata.set_index('FullAddress')[['School Name',\n",
    "                                              'Location State Abbr [Public School] 2019-20',\n",
    "                                              'Total Students All Grades (Includes AE) [Public School] 2019-20']],how='inner').\\\n",
    "    reset_index().\\\n",
    "    rename(columns = {'index':'School Scrubbed Address'}).\\\n",
    "    sort_values('Similarity',ascending=False)[['School Scrubbed Address',\n",
    "                                               'Location State Abbr [Public School] 2019-20',\n",
    "                                               'ProjectKey',\n",
    "                                               'ProjectName',\n",
    "                                               'Status',\n",
    "                                               'BuildingType',\n",
    "                                               'School Name',\n",
    "                                               'Total Students All Grades (Includes AE) [Public School] 2019-20',\n",
    "                                               'ProjectSquareFeet']].\\\n",
    "    rename(columns = {'School Scrubbed Address':'Address',\n",
    "                      'Location State Abbr [Public School] 2019-20':'State'})"
   ]
  },
  {
   "cell_type": "code",
   "execution_count": 227,
   "id": "assumed-technology",
   "metadata": {},
   "outputs": [],
   "source": [
    "import numpy as np"
   ]
  },
  {
   "cell_type": "code",
   "execution_count": 228,
   "id": "stuffed-serial",
   "metadata": {},
   "outputs": [],
   "source": [
    "matchdf2=matchdf2[matchdf2['BuildingType'].isin(['Master Plan','Wellness Center','Athletic Field',\n",
    "                               'Parking','Other','Mixed Use'])==False]"
   ]
  },
  {
   "cell_type": "code",
   "execution_count": 229,
   "id": "exact-energy",
   "metadata": {},
   "outputs": [
    {
     "data": {
      "text/plain": [
       "Elementary School    119\n",
       "High School          114\n",
       "Academic             109\n",
       "Middle School         49\n",
       "Name: BuildingType, dtype: int64"
      ]
     },
     "execution_count": 229,
     "metadata": {},
     "output_type": "execute_result"
    }
   ],
   "source": [
    "matchdf2['BuildingType'].value_counts()"
   ]
  },
  {
   "cell_type": "code",
   "execution_count": 230,
   "id": "abandoned-walnut",
   "metadata": {},
   "outputs": [],
   "source": [
    "matchdf2['BuildingType']=np.where(matchdf2['ProjectName'].str.lower().str.contains('elem'),'Elementary School',\n",
    "                                  np.where(matchdf2['ProjectName'].str.contains('E.S.'),'Elementary School',\n",
    "        np.where(matchdf2['ProjectName'].str.lower().str.contains('middle'),'Middle School',\n",
    "                 np.where(matchdf2['ProjectName'].str.lower().str.contains('high s'),'High School',\n",
    "                          np.where(matchdf2['ProjectName'].str.contains('HS'),'High School',\n",
    "                                   np.where(matchdf2['ProjectName'].str.contains('H.S.'),'High School',\n",
    "                          matchdf2['BuildingType']))))))"
   ]
  },
  {
   "cell_type": "code",
   "execution_count": 231,
   "id": "hundred-dance",
   "metadata": {},
   "outputs": [],
   "source": [
    "matchdf2['SQFT_Per_Student']=matchdf2['ProjectSquareFeet']/matchdf2['Total Students All Grades (Includes AE) [Public School] 2019-20']"
   ]
  },
  {
   "cell_type": "code",
   "execution_count": 232,
   "id": "killing-genre",
   "metadata": {},
   "outputs": [],
   "source": [
    "matchdf2=matchdf2[matchdf2['Total Students All Grades (Includes AE) [Public School] 2019-20']!=0]"
   ]
  },
  {
   "cell_type": "code",
   "execution_count": 233,
   "id": "chinese-blocking",
   "metadata": {},
   "outputs": [],
   "source": [
    "matchdf2=matchdf2[matchdf2['SQFT_Per_Student']<500]"
   ]
  },
  {
   "cell_type": "code",
   "execution_count": 241,
   "id": "further-eugene",
   "metadata": {},
   "outputs": [],
   "source": [
    "matchdf2=matchdf2[matchdf2['SQFT_Per_Student']>10]"
   ]
  },
  {
   "cell_type": "code",
   "execution_count": 245,
   "id": "heavy-thermal",
   "metadata": {},
   "outputs": [
    {
     "data": {
      "text/html": [
       "<div>\n",
       "<style scoped>\n",
       "    .dataframe tbody tr th:only-of-type {\n",
       "        vertical-align: middle;\n",
       "    }\n",
       "\n",
       "    .dataframe tbody tr th {\n",
       "        vertical-align: top;\n",
       "    }\n",
       "\n",
       "    .dataframe thead th {\n",
       "        text-align: right;\n",
       "    }\n",
       "</style>\n",
       "<table border=\"1\" class=\"dataframe\">\n",
       "  <thead>\n",
       "    <tr style=\"text-align: right;\">\n",
       "      <th></th>\n",
       "      <th>Address</th>\n",
       "      <th>State</th>\n",
       "      <th>ProjectKey</th>\n",
       "      <th>ProjectName</th>\n",
       "      <th>BuildingType</th>\n",
       "      <th>School Name</th>\n",
       "      <th>Total Students All Grades (Includes AE) [Public School] 2019-20</th>\n",
       "      <th>ProjectSquareFeet</th>\n",
       "      <th>SQFT_Per_Student</th>\n",
       "    </tr>\n",
       "  </thead>\n",
       "  <tbody>\n",
       "    <tr>\n",
       "      <th>159</th>\n",
       "      <td>16610 bennington road bennington ne 68007</td>\n",
       "      <td>NE</td>\n",
       "      <td>74309</td>\n",
       "      <td>Bennington HS Aux Gym Addn</td>\n",
       "      <td>High School</td>\n",
       "      <td>BENNINGTON HIGH SCHOOL</td>\n",
       "      <td>766</td>\n",
       "      <td>26500.0</td>\n",
       "      <td>34.595300</td>\n",
       "    </tr>\n",
       "    <tr>\n",
       "      <th>323</th>\n",
       "      <td>3302 w 18th ave emporia ks 66801</td>\n",
       "      <td>KS</td>\n",
       "      <td>9220</td>\n",
       "      <td>Emporia High School Addns &amp; Renov</td>\n",
       "      <td>High School</td>\n",
       "      <td>EMPORIA HIGH</td>\n",
       "      <td>1598</td>\n",
       "      <td>55566.0</td>\n",
       "      <td>34.772215</td>\n",
       "    </tr>\n",
       "    <tr>\n",
       "      <th>331</th>\n",
       "      <td>35 s 4th street philadelphia pa 19106</td>\n",
       "      <td>PA</td>\n",
       "      <td>50465</td>\n",
       "      <td>Mastery Charter School Lenfest Campus Re</td>\n",
       "      <td>Academic</td>\n",
       "      <td>MASTERY CHS-LENFEST CAMPUS</td>\n",
       "      <td>582</td>\n",
       "      <td>12000.0</td>\n",
       "      <td>20.618557</td>\n",
       "    </tr>\n",
       "    <tr>\n",
       "      <th>332</th>\n",
       "      <td>35 s 4th street philadelphia pa 19106</td>\n",
       "      <td>PA</td>\n",
       "      <td>50466</td>\n",
       "      <td>Mastery Charter School Lenfest Campus Re</td>\n",
       "      <td>Academic</td>\n",
       "      <td>MASTERY CHS-LENFEST CAMPUS</td>\n",
       "      <td>582</td>\n",
       "      <td>12000.0</td>\n",
       "      <td>20.618557</td>\n",
       "    </tr>\n",
       "    <tr>\n",
       "      <th>376</th>\n",
       "      <td>425 n waverly road gardner ks 66030</td>\n",
       "      <td>KS</td>\n",
       "      <td>75980</td>\n",
       "      <td>Gardner Edgerton HS-Additions &amp; Renov</td>\n",
       "      <td>High School</td>\n",
       "      <td>GARDNER EDGERTON HIGH</td>\n",
       "      <td>1725</td>\n",
       "      <td>50000.0</td>\n",
       "      <td>28.985507</td>\n",
       "    </tr>\n",
       "    <tr>\n",
       "      <th>...</th>\n",
       "      <td>...</td>\n",
       "      <td>...</td>\n",
       "      <td>...</td>\n",
       "      <td>...</td>\n",
       "      <td>...</td>\n",
       "      <td>...</td>\n",
       "      <td>...</td>\n",
       "      <td>...</td>\n",
       "      <td>...</td>\n",
       "    </tr>\n",
       "    <tr>\n",
       "      <th>233</th>\n",
       "      <td>2211 south 55th kansas city ks 66106</td>\n",
       "      <td>KS</td>\n",
       "      <td>10430</td>\n",
       "      <td>Highland/Pierson/Turner High Remodel</td>\n",
       "      <td>None</td>\n",
       "      <td>TURNER HIGH</td>\n",
       "      <td>1108</td>\n",
       "      <td>19000.0</td>\n",
       "      <td>17.148014</td>\n",
       "    </tr>\n",
       "    <tr>\n",
       "      <th>438</th>\n",
       "      <td>510 long coulee rd holmen wi 54636</td>\n",
       "      <td>WI</td>\n",
       "      <td>24092</td>\n",
       "      <td>Holmen Elem Sch-Evergreen Mods</td>\n",
       "      <td>Elementary School</td>\n",
       "      <td>EVERGREEN ELEMENTARY</td>\n",
       "      <td>367</td>\n",
       "      <td>15000.0</td>\n",
       "      <td>40.871935</td>\n",
       "    </tr>\n",
       "    <tr>\n",
       "      <th>477</th>\n",
       "      <td>661 capistrano drive pueblo west co 81007</td>\n",
       "      <td>CO</td>\n",
       "      <td>20421</td>\n",
       "      <td>Pueblo West HS Add &amp; Ren</td>\n",
       "      <td>High School</td>\n",
       "      <td>PUEBLO WEST HIGH SCHOOL</td>\n",
       "      <td>1394</td>\n",
       "      <td>55175.0</td>\n",
       "      <td>39.580344</td>\n",
       "    </tr>\n",
       "    <tr>\n",
       "      <th>486</th>\n",
       "      <td>700 w north st bradley il 60915</td>\n",
       "      <td>IL</td>\n",
       "      <td>12400</td>\n",
       "      <td>BBCHS - 09 Phase I Addition</td>\n",
       "      <td>High School</td>\n",
       "      <td>BRADLEY-BOURBONNAIS C HIGH SCHOOL</td>\n",
       "      <td>1944</td>\n",
       "      <td>29500.0</td>\n",
       "      <td>15.174897</td>\n",
       "    </tr>\n",
       "    <tr>\n",
       "      <th>324</th>\n",
       "      <td>3325 bridge st saint francis mn 55070</td>\n",
       "      <td>MN</td>\n",
       "      <td>20982</td>\n",
       "      <td>St Francis High School Addition</td>\n",
       "      <td>High School</td>\n",
       "      <td>ST. FRANCIS HIGH</td>\n",
       "      <td>1297</td>\n",
       "      <td>23280.0</td>\n",
       "      <td>17.949113</td>\n",
       "    </tr>\n",
       "  </tbody>\n",
       "</table>\n",
       "<p>69 rows × 9 columns</p>\n",
       "</div>"
      ],
      "text/plain": [
       "                                       Address State  ProjectKey  \\\n",
       "159  16610 bennington road bennington ne 68007   NE        74309   \n",
       "323           3302 w 18th ave emporia ks 66801   KS         9220   \n",
       "331      35 s 4th street philadelphia pa 19106   PA        50465   \n",
       "332      35 s 4th street philadelphia pa 19106   PA        50466   \n",
       "376        425 n waverly road gardner ks 66030   KS        75980   \n",
       "..                                         ...   ...         ...   \n",
       "233       2211 south 55th kansas city ks 66106   KS        10430   \n",
       "438         510 long coulee rd holmen wi 54636   WI        24092   \n",
       "477  661 capistrano drive pueblo west co 81007   CO        20421   \n",
       "486            700 w north st bradley il 60915   IL        12400   \n",
       "324      3325 bridge st saint francis mn 55070   MN        20982   \n",
       "\n",
       "                                  ProjectName       BuildingType  \\\n",
       "159                Bennington HS Aux Gym Addn        High School   \n",
       "323         Emporia High School Addns & Renov        High School   \n",
       "331  Mastery Charter School Lenfest Campus Re           Academic   \n",
       "332  Mastery Charter School Lenfest Campus Re           Academic   \n",
       "376     Gardner Edgerton HS-Additions & Renov        High School   \n",
       "..                                        ...                ...   \n",
       "233      Highland/Pierson/Turner High Remodel               None   \n",
       "438            Holmen Elem Sch-Evergreen Mods  Elementary School   \n",
       "477                  Pueblo West HS Add & Ren        High School   \n",
       "486               BBCHS - 09 Phase I Addition        High School   \n",
       "324           St Francis High School Addition        High School   \n",
       "\n",
       "                           School Name  \\\n",
       "159             BENNINGTON HIGH SCHOOL   \n",
       "323                       EMPORIA HIGH   \n",
       "331         MASTERY CHS-LENFEST CAMPUS   \n",
       "332         MASTERY CHS-LENFEST CAMPUS   \n",
       "376              GARDNER EDGERTON HIGH   \n",
       "..                                 ...   \n",
       "233                        TURNER HIGH   \n",
       "438               EVERGREEN ELEMENTARY   \n",
       "477            PUEBLO WEST HIGH SCHOOL   \n",
       "486  BRADLEY-BOURBONNAIS C HIGH SCHOOL   \n",
       "324                   ST. FRANCIS HIGH   \n",
       "\n",
       "     Total Students All Grades (Includes AE) [Public School] 2019-20  \\\n",
       "159                                                766                 \n",
       "323                                               1598                 \n",
       "331                                                582                 \n",
       "332                                                582                 \n",
       "376                                               1725                 \n",
       "..                                                 ...                 \n",
       "233                                               1108                 \n",
       "438                                                367                 \n",
       "477                                               1394                 \n",
       "486                                               1944                 \n",
       "324                                               1297                 \n",
       "\n",
       "     ProjectSquareFeet  SQFT_Per_Student  \n",
       "159            26500.0         34.595300  \n",
       "323            55566.0         34.772215  \n",
       "331            12000.0         20.618557  \n",
       "332            12000.0         20.618557  \n",
       "376            50000.0         28.985507  \n",
       "..                 ...               ...  \n",
       "233            19000.0         17.148014  \n",
       "438            15000.0         40.871935  \n",
       "477            55175.0         39.580344  \n",
       "486            29500.0         15.174897  \n",
       "324            23280.0         17.949113  \n",
       "\n",
       "[69 rows x 9 columns]"
      ]
     },
     "execution_count": 245,
     "metadata": {},
     "output_type": "execute_result"
    }
   ],
   "source": [
    "matchdf2[matchdf2['SQFT_Per_Student']<50]"
   ]
  },
  {
   "cell_type": "code",
   "execution_count": 234,
   "id": "isolated-special",
   "metadata": {},
   "outputs": [],
   "source": [
    "matchdf2=matchdf2[matchdf2['Status']=='D']"
   ]
  },
  {
   "cell_type": "code",
   "execution_count": 235,
   "id": "boxed-police",
   "metadata": {},
   "outputs": [],
   "source": [
    "matchdf2=matchdf2.drop(columns=['Status'])"
   ]
  },
  {
   "cell_type": "code",
   "execution_count": 243,
   "id": "numerical-finance",
   "metadata": {},
   "outputs": [],
   "source": [
    "matchdf2.to_csv('C:/Users\\dmckenzie\\OneDrive - DLR Group\\Desktop\\Fuzzy Address For Enrollment2.csv')"
   ]
  },
  {
   "cell_type": "code",
   "execution_count": 244,
   "id": "ordinary-omega",
   "metadata": {},
   "outputs": [
    {
     "data": {
      "text/plain": [
       "Elementary School    146\n",
       "High School          117\n",
       "Middle School         50\n",
       "Academic              23\n",
       "Name: BuildingType, dtype: int64"
      ]
     },
     "execution_count": 244,
     "metadata": {},
     "output_type": "execute_result"
    }
   ],
   "source": [
    "matchdf2['BuildingType'].value_counts()"
   ]
  },
  {
   "cell_type": "code",
   "execution_count": 107,
   "id": "hollywood-requirement",
   "metadata": {},
   "outputs": [
    {
     "data": {
      "text/html": [
       "<div>\n",
       "<style scoped>\n",
       "    .dataframe tbody tr th:only-of-type {\n",
       "        vertical-align: middle;\n",
       "    }\n",
       "\n",
       "    .dataframe tbody tr th {\n",
       "        vertical-align: top;\n",
       "    }\n",
       "\n",
       "    .dataframe thead th {\n",
       "        text-align: right;\n",
       "    }\n",
       "</style>\n",
       "<table border=\"1\" class=\"dataframe\">\n",
       "  <thead>\n",
       "    <tr style=\"text-align: right;\">\n",
       "      <th></th>\n",
       "      <th>Address</th>\n",
       "      <th>State</th>\n",
       "      <th>Similarity</th>\n",
       "      <th>ProjectKey</th>\n",
       "      <th>ProjectName</th>\n",
       "      <th>Status</th>\n",
       "      <th>BuildingType</th>\n",
       "      <th>School Name</th>\n",
       "      <th>Total Students All Grades (Includes AE) [Public School] 2019-20</th>\n",
       "      <th>ProjectSquareFeet</th>\n",
       "      <th>SQFT_Per_Student</th>\n",
       "    </tr>\n",
       "  </thead>\n",
       "  <tbody>\n",
       "    <tr>\n",
       "      <th>495</th>\n",
       "      <td>421 walnut street farmington mn 55024</td>\n",
       "      <td>MN</td>\n",
       "      <td>0.911101</td>\n",
       "      <td>21691</td>\n",
       "      <td>Farmington High School</td>\n",
       "      <td>D</td>\n",
       "      <td>High School</td>\n",
       "      <td>DAKOTA COUNTY AREA LEARNING SCHOOL</td>\n",
       "      <td>18</td>\n",
       "      <td>453100.0</td>\n",
       "      <td>25172.222222</td>\n",
       "    </tr>\n",
       "    <tr>\n",
       "      <th>494</th>\n",
       "      <td>421 walnut street farmington mn 55024</td>\n",
       "      <td>MN</td>\n",
       "      <td>0.911101</td>\n",
       "      <td>21698</td>\n",
       "      <td>Farmington HS FF&amp;E Package</td>\n",
       "      <td>D</td>\n",
       "      <td>High School</td>\n",
       "      <td>DAKOTA COUNTY AREA LEARNING SCHOOL</td>\n",
       "      <td>18</td>\n",
       "      <td>450000.0</td>\n",
       "      <td>25000.000000</td>\n",
       "    </tr>\n",
       "    <tr>\n",
       "      <th>496</th>\n",
       "      <td>421 walnut street farmington mn 55024</td>\n",
       "      <td>MN</td>\n",
       "      <td>0.911101</td>\n",
       "      <td>21694</td>\n",
       "      <td>Farmington High School                 N</td>\n",
       "      <td>D</td>\n",
       "      <td>None</td>\n",
       "      <td>DAKOTA COUNTY AREA LEARNING SCHOOL</td>\n",
       "      <td>18</td>\n",
       "      <td>450000.0</td>\n",
       "      <td>25000.000000</td>\n",
       "    </tr>\n",
       "    <tr>\n",
       "      <th>378</th>\n",
       "      <td>3000 n dysart rd avondale az 85392</td>\n",
       "      <td>AZ</td>\n",
       "      <td>0.932453</td>\n",
       "      <td>15578</td>\n",
       "      <td>AAEC Coronado Plaza T.I.</td>\n",
       "      <td>D</td>\n",
       "      <td>High School</td>\n",
       "      <td>WEST-MEC ESTRELLA MOUNTAIN COMMUNITY COLLEGE</td>\n",
       "      <td>2</td>\n",
       "      <td>23000.0</td>\n",
       "      <td>11500.000000</td>\n",
       "    </tr>\n",
       "    <tr>\n",
       "      <th>362</th>\n",
       "      <td>2751 de ronde dr fairfield ca 94533</td>\n",
       "      <td>CA</td>\n",
       "      <td>0.922597</td>\n",
       "      <td>32890</td>\n",
       "      <td>TUSD Scandia Elem School</td>\n",
       "      <td>D</td>\n",
       "      <td>Academic</td>\n",
       "      <td>TRAVIS INDEPENDENT STUDY</td>\n",
       "      <td>6</td>\n",
       "      <td>58871.0</td>\n",
       "      <td>9811.833333</td>\n",
       "    </tr>\n",
       "    <tr>\n",
       "      <th>194</th>\n",
       "      <td>1524 e 103rd st los angeles ca 90002</td>\n",
       "      <td>CA</td>\n",
       "      <td>0.806668</td>\n",
       "      <td>83015</td>\n",
       "      <td>Swinerton - Jordan HS</td>\n",
       "      <td>D</td>\n",
       "      <td>High School</td>\n",
       "      <td>THOMAS RILEY HIGH</td>\n",
       "      <td>47</td>\n",
       "      <td>220448.0</td>\n",
       "      <td>4690.382979</td>\n",
       "    </tr>\n",
       "    <tr>\n",
       "      <th>602</th>\n",
       "      <td>606 east 4th street chaska mn 55318</td>\n",
       "      <td>MN</td>\n",
       "      <td>0.808461</td>\n",
       "      <td>21027</td>\n",
       "      <td>Carver-Scott Educational Cooperative</td>\n",
       "      <td>D</td>\n",
       "      <td>High School</td>\n",
       "      <td>SW METRO CCJ</td>\n",
       "      <td>4</td>\n",
       "      <td>17800.0</td>\n",
       "      <td>4450.000000</td>\n",
       "    </tr>\n",
       "    <tr>\n",
       "      <th>570</th>\n",
       "      <td>510 chambers street steilacoom wa 98388</td>\n",
       "      <td>WA</td>\n",
       "      <td>0.920286</td>\n",
       "      <td>28515</td>\n",
       "      <td>Steilacoom Sd-Pioneer Middle   Sch Impro</td>\n",
       "      <td>D</td>\n",
       "      <td>None</td>\n",
       "      <td>FUTURES PROGRAM</td>\n",
       "      <td>10</td>\n",
       "      <td>44400.0</td>\n",
       "      <td>4440.000000</td>\n",
       "    </tr>\n",
       "    <tr>\n",
       "      <th>338</th>\n",
       "      <td>2410 girard ave north minneapolis mn 55411</td>\n",
       "      <td>MN</td>\n",
       "      <td>0.924423</td>\n",
       "      <td>23978</td>\n",
       "      <td>NECL - North Star Elementary</td>\n",
       "      <td>D</td>\n",
       "      <td>Academic</td>\n",
       "      <td>PREKINDERGARTEN NORTH</td>\n",
       "      <td>5</td>\n",
       "      <td>20465.0</td>\n",
       "      <td>4093.000000</td>\n",
       "    </tr>\n",
       "    <tr>\n",
       "      <th>129</th>\n",
       "      <td>1250 west broadway ave minneapolis mn 55411</td>\n",
       "      <td>MN</td>\n",
       "      <td>0.961027</td>\n",
       "      <td>21044</td>\n",
       "      <td>Broadway Elementary</td>\n",
       "      <td>D</td>\n",
       "      <td>Elementary School</td>\n",
       "      <td>MINNEAPOLIS ON LINE LEARNING</td>\n",
       "      <td>49</td>\n",
       "      <td>135000.0</td>\n",
       "      <td>2755.102041</td>\n",
       "    </tr>\n",
       "    <tr>\n",
       "      <th>138</th>\n",
       "      <td>130 s willow street belle plaine mn 56011</td>\n",
       "      <td>MN</td>\n",
       "      <td>0.941811</td>\n",
       "      <td>21761</td>\n",
       "      <td>Belle Plaine JR/SR High A/E</td>\n",
       "      <td>D</td>\n",
       "      <td>High School</td>\n",
       "      <td>BELLE PLAINE TRANSITIONS/WORK EXPER</td>\n",
       "      <td>15</td>\n",
       "      <td>39000.0</td>\n",
       "      <td>2600.000000</td>\n",
       "    </tr>\n",
       "    <tr>\n",
       "      <th>117</th>\n",
       "      <td>1230 5th st nw bemidji mn 56601</td>\n",
       "      <td>MN</td>\n",
       "      <td>0.818117</td>\n",
       "      <td>85573</td>\n",
       "      <td>Bemidji Upper Elementary School</td>\n",
       "      <td>D</td>\n",
       "      <td>Elementary School</td>\n",
       "      <td>FIRST CITY SCHOOL</td>\n",
       "      <td>53</td>\n",
       "      <td>120000.0</td>\n",
       "      <td>2264.150943</td>\n",
       "    </tr>\n",
       "    <tr>\n",
       "      <th>661</th>\n",
       "      <td>722 mill bay rd kodiak ak 99615</td>\n",
       "      <td>AK</td>\n",
       "      <td>0.883720</td>\n",
       "      <td>25717</td>\n",
       "      <td>Kodiak High School Replacement</td>\n",
       "      <td>D</td>\n",
       "      <td>High School</td>\n",
       "      <td>AKTEACH</td>\n",
       "      <td>95</td>\n",
       "      <td>189466.0</td>\n",
       "      <td>1994.378947</td>\n",
       "    </tr>\n",
       "    <tr>\n",
       "      <th>397</th>\n",
       "      <td>3133 ridge ave philadelphia pa 19132</td>\n",
       "      <td>PA</td>\n",
       "      <td>0.887643</td>\n",
       "      <td>16743</td>\n",
       "      <td>SMHS                                   N</td>\n",
       "      <td>D</td>\n",
       "      <td>None</td>\n",
       "      <td>STRAWBERRY MANSION HS</td>\n",
       "      <td>169</td>\n",
       "      <td>298000.0</td>\n",
       "      <td>1763.313609</td>\n",
       "    </tr>\n",
       "    <tr>\n",
       "      <th>229</th>\n",
       "      <td>1800 w agnew road raymond ne 68428</td>\n",
       "      <td>NE</td>\n",
       "      <td>0.970316</td>\n",
       "      <td>4105</td>\n",
       "      <td>Raymond Central Jr Sr Hi Sch RemodAddn</td>\n",
       "      <td>D</td>\n",
       "      <td>High School</td>\n",
       "      <td>RAYMOND CENTRAL PRESCHOOL</td>\n",
       "      <td>36</td>\n",
       "      <td>50000.0</td>\n",
       "      <td>1388.888889</td>\n",
       "    </tr>\n",
       "    <tr>\n",
       "      <th>116</th>\n",
       "      <td>1230 5th st nw bemidji mn 56601</td>\n",
       "      <td>MN</td>\n",
       "      <td>0.902993</td>\n",
       "      <td>24040</td>\n",
       "      <td>Bemidji Elementary School</td>\n",
       "      <td>D</td>\n",
       "      <td>Elementary School</td>\n",
       "      <td>FIRST CITY SCHOOL</td>\n",
       "      <td>53</td>\n",
       "      <td>70000.0</td>\n",
       "      <td>1320.754717</td>\n",
       "    </tr>\n",
       "    <tr>\n",
       "      <th>291</th>\n",
       "      <td>2100 e 87th st chicago il 60617</td>\n",
       "      <td>IL</td>\n",
       "      <td>0.906390</td>\n",
       "      <td>12878</td>\n",
       "      <td>CVCA-Ph I - CTE (and associated site)</td>\n",
       "      <td>D</td>\n",
       "      <td>High School</td>\n",
       "      <td>CHICAGO VOCATIONAL CAREER ACAD HS</td>\n",
       "      <td>760</td>\n",
       "      <td>850000.0</td>\n",
       "      <td>1118.421053</td>\n",
       "    </tr>\n",
       "    <tr>\n",
       "      <th>205</th>\n",
       "      <td>1617 w williams dr phoenix az 85027</td>\n",
       "      <td>AZ</td>\n",
       "      <td>1.000000</td>\n",
       "      <td>71590</td>\n",
       "      <td>West-MEC Northeast Campus Improvements</td>\n",
       "      <td>D</td>\n",
       "      <td>Academic</td>\n",
       "      <td>NORTHEAST CAMPUS</td>\n",
       "      <td>91</td>\n",
       "      <td>96000.0</td>\n",
       "      <td>1054.945055</td>\n",
       "    </tr>\n",
       "    <tr>\n",
       "      <th>658</th>\n",
       "      <td>7201 4th ave s richfield mn 55423</td>\n",
       "      <td>MN</td>\n",
       "      <td>0.875742</td>\n",
       "      <td>23912</td>\n",
       "      <td>Richfield Central Building  - Richfield</td>\n",
       "      <td>D</td>\n",
       "      <td>None</td>\n",
       "      <td>RICHFIELD COLLEGE EXPERIENCE PRG</td>\n",
       "      <td>62</td>\n",
       "      <td>59724.0</td>\n",
       "      <td>963.290323</td>\n",
       "    </tr>\n",
       "    <tr>\n",
       "      <th>546</th>\n",
       "      <td>500 n verrado way buckeye az 85326</td>\n",
       "      <td>AZ</td>\n",
       "      <td>1.000000</td>\n",
       "      <td>67611</td>\n",
       "      <td>West-MEC SW Campus Improvements</td>\n",
       "      <td>I</td>\n",
       "      <td>Academic</td>\n",
       "      <td>SOUTHWEST CAMPUS</td>\n",
       "      <td>83</td>\n",
       "      <td>76148.0</td>\n",
       "      <td>917.445783</td>\n",
       "    </tr>\n",
       "  </tbody>\n",
       "</table>\n",
       "</div>"
      ],
      "text/plain": [
       "                                         Address State  Similarity  \\\n",
       "495        421 walnut street farmington mn 55024   MN     0.911101   \n",
       "494        421 walnut street farmington mn 55024   MN     0.911101   \n",
       "496        421 walnut street farmington mn 55024   MN     0.911101   \n",
       "378           3000 n dysart rd avondale az 85392   AZ     0.932453   \n",
       "362          2751 de ronde dr fairfield ca 94533   CA     0.922597   \n",
       "194         1524 e 103rd st los angeles ca 90002   CA     0.806668   \n",
       "602          606 east 4th street chaska mn 55318   MN     0.808461   \n",
       "570      510 chambers street steilacoom wa 98388   WA     0.920286   \n",
       "338   2410 girard ave north minneapolis mn 55411   MN     0.924423   \n",
       "129  1250 west broadway ave minneapolis mn 55411   MN     0.961027   \n",
       "138    130 s willow street belle plaine mn 56011   MN     0.941811   \n",
       "117              1230 5th st nw bemidji mn 56601   MN     0.818117   \n",
       "661              722 mill bay rd kodiak ak 99615   AK     0.883720   \n",
       "397         3133 ridge ave philadelphia pa 19132   PA     0.887643   \n",
       "229           1800 w agnew road raymond ne 68428   NE     0.970316   \n",
       "116              1230 5th st nw bemidji mn 56601   MN     0.902993   \n",
       "291              2100 e 87th st chicago il 60617   IL     0.906390   \n",
       "205          1617 w williams dr phoenix az 85027   AZ     1.000000   \n",
       "658            7201 4th ave s richfield mn 55423   MN     0.875742   \n",
       "546           500 n verrado way buckeye az 85326   AZ     1.000000   \n",
       "\n",
       "     ProjectKey                               ProjectName Status  \\\n",
       "495       21691                    Farmington High School      D   \n",
       "494       21698                Farmington HS FF&E Package      D   \n",
       "496       21694  Farmington High School                 N      D   \n",
       "378       15578                  AAEC Coronado Plaza T.I.      D   \n",
       "362       32890                  TUSD Scandia Elem School      D   \n",
       "194       83015                     Swinerton - Jordan HS      D   \n",
       "602       21027      Carver-Scott Educational Cooperative      D   \n",
       "570       28515  Steilacoom Sd-Pioneer Middle   Sch Impro      D   \n",
       "338       23978              NECL - North Star Elementary      D   \n",
       "129       21044                       Broadway Elementary      D   \n",
       "138       21761               Belle Plaine JR/SR High A/E      D   \n",
       "117       85573           Bemidji Upper Elementary School      D   \n",
       "661       25717            Kodiak High School Replacement      D   \n",
       "397       16743  SMHS                                   N      D   \n",
       "229        4105    Raymond Central Jr Sr Hi Sch RemodAddn      D   \n",
       "116       24040                 Bemidji Elementary School      D   \n",
       "291       12878     CVCA-Ph I - CTE (and associated site)      D   \n",
       "205       71590    West-MEC Northeast Campus Improvements      D   \n",
       "658       23912  Richfield Central Building  - Richfield       D   \n",
       "546       67611           West-MEC SW Campus Improvements      I   \n",
       "\n",
       "          BuildingType                                   School Name  \\\n",
       "495        High School            DAKOTA COUNTY AREA LEARNING SCHOOL   \n",
       "494        High School            DAKOTA COUNTY AREA LEARNING SCHOOL   \n",
       "496               None            DAKOTA COUNTY AREA LEARNING SCHOOL   \n",
       "378        High School  WEST-MEC ESTRELLA MOUNTAIN COMMUNITY COLLEGE   \n",
       "362           Academic                      TRAVIS INDEPENDENT STUDY   \n",
       "194        High School                             THOMAS RILEY HIGH   \n",
       "602        High School                                  SW METRO CCJ   \n",
       "570               None                               FUTURES PROGRAM   \n",
       "338           Academic                         PREKINDERGARTEN NORTH   \n",
       "129  Elementary School                  MINNEAPOLIS ON LINE LEARNING   \n",
       "138        High School           BELLE PLAINE TRANSITIONS/WORK EXPER   \n",
       "117  Elementary School                             FIRST CITY SCHOOL   \n",
       "661        High School                                       AKTEACH   \n",
       "397               None                         STRAWBERRY MANSION HS   \n",
       "229        High School                     RAYMOND CENTRAL PRESCHOOL   \n",
       "116  Elementary School                             FIRST CITY SCHOOL   \n",
       "291        High School             CHICAGO VOCATIONAL CAREER ACAD HS   \n",
       "205           Academic                              NORTHEAST CAMPUS   \n",
       "658               None              RICHFIELD COLLEGE EXPERIENCE PRG   \n",
       "546           Academic                              SOUTHWEST CAMPUS   \n",
       "\n",
       "     Total Students All Grades (Includes AE) [Public School] 2019-20  \\\n",
       "495                                                 18                 \n",
       "494                                                 18                 \n",
       "496                                                 18                 \n",
       "378                                                  2                 \n",
       "362                                                  6                 \n",
       "194                                                 47                 \n",
       "602                                                  4                 \n",
       "570                                                 10                 \n",
       "338                                                  5                 \n",
       "129                                                 49                 \n",
       "138                                                 15                 \n",
       "117                                                 53                 \n",
       "661                                                 95                 \n",
       "397                                                169                 \n",
       "229                                                 36                 \n",
       "116                                                 53                 \n",
       "291                                                760                 \n",
       "205                                                 91                 \n",
       "658                                                 62                 \n",
       "546                                                 83                 \n",
       "\n",
       "     ProjectSquareFeet  SQFT_Per_Student  \n",
       "495           453100.0      25172.222222  \n",
       "494           450000.0      25000.000000  \n",
       "496           450000.0      25000.000000  \n",
       "378            23000.0      11500.000000  \n",
       "362            58871.0       9811.833333  \n",
       "194           220448.0       4690.382979  \n",
       "602            17800.0       4450.000000  \n",
       "570            44400.0       4440.000000  \n",
       "338            20465.0       4093.000000  \n",
       "129           135000.0       2755.102041  \n",
       "138            39000.0       2600.000000  \n",
       "117           120000.0       2264.150943  \n",
       "661           189466.0       1994.378947  \n",
       "397           298000.0       1763.313609  \n",
       "229            50000.0       1388.888889  \n",
       "116            70000.0       1320.754717  \n",
       "291           850000.0       1118.421053  \n",
       "205            96000.0       1054.945055  \n",
       "658            59724.0        963.290323  \n",
       "546            76148.0        917.445783  "
      ]
     },
     "execution_count": 107,
     "metadata": {},
     "output_type": "execute_result"
    }
   ],
   "source": [
    "matchdf2.sort_values(['SQFT_Per_Student'],ascending=False).head(20)"
   ]
  },
  {
   "cell_type": "code",
   "execution_count": 192,
   "id": "stopped-scottish",
   "metadata": {},
   "outputs": [],
   "source": [
    "from plotnine import *"
   ]
  },
  {
   "cell_type": "code",
   "execution_count": 212,
   "id": "electrical-constitution",
   "metadata": {},
   "outputs": [
    {
     "name": "stderr",
     "output_type": "stream",
     "text": [
      "C:\\Users\\dmckenzie\\Anaconda3\\envs\\Three Seven\\lib\\site-packages\\plotnine\\stats\\stat_bin.py:93: PlotnineWarning: 'stat_bin()' using 'bins = 775'. Pick better value with 'binwidth'.\n"
     ]
    },
    {
     "data": {
      "image/png": "[encoded data removed]",
      "text/plain": [
       "<Figure size 640x480 with 1 Axes>"
      ]
     },
     "metadata": {},
     "output_type": "display_data"
    },
    {
     "data": {
      "text/plain": [
       "<ggplot: (-9223371921105504548)>"
      ]
     },
     "execution_count": 212,
     "metadata": {},
     "output_type": "execute_result"
    }
   ],
   "source": [
    "    (\n",
    "    ggplot(matchdf2)\n",
    "    + geom_histogram(aes(\"SQFT_Per_Student\"))\n",
    "    )+theme_bw()"
   ]
  },
  {
   "cell_type": "code",
   "execution_count": 213,
   "id": "lucky-absorption",
   "metadata": {},
   "outputs": [
    {
     "data": {
      "text/plain": [
       "1124"
      ]
     },
     "execution_count": 213,
     "metadata": {},
     "output_type": "execute_result"
    }
   ],
   "source": [
    "len(matchdf2[matchdf2['SQFT_Per_Student']<500])"
   ]
  },
  {
   "cell_type": "code",
   "execution_count": 214,
   "id": "headed-payday",
   "metadata": {},
   "outputs": [
    {
     "data": {
      "image/png": "[encoded data removed]",
      "text/plain": [
       "<Figure size 640x480 with 1 Axes>"
      ]
     },
     "metadata": {},
     "output_type": "display_data"
    },
    {
     "data": {
      "text/plain": [
       "<ggplot: (-9223371921104406108)>"
      ]
     },
     "execution_count": 214,
     "metadata": {},
     "output_type": "execute_result"
    }
   ],
   "source": [
    "    (\n",
    "    ggplot(matchdf2[matchdf2['SQFT_Per_Student']<500])\n",
    "    + geom_boxplot(aes(x=1,y=\"SQFT_Per_Student\"))\n",
    "    )+theme_bw()+coord_flip()"
   ]
  },
  {
   "cell_type": "code",
   "execution_count": 215,
   "id": "parental-deficit",
   "metadata": {},
   "outputs": [
    {
     "data": {
      "text/plain": [
       "High School          236\n",
       "Elementary School    226\n",
       "Academic             188\n",
       "Middle School         95\n",
       "Other                 14\n",
       "Athletic Field         9\n",
       "Library                8\n",
       "Industrial             7\n",
       "Study                  5\n",
       "Mixed Use              3\n",
       "theatre                2\n",
       "Football Stadium       1\n",
       "Parking                1\n",
       "Retail                 1\n",
       "Master Plan            1\n",
       "Office                 1\n",
       "Wellness Center        1\n",
       "Name: BuildingType, dtype: int64"
      ]
     },
     "execution_count": 215,
     "metadata": {},
     "output_type": "execute_result"
    }
   ],
   "source": [
    "matchdf2[matchdf2['SQFT_Per_Student']<500]['BuildingType'].value_counts()"
   ]
  },
  {
   "cell_type": "code",
   "execution_count": 227,
   "id": "interested-warrior",
   "metadata": {},
   "outputs": [
    {
     "data": {
      "image/png": "[encoded data removed]",
      "text/plain": [
       "<Figure size 640x480 with 1 Axes>"
      ]
     },
     "metadata": {},
     "output_type": "display_data"
    },
    {
     "data": {
      "text/plain": [
       "<ggplot: (-9223371921106582256)>"
      ]
     },
     "execution_count": 227,
     "metadata": {},
     "output_type": "execute_result"
    }
   ],
   "source": [
    "    (\n",
    "    ggplot((matchdf2[(matchdf2['Status']=='D') & (matchdf2['SQFT_Per_Student']<500) & (matchdf2['BuildingType'].isin(['High School','Athletic Field',\n",
    "                                                                                       'Elementary School','Academic',\n",
    "                                                                                       'Middle School']))]))\n",
    "    + geom_boxplot(aes(x='BuildingType',y=\"SQFT_Per_Student\"))\n",
    "    )+theme_bw()+coord_flip()"
   ]
  },
  {
   "cell_type": "code",
   "execution_count": 217,
   "id": "computational-holder",
   "metadata": {},
   "outputs": [],
   "source": [
    "matchdf2.to_csv('Documents\\Fuzzy Address For Enrollment.csv')"
   ]
  }
 ],
 "metadata": {
  "kernelspec": {
   "display_name": "Python 3",
   "language": "python",
   "name": "python3"
  },
  "language_info": {
   "codemirror_mode": {
    "name": "ipython",
    "version": 3
   },
   "file_extension": ".py",
   "mimetype": "text/x-python",
   "name": "python",
   "nbconvert_exporter": "python",
   "pygments_lexer": "ipython3",
   "version": "3.7.9"
  }
 },
 "nbformat": 4,
 "nbformat_minor": 5
}
