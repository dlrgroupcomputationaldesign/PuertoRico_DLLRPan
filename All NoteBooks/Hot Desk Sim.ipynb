{
 "cells": [
  {
   "cell_type": "code",
   "execution_count": 13,
   "id": "0b75927a",
   "metadata": {},
   "outputs": [],
   "source": [
    "import numpy as np\n",
    "import pandas as pd"
   ]
  },
  {
   "cell_type": "code",
   "execution_count": 339,
   "id": "14cca8d1",
   "metadata": {},
   "outputs": [],
   "source": [
    "good=dict.fromkeys(range(1,68), 0)\n",
    "teachers=dict.fromkeys(range(0,82), [])\n",
    "for i in teachers:\n",
    "    rooms=[i for i in good.keys() if good[i]<3]\n",
    "    picks=np.random.choice(rooms,2,replace=False).tolist()\n",
    "    teachers[i]=picks\n",
    "    \n",
    "    for j in picks:\n",
    "        good[j]+=1"
   ]
  },
  {
   "cell_type": "code",
   "execution_count": 340,
   "id": "05bf2864",
   "metadata": {},
   "outputs": [],
   "source": [
    "SimFrame=pd.DataFrame()\n",
    "teacherslist=list(range(0,82))\n",
    "for q in range(0,100):\n",
    "\n",
    "    confcounter={'0':0,'1':0,\"2\":0,\"7\":0}\n",
    "    lunchcounter={'3':0,'4':0,\"5\":0,\"6\":0}\n",
    "    stop=21\n",
    "    schedules=[]\n",
    "\n",
    "    for i in teacherslist:\n",
    "    \n",
    "        lunch=[]\n",
    "    \n",
    "        for j in list(lunchcounter.keys()):\n",
    "            if lunchcounter[str(j)]<stop:\n",
    "                lunch.append(int(j))\n",
    "    \n",
    "        schedule= [\"On\",\"On\",'On',\"On\",\"On\",'On',\"On\",'On']\n",
    "    \n",
    "        lt=np.random.choice(lunch,1)[0]\n",
    "    \n",
    "        schedule[lt]='Off'\n",
    "        lunchcounter[str(lt)]+=1\n",
    "    \n",
    "        conf=[]\n",
    "        \n",
    "        for x in list(confcounter.keys()):\n",
    "            if confcounter[str(x)]<stop:\n",
    "                conf.append(int(x))\n",
    "    \n",
    "        co=np.random.choice(conf,1)[0]\n",
    "    \n",
    "        schedule[co]='Off'\n",
    "        confcounter[str(co)]+=1\n",
    "    \n",
    "        schedules.append(schedule)\n",
    "        \n",
    "    for z in range(0,len(teacherslist)):\n",
    "        classrooms=list(range(1,68))\n",
    "        \n",
    "        for b in range(0,len(schedules[z])):\n",
    "            if (schedules[z][b]=='On') & (len(classrooms)>1):\n",
    "                pick=np.random.choice(classrooms,1)\n",
    "                schedules[z][b]=int(pick)\n",
    "                classrooms=(classrooms[0:int(pick)-1]+classrooms[int(pick):])\n",
    "        \n",
    "            elif schedules[z][b]=='Off':\n",
    "                continue  \n",
    "            else:\n",
    "                schedules[z][b]='Hallway'\n",
    "        \n",
    "    \n",
    "    SimFrame=SimFrame.append(pd.DataFrame(schedules).assign(Simulation=q+1))\n",
    "        "
   ]
  },
  {
   "cell_type": "code",
   "execution_count": 8,
   "id": "55c01c25",
   "metadata": {},
   "outputs": [
    {
     "data": {
      "text/plain": [
       "0    2053\n",
       "1    2039\n",
       "2    2061\n",
       "3    2050\n",
       "4    2043\n",
       "5    2050\n",
       "6    2057\n",
       "7    2047\n",
       "dtype: int64"
      ]
     },
     "execution_count": 8,
     "metadata": {},
     "output_type": "execute_result"
    }
   ],
   "source": [
    "(SimFrame.drop(columns=['Simulation'])=='Off').sum()"
   ]
  },
  {
   "cell_type": "code",
   "execution_count": 10,
   "id": "a7b88ee2",
   "metadata": {},
   "outputs": [
    {
     "data": {
      "text/plain": [
       "0    20.53\n",
       "1    20.39\n",
       "2    20.61\n",
       "3    20.50\n",
       "4    20.43\n",
       "5    20.50\n",
       "6    20.57\n",
       "7    20.47\n",
       "dtype: float64"
      ]
     },
     "execution_count": 10,
     "metadata": {},
     "output_type": "execute_result"
    }
   ],
   "source": [
    "(SimFrame.drop(columns=['Simulation'])=='Off').sum()/100"
   ]
  },
  {
   "cell_type": "code",
   "execution_count": 11,
   "id": "cd98b80e",
   "metadata": {},
   "outputs": [
    {
     "data": {
      "text/plain": [
       "0    0.0\n",
       "1    0.0\n",
       "2    0.0\n",
       "3    0.0\n",
       "4    0.0\n",
       "5    0.0\n",
       "6    0.0\n",
       "7    0.0\n",
       "dtype: float64"
      ]
     },
     "execution_count": 11,
     "metadata": {},
     "output_type": "execute_result"
    }
   ],
   "source": [
    "(SimFrame.drop(columns=['Simulation'])=='Hallway').sum()/5"
   ]
  }
 ],
 "metadata": {
  "kernelspec": {
   "display_name": "Python 3 (ipykernel)",
   "language": "python",
   "name": "python3"
  },
  "language_info": {
   "codemirror_mode": {
    "name": "ipython",
    "version": 3
   },
   "file_extension": ".py",
   "mimetype": "text/x-python",
   "name": "python",
   "nbconvert_exporter": "python",
   "pygments_lexer": "ipython3",
   "version": "3.7.10"
  }
 },
 "nbformat": 4,
 "nbformat_minor": 5
}
