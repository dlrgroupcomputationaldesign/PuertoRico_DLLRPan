{
 "cells": [
  {
   "cell_type": "code",
   "execution_count": 5,
   "id": "mineral-victim",
   "metadata": {},
   "outputs": [],
   "source": [
    "import requests\n",
    "import pandas as pd"
   ]
  },
  {
   "cell_type": "code",
   "execution_count": 2,
   "id": "located-council",
   "metadata": {},
   "outputs": [],
   "source": [
    "HOST = \"https://api.census.gov/data\"\n",
    "year = '2010'\n",
    "dataset = 'dec/sf1'\n",
    "base_url = \"/\".join([HOST, year, dataset])"
   ]
  },
  {
   "cell_type": "code",
   "execution_count": 3,
   "id": "interracial-michigan",
   "metadata": {},
   "outputs": [
    {
     "name": "stdout",
     "output_type": "stream",
     "text": [
      "[[\"NAME\",\"P013001\",\"P037001\",\"state\"],\n",
      "[\"Alabama\",\"37.9\",\"3.02\",\"01\"],\n",
      "[\"Alaska\",\"33.8\",\"3.21\",\"02\"],\n",
      "[\"Arizona\",\"35.9\",\"3.19\",\"04\"],\n",
      "[\"Arkansas\",\"37.4\",\"3.00\",\"05\"],\n",
      "[\"California\",\"35.2\",\"3.45\",\"06\"],\n",
      "[\"Louisiana\",\"35.8\",\"3.10\",\"22\"],\n",
      "[\"Kentucky\",\"38.1\",\"2.98\",\"21\"],\n",
      "[\"Colorado\",\"36.1\",\"3.08\",\"08\"],\n",
      "[\"Connecticut\",\"40.0\",\"3.08\",\"09\"],\n",
      "[\"Delaware\",\"38.8\",\"3.06\",\"10\"],\n",
      "[\"District of Columbia\",\"33.8\",\"3.01\",\"11\"],\n",
      "[\"Florida\",\"40.7\",\"3.01\",\"12\"],\n",
      "[\"Georgia\",\"35.3\",\"3.17\",\"13\"],\n",
      "[\"Hawaii\",\"38.6\",\"3.42\",\"15\"],\n",
      "[\"Idaho\",\"34.6\",\"3.16\",\"16\"],\n",
      "[\"Illinois\",\"36.6\",\"3.20\",\"17\"],\n",
      "[\"Indiana\",\"37.0\",\"3.05\",\"18\"],\n",
      "[\"Iowa\",\"38.1\",\"2.97\",\"19\"],\n",
      "[\"Kansas\",\"36.0\",\"3.06\",\"20\"],\n",
      "[\"Maine\",\"42.7\",\"2.83\",\"23\"],\n",
      "[\"Maryland\",\"38.0\",\"3.15\",\"24\"],\n",
      "[\"Massachusetts\",\"39.1\",\"3.08\",\"25\"],\n",
      "[\"Michigan\",\"38.9\",\"3.05\",\"26\"],\n",
      "[\"Minnesota\",\"37.4\",\"3.05\",\"27\"],\n",
      "[\"Mississippi\",\"36.0\",\"3.11\",\"28\"],\n",
      "[\"Missouri\",\"37.9\",\"3.00\",\"29\"],\n",
      "[\"Montana\",\"39.8\",\"2.91\",\"30\"],\n",
      "[\"Nebraska\",\"36.2\",\"3.04\",\"31\"],\n",
      "[\"Nevada\",\"36.3\",\"3.20\",\"32\"],\n",
      "[\"New Hampshire\",\"41.1\",\"2.96\",\"33\"],\n",
      "[\"New Jersey\",\"39.0\",\"3.22\",\"34\"],\n",
      "[\"New Mexico\",\"36.7\",\"3.13\",\"35\"],\n",
      "[\"New York\",\"38.0\",\"3.20\",\"36\"],\n",
      "[\"North Carolina\",\"37.4\",\"3.01\",\"37\"],\n",
      "[\"North Dakota\",\"37.0\",\"2.91\",\"38\"],\n",
      "[\"Ohio\",\"38.8\",\"3.01\",\"39\"],\n",
      "[\"Oklahoma\",\"36.2\",\"3.04\",\"40\"],\n",
      "[\"Oregon\",\"38.4\",\"3.00\",\"41\"],\n",
      "[\"Pennsylvania\",\"40.1\",\"3.02\",\"42\"],\n",
      "[\"Rhode Island\",\"39.4\",\"3.04\",\"44\"],\n",
      "[\"South Carolina\",\"37.9\",\"3.01\",\"45\"],\n",
      "[\"South Dakota\",\"36.9\",\"3.00\",\"46\"],\n",
      "[\"Tennessee\",\"38.0\",\"3.01\",\"47\"],\n",
      "[\"Texas\",\"33.6\",\"3.31\",\"48\"],\n",
      "[\"Utah\",\"29.2\",\"3.56\",\"49\"],\n",
      "[\"Vermont\",\"41.5\",\"2.85\",\"50\"],\n",
      "[\"Virginia\",\"37.5\",\"3.06\",\"51\"],\n",
      "[\"Washington\",\"37.3\",\"3.06\",\"53\"],\n",
      "[\"West Virginia\",\"41.3\",\"2.88\",\"54\"],\n",
      "[\"Wisconsin\",\"38.5\",\"2.99\",\"55\"],\n",
      "[\"Wyoming\",\"36.8\",\"2.96\",\"56\"],\n",
      "[\"Puerto Rico\",\"36.9\",\"3.17\",\"72\"]]\n"
     ]
    }
   ],
   "source": [
    "get_vars = ['NAME','P013001','P037001']\n",
    "predicates = {}\n",
    "predicates[\"get\"] = \",\".join(get_vars)\n",
    "predicates[\"for\"] = \"state:*\"\n",
    "\n",
    "# Execute the request, examine text of response object\n",
    "r = requests.get(base_url, params=predicates)\n",
    "print(r.text)"
   ]
  },
  {
   "cell_type": "code",
   "execution_count": 7,
   "id": "religious-guyana",
   "metadata": {},
   "outputs": [
    {
     "data": {
      "text/plain": [
       "<seaborn.axisgrid.FacetGrid at 0x1a77f2a9f08>"
      ]
     },
     "execution_count": 7,
     "metadata": {},
     "output_type": "execute_result"
    },
    {
     "data": {
      "image/png": "[encoded data removed]",
      "text/plain": [
       "<Figure size 360x360 with 1 Axes>"
      ]
     },
     "metadata": {},
     "output_type": "display_data"
    }
   ],
   "source": [
    "import seaborn as sns\n",
    "sns.set()\n",
    "\n",
    "# Construct the data frame\n",
    "col_names = ['name', 'median_age', 'avg_family_size','state']\n",
    "states = pd.DataFrame(columns = col_names, data = r.json()[1:])\n",
    "# Convert each column with numeric data to an appropriate type\n",
    "states[\"median_age\"] = states[\"median_age\"].astype(float)\n",
    "states[\"avg_family_size\"] = states[\"avg_family_size\"].astype(float)\n",
    "\n",
    "\n",
    "# Scatterplot with regression line\n",
    "sns.lmplot(x = \"avg_family_size\", y = \"median_age\", data = states)"
   ]
  },
  {
   "cell_type": "code",
   "execution_count": 32,
   "id": "enclosed-ensemble",
   "metadata": {},
   "outputs": [
    {
     "name": "stdout",
     "output_type": "stream",
     "text": [
      "<html><head><title>Error report</title></head><body><h1>HTTP Status 404 - /data/1980/asc/B01003</h1></body></html>\n"
     ]
    }
   ],
   "source": [
    "HOST = \"https://api.census.gov/data\"\n",
    "year = '1980'\n",
    "dataset = 'asc/B01003'\n",
    "base_url = \"/\".join([HOST, year, dataset])\n",
    "# Build dictionary of predicates\n",
    "get_vars = [\"NAME\", \"P001001\"] # <- total population\n",
    "predicates = {}\n",
    "predicates[\"get\"] = \",\".join(get_vars)\n",
    "predicates[\"for\"] = \"place:*\"\n",
    "predicates[\"in\"] = \"state:17\"\n",
    "\n",
    "# Execute the request\n",
    "r = requests.get(base_url, params=predicates)\n",
    "\n",
    "# Show the response text\n",
    "print(r.text)"
   ]
  },
  {
   "cell_type": "code",
   "execution_count": 17,
   "id": "acoustic-labor",
   "metadata": {},
   "outputs": [
    {
     "name": "stdout",
     "output_type": "stream",
     "text": [
      "\n"
     ]
    }
   ],
   "source": [
    "# Build base URL\n",
    "HOST = \"https://api.census.gov/data\"\n",
    "year = '2010'\n",
    "dataset = 'dec/sf1'\n",
    "base_url = \"/\".join([HOST, year, dataset])\n",
    "\n",
    "# Specify Census variables and other predicates\n",
    "get_vars = ['*']\n",
    "predicates = {}\n",
    "predicates[\"get\"] = \",\".join(get_vars)\n",
    "predicates[\"for\"] = \"state:*\"\n",
    "\n",
    "# Execute the request, examine text of response object\n",
    "r = requests.get(base_url, params=predicates)\n",
    "print(r.text)"
   ]
  },
  {
   "cell_type": "code",
   "execution_count": 19,
   "id": "double-teach",
   "metadata": {},
   "outputs": [
    {
     "data": {
      "text/plain": [
       "0"
      ]
     },
     "execution_count": 19,
     "metadata": {},
     "output_type": "execute_result"
    }
   ],
   "source": [
    "len(r.text)"
   ]
  },
  {
   "cell_type": "code",
   "execution_count": 33,
   "id": "southern-juice",
   "metadata": {},
   "outputs": [],
   "source": [
    "import pathlib\n",
    "import urllib.request\n",
    "\n",
    "import geopandas as gpd"
   ]
  },
  {
   "cell_type": "code",
   "execution_count": 34,
   "id": "built-contemporary",
   "metadata": {},
   "outputs": [],
   "source": [
    "states_filename = \"tl_2017_us_state.zip\"\n",
    "states_url = f\"https://www2.census.gov/geo/tiger/TIGER2017/STATE/{states_filename}\"\n",
    "states_file = pathlib.Path(states_filename)\n",
    "\n",
    "zipcode_filename = \"tl_2017_us_zcta510.zip\"\n",
    "zipcode_url = f\"https://www2.census.gov/geo/tiger/TIGER2017/ZCTA5/{zipcode_filename}\"\n",
    "zipcode_file = pathlib.Path(zipcode_filename)\n",
    "\n",
    "for data_file, url in zip([states_file, zipcode_file], [states_url, zipcode_url]):\n",
    "    if not data_file.is_file():\n",
    "        with urllib.request.urlopen(url) as resp, \\\n",
    "                open(data_file, \"wb\") as f:\n",
    "\n",
    "            f.write(resp.read())"
   ]
  },
  {
   "cell_type": "code",
   "execution_count": null,
   "id": "worth-local",
   "metadata": {},
   "outputs": [],
   "source": []
  }
 ],
 "metadata": {
  "kernelspec": {
   "display_name": "Python 3",
   "language": "python",
   "name": "python3"
  },
  "language_info": {
   "codemirror_mode": {
    "name": "ipython",
    "version": 3
   },
   "file_extension": ".py",
   "mimetype": "text/x-python",
   "name": "python",
   "nbconvert_exporter": "python",
   "pygments_lexer": "ipython3",
   "version": "3.7.9"
  }
 },
 "nbformat": 4,
 "nbformat_minor": 5
}
