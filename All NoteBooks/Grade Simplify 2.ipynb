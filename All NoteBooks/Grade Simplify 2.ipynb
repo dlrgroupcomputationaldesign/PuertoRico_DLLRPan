{
 "cells": [
  {
   "cell_type": "code",
   "execution_count": 13,
   "id": "73785d06",
   "metadata": {},
   "outputs": [],
   "source": [
    "path='C:/Users/dmckenzie/Downloads/Test2.csv'\n",
    "%matplotlib inline\n",
    "# Import libraries\n",
    "import numpy as np\n",
    "import pandas as pd\n",
    "import matplotlib.pyplot as plt\n",
    "from itertools import combinations \n",
    "from sklearn.cluster import KMeans\n",
    "import folium\n",
    "# Load data"
   ]
  },
  {
   "cell_type": "code",
   "execution_count": 14,
   "id": "a89855cf",
   "metadata": {},
   "outputs": [],
   "source": [
    "p2='C:/Users/dmckenzie/Downloads/00 PRDE School Data List_Jan-25-2022 V.1 (2).xlsx'"
   ]
  },
  {
   "cell_type": "code",
   "execution_count": 15,
   "id": "67e6b340",
   "metadata": {},
   "outputs": [],
   "source": [
    "data=pd.read_excel(p2,sheet_name='Consolidated',header=1)"
   ]
  },
  {
   "cell_type": "code",
   "execution_count": 16,
   "id": "404bb077",
   "metadata": {},
   "outputs": [],
   "source": [
    "data=data.drop(columns=['LEVEL','GRADES','test',\n",
    "                            'GRADES MINUS LETTERS','GRADES MINUS HS/COLLEGE',\n",
    "                            'SPECIAL ED','HIGH SCHOOL TEST','HIGH SCHOOL','COLLEGE',\n",
    "                            'ADULT','TEST LEN','COHORT','COHORT COMBINED','FCI% ORIGINAL',\n",
    "                            'ENROLLMENT 2021-22','USE OF SHELTER','DESIGNATION','PreK '])"
   ]
  },
  {
   "cell_type": "code",
   "execution_count": 17,
   "id": "88cce482",
   "metadata": {},
   "outputs": [],
   "source": [
    "import nltk"
   ]
  },
  {
   "cell_type": "code",
   "execution_count": 18,
   "id": "b857a29e",
   "metadata": {},
   "outputs": [],
   "source": [
    "data=data.rename(columns={'GRADES 3/29/2022':'GRADES'})"
   ]
  },
  {
   "cell_type": "code",
   "execution_count": 19,
   "id": "1e234914",
   "metadata": {},
   "outputs": [
    {
     "data": {
      "text/plain": [
       "0.9765533411488863"
      ]
     },
     "execution_count": 19,
     "metadata": {},
     "output_type": "execute_result"
    }
   ],
   "source": [
    "data['GRADES'].value_counts().head(15).sum()/len(data)"
   ]
  },
  {
   "cell_type": "code",
   "execution_count": 20,
   "id": "b297e6bd",
   "metadata": {},
   "outputs": [],
   "source": [
    "data['SpEd']=data['GRADES'].str.contains(\"E\")*1\n",
    "data['PK']=data['GRADES'].str.contains(\"PK\")*1"
   ]
  },
  {
   "cell_type": "code",
   "execution_count": 21,
   "id": "3e3bc2a5",
   "metadata": {},
   "outputs": [
    {
     "name": "stderr",
     "output_type": "stream",
     "text": [
      "C:\\Users\\dmckenzie\\Anaconda3\\envs\\Three Sev\\lib\\site-packages\\ipykernel_launcher.py:1: FutureWarning: The default value of regex will change from True to False in a future version.\n",
      "  \"\"\"Entry point for launching an IPython kernel.\n"
     ]
    }
   ],
   "source": [
    "data['GRADES2']=np.where(data['GRADES'].str.replace('|'.join(['1','2','3','4','5','6','7','8','9','0',' ','K']),'')!='',\n",
    "         'Missing',\n",
    "         data['GRADES'])"
   ]
  },
  {
   "cell_type": "code",
   "execution_count": 22,
   "id": "164990ee",
   "metadata": {},
   "outputs": [
    {
     "data": {
      "text/plain": [
       "K 1 2 3 4 5                            288\n",
       "K 1 2 3 4 5 6 7 8                      190\n",
       "9 10 11 12                             154\n",
       "6 7 8                                   91\n",
       "6 7 8 9 10 11 12                        36\n",
       "K 1 2 3 4 5 6                           29\n",
       "K 1 2 3 4 5 6 7 8 9 10 11 12            11\n",
       "SHARED SCHOOL                            7\n",
       "13 14                                    6\n",
       "K 1 2 3 4 5 6 7 8 9                      6\n",
       "7 8 9 10 11 12                           5\n",
       "8 9 10 11 12                             3\n",
       "ADULT BASED ON ORIGINAL CAMPUS LIST      3\n",
       "NOT IN ENROLLMENT                        2\n",
       "4 5 6 7 8 9 10 11 12                     2\n",
       "K 1 2 3                                  2\n",
       "K 1 2 3 4 5 6 7 8 9 10 11                1\n",
       "6 7 8 9                                  1\n",
       "6 7 8 9 10 11                            1\n",
       "10 11 12                                 1\n",
       "5 6 7 8 9 10 11 12                       1\n",
       "6 7 8 9 10                               1\n",
       "K 1 2 3 4 5 6 7 8 9 10                   1\n",
       "K                                        1\n",
       "Name: GRADES, dtype: int64"
      ]
     },
     "execution_count": 22,
     "metadata": {},
     "output_type": "execute_result"
    }
   ],
   "source": [
    "data['GRADES'].value_counts()"
   ]
  },
  {
   "cell_type": "code",
   "execution_count": 23,
   "id": "c07db4f1",
   "metadata": {},
   "outputs": [],
   "source": [
    "data['GT']=data['GRADES2'].fillna('').str.replace('EEE','').\\\n",
    "        str.replace('EEI','').str.replace('EES','').str.replace('PK','').str.split().apply(' '.join)\n",
    "\n",
    "data['GT2']=np.where(data['GT']=='',' ',data['GT'])\n",
    "\n",
    "lastelm=[]\n",
    "for i in data['GT2'].str.split():\n",
    "    if len(i)<2:\n",
    "        lastelm.append(' ')    \n",
    "    else:\n",
    "        lastelm.append(i[-1])\n",
    "data['Glast']=lastelm\n",
    "#data['GT2']=np.where(data['GT']=='',' ',data['GT'])\n",
    "firstelm=[]\n",
    "for i in data['GT2'].str.split():\n",
    "    if len(i)<1:\n",
    "        firstelm.append(' ')\n",
    "    else:\n",
    "        firstelm.append(i[0])\n",
    "        \n",
    "data['Gfirst']=firstelm\n",
    "\n",
    "data['Glast2']=np.where(data['Glast']==' ','1000',data['Glast'])\n",
    "data['Simp']=data['Gfirst']+\" \"+data['Glast2']\n",
    "\n",
    "data['Simp2']=np.where((data['Glast2'].astype(int)<=5) | (data['Simp']=='K '),'Elem',\n",
    "            np.where((data['Glast2'].isin(['6','7','8','9'])) & \n",
    "                     (data['Gfirst'].isin(['K','1','2','3'])),\n",
    "                     'Elem2Middle',\n",
    "                    np.where((data['Simp']=='6 8') | \n",
    "                            (data['Simp']=='6 9')  |\n",
    "                             (data['Simp']=='4 6') |\n",
    "                             (data['Simp']=='4 8') |\n",
    "                             (data['Simp']=='7 9') |\n",
    "                             (data['Simp']=='6 7'),'Middle',\n",
    "                            np.where((data['Glast2'].isin(['10','11','12'])) &\n",
    "                                     (data['Gfirst'].isin(['5','6','7'])) ,\n",
    "                                     'Middle2High',\n",
    "                                    np.where((data['Glast2'].isin(['10','11','12'])) & \n",
    "                                     (data['Gfirst'].isin(['K','1','2','3','4'])),'Elem2High',\n",
    "                                             np.where((data['Glast2'].isin(['10','11','12'])) &\n",
    "                                                      (data['Gfirst'].isin(['8','9','10','11'])),\n",
    "                                                      'High School',\n",
    "                                                      np.where((data['Gfirst'].isin(['13','14','ADULTOS'])),\n",
    "                                                      'Adult',np.where(data['GRADES'].str.contains('SHAR'),'Shared School','Other'))))))))"
   ]
  },
  {
   "cell_type": "code",
   "execution_count": 24,
   "id": "eab51527",
   "metadata": {},
   "outputs": [
    {
     "data": {
      "text/plain": [
       "Elem             290\n",
       "Elem2Middle      225\n",
       "High School      158\n",
       "Middle            92\n",
       "Middle2High       44\n",
       "Shared School     17\n",
       "Elem2High         15\n",
       "Adult              6\n",
       "Other              6\n",
       "Name: Simp2, dtype: int64"
      ]
     },
     "execution_count": 24,
     "metadata": {},
     "output_type": "execute_result"
    }
   ],
   "source": [
    "data['Simp2'].value_counts()"
   ]
  },
  {
   "cell_type": "code",
   "execution_count": 25,
   "id": "b4371c8f",
   "metadata": {},
   "outputs": [],
   "source": [
    "data['Simp2']=np.where(data['Simp2'].isin(['Elem','Elem2Middle','High School','Middle'])==False,\n",
    "                       'MultiGrade/Other',data['Simp2'])"
   ]
  },
  {
   "cell_type": "code",
   "execution_count": 26,
   "id": "7741a688",
   "metadata": {},
   "outputs": [
    {
     "data": {
      "text/plain": [
       "<AxesSubplot:>"
      ]
     },
     "execution_count": 26,
     "metadata": {},
     "output_type": "execute_result"
    },
    {
     "data": {
      "image/png": "[encoded data removed]",
      "text/plain": [
       "<Figure size 432x288 with 1 Axes>"
      ]
     },
     "metadata": {
      "needs_background": "light"
     },
     "output_type": "display_data"
    }
   ],
   "source": [
    "data['Simp2'].value_counts().plot(kind='barh')"
   ]
  },
  {
   "cell_type": "code",
   "execution_count": 31,
   "id": "fc6dbccf",
   "metadata": {},
   "outputs": [],
   "source": [
    "data['LowHigh']=(data['Gfirst']+\" \"+data['Glast2'])\n"
   ]
  },
  {
   "cell_type": "code",
   "execution_count": null,
   "id": "a61dbba0",
   "metadata": {},
   "outputs": [],
   "source": []
  },
  {
   "cell_type": "code",
   "execution_count": 32,
   "id": "9ec7701f",
   "metadata": {},
   "outputs": [],
   "source": [
    "data[['CODE','Simp2','LowHigh']].to_csv('SimpGrades2.csv')"
   ]
  },
  {
   "cell_type": "code",
   "execution_count": null,
   "id": "891e761c",
   "metadata": {},
   "outputs": [],
   "source": []
  }
 ],
 "metadata": {
  "kernelspec": {
   "display_name": "Python 3 (ipykernel)",
   "language": "python",
   "name": "python3"
  },
  "language_info": {
   "codemirror_mode": {
    "name": "ipython",
    "version": 3
   },
   "file_extension": ".py",
   "mimetype": "text/x-python",
   "name": "python",
   "nbconvert_exporter": "python",
   "pygments_lexer": "ipython3",
   "version": "3.7.10"
  }
 },
 "nbformat": 4,
 "nbformat_minor": 5
}
